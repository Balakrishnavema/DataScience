{
 "cells": [
  {
   "cell_type": "markdown",
   "metadata": {},
   "source": [
    "# Data types: Practices\n",
    "1. list\n",
    "2. tuple\n",
    "3. dictionary\n",
    "4. sets\n"
   ]
  },
  {
   "cell_type": "code",
   "execution_count": 29,
   "metadata": {},
   "outputs": [
    {
     "name": "stdout",
     "output_type": "stream",
     "text": [
      "give the input value \t90\n"
     ]
    },
    {
     "data": {
      "text/plain": [
       "[10, 20, 30, 40, 50, 90]"
      ]
     },
     "execution_count": 29,
     "metadata": {},
     "output_type": "execute_result"
    }
   ],
   "source": [
    "#List: list is on of the array and it is collection of stings or intigers. \n",
    "#list of data will be start and end with square brackets \n",
    "#we can inert, update & delete the data\n",
    "#list can access the duplicate values\n",
    "#Ex:\n",
    "my_list = [10,20,20,40,30]\n",
    "type(my_list)\n",
    "my_list1 = my_list+my_list #we can use addition, substartion & multipication\n",
    "my_list\n",
    "my_list.append(50) #in list we can use append function for insert the data\n",
    "my_list.remove(20)\n",
    "my_list.append(int(input(\"give the input value \\t\")))\n",
    "my_list.sort()\n",
    "my_list\n"
   ]
  },
  {
   "cell_type": "markdown",
   "metadata": {},
   "source": [
    "#### "
   ]
  },
  {
   "cell_type": "code",
   "execution_count": 41,
   "metadata": {},
   "outputs": [
    {
     "name": "stdout",
     "output_type": "stream",
     "text": [
      "(20, 40, 90)\n"
     ]
    }
   ],
   "source": [
    "#tuple: tapule is like list but we can't do insert, update & delete operations becuase it is a read only mode\n",
    "#tuple data will store in close brackets\"()\"\n",
    "#it will allow the duplicate values\n",
    "#Ex:\n",
    "my_tuple = (20, 40, 90, \"Balu\")\n",
    "type(my_tuple)\n",
    "my_tuple.index(90)\n",
    "print(my_tuple[0:3])"
   ]
  },
  {
   "cell_type": "code",
   "execution_count": 13,
   "metadata": {},
   "outputs": [
    {
     "data": {
      "text/plain": [
       "dict_keys(['Myname', 'Age'])"
      ]
     },
     "execution_count": 13,
     "metadata": {},
     "output_type": "execute_result"
    }
   ],
   "source": [
    "#dictionary:Dictionary is an ordered set of a key-value pair of items. \n",
    "#It is like an associative array or a hash table where each key stores a specific value.\n",
    "#Key can hold any primitive data type whereas value is an arbitrary Python object.\n",
    "#The items in the dictionary are separated with the comma and enclosed in the curly braces {}.\n",
    "my_dictionary = {\"Myname\":\"Bala\", \"Age\":30}\n",
    "type(my_dictionary)\n",
    "my_dictionary.update({\"Myname\":\"Balakrishna\"})\n",
    "my_dictionary\n",
    "my_dictionary.values()\n",
    "my_dec = my_dictionary.copy()\n",
    "my_dec.values()\n",
    "my_dec.keys()"
   ]
  },
  {
   "cell_type": "code",
   "execution_count": 25,
   "metadata": {},
   "outputs": [
    {
     "data": {
      "text/plain": [
       "{10, 20, 'Bala'}"
      ]
     },
     "execution_count": 25,
     "metadata": {},
     "output_type": "execute_result"
    }
   ],
   "source": [
    "#Set's: The set in python can be defined as the unordered collection of various items enclosed within the curly braces. \n",
    "#The elements of the set can not be duplicate. \n",
    "#The elements of the python set must be immutable.\n",
    "#Unlike other collections in python, there is no index attached to the elements of the set, i.e., \n",
    "#we cannot directly access any element of the set by the index. \n",
    "#However, we can print them all together or we can get the list of elements by looping through the set.\n",
    "#by default it will sort the data\n",
    "my_set = {10,20, 20}\n",
    "my_set.update({\"Bala\"})\n",
    "my_set"
   ]
  },
  {
   "cell_type": "code",
   "execution_count": 55,
   "metadata": {},
   "outputs": [
    {
     "name": "stdout",
     "output_type": "stream",
     "text": [
      "what is ur age \t60\n",
      "unhealty\n"
     ]
    }
   ],
   "source": [
    "#if statment\n",
    "\n",
    "Age = int(input(\"what is ur age \\t\"))\n",
    "if Age < 60:\n",
    "    print(\"Healthy\")\n",
    "else:\n",
    "    print(\"unhealty\")"
   ]
  },
  {
   "cell_type": "code",
   "execution_count": 56,
   "metadata": {},
   "outputs": [
    {
     "name": "stdout",
     "output_type": "stream",
     "text": [
      "tell ur marks \t70\n",
      "1st class\n"
     ]
    }
   ],
   "source": [
    "marks = float(input(\"tell ur marks \\t\"))\n",
    "if marks < 35:\n",
    "    print(\"Fail\")\n",
    "elif marks < 50:\n",
    "    print(\"3rd class\")\n",
    "elif marks < 65:\n",
    "    print(\"2nd class\")\n",
    "elif marks < 95:\n",
    "    print(\"1st class\")\n",
    "elif marks <= 100:\n",
    "    print(\"distinct\")\n",
    "else:\n",
    "    print(\"issue on marks\")"
   ]
  },
  {
   "cell_type": "code",
   "execution_count": 58,
   "metadata": {},
   "outputs": [
    {
     "name": "stdout",
     "output_type": "stream",
     "text": [
      "tell ur marks \t90\n",
      "1st class\n"
     ]
    }
   ],
   "source": [
    "marks = float(input(\"tell ur marks \\t\"))\n",
    "subject = \"engilsh\"\n",
    "if marks < 35:\n",
    "    print(\"Fail\")\n",
    "elif marks < 50:\n",
    "    print(\"3rd class\")\n",
    "elif marks < 65:\n",
    "    print(\"2nd class\")\n",
    "elif marks < 95:\n",
    "    print(\"1st class\")\n",
    "elif marks <= 100:\n",
    "    print(\"distinct\")\n",
    "else:\n",
    "    print(\"issue on marks\")"
   ]
  },
  {
   "cell_type": "code",
   "execution_count": null,
   "metadata": {},
   "outputs": [],
   "source": []
  }
 ],
 "metadata": {
  "kernelspec": {
   "display_name": "Python 3",
   "language": "python",
   "name": "python3"
  },
  "language_info": {
   "codemirror_mode": {
    "name": "ipython",
    "version": 3
   },
   "file_extension": ".py",
   "mimetype": "text/x-python",
   "name": "python",
   "nbconvert_exporter": "python",
   "pygments_lexer": "ipython3",
   "version": "3.7.4"
  }
 },
 "nbformat": 4,
 "nbformat_minor": 2
}

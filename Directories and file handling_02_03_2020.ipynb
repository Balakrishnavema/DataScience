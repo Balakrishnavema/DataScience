{
 "cells": [
  {
   "cell_type": "code",
   "execution_count": 1,
   "metadata": {},
   "outputs": [],
   "source": [
    "import os"
   ]
  },
  {
   "cell_type": "code",
   "execution_count": 2,
   "metadata": {},
   "outputs": [
    {
     "data": {
      "text/plain": [
       "'C:\\\\Users\\\\Balakrishna_Vema\\\\Documents\\\\Data science\\\\Code'"
      ]
     },
     "execution_count": 2,
     "metadata": {},
     "output_type": "execute_result"
    }
   ],
   "source": [
    "os.getcwd()"
   ]
  },
  {
   "cell_type": "code",
   "execution_count": 3,
   "metadata": {},
   "outputs": [],
   "source": [
    "os.chdir(\"C:\\\\Users\\\\Balakrishna_Vema\\\\Documents\\\\Data science\\\\Code\")"
   ]
  },
  {
   "cell_type": "code",
   "execution_count": 5,
   "metadata": {},
   "outputs": [],
   "source": [
    "os.chdir(\"C:\\\\Users\\\\Balakrishna_Vema\\\\Documents\\\\Data science\\\\DS_FEB_2020\")"
   ]
  },
  {
   "cell_type": "code",
   "execution_count": 6,
   "metadata": {},
   "outputs": [
    {
     "data": {
      "text/plain": [
       "'C:\\\\Users\\\\Balakrishna_Vema\\\\Documents\\\\Data science\\\\DS_FEB_2020'"
      ]
     },
     "execution_count": 6,
     "metadata": {},
     "output_type": "execute_result"
    }
   ],
   "source": [
    "os.getcwd()"
   ]
  },
  {
   "cell_type": "code",
   "execution_count": 7,
   "metadata": {},
   "outputs": [
    {
     "data": {
      "text/plain": [
       "[]"
      ]
     },
     "execution_count": 7,
     "metadata": {},
     "output_type": "execute_result"
    }
   ],
   "source": [
    "os.listdir()"
   ]
  },
  {
   "cell_type": "code",
   "execution_count": 8,
   "metadata": {},
   "outputs": [],
   "source": [
    "os.chdir(\"C:\\\\Users\\\\Balakrishna_Vema\\\\Documents\\\\Data science\\\\Code\")"
   ]
  },
  {
   "cell_type": "code",
   "execution_count": 9,
   "metadata": {},
   "outputs": [
    {
     "data": {
      "text/plain": [
       "['.ipynb_checkpoints',\n",
       " '24_02_20.ipynb',\n",
       " '26_02_2020_data_structures_python.ipynb',\n",
       " '27-02-2020_datatypes_statement_practices .ipynb',\n",
       " '27_02_2020_conditional_statements.ipynb',\n",
       " \"28-020-2020_UDF's_class.ipynb\",\n",
       " 'Assignment 25-02-2020(Python).ipynb',\n",
       " 'Assignment_26_02_2020_List_Data_type.ipynb',\n",
       " \"Assignment_26_02_2020_Set's_Data_type.ipynb\",\n",
       " 'Assignment_26_02_2020_Tuple_Data_type.ipynb',\n",
       " 'Untitled.ipynb']"
      ]
     },
     "execution_count": 9,
     "metadata": {},
     "output_type": "execute_result"
    }
   ],
   "source": [
    "os.listdir()"
   ]
  },
  {
   "cell_type": "code",
   "execution_count": 10,
   "metadata": {},
   "outputs": [],
   "source": [
    "os.mkdir(\"performance_dir\")"
   ]
  },
  {
   "cell_type": "code",
   "execution_count": 11,
   "metadata": {},
   "outputs": [
    {
     "data": {
      "text/plain": [
       "['.ipynb_checkpoints',\n",
       " '24_02_20.ipynb',\n",
       " '26_02_2020_data_structures_python.ipynb',\n",
       " '27-02-2020_datatypes_statement_practices .ipynb',\n",
       " '27_02_2020_conditional_statements.ipynb',\n",
       " \"28-020-2020_UDF's_class.ipynb\",\n",
       " 'Assignment 25-02-2020(Python).ipynb',\n",
       " 'Assignment_26_02_2020_List_Data_type.ipynb',\n",
       " \"Assignment_26_02_2020_Set's_Data_type.ipynb\",\n",
       " 'Assignment_26_02_2020_Tuple_Data_type.ipynb',\n",
       " 'Directories_02_03_2020.ipynb',\n",
       " 'performance_dir']"
      ]
     },
     "execution_count": 11,
     "metadata": {},
     "output_type": "execute_result"
    }
   ],
   "source": [
    "os.listdir()"
   ]
  },
  {
   "cell_type": "code",
   "execution_count": 15,
   "metadata": {},
   "outputs": [],
   "source": [
    "os.rename(\"performance_dir\", \"performance_dir1\")"
   ]
  },
  {
   "cell_type": "code",
   "execution_count": 16,
   "metadata": {},
   "outputs": [
    {
     "data": {
      "text/plain": [
       "['.ipynb_checkpoints',\n",
       " '24_02_20.ipynb',\n",
       " '26_02_2020_data_structures_python.ipynb',\n",
       " '27-02-2020_datatypes_statement_practices .ipynb',\n",
       " '27_02_2020_conditional_statements.ipynb',\n",
       " \"28-020-2020_UDF's_class.ipynb\",\n",
       " 'Assignment 25-02-2020(Python).ipynb',\n",
       " 'Assignment_26_02_2020_List_Data_type.ipynb',\n",
       " \"Assignment_26_02_2020_Set's_Data_type.ipynb\",\n",
       " 'Assignment_26_02_2020_Tuple_Data_type.ipynb',\n",
       " 'Directories_02_03_2020.ipynb',\n",
       " 'performance_dir1']"
      ]
     },
     "execution_count": 16,
     "metadata": {},
     "output_type": "execute_result"
    }
   ],
   "source": [
    "os.listdir()"
   ]
  },
  {
   "cell_type": "code",
   "execution_count": 18,
   "metadata": {},
   "outputs": [],
   "source": [
    "os.removedirs(\"performance_dir1\")"
   ]
  },
  {
   "cell_type": "code",
   "execution_count": 19,
   "metadata": {},
   "outputs": [
    {
     "data": {
      "text/plain": [
       "['.ipynb_checkpoints',\n",
       " '24_02_20.ipynb',\n",
       " '26_02_2020_data_structures_python.ipynb',\n",
       " '27-02-2020_datatypes_statement_practices .ipynb',\n",
       " '27_02_2020_conditional_statements.ipynb',\n",
       " \"28-020-2020_UDF's_class.ipynb\",\n",
       " 'Assignment 25-02-2020(Python).ipynb',\n",
       " 'Assignment_26_02_2020_List_Data_type.ipynb',\n",
       " \"Assignment_26_02_2020_Set's_Data_type.ipynb\",\n",
       " 'Assignment_26_02_2020_Tuple_Data_type.ipynb',\n",
       " 'Directories_02_03_2020.ipynb']"
      ]
     },
     "execution_count": 19,
     "metadata": {},
     "output_type": "execute_result"
    }
   ],
   "source": [
    "os.listdir()"
   ]
  },
  {
   "cell_type": "code",
   "execution_count": 20,
   "metadata": {},
   "outputs": [],
   "source": [
    "os.mkdir(\"outputdata\")"
   ]
  },
  {
   "cell_type": "code",
   "execution_count": 21,
   "metadata": {},
   "outputs": [
    {
     "data": {
      "text/plain": [
       "['.ipynb_checkpoints',\n",
       " '24_02_20.ipynb',\n",
       " '26_02_2020_data_structures_python.ipynb',\n",
       " '27-02-2020_datatypes_statement_practices .ipynb',\n",
       " '27_02_2020_conditional_statements.ipynb',\n",
       " \"28-020-2020_UDF's_class.ipynb\",\n",
       " 'Assignment 25-02-2020(Python).ipynb',\n",
       " 'Assignment_26_02_2020_List_Data_type.ipynb',\n",
       " \"Assignment_26_02_2020_Set's_Data_type.ipynb\",\n",
       " 'Assignment_26_02_2020_Tuple_Data_type.ipynb',\n",
       " 'Directories_02_03_2020.ipynb',\n",
       " 'outputdata']"
      ]
     },
     "execution_count": 21,
     "metadata": {},
     "output_type": "execute_result"
    }
   ],
   "source": [
    "os.listdir()"
   ]
  },
  {
   "cell_type": "code",
   "execution_count": 22,
   "metadata": {},
   "outputs": [
    {
     "ename": "OSError",
     "evalue": "[WinError 145] The directory is not empty: 'outputdata'",
     "output_type": "error",
     "traceback": [
      "\u001b[1;31m---------------------------------------------------------------------------\u001b[0m",
      "\u001b[1;31mOSError\u001b[0m                                   Traceback (most recent call last)",
      "\u001b[1;32m<ipython-input-22-da3c3adc2dbc>\u001b[0m in \u001b[0;36m<module>\u001b[1;34m\u001b[0m\n\u001b[1;32m----> 1\u001b[1;33m \u001b[0mos\u001b[0m\u001b[1;33m.\u001b[0m\u001b[0mrmdir\u001b[0m\u001b[1;33m(\u001b[0m\u001b[1;34m\"outputdata\"\u001b[0m\u001b[1;33m)\u001b[0m\u001b[1;33m\u001b[0m\u001b[1;33m\u001b[0m\u001b[0m\n\u001b[0m",
      "\u001b[1;31mOSError\u001b[0m: [WinError 145] The directory is not empty: 'outputdata'"
     ]
    }
   ],
   "source": [
    "os.rmdir(\"outputdata\")"
   ]
  },
  {
   "cell_type": "code",
   "execution_count": 23,
   "metadata": {},
   "outputs": [],
   "source": [
    "import shutil \"need to import the shutil to Remove directoty with files\""
   ]
  },
  {
   "cell_type": "code",
   "execution_count": 24,
   "metadata": {},
   "outputs": [],
   "source": [
    "shutil.rmtree(\"outputdata\")"
   ]
  },
  {
   "cell_type": "code",
   "execution_count": 25,
   "metadata": {},
   "outputs": [
    {
     "ename": "TypeError",
     "evalue": "chmod() missing required argument 'mode' (pos 2)",
     "output_type": "error",
     "traceback": [
      "\u001b[1;31m---------------------------------------------------------------------------\u001b[0m",
      "\u001b[1;31mTypeError\u001b[0m                                 Traceback (most recent call last)",
      "\u001b[1;32m<ipython-input-25-4ecdf24285ad>\u001b[0m in \u001b[0;36m<module>\u001b[1;34m\u001b[0m\n\u001b[1;32m----> 1\u001b[1;33m \u001b[0mos\u001b[0m\u001b[1;33m.\u001b[0m\u001b[0mchmod\u001b[0m\u001b[1;33m(\u001b[0m\u001b[1;34m\"777\"\u001b[0m\u001b[1;33m)\u001b[0m\u001b[1;33m\u001b[0m\u001b[1;33m\u001b[0m\u001b[0m\n\u001b[0m",
      "\u001b[1;31mTypeError\u001b[0m: chmod() missing required argument 'mode' (pos 2)"
     ]
    }
   ],
   "source": [
    "os.chmod(\"777\")"
   ]
  },
  {
   "cell_type": "code",
   "execution_count": 26,
   "metadata": {},
   "outputs": [],
   "source": [
    "# chmod: to changing the permistion or folder file, there are diffrent operations 777, by defult#644, if we want execute the file the file mod is 755 or 777"
   ]
  },
  {
   "cell_type": "code",
   "execution_count": null,
   "metadata": {},
   "outputs": [],
   "source": [
    "#cp \"location1\", \"location2\"(\"copying data from location1 to location to \")\n",
    "#mv \"location1\", \"location2(\"move the file location1 to location2\")\"\n",
    "#cp -p (\"it wont change the time stamp\")\n",
    "#cp -r (\"it will move entire folder of the data\")\n"
   ]
  },
  {
   "cell_type": "code",
   "execution_count": 27,
   "metadata": {},
   "outputs": [
    {
     "data": {
      "text/plain": [
       "['.ipynb_checkpoints',\n",
       " '24_02_20.ipynb',\n",
       " '26_02_2020_data_structures_python.ipynb',\n",
       " '27-02-2020_datatypes_statement_practices .ipynb',\n",
       " '27_02_2020_conditional_statements.ipynb',\n",
       " \"28-020-2020_UDF's_class.ipynb\",\n",
       " 'Assignment 25-02-2020(Python).ipynb',\n",
       " 'Assignment_26_02_2020_List_Data_type.ipynb',\n",
       " \"Assignment_26_02_2020_Set's_Data_type.ipynb\",\n",
       " 'Assignment_26_02_2020_Tuple_Data_type.ipynb',\n",
       " 'Directories and file handling_02_03_2020.ipynb']"
      ]
     },
     "execution_count": 27,
     "metadata": {},
     "output_type": "execute_result"
    }
   ],
   "source": [
    "os.listdir()"
   ]
  },
  {
   "cell_type": "code",
   "execution_count": 28,
   "metadata": {},
   "outputs": [
    {
     "data": {
      "text/plain": [
       "'C:\\\\Users\\\\Balakrishna_Vema\\\\Documents\\\\Data science\\\\Code'"
      ]
     },
     "execution_count": 28,
     "metadata": {},
     "output_type": "execute_result"
    }
   ],
   "source": [
    "os.getcwd()"
   ]
  },
  {
   "cell_type": "code",
   "execution_count": 34,
   "metadata": {},
   "outputs": [
    {
     "ename": "FileNotFoundError",
     "evalue": "[Errno 2] No such file or directory: 'test.txt'",
     "output_type": "error",
     "traceback": [
      "\u001b[1;31m---------------------------------------------------------------------------\u001b[0m",
      "\u001b[1;31mFileNotFoundError\u001b[0m                         Traceback (most recent call last)",
      "\u001b[1;32m<ipython-input-34-c1d6406a1bac>\u001b[0m in \u001b[0;36m<module>\u001b[1;34m\u001b[0m\n\u001b[1;32m----> 1\u001b[1;33m \u001b[0mf\u001b[0m \u001b[1;33m=\u001b[0m \u001b[0mopen\u001b[0m\u001b[1;33m(\u001b[0m\u001b[1;34m\"test.txt\"\u001b[0m\u001b[1;33m)\u001b[0m\u001b[1;33m\u001b[0m\u001b[1;33m\u001b[0m\u001b[0m\n\u001b[0m",
      "\u001b[1;31mFileNotFoundError\u001b[0m: [Errno 2] No such file or directory: 'test.txt'"
     ]
    }
   ],
   "source": [
    "f = open(\"test.txt\")"
   ]
  },
  {
   "cell_type": "code",
   "execution_count": 35,
   "metadata": {},
   "outputs": [
    {
     "data": {
      "text/plain": [
       "'C:\\\\Users\\\\Balakrishna_Vema\\\\Documents\\\\Data science\\\\Code'"
      ]
     },
     "execution_count": 35,
     "metadata": {},
     "output_type": "execute_result"
    }
   ],
   "source": [
    "os.getcwd()"
   ]
  },
  {
   "cell_type": "code",
   "execution_count": 36,
   "metadata": {},
   "outputs": [
    {
     "data": {
      "text/plain": [
       "['.ipynb_checkpoints',\n",
       " '24_02_20.ipynb',\n",
       " '26_02_2020_data_structures_python.ipynb',\n",
       " '27-02-2020_datatypes_statement_practices .ipynb',\n",
       " '27_02_2020_conditional_statements.ipynb',\n",
       " \"28-020-2020_UDF's_class.ipynb\",\n",
       " 'Assignment 25-02-2020(Python).ipynb',\n",
       " 'Assignment_26_02_2020_List_Data_type.ipynb',\n",
       " \"Assignment_26_02_2020_Set's_Data_type.ipynb\",\n",
       " 'Assignment_26_02_2020_Tuple_Data_type.ipynb',\n",
       " 'Directories and file handling_02_03_2020.ipynb',\n",
       " 'test.txt.txt']"
      ]
     },
     "execution_count": 36,
     "metadata": {},
     "output_type": "execute_result"
    }
   ],
   "source": [
    "os.listdir()"
   ]
  },
  {
   "cell_type": "code",
   "execution_count": 37,
   "metadata": {},
   "outputs": [],
   "source": [
    "f = open('test.txt.txt')"
   ]
  },
  {
   "cell_type": "code",
   "execution_count": 38,
   "metadata": {},
   "outputs": [],
   "source": [
    "f = open('test.txt.txt' , 'r')\n",
    "f = open('test.txt.txt', 'rt')\n",
    "f = open('test.txt.txt', 'w') # write in text mode \"test data will read in string format\""
   ]
  },
  {
   "cell_type": "code",
   "execution_count": 39,
   "metadata": {},
   "outputs": [],
   "source": [
    "#f = open('img.bmp', 'r+b') image data will read in binary format/mode"
   ]
  },
  {
   "cell_type": "code",
   "execution_count": 41,
   "metadata": {},
   "outputs": [],
   "source": [
    "#f = open(\"text.txt\", mode = 'r', encoding= 'utf-8') \"best way to open the file is read mode \""
   ]
  },
  {
   "cell_type": "code",
   "execution_count": 42,
   "metadata": {},
   "outputs": [],
   "source": [
    "# 'r' - opena a file for reading \n",
    "# 'w' - open a file for writing, create a new file if it does not exist or truncates the file if it exists.\n",
    "# 'X'- open a file for exclusive creation. if the file already exists, the operation failes\n",
    "# 'a' - open for appending at the end of the file with out truncating it create a a new file "
   ]
  },
  {
   "cell_type": "code",
   "execution_count": 44,
   "metadata": {},
   "outputs": [],
   "source": [
    "#Clse()\" it will close the file \"\n",
    "f = open(\"test.txt.txt\", encoding= 'utf-8')\n",
    "#perform file operations\n",
    "f.close()"
   ]
  },
  {
   "cell_type": "code",
   "execution_count": 46,
   "metadata": {},
   "outputs": [],
   "source": [
    "#Best method follow the industry- the best method to always to close is \"finally\" method- this is one of the best/safe option#\n",
    "try: \n",
    "    f =  open(\"test.txt.txt\", encoding= 'utf-8')\n",
    "    #perform the file operation\n",
    "finally:\n",
    "    f.close()"
   ]
  },
  {
   "cell_type": "code",
   "execution_count": 47,
   "metadata": {},
   "outputs": [],
   "source": [
    "with open(\"test.txt.txt\", encoding='utf-8') as f: \n",
    "    pass\n",
    "#\"with open function, multi peoples use at a time and no need to mention the clode option  \""
   ]
  },
  {
   "cell_type": "code",
   "execution_count": 53,
   "metadata": {},
   "outputs": [],
   "source": [
    "with open(\"test.txt.txt\", 'w', encoding='utf-8') as f:\n",
    "    f.write(\"my first file\\n\")\n",
    "    f.write(\"my first\\n\\n\")\n",
    "    f.write(\"contains three lines\\n\")"
   ]
  },
  {
   "cell_type": "code",
   "execution_count": 54,
   "metadata": {},
   "outputs": [],
   "source": [
    "with open(\"test.txt.txt\", 'a', encoding='utf-8') as f:\n",
    "    f.write(\"data scince class are very good \\n\")\n"
   ]
  },
  {
   "cell_type": "code",
   "execution_count": 57,
   "metadata": {},
   "outputs": [],
   "source": [
    "f = open(\"test.txt.txt\", 'r', encoding='utf-8')"
   ]
  },
  {
   "cell_type": "code",
   "execution_count": 58,
   "metadata": {},
   "outputs": [
    {
     "data": {
      "text/plain": [
       "'my f'"
      ]
     },
     "execution_count": 58,
     "metadata": {},
     "output_type": "execute_result"
    }
   ],
   "source": [
    "f.read(4)"
   ]
  },
  {
   "cell_type": "code",
   "execution_count": 59,
   "metadata": {},
   "outputs": [
    {
     "data": {
      "text/plain": [
       "'irst'"
      ]
     },
     "execution_count": 59,
     "metadata": {},
     "output_type": "execute_result"
    }
   ],
   "source": [
    "f.read(4)"
   ]
  },
  {
   "cell_type": "code",
   "execution_count": 61,
   "metadata": {},
   "outputs": [
    {
     "data": {
      "text/plain": [
       "5"
      ]
     },
     "execution_count": 61,
     "metadata": {},
     "output_type": "execute_result"
    }
   ],
   "source": [
    "f.seek(5) #f.seek(0) means the curser will take the start of the line\""
   ]
  },
  {
   "cell_type": "code",
   "execution_count": 62,
   "metadata": {},
   "outputs": [
    {
     "data": {
      "text/plain": [
       "'rst '"
      ]
     },
     "execution_count": 62,
     "metadata": {},
     "output_type": "execute_result"
    }
   ],
   "source": [
    "f.read(4)"
   ]
  },
  {
   "cell_type": "code",
   "execution_count": 63,
   "metadata": {},
   "outputs": [
    {
     "data": {
      "text/plain": [
       "9"
      ]
     },
     "execution_count": 63,
     "metadata": {},
     "output_type": "execute_result"
    }
   ],
   "source": [
    "f.tell()"
   ]
  },
  {
   "cell_type": "code",
   "execution_count": 64,
   "metadata": {},
   "outputs": [
    {
     "data": {
      "text/plain": [
       "'file\\nmy first\\n\\ncontains three lines\\ndata scince class are very good \\n'"
      ]
     },
     "execution_count": 64,
     "metadata": {},
     "output_type": "execute_result"
    }
   ],
   "source": [
    "f.read()"
   ]
  },
  {
   "cell_type": "code",
   "execution_count": 67,
   "metadata": {},
   "outputs": [
    {
     "name": "stdout",
     "output_type": "stream",
     "text": [
      "\n"
     ]
    }
   ],
   "source": [
    "print(f.read())"
   ]
  },
  {
   "cell_type": "code",
   "execution_count": 68,
   "metadata": {},
   "outputs": [
    {
     "data": {
      "text/plain": [
       "0"
      ]
     },
     "execution_count": 68,
     "metadata": {},
     "output_type": "execute_result"
    }
   ],
   "source": [
    "f.seek(0)"
   ]
  },
  {
   "cell_type": "code",
   "execution_count": 69,
   "metadata": {},
   "outputs": [
    {
     "name": "stdout",
     "output_type": "stream",
     "text": [
      "my first file\n",
      "my first\n",
      "\n",
      "contains three lines\n",
      "data scince class are very good \n",
      "\n"
     ]
    }
   ],
   "source": [
    "print(f.read())"
   ]
  },
  {
   "cell_type": "code",
   "execution_count": 70,
   "metadata": {},
   "outputs": [
    {
     "data": {
      "text/plain": [
       "83"
      ]
     },
     "execution_count": 70,
     "metadata": {},
     "output_type": "execute_result"
    }
   ],
   "source": [
    "f.tell()"
   ]
  },
  {
   "cell_type": "code",
   "execution_count": null,
   "metadata": {},
   "outputs": [],
   "source": []
  }
 ],
 "metadata": {
  "kernelspec": {
   "display_name": "Python 3",
   "language": "python",
   "name": "python3"
  },
  "language_info": {
   "codemirror_mode": {
    "name": "ipython",
    "version": 3
   },
   "file_extension": ".py",
   "mimetype": "text/x-python",
   "name": "python",
   "nbconvert_exporter": "python",
   "pygments_lexer": "ipython3",
   "version": "3.7.4"
  }
 },
 "nbformat": 4,
 "nbformat_minor": 2
}

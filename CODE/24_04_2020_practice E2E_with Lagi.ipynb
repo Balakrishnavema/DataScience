{
 "cells": [
  {
   "cell_type": "code",
   "execution_count": 88,
   "metadata": {},
   "outputs": [],
   "source": [
    "import numpy as np\n",
    "import pandas as pd\n",
    "import matplotlib.pyplot as plt\n",
    "import scipy as sp\n",
    "import researchpy as rp\n",
    "import seaborn as sns"
   ]
  },
  {
   "cell_type": "code",
   "execution_count": 89,
   "metadata": {},
   "outputs": [],
   "source": [
    "bank_df = pd.read_csv(r\"C:\\Users\\Balakrishna_Vema\\Documents\\Data science\\Data sets\\bank_market3.csv\")"
   ]
  },
  {
   "cell_type": "code",
   "execution_count": 90,
   "metadata": {},
   "outputs": [
    {
     "data": {
      "text/plain": [
       "(45221, 18)"
      ]
     },
     "execution_count": 90,
     "metadata": {},
     "output_type": "execute_result"
    }
   ],
   "source": [
    "bank_df.shape"
   ]
  },
  {
   "cell_type": "code",
   "execution_count": 91,
   "metadata": {},
   "outputs": [
    {
     "data": {
      "text/html": [
       "<div>\n",
       "<style scoped>\n",
       "    .dataframe tbody tr th:only-of-type {\n",
       "        vertical-align: middle;\n",
       "    }\n",
       "\n",
       "    .dataframe tbody tr th {\n",
       "        vertical-align: top;\n",
       "    }\n",
       "\n",
       "    .dataframe thead th {\n",
       "        text-align: right;\n",
       "    }\n",
       "</style>\n",
       "<table border=\"1\" class=\"dataframe\">\n",
       "  <thead>\n",
       "    <tr style=\"text-align: right;\">\n",
       "      <th></th>\n",
       "      <th>Cust_num</th>\n",
       "      <th>age</th>\n",
       "      <th>job</th>\n",
       "      <th>marital</th>\n",
       "      <th>education</th>\n",
       "      <th>default</th>\n",
       "      <th>balance</th>\n",
       "      <th>housing</th>\n",
       "      <th>loan</th>\n",
       "      <th>contact</th>\n",
       "      <th>day</th>\n",
       "      <th>month</th>\n",
       "      <th>duration</th>\n",
       "      <th>campaign</th>\n",
       "      <th>pdays</th>\n",
       "      <th>previous</th>\n",
       "      <th>poutcome</th>\n",
       "      <th>y</th>\n",
       "    </tr>\n",
       "  </thead>\n",
       "  <tbody>\n",
       "    <tr>\n",
       "      <td>0</td>\n",
       "      <td>1</td>\n",
       "      <td>58</td>\n",
       "      <td>management</td>\n",
       "      <td>married</td>\n",
       "      <td>tertiary</td>\n",
       "      <td>no</td>\n",
       "      <td>2143.0</td>\n",
       "      <td>yes</td>\n",
       "      <td>no</td>\n",
       "      <td>unknown</td>\n",
       "      <td>5</td>\n",
       "      <td>may</td>\n",
       "      <td>261</td>\n",
       "      <td>1</td>\n",
       "      <td>-1</td>\n",
       "      <td>0</td>\n",
       "      <td>unknown</td>\n",
       "      <td>no</td>\n",
       "    </tr>\n",
       "    <tr>\n",
       "      <td>1</td>\n",
       "      <td>2</td>\n",
       "      <td>44</td>\n",
       "      <td>technician</td>\n",
       "      <td>single</td>\n",
       "      <td>secondary</td>\n",
       "      <td>no</td>\n",
       "      <td>29.0</td>\n",
       "      <td>yes</td>\n",
       "      <td>no</td>\n",
       "      <td>unknown</td>\n",
       "      <td>5</td>\n",
       "      <td>may</td>\n",
       "      <td>151</td>\n",
       "      <td>1</td>\n",
       "      <td>-1</td>\n",
       "      <td>0</td>\n",
       "      <td>unknown</td>\n",
       "      <td>no</td>\n",
       "    </tr>\n",
       "    <tr>\n",
       "      <td>2</td>\n",
       "      <td>3</td>\n",
       "      <td>33</td>\n",
       "      <td>entrepreneur</td>\n",
       "      <td>married</td>\n",
       "      <td>secondary</td>\n",
       "      <td>no</td>\n",
       "      <td>2.0</td>\n",
       "      <td>yes</td>\n",
       "      <td>yes</td>\n",
       "      <td>unknown</td>\n",
       "      <td>5</td>\n",
       "      <td>may</td>\n",
       "      <td>76</td>\n",
       "      <td>1</td>\n",
       "      <td>-1</td>\n",
       "      <td>0</td>\n",
       "      <td>unknown</td>\n",
       "      <td>no</td>\n",
       "    </tr>\n",
       "    <tr>\n",
       "      <td>3</td>\n",
       "      <td>4</td>\n",
       "      <td>47</td>\n",
       "      <td>blue-collar</td>\n",
       "      <td>married</td>\n",
       "      <td>unknown</td>\n",
       "      <td>no</td>\n",
       "      <td>1506.0</td>\n",
       "      <td>yes</td>\n",
       "      <td>no</td>\n",
       "      <td>unknown</td>\n",
       "      <td>5</td>\n",
       "      <td>may</td>\n",
       "      <td>92</td>\n",
       "      <td>1</td>\n",
       "      <td>-1</td>\n",
       "      <td>0</td>\n",
       "      <td>unknown</td>\n",
       "      <td>no</td>\n",
       "    </tr>\n",
       "    <tr>\n",
       "      <td>4</td>\n",
       "      <td>5</td>\n",
       "      <td>33</td>\n",
       "      <td>unknown</td>\n",
       "      <td>single</td>\n",
       "      <td>unknown</td>\n",
       "      <td>no</td>\n",
       "      <td>1.0</td>\n",
       "      <td>no</td>\n",
       "      <td>no</td>\n",
       "      <td>unknown</td>\n",
       "      <td>5</td>\n",
       "      <td>may</td>\n",
       "      <td>198</td>\n",
       "      <td>1</td>\n",
       "      <td>-1</td>\n",
       "      <td>0</td>\n",
       "      <td>unknown</td>\n",
       "      <td>no</td>\n",
       "    </tr>\n",
       "  </tbody>\n",
       "</table>\n",
       "</div>"
      ],
      "text/plain": [
       "   Cust_num  age           job  marital  education default  balance housing  \\\n",
       "0         1   58    management  married   tertiary      no   2143.0     yes   \n",
       "1         2   44    technician   single  secondary      no     29.0     yes   \n",
       "2         3   33  entrepreneur  married  secondary      no      2.0     yes   \n",
       "3         4   47   blue-collar  married    unknown      no   1506.0     yes   \n",
       "4         5   33       unknown   single    unknown      no      1.0      no   \n",
       "\n",
       "  loan  contact  day month  duration  campaign  pdays  previous poutcome   y  \n",
       "0   no  unknown    5   may       261         1     -1         0  unknown  no  \n",
       "1   no  unknown    5   may       151         1     -1         0  unknown  no  \n",
       "2  yes  unknown    5   may        76         1     -1         0  unknown  no  \n",
       "3   no  unknown    5   may        92         1     -1         0  unknown  no  \n",
       "4   no  unknown    5   may       198         1     -1         0  unknown  no  "
      ]
     },
     "execution_count": 91,
     "metadata": {},
     "output_type": "execute_result"
    }
   ],
   "source": [
    "bank_df.head()"
   ]
  },
  {
   "cell_type": "code",
   "execution_count": 92,
   "metadata": {},
   "outputs": [],
   "source": [
    "df = bank_df[[\"Cust_num\",\"age\",\"job\",\"marital\",\"education\",\"default\",\"balance\",\"housing\",\"loan\", \"duration\"]]"
   ]
  },
  {
   "cell_type": "code",
   "execution_count": 93,
   "metadata": {},
   "outputs": [
    {
     "data": {
      "text/plain": [
       "(45221, 10)"
      ]
     },
     "execution_count": 93,
     "metadata": {},
     "output_type": "execute_result"
    }
   ],
   "source": [
    "df.shape"
   ]
  },
  {
   "cell_type": "code",
   "execution_count": 94,
   "metadata": {},
   "outputs": [
    {
     "data": {
      "text/html": [
       "<div>\n",
       "<style scoped>\n",
       "    .dataframe tbody tr th:only-of-type {\n",
       "        vertical-align: middle;\n",
       "    }\n",
       "\n",
       "    .dataframe tbody tr th {\n",
       "        vertical-align: top;\n",
       "    }\n",
       "\n",
       "    .dataframe thead th {\n",
       "        text-align: right;\n",
       "    }\n",
       "</style>\n",
       "<table border=\"1\" class=\"dataframe\">\n",
       "  <thead>\n",
       "    <tr style=\"text-align: right;\">\n",
       "      <th></th>\n",
       "      <th>Cust_num</th>\n",
       "      <th>age</th>\n",
       "      <th>job</th>\n",
       "      <th>marital</th>\n",
       "      <th>education</th>\n",
       "      <th>default</th>\n",
       "      <th>balance</th>\n",
       "      <th>housing</th>\n",
       "      <th>loan</th>\n",
       "      <th>duration</th>\n",
       "    </tr>\n",
       "  </thead>\n",
       "  <tbody>\n",
       "    <tr>\n",
       "      <td>0</td>\n",
       "      <td>1</td>\n",
       "      <td>58</td>\n",
       "      <td>management</td>\n",
       "      <td>married</td>\n",
       "      <td>tertiary</td>\n",
       "      <td>no</td>\n",
       "      <td>2143.0</td>\n",
       "      <td>yes</td>\n",
       "      <td>no</td>\n",
       "      <td>261</td>\n",
       "    </tr>\n",
       "    <tr>\n",
       "      <td>1</td>\n",
       "      <td>2</td>\n",
       "      <td>44</td>\n",
       "      <td>technician</td>\n",
       "      <td>single</td>\n",
       "      <td>secondary</td>\n",
       "      <td>no</td>\n",
       "      <td>29.0</td>\n",
       "      <td>yes</td>\n",
       "      <td>no</td>\n",
       "      <td>151</td>\n",
       "    </tr>\n",
       "    <tr>\n",
       "      <td>2</td>\n",
       "      <td>3</td>\n",
       "      <td>33</td>\n",
       "      <td>entrepreneur</td>\n",
       "      <td>married</td>\n",
       "      <td>secondary</td>\n",
       "      <td>no</td>\n",
       "      <td>2.0</td>\n",
       "      <td>yes</td>\n",
       "      <td>yes</td>\n",
       "      <td>76</td>\n",
       "    </tr>\n",
       "    <tr>\n",
       "      <td>3</td>\n",
       "      <td>4</td>\n",
       "      <td>47</td>\n",
       "      <td>blue-collar</td>\n",
       "      <td>married</td>\n",
       "      <td>unknown</td>\n",
       "      <td>no</td>\n",
       "      <td>1506.0</td>\n",
       "      <td>yes</td>\n",
       "      <td>no</td>\n",
       "      <td>92</td>\n",
       "    </tr>\n",
       "    <tr>\n",
       "      <td>4</td>\n",
       "      <td>5</td>\n",
       "      <td>33</td>\n",
       "      <td>unknown</td>\n",
       "      <td>single</td>\n",
       "      <td>unknown</td>\n",
       "      <td>no</td>\n",
       "      <td>1.0</td>\n",
       "      <td>no</td>\n",
       "      <td>no</td>\n",
       "      <td>198</td>\n",
       "    </tr>\n",
       "  </tbody>\n",
       "</table>\n",
       "</div>"
      ],
      "text/plain": [
       "   Cust_num  age           job  marital  education default  balance housing  \\\n",
       "0         1   58    management  married   tertiary      no   2143.0     yes   \n",
       "1         2   44    technician   single  secondary      no     29.0     yes   \n",
       "2         3   33  entrepreneur  married  secondary      no      2.0     yes   \n",
       "3         4   47   blue-collar  married    unknown      no   1506.0     yes   \n",
       "4         5   33       unknown   single    unknown      no      1.0      no   \n",
       "\n",
       "  loan  duration  \n",
       "0   no       261  \n",
       "1   no       151  \n",
       "2  yes        76  \n",
       "3   no        92  \n",
       "4   no       198  "
      ]
     },
     "execution_count": 94,
     "metadata": {},
     "output_type": "execute_result"
    }
   ],
   "source": [
    "df.head()"
   ]
  },
  {
   "cell_type": "code",
   "execution_count": 95,
   "metadata": {},
   "outputs": [
    {
     "name": "stdout",
     "output_type": "stream",
     "text": [
      "drop duplicates\n"
     ]
    }
   ],
   "source": [
    "#Dropping duplicate values for row level\n",
    "print(\"drop duplicates\")\n",
    "df_dup = df.drop_duplicates()"
   ]
  },
  {
   "cell_type": "markdown",
   "metadata": {},
   "source": [
    "# MIssimg values treatment \n",
    "1.identify the missing values\n",
    "2.treating the missing values \n"
   ]
  },
  {
   "cell_type": "code",
   "execution_count": 96,
   "metadata": {},
   "outputs": [
    {
     "data": {
      "text/plain": [
       "Cust_num      0\n",
       "age           0\n",
       "job           0\n",
       "marital      65\n",
       "education     0\n",
       "default       0\n",
       "balance      31\n",
       "housing       0\n",
       "loan          0\n",
       "duration      0\n",
       "dtype: int64"
      ]
     },
     "execution_count": 96,
     "metadata": {},
     "output_type": "execute_result"
    }
   ],
   "source": [
    "df_dup.isnull().sum()"
   ]
  },
  {
   "cell_type": "code",
   "execution_count": 97,
   "metadata": {},
   "outputs": [
    {
     "data": {
      "text/plain": [
       "married     27177\n",
       "single      12775\n",
       "divorced     5199\n",
       "Name: marital, dtype: int64"
      ]
     },
     "execution_count": 97,
     "metadata": {},
     "output_type": "execute_result"
    }
   ],
   "source": [
    "    df_dup[\"marital\"].value_counts()"
   ]
  },
  {
   "cell_type": "code",
   "execution_count": 98,
   "metadata": {},
   "outputs": [
    {
     "name": "stderr",
     "output_type": "stream",
     "text": [
      "C:\\Users\\Balakrishna_Vema\\AppData\\Local\\Continuum\\anaconda3\\lib\\site-packages\\ipykernel_launcher.py:2: SettingWithCopyWarning: \n",
      "A value is trying to be set on a copy of a slice from a DataFrame.\n",
      "Try using .loc[row_indexer,col_indexer] = value instead\n",
      "\n",
      "See the caveats in the documentation: http://pandas.pydata.org/pandas-docs/stable/user_guide/indexing.html#returning-a-view-versus-a-copy\n",
      "  \n"
     ]
    }
   ],
   "source": [
    "#treatment of missing values\n",
    "df_dup[\"marital\"] = np.where(df_dup[\"marital\"].isnull() == True,\"married\" ,df_dup[\"marital\"])"
   ]
  },
  {
   "cell_type": "code",
   "execution_count": 99,
   "metadata": {},
   "outputs": [
    {
     "data": {
      "text/plain": [
       "Cust_num      0\n",
       "age           0\n",
       "job           0\n",
       "marital       0\n",
       "education     0\n",
       "default       0\n",
       "balance      31\n",
       "housing       0\n",
       "loan          0\n",
       "duration      0\n",
       "dtype: int64"
      ]
     },
     "execution_count": 99,
     "metadata": {},
     "output_type": "execute_result"
    }
   ],
   "source": [
    "#replaced with married in marrital status \n",
    "df_dup.isnull().sum()"
   ]
  },
  {
   "cell_type": "code",
   "execution_count": 100,
   "metadata": {},
   "outputs": [
    {
     "data": {
      "text/plain": [
       "1362.9813876286378"
      ]
     },
     "execution_count": 100,
     "metadata": {},
     "output_type": "execute_result"
    }
   ],
   "source": [
    "#Verify the mean of balance\n",
    "df_dup[\"balance\"].mean()"
   ]
  },
  {
   "cell_type": "code",
   "execution_count": 101,
   "metadata": {},
   "outputs": [
    {
     "name": "stderr",
     "output_type": "stream",
     "text": [
      "C:\\Users\\Balakrishna_Vema\\AppData\\Local\\Continuum\\anaconda3\\lib\\site-packages\\ipykernel_launcher.py:1: SettingWithCopyWarning: \n",
      "A value is trying to be set on a copy of a slice from a DataFrame.\n",
      "Try using .loc[row_indexer,col_indexer] = value instead\n",
      "\n",
      "See the caveats in the documentation: http://pandas.pydata.org/pandas-docs/stable/user_guide/indexing.html#returning-a-view-versus-a-copy\n",
      "  \"\"\"Entry point for launching an IPython kernel.\n"
     ]
    }
   ],
   "source": [
    "df_dup[\"balance\"] = np.where(df_dup[\"balance\"].isnull() == True,1362.981 ,df_dup[\"balance\"])"
   ]
  },
  {
   "cell_type": "code",
   "execution_count": 102,
   "metadata": {},
   "outputs": [
    {
     "data": {
      "text/plain": [
       "Cust_num     0\n",
       "age          0\n",
       "job          0\n",
       "marital      0\n",
       "education    0\n",
       "default      0\n",
       "balance      0\n",
       "housing      0\n",
       "loan         0\n",
       "duration     0\n",
       "dtype: int64"
      ]
     },
     "execution_count": 102,
     "metadata": {},
     "output_type": "execute_result"
    }
   ],
   "source": [
    "df_dup.isnull().sum()"
   ]
  },
  {
   "cell_type": "code",
   "execution_count": 103,
   "metadata": {},
   "outputs": [],
   "source": [
    "#Summary statistics\n",
    "df =df_dup"
   ]
  },
  {
   "cell_type": "code",
   "execution_count": 104,
   "metadata": {},
   "outputs": [
    {
     "data": {
      "text/html": [
       "<div>\n",
       "<style scoped>\n",
       "    .dataframe tbody tr th:only-of-type {\n",
       "        vertical-align: middle;\n",
       "    }\n",
       "\n",
       "    .dataframe tbody tr th {\n",
       "        vertical-align: top;\n",
       "    }\n",
       "\n",
       "    .dataframe thead th {\n",
       "        text-align: right;\n",
       "    }\n",
       "</style>\n",
       "<table border=\"1\" class=\"dataframe\">\n",
       "  <thead>\n",
       "    <tr style=\"text-align: right;\">\n",
       "      <th></th>\n",
       "      <th>count</th>\n",
       "      <th>mean</th>\n",
       "      <th>std</th>\n",
       "      <th>min</th>\n",
       "      <th>25%</th>\n",
       "      <th>50%</th>\n",
       "      <th>75%</th>\n",
       "      <th>max</th>\n",
       "    </tr>\n",
       "  </thead>\n",
       "  <tbody>\n",
       "    <tr>\n",
       "      <td>Cust_num</td>\n",
       "      <td>45216.0</td>\n",
       "      <td>22603.501106</td>\n",
       "      <td>13052.877308</td>\n",
       "      <td>1.0</td>\n",
       "      <td>11299.75</td>\n",
       "      <td>22603.5</td>\n",
       "      <td>33907.25</td>\n",
       "      <td>45211.0</td>\n",
       "    </tr>\n",
       "    <tr>\n",
       "      <td>age</td>\n",
       "      <td>45216.0</td>\n",
       "      <td>40.936239</td>\n",
       "      <td>10.618695</td>\n",
       "      <td>18.0</td>\n",
       "      <td>33.00</td>\n",
       "      <td>39.0</td>\n",
       "      <td>48.00</td>\n",
       "      <td>95.0</td>\n",
       "    </tr>\n",
       "    <tr>\n",
       "      <td>balance</td>\n",
       "      <td>45216.0</td>\n",
       "      <td>1362.981387</td>\n",
       "      <td>3044.445530</td>\n",
       "      <td>-8019.0</td>\n",
       "      <td>72.00</td>\n",
       "      <td>450.0</td>\n",
       "      <td>1427.25</td>\n",
       "      <td>102127.0</td>\n",
       "    </tr>\n",
       "    <tr>\n",
       "      <td>duration</td>\n",
       "      <td>45216.0</td>\n",
       "      <td>258.153132</td>\n",
       "      <td>257.518526</td>\n",
       "      <td>0.0</td>\n",
       "      <td>103.00</td>\n",
       "      <td>180.0</td>\n",
       "      <td>319.00</td>\n",
       "      <td>4918.0</td>\n",
       "    </tr>\n",
       "  </tbody>\n",
       "</table>\n",
       "</div>"
      ],
      "text/plain": [
       "            count          mean           std     min       25%      50%  \\\n",
       "Cust_num  45216.0  22603.501106  13052.877308     1.0  11299.75  22603.5   \n",
       "age       45216.0     40.936239     10.618695    18.0     33.00     39.0   \n",
       "balance   45216.0   1362.981387   3044.445530 -8019.0     72.00    450.0   \n",
       "duration  45216.0    258.153132    257.518526     0.0    103.00    180.0   \n",
       "\n",
       "               75%       max  \n",
       "Cust_num  33907.25   45211.0  \n",
       "age          48.00      95.0  \n",
       "balance    1427.25  102127.0  \n",
       "duration    319.00    4918.0  "
      ]
     },
     "execution_count": 104,
     "metadata": {},
     "output_type": "execute_result"
    }
   ],
   "source": [
    "df.describe().T"
   ]
  },
  {
   "cell_type": "code",
   "execution_count": 105,
   "metadata": {},
   "outputs": [
    {
     "data": {
      "text/plain": [
       "Index(['Cust_num', 'age', 'job', 'marital', 'education', 'default', 'balance',\n",
       "       'housing', 'loan', 'duration'],\n",
       "      dtype='object')"
      ]
     },
     "execution_count": 105,
     "metadata": {},
     "output_type": "execute_result"
    }
   ],
   "source": [
    "#Bank data containes 3 numerical variables remaining are binary and catagerical variables \n",
    "df.columns"
   ]
  },
  {
   "cell_type": "code",
   "execution_count": 106,
   "metadata": {},
   "outputs": [
    {
     "name": "stdout",
     "output_type": "stream",
     "text": [
      "IQR \n",
      " Cust_num    22607.50\n",
      "age            15.00\n",
      "balance      1355.25\n",
      "duration      216.00\n",
      "dtype: float64\n",
      "\n",
      "\n",
      "lower outlier cutoff value \n",
      " Cust_num   -22611.500\n",
      "age            10.500\n",
      "balance     -1960.875\n",
      "duration     -221.000\n",
      "dtype: float64\n",
      "\n",
      "\n",
      "upper outlier cutoff value \n",
      " Cust_num    67818.500\n",
      "age            70.500\n",
      "balance      3460.125\n",
      "duration      643.000\n",
      "dtype: float64\n"
     ]
    }
   ],
   "source": [
    "# IQR & idenfiy the cutoff values of data set \n",
    "iqr = df.quantile(0.75)-df.quantile(0.25)\n",
    "lo = df.quantile(0.25)-1.5*iqr\n",
    "uo =df.quantile(0.75)+1.5*iqr\n",
    "\n",
    "print(\"IQR \\n\", iqr)\n",
    "print(\"\\n\")\n",
    "print(\"lower outlier cutoff value \\n\", lo)\n",
    "print(\"\\n\")\n",
    "print(\"upper outlier cutoff value \\n\", uo)"
   ]
  },
  {
   "cell_type": "code",
   "execution_count": 107,
   "metadata": {},
   "outputs": [
    {
     "data": {
      "text/plain": [
       "<matplotlib.axes._subplots.AxesSubplot at 0x1ca987d4a08>"
      ]
     },
     "execution_count": 107,
     "metadata": {},
     "output_type": "execute_result"
    },
    {
     "data": {
      "image/png": "[encoded data removed]",
      "text/plain": [
       "<Figure size 432x288 with 1 Axes>"
      ]
     },
     "metadata": {
      "needs_background": "light"
     },
     "output_type": "display_data"
    }
   ],
   "source": [
    "df.boxplot()"
   ]
  },
  {
   "cell_type": "code",
   "execution_count": 108,
   "metadata": {},
   "outputs": [
    {
     "data": {
      "text/plain": [
       "<matplotlib.axes._subplots.AxesSubplot at 0x1ca9b39aa08>"
      ]
     },
     "execution_count": 108,
     "metadata": {},
     "output_type": "execute_result"
    },
    {
     "data": {
      "image/png": "[encoded data removed]",
      "text/plain": [
       "<Figure size 432x288 with 1 Axes>"
      ]
     },
     "metadata": {
      "needs_background": "light"
     },
     "output_type": "display_data"
    }
   ],
   "source": [
    "df.boxplot([\"age\"])"
   ]
  },
  {
   "cell_type": "code",
   "execution_count": 109,
   "metadata": {},
   "outputs": [
    {
     "data": {
      "text/plain": [
       "<matplotlib.axes._subplots.AxesSubplot at 0x1ca9b5faec8>"
      ]
     },
     "execution_count": 109,
     "metadata": {},
     "output_type": "execute_result"
    },
    {
     "data": {
      "image/png": "[encoded data removed]",
      "text/plain": [
       "<Figure size 432x288 with 1 Axes>"
      ]
     },
     "metadata": {
      "needs_background": "light"
     },
     "output_type": "display_data"
    }
   ],
   "source": [
    "sns.scatterplot(x=\"age\",y=\"balance\",data=df)"
   ]
  },
  {
   "cell_type": "code",
   "execution_count": 110,
   "metadata": {},
   "outputs": [
    {
     "data": {
      "text/plain": [
       "Text(0.5, 1.0, 'comapre balance & age variable')"
      ]
     },
     "execution_count": 110,
     "metadata": {},
     "output_type": "execute_result"
    },
    {
     "data": {
      "image/png": "[encoded data removed]",
      "text/plain": [
       "<Figure size 432x288 with 1 Axes>"
      ]
     },
     "metadata": {
      "needs_background": "light"
     },
     "output_type": "display_data"
    }
   ],
   "source": [
    "plt.plot(df[\"age\"],df[\"balance\"],'.r')\n",
    "plt.xlabel(\"age\")\n",
    "plt.ylabel(\"balance\")\n",
    "plt.title(\"comapre balance & age variable\")"
   ]
  },
  {
   "cell_type": "code",
   "execution_count": 111,
   "metadata": {},
   "outputs": [],
   "source": [
    "#outliers handle the IQR , boxplot, qqplot, scaterplot"
   ]
  },
  {
   "cell_type": "code",
   "execution_count": 112,
   "metadata": {},
   "outputs": [
    {
     "data": {
      "text/plain": [
       "0.6847950864086354"
      ]
     },
     "execution_count": 112,
     "metadata": {},
     "output_type": "execute_result"
    }
   ],
   "source": [
    "#NOrnal distrivution verification\n",
    "skew_age = df[\"age\"].skew()\n",
    "skew_age"
   ]
  },
  {
   "cell_type": "code",
   "execution_count": 113,
   "metadata": {},
   "outputs": [
    {
     "data": {
      "text/plain": [
       "8.361367535333146"
      ]
     },
     "execution_count": 113,
     "metadata": {},
     "output_type": "execute_result"
    }
   ],
   "source": [
    "skew_balamce = df[\"balance\"].skew()\n",
    "skew_balamce"
   ]
  },
  {
   "cell_type": "code",
   "execution_count": 114,
   "metadata": {},
   "outputs": [],
   "source": [
    "#Age is in normal distribution because that is met the skew criteria(-1to1)\n",
    "#Balance is not normally dirstibuted beacuse thst is not met the skew criteria(-1to1)\n",
    "\n",
    "#check normall distribution, 1.skew, 2. histogram, 3.qqplot, 4.shapario"
   ]
  },
  {
   "cell_type": "code",
   "execution_count": 115,
   "metadata": {},
   "outputs": [
    {
     "name": "stdout",
     "output_type": "stream",
     "text": [
      "40.93623938428875\n",
      "39.0\n",
      "0.6847950864086354\n"
     ]
    },
    {
     "data": {
      "image/png": "[encoded data removed]",
      "text/plain": [
       "<Figure size 432x288 with 1 Axes>"
      ]
     },
     "metadata": {
      "needs_background": "light"
     },
     "output_type": "display_data"
    }
   ],
   "source": [
    "plt.hist(df[\"age\"])\n",
    "print(df[\"age\"].mean())\n",
    "print(df[\"age\"].median())\n",
    "print(df[\"age\"].skew())"
   ]
  },
  {
   "cell_type": "code",
   "execution_count": 116,
   "metadata": {},
   "outputs": [
    {
     "name": "stdout",
     "output_type": "stream",
     "text": [
      "1362.9813873628805\n",
      "450.0\n",
      "8.361367535333146\n"
     ]
    },
    {
     "data": {
      "image/png": "[encoded data removed]",
      "text/plain": [
       "<Figure size 432x288 with 1 Axes>"
      ]
     },
     "metadata": {
      "needs_background": "light"
     },
     "output_type": "display_data"
    }
   ],
   "source": [
    "plt.hist(df[\"balance\"])\n",
    "print(df[\"balance\"].mean())\n",
    "print(df[\"balance\"].median())\n",
    "print(df[\"balance\"].skew())"
   ]
  },
  {
   "cell_type": "code",
   "execution_count": 117,
   "metadata": {},
   "outputs": [],
   "source": [
    "from scipy import stats"
   ]
  },
  {
   "cell_type": "code",
   "execution_count": 118,
   "metadata": {},
   "outputs": [
    {
     "data": {
      "text/plain": [
       "((array([-4.16851439, -3.96169375, -3.84889524, ...,  3.84889524,\n",
       "          3.96169375,  4.16851439]),\n",
       "  array([18, 18, 18, ..., 94, 95, 95], dtype=int64)),\n",
       " (10.408294960891935, 40.93623938428874, 0.9801077361786483))"
      ]
     },
     "execution_count": 118,
     "metadata": {},
     "output_type": "execute_result"
    },
    {
     "data": {
      "image/png": "[encoded data removed]",
      "text/plain": [
       "<Figure size 432x288 with 1 Axes>"
      ]
     },
     "metadata": {
      "needs_background": "light"
     },
     "output_type": "display_data"
    }
   ],
   "source": [
    "stats.probplot(df[\"age\"],plot=plt)"
   ]
  },
  {
   "cell_type": "code",
   "execution_count": 119,
   "metadata": {},
   "outputs": [
    {
     "data": {
      "text/plain": [
       "((array([-4.16851439, -3.96169375, -3.84889524, ...,  3.84889524,\n",
       "          3.96169375,  4.16851439]),\n",
       "  array([ -8019.,  -6847.,  -4057., ...,  81204.,  98417., 102127.])),\n",
       " (2058.186175770785, 1362.9813873628798, 0.675992394807332))"
      ]
     },
     "execution_count": 119,
     "metadata": {},
     "output_type": "execute_result"
    },
    {
     "data": {
      "image/png": "[encoded data removed]",
      "text/plain": [
       "<Figure size 432x288 with 1 Axes>"
      ]
     },
     "metadata": {
      "needs_background": "light"
     },
     "output_type": "display_data"
    }
   ],
   "source": [
    "stats.probplot(df[\"balance\"],plot=plt)"
   ]
  },
  {
   "cell_type": "code",
   "execution_count": 120,
   "metadata": {},
   "outputs": [],
   "source": [
    "from scipy.stats import shapiro"
   ]
  },
  {
   "cell_type": "code",
   "execution_count": 121,
   "metadata": {},
   "outputs": [
    {
     "name": "stderr",
     "output_type": "stream",
     "text": [
      "C:\\Users\\Balakrishna_Vema\\AppData\\Local\\Continuum\\anaconda3\\lib\\site-packages\\scipy\\stats\\morestats.py:1660: UserWarning: p-value may not be accurate for N > 5000.\n",
      "  warnings.warn(\"p-value may not be accurate for N > 5000.\")\n"
     ]
    }
   ],
   "source": [
    "stas , p=stats.shapiro(df[\"age\"])"
   ]
  },
  {
   "cell_type": "code",
   "execution_count": 122,
   "metadata": {},
   "outputs": [
    {
     "data": {
      "text/plain": [
       "0.9605219960212708"
      ]
     },
     "execution_count": 122,
     "metadata": {},
     "output_type": "execute_result"
    }
   ],
   "source": [
    "stas"
   ]
  },
  {
   "cell_type": "code",
   "execution_count": 123,
   "metadata": {},
   "outputs": [
    {
     "data": {
      "text/plain": [
       "0.0"
      ]
     },
     "execution_count": 123,
     "metadata": {},
     "output_type": "execute_result"
    }
   ],
   "source": [
    "p"
   ]
  },
  {
   "cell_type": "code",
   "execution_count": 124,
   "metadata": {},
   "outputs": [
    {
     "data": {
      "text/plain": [
       "(45216, 10)"
      ]
     },
     "execution_count": 124,
     "metadata": {},
     "output_type": "execute_result"
    }
   ],
   "source": [
    "df.shape"
   ]
  },
  {
   "cell_type": "code",
   "execution_count": 125,
   "metadata": {},
   "outputs": [
    {
     "name": "stdout",
     "output_type": "stream",
     "text": [
      "10.5\n",
      "70.5\n",
      "-1960.875\n",
      "3460.125\n"
     ]
    }
   ],
   "source": [
    "iqr_age = df[\"age\"].quantile(0.75)-df[\"age\"].quantile(0.25)\n",
    "lo_age = df[\"age\"].quantile(0.25)-1.5*iqr_age\n",
    "uo_age = df[\"age\"].quantile(0.75)+1.5*iqr_age\n",
    "iqr_bal = df[\"balance\"].quantile(0.75)-df[\"balance\"].quantile(0.25)\n",
    "lo_bal = df[\"balance\"].quantile(0.25)-1.5*iqr_bal\n",
    "uo_bal = df[\"balance\"].quantile(0.75)+1.5*iqr_bal\n",
    "print(lo_age)\n",
    "print(uo_age)\n",
    "print(lo_bal)\n",
    "print(uo_bal)"
   ]
  },
  {
   "cell_type": "code",
   "execution_count": 126,
   "metadata": {},
   "outputs": [],
   "source": [
    "#Outlier treatment\n",
    "df[\"age\"] = np.where(df[\"age\"] < lo_age,lo_age, df[\"age\"])\n",
    "df[\"age\"]= np.where(df[\"age\"]>uo_age, uo_age,df[\"age\"])"
   ]
  },
  {
   "cell_type": "code",
   "execution_count": 127,
   "metadata": {},
   "outputs": [],
   "source": [
    "df[\"balance\"] = np.where(df[\"balance\"]<lo_bal, lo_bal, df[\"balance\"])\n",
    "df[\"balance\"] = np.where(df[\"balance\"]>uo_bal, uo_bal, df[\"balance\"])\n"
   ]
  },
  {
   "cell_type": "code",
   "execution_count": 128,
   "metadata": {},
   "outputs": [
    {
     "data": {
      "text/plain": [
       "{'whiskers': [<matplotlib.lines.Line2D at 0x1ca993ba208>,\n",
       "  <matplotlib.lines.Line2D at 0x1ca98f58fc8>],\n",
       " 'caps': [<matplotlib.lines.Line2D at 0x1ca98f58dc8>,\n",
       "  <matplotlib.lines.Line2D at 0x1ca98f58a88>],\n",
       " 'boxes': [<matplotlib.lines.Line2D at 0x1ca98f6fd48>],\n",
       " 'medians': [<matplotlib.lines.Line2D at 0x1ca99018d48>],\n",
       " 'fliers': [<matplotlib.lines.Line2D at 0x1ca990187c8>],\n",
       " 'means': []}"
      ]
     },
     "execution_count": 128,
     "metadata": {},
     "output_type": "execute_result"
    },
    {
     "data": {
      "image/png": "[encoded data removed]",
      "text/plain": [
       "<Figure size 432x288 with 1 Axes>"
      ]
     },
     "metadata": {
      "needs_background": "light"
     },
     "output_type": "display_data"
    }
   ],
   "source": [
    "plt.boxplot(df[\"balance\"])"
   ]
  },
  {
   "cell_type": "code",
   "execution_count": 129,
   "metadata": {},
   "outputs": [
    {
     "name": "stdout",
     "output_type": "stream",
     "text": [
      "1.0959460844106537\n",
      "0.5297055081598767\n"
     ]
    }
   ],
   "source": [
    "print(df[\"balance\"].skew())\n",
    "print(df[\"age\"].skew())"
   ]
  },
  {
   "cell_type": "code",
   "execution_count": 130,
   "metadata": {},
   "outputs": [
    {
     "data": {
      "text/plain": [
       "1.0959460844106537"
      ]
     },
     "execution_count": 130,
     "metadata": {},
     "output_type": "execute_result"
    }
   ],
   "source": [
    "df[\"balance\"].skew()"
   ]
  },
  {
   "cell_type": "code",
   "execution_count": 131,
   "metadata": {},
   "outputs": [],
   "source": [
    "#df[\"balance\"] = np.sqrt(df[\"balance\"])"
   ]
  },
  {
   "cell_type": "code",
   "execution_count": 132,
   "metadata": {},
   "outputs": [
    {
     "data": {
      "text/plain": [
       "1.0959460844106537"
      ]
     },
     "execution_count": 132,
     "metadata": {},
     "output_type": "execute_result"
    }
   ],
   "source": [
    "df[\"balance\"].skew()"
   ]
  },
  {
   "cell_type": "code",
   "execution_count": 133,
   "metadata": {},
   "outputs": [
    {
     "data": {
      "text/plain": [
       "(array([   58.,   156.,  1083., 14831., 11617.,  5153.,  3151.,  1942.,\n",
       "         1417.,  5808.]),\n",
       " array([-1960.875, -1418.775,  -876.675,  -334.575,   207.525,   749.625,\n",
       "         1291.725,  1833.825,  2375.925,  2918.025,  3460.125]),\n",
       " <a list of 10 Patch objects>)"
      ]
     },
     "execution_count": 133,
     "metadata": {},
     "output_type": "execute_result"
    },
    {
     "data": {
      "image/png": "[encoded data removed]",
      "text/plain": [
       "<Figure size 432x288 with 1 Axes>"
      ]
     },
     "metadata": {
      "needs_background": "light"
     },
     "output_type": "display_data"
    }
   ],
   "source": [
    "plt.hist(df[\"balance\"])"
   ]
  },
  {
   "cell_type": "code",
   "execution_count": 134,
   "metadata": {},
   "outputs": [
    {
     "data": {
      "text/plain": [
       "((array([-4.16851439, -3.96169375, -3.84889524, ...,  3.84889524,\n",
       "          3.96169375,  4.16851439]),\n",
       "  array([-1960.875, -1960.875, -1960.875, ...,  3460.125,  3460.125,\n",
       "          3460.125])),\n",
       " (1069.4382240783104, 934.2686004069351, 0.9091953406303127))"
      ]
     },
     "execution_count": 134,
     "metadata": {},
     "output_type": "execute_result"
    },
    {
     "data": {
      "image/png": "[encoded data removed]",
      "text/plain": [
       "<Figure size 432x288 with 1 Axes>"
      ]
     },
     "metadata": {
      "needs_background": "light"
     },
     "output_type": "display_data"
    }
   ],
   "source": [
    "stats.probplot(df[\"balance\"],plot=plt)"
   ]
  },
  {
   "cell_type": "code",
   "execution_count": 135,
   "metadata": {},
   "outputs": [
    {
     "data": {
      "text/plain": [
       "0"
      ]
     },
     "execution_count": 135,
     "metadata": {},
     "output_type": "execute_result"
    }
   ],
   "source": [
    "df[\"balance\"].isna().sum()"
   ]
  },
  {
   "cell_type": "code",
   "execution_count": 136,
   "metadata": {},
   "outputs": [
    {
     "data": {
      "text/plain": [
       "-1960.875"
      ]
     },
     "execution_count": 136,
     "metadata": {},
     "output_type": "execute_result"
    }
   ],
   "source": [
    "df[\"balance\"].min()"
   ]
  },
  {
   "cell_type": "code",
   "execution_count": 137,
   "metadata": {},
   "outputs": [
    {
     "data": {
      "text/plain": [
       "3460.125"
      ]
     },
     "execution_count": 137,
     "metadata": {},
     "output_type": "execute_result"
    }
   ],
   "source": [
    "df[\"balance\"].max()"
   ]
  },
  {
   "cell_type": "code",
   "execution_count": 138,
   "metadata": {},
   "outputs": [
    {
     "data": {
      "text/html": [
       "<div>\n",
       "<style scoped>\n",
       "    .dataframe tbody tr th:only-of-type {\n",
       "        vertical-align: middle;\n",
       "    }\n",
       "\n",
       "    .dataframe tbody tr th {\n",
       "        vertical-align: top;\n",
       "    }\n",
       "\n",
       "    .dataframe thead th {\n",
       "        text-align: right;\n",
       "    }\n",
       "</style>\n",
       "<table border=\"1\" class=\"dataframe\">\n",
       "  <thead>\n",
       "    <tr style=\"text-align: right;\">\n",
       "      <th></th>\n",
       "      <th>Cust_num</th>\n",
       "      <th>age</th>\n",
       "      <th>job</th>\n",
       "      <th>marital</th>\n",
       "      <th>education</th>\n",
       "      <th>default</th>\n",
       "      <th>balance</th>\n",
       "      <th>housing</th>\n",
       "      <th>loan</th>\n",
       "      <th>duration</th>\n",
       "    </tr>\n",
       "  </thead>\n",
       "  <tbody>\n",
       "    <tr>\n",
       "      <td>0</td>\n",
       "      <td>1</td>\n",
       "      <td>58.0</td>\n",
       "      <td>management</td>\n",
       "      <td>married</td>\n",
       "      <td>tertiary</td>\n",
       "      <td>no</td>\n",
       "      <td>2143.0</td>\n",
       "      <td>yes</td>\n",
       "      <td>no</td>\n",
       "      <td>261</td>\n",
       "    </tr>\n",
       "    <tr>\n",
       "      <td>1</td>\n",
       "      <td>2</td>\n",
       "      <td>44.0</td>\n",
       "      <td>technician</td>\n",
       "      <td>single</td>\n",
       "      <td>secondary</td>\n",
       "      <td>no</td>\n",
       "      <td>29.0</td>\n",
       "      <td>yes</td>\n",
       "      <td>no</td>\n",
       "      <td>151</td>\n",
       "    </tr>\n",
       "    <tr>\n",
       "      <td>2</td>\n",
       "      <td>3</td>\n",
       "      <td>33.0</td>\n",
       "      <td>entrepreneur</td>\n",
       "      <td>married</td>\n",
       "      <td>secondary</td>\n",
       "      <td>no</td>\n",
       "      <td>2.0</td>\n",
       "      <td>yes</td>\n",
       "      <td>yes</td>\n",
       "      <td>76</td>\n",
       "    </tr>\n",
       "    <tr>\n",
       "      <td>3</td>\n",
       "      <td>4</td>\n",
       "      <td>47.0</td>\n",
       "      <td>blue-collar</td>\n",
       "      <td>married</td>\n",
       "      <td>unknown</td>\n",
       "      <td>no</td>\n",
       "      <td>1506.0</td>\n",
       "      <td>yes</td>\n",
       "      <td>no</td>\n",
       "      <td>92</td>\n",
       "    </tr>\n",
       "    <tr>\n",
       "      <td>4</td>\n",
       "      <td>5</td>\n",
       "      <td>33.0</td>\n",
       "      <td>unknown</td>\n",
       "      <td>single</td>\n",
       "      <td>unknown</td>\n",
       "      <td>no</td>\n",
       "      <td>1.0</td>\n",
       "      <td>no</td>\n",
       "      <td>no</td>\n",
       "      <td>198</td>\n",
       "    </tr>\n",
       "    <tr>\n",
       "      <td>...</td>\n",
       "      <td>...</td>\n",
       "      <td>...</td>\n",
       "      <td>...</td>\n",
       "      <td>...</td>\n",
       "      <td>...</td>\n",
       "      <td>...</td>\n",
       "      <td>...</td>\n",
       "      <td>...</td>\n",
       "      <td>...</td>\n",
       "      <td>...</td>\n",
       "    </tr>\n",
       "    <tr>\n",
       "      <td>45216</td>\n",
       "      <td>6</td>\n",
       "      <td>35.0</td>\n",
       "      <td>management</td>\n",
       "      <td>married</td>\n",
       "      <td>tertiary</td>\n",
       "      <td>no</td>\n",
       "      <td>231.0</td>\n",
       "      <td>yes</td>\n",
       "      <td>no</td>\n",
       "      <td>139</td>\n",
       "    </tr>\n",
       "    <tr>\n",
       "      <td>45217</td>\n",
       "      <td>7</td>\n",
       "      <td>28.0</td>\n",
       "      <td>management</td>\n",
       "      <td>single</td>\n",
       "      <td>tertiary</td>\n",
       "      <td>no</td>\n",
       "      <td>447.0</td>\n",
       "      <td>yes</td>\n",
       "      <td>yes</td>\n",
       "      <td>217</td>\n",
       "    </tr>\n",
       "    <tr>\n",
       "      <td>45218</td>\n",
       "      <td>8</td>\n",
       "      <td>42.0</td>\n",
       "      <td>entrepreneur</td>\n",
       "      <td>divorced</td>\n",
       "      <td>tertiary</td>\n",
       "      <td>yes</td>\n",
       "      <td>2.0</td>\n",
       "      <td>yes</td>\n",
       "      <td>no</td>\n",
       "      <td>380</td>\n",
       "    </tr>\n",
       "    <tr>\n",
       "      <td>45219</td>\n",
       "      <td>9</td>\n",
       "      <td>58.0</td>\n",
       "      <td>retired</td>\n",
       "      <td>married</td>\n",
       "      <td>primary</td>\n",
       "      <td>no</td>\n",
       "      <td>121.0</td>\n",
       "      <td>yes</td>\n",
       "      <td>no</td>\n",
       "      <td>50</td>\n",
       "    </tr>\n",
       "    <tr>\n",
       "      <td>45220</td>\n",
       "      <td>10</td>\n",
       "      <td>43.0</td>\n",
       "      <td>technician</td>\n",
       "      <td>single</td>\n",
       "      <td>secondary</td>\n",
       "      <td>no</td>\n",
       "      <td>593.0</td>\n",
       "      <td>yes</td>\n",
       "      <td>no</td>\n",
       "      <td>55</td>\n",
       "    </tr>\n",
       "  </tbody>\n",
       "</table>\n",
       "<p>45216 rows × 10 columns</p>\n",
       "</div>"
      ],
      "text/plain": [
       "       Cust_num   age           job   marital  education default  balance  \\\n",
       "0             1  58.0    management   married   tertiary      no   2143.0   \n",
       "1             2  44.0    technician    single  secondary      no     29.0   \n",
       "2             3  33.0  entrepreneur   married  secondary      no      2.0   \n",
       "3             4  47.0   blue-collar   married    unknown      no   1506.0   \n",
       "4             5  33.0       unknown    single    unknown      no      1.0   \n",
       "...         ...   ...           ...       ...        ...     ...      ...   \n",
       "45216         6  35.0    management   married   tertiary      no    231.0   \n",
       "45217         7  28.0    management    single   tertiary      no    447.0   \n",
       "45218         8  42.0  entrepreneur  divorced   tertiary     yes      2.0   \n",
       "45219         9  58.0       retired   married    primary      no    121.0   \n",
       "45220        10  43.0    technician    single  secondary      no    593.0   \n",
       "\n",
       "      housing loan  duration  \n",
       "0         yes   no       261  \n",
       "1         yes   no       151  \n",
       "2         yes  yes        76  \n",
       "3         yes   no        92  \n",
       "4          no   no       198  \n",
       "...       ...  ...       ...  \n",
       "45216     yes   no       139  \n",
       "45217     yes  yes       217  \n",
       "45218     yes   no       380  \n",
       "45219     yes   no        50  \n",
       "45220     yes   no        55  \n",
       "\n",
       "[45216 rows x 10 columns]"
      ]
     },
     "execution_count": 138,
     "metadata": {},
     "output_type": "execute_result"
    }
   ],
   "source": [
    "df"
   ]
  },
  {
   "cell_type": "code",
   "execution_count": 139,
   "metadata": {},
   "outputs": [],
   "source": [
    "df1 = pd.get_dummies(data=df, drop_first=True, dtype=\"int\")"
   ]
  },
  {
   "cell_type": "code",
   "execution_count": 140,
   "metadata": {},
   "outputs": [
    {
     "data": {
      "text/html": [
       "<div>\n",
       "<style scoped>\n",
       "    .dataframe tbody tr th:only-of-type {\n",
       "        vertical-align: middle;\n",
       "    }\n",
       "\n",
       "    .dataframe tbody tr th {\n",
       "        vertical-align: top;\n",
       "    }\n",
       "\n",
       "    .dataframe thead th {\n",
       "        text-align: right;\n",
       "    }\n",
       "</style>\n",
       "<table border=\"1\" class=\"dataframe\">\n",
       "  <thead>\n",
       "    <tr style=\"text-align: right;\">\n",
       "      <th></th>\n",
       "      <th>Cust_num</th>\n",
       "      <th>age</th>\n",
       "      <th>balance</th>\n",
       "      <th>duration</th>\n",
       "      <th>job_blue-collar</th>\n",
       "      <th>job_entrepreneur</th>\n",
       "      <th>job_housemaid</th>\n",
       "      <th>job_management</th>\n",
       "      <th>job_retired</th>\n",
       "      <th>job_self-employed</th>\n",
       "      <th>...</th>\n",
       "      <th>job_unemployed</th>\n",
       "      <th>job_unknown</th>\n",
       "      <th>marital_married</th>\n",
       "      <th>marital_single</th>\n",
       "      <th>education_secondary</th>\n",
       "      <th>education_tertiary</th>\n",
       "      <th>education_unknown</th>\n",
       "      <th>default_yes</th>\n",
       "      <th>housing_yes</th>\n",
       "      <th>loan_yes</th>\n",
       "    </tr>\n",
       "  </thead>\n",
       "  <tbody>\n",
       "    <tr>\n",
       "      <td>0</td>\n",
       "      <td>1</td>\n",
       "      <td>58.0</td>\n",
       "      <td>2143.0</td>\n",
       "      <td>261</td>\n",
       "      <td>0</td>\n",
       "      <td>0</td>\n",
       "      <td>0</td>\n",
       "      <td>1</td>\n",
       "      <td>0</td>\n",
       "      <td>0</td>\n",
       "      <td>...</td>\n",
       "      <td>0</td>\n",
       "      <td>0</td>\n",
       "      <td>1</td>\n",
       "      <td>0</td>\n",
       "      <td>0</td>\n",
       "      <td>1</td>\n",
       "      <td>0</td>\n",
       "      <td>0</td>\n",
       "      <td>1</td>\n",
       "      <td>0</td>\n",
       "    </tr>\n",
       "    <tr>\n",
       "      <td>1</td>\n",
       "      <td>2</td>\n",
       "      <td>44.0</td>\n",
       "      <td>29.0</td>\n",
       "      <td>151</td>\n",
       "      <td>0</td>\n",
       "      <td>0</td>\n",
       "      <td>0</td>\n",
       "      <td>0</td>\n",
       "      <td>0</td>\n",
       "      <td>0</td>\n",
       "      <td>...</td>\n",
       "      <td>0</td>\n",
       "      <td>0</td>\n",
       "      <td>0</td>\n",
       "      <td>1</td>\n",
       "      <td>1</td>\n",
       "      <td>0</td>\n",
       "      <td>0</td>\n",
       "      <td>0</td>\n",
       "      <td>1</td>\n",
       "      <td>0</td>\n",
       "    </tr>\n",
       "    <tr>\n",
       "      <td>2</td>\n",
       "      <td>3</td>\n",
       "      <td>33.0</td>\n",
       "      <td>2.0</td>\n",
       "      <td>76</td>\n",
       "      <td>0</td>\n",
       "      <td>1</td>\n",
       "      <td>0</td>\n",
       "      <td>0</td>\n",
       "      <td>0</td>\n",
       "      <td>0</td>\n",
       "      <td>...</td>\n",
       "      <td>0</td>\n",
       "      <td>0</td>\n",
       "      <td>1</td>\n",
       "      <td>0</td>\n",
       "      <td>1</td>\n",
       "      <td>0</td>\n",
       "      <td>0</td>\n",
       "      <td>0</td>\n",
       "      <td>1</td>\n",
       "      <td>1</td>\n",
       "    </tr>\n",
       "    <tr>\n",
       "      <td>3</td>\n",
       "      <td>4</td>\n",
       "      <td>47.0</td>\n",
       "      <td>1506.0</td>\n",
       "      <td>92</td>\n",
       "      <td>1</td>\n",
       "      <td>0</td>\n",
       "      <td>0</td>\n",
       "      <td>0</td>\n",
       "      <td>0</td>\n",
       "      <td>0</td>\n",
       "      <td>...</td>\n",
       "      <td>0</td>\n",
       "      <td>0</td>\n",
       "      <td>1</td>\n",
       "      <td>0</td>\n",
       "      <td>0</td>\n",
       "      <td>0</td>\n",
       "      <td>1</td>\n",
       "      <td>0</td>\n",
       "      <td>1</td>\n",
       "      <td>0</td>\n",
       "    </tr>\n",
       "    <tr>\n",
       "      <td>4</td>\n",
       "      <td>5</td>\n",
       "      <td>33.0</td>\n",
       "      <td>1.0</td>\n",
       "      <td>198</td>\n",
       "      <td>0</td>\n",
       "      <td>0</td>\n",
       "      <td>0</td>\n",
       "      <td>0</td>\n",
       "      <td>0</td>\n",
       "      <td>0</td>\n",
       "      <td>...</td>\n",
       "      <td>0</td>\n",
       "      <td>1</td>\n",
       "      <td>0</td>\n",
       "      <td>1</td>\n",
       "      <td>0</td>\n",
       "      <td>0</td>\n",
       "      <td>1</td>\n",
       "      <td>0</td>\n",
       "      <td>0</td>\n",
       "      <td>0</td>\n",
       "    </tr>\n",
       "    <tr>\n",
       "      <td>...</td>\n",
       "      <td>...</td>\n",
       "      <td>...</td>\n",
       "      <td>...</td>\n",
       "      <td>...</td>\n",
       "      <td>...</td>\n",
       "      <td>...</td>\n",
       "      <td>...</td>\n",
       "      <td>...</td>\n",
       "      <td>...</td>\n",
       "      <td>...</td>\n",
       "      <td>...</td>\n",
       "      <td>...</td>\n",
       "      <td>...</td>\n",
       "      <td>...</td>\n",
       "      <td>...</td>\n",
       "      <td>...</td>\n",
       "      <td>...</td>\n",
       "      <td>...</td>\n",
       "      <td>...</td>\n",
       "      <td>...</td>\n",
       "      <td>...</td>\n",
       "    </tr>\n",
       "    <tr>\n",
       "      <td>45216</td>\n",
       "      <td>6</td>\n",
       "      <td>35.0</td>\n",
       "      <td>231.0</td>\n",
       "      <td>139</td>\n",
       "      <td>0</td>\n",
       "      <td>0</td>\n",
       "      <td>0</td>\n",
       "      <td>1</td>\n",
       "      <td>0</td>\n",
       "      <td>0</td>\n",
       "      <td>...</td>\n",
       "      <td>0</td>\n",
       "      <td>0</td>\n",
       "      <td>1</td>\n",
       "      <td>0</td>\n",
       "      <td>0</td>\n",
       "      <td>1</td>\n",
       "      <td>0</td>\n",
       "      <td>0</td>\n",
       "      <td>1</td>\n",
       "      <td>0</td>\n",
       "    </tr>\n",
       "    <tr>\n",
       "      <td>45217</td>\n",
       "      <td>7</td>\n",
       "      <td>28.0</td>\n",
       "      <td>447.0</td>\n",
       "      <td>217</td>\n",
       "      <td>0</td>\n",
       "      <td>0</td>\n",
       "      <td>0</td>\n",
       "      <td>1</td>\n",
       "      <td>0</td>\n",
       "      <td>0</td>\n",
       "      <td>...</td>\n",
       "      <td>0</td>\n",
       "      <td>0</td>\n",
       "      <td>0</td>\n",
       "      <td>1</td>\n",
       "      <td>0</td>\n",
       "      <td>1</td>\n",
       "      <td>0</td>\n",
       "      <td>0</td>\n",
       "      <td>1</td>\n",
       "      <td>1</td>\n",
       "    </tr>\n",
       "    <tr>\n",
       "      <td>45218</td>\n",
       "      <td>8</td>\n",
       "      <td>42.0</td>\n",
       "      <td>2.0</td>\n",
       "      <td>380</td>\n",
       "      <td>0</td>\n",
       "      <td>1</td>\n",
       "      <td>0</td>\n",
       "      <td>0</td>\n",
       "      <td>0</td>\n",
       "      <td>0</td>\n",
       "      <td>...</td>\n",
       "      <td>0</td>\n",
       "      <td>0</td>\n",
       "      <td>0</td>\n",
       "      <td>0</td>\n",
       "      <td>0</td>\n",
       "      <td>1</td>\n",
       "      <td>0</td>\n",
       "      <td>1</td>\n",
       "      <td>1</td>\n",
       "      <td>0</td>\n",
       "    </tr>\n",
       "    <tr>\n",
       "      <td>45219</td>\n",
       "      <td>9</td>\n",
       "      <td>58.0</td>\n",
       "      <td>121.0</td>\n",
       "      <td>50</td>\n",
       "      <td>0</td>\n",
       "      <td>0</td>\n",
       "      <td>0</td>\n",
       "      <td>0</td>\n",
       "      <td>1</td>\n",
       "      <td>0</td>\n",
       "      <td>...</td>\n",
       "      <td>0</td>\n",
       "      <td>0</td>\n",
       "      <td>1</td>\n",
       "      <td>0</td>\n",
       "      <td>0</td>\n",
       "      <td>0</td>\n",
       "      <td>0</td>\n",
       "      <td>0</td>\n",
       "      <td>1</td>\n",
       "      <td>0</td>\n",
       "    </tr>\n",
       "    <tr>\n",
       "      <td>45220</td>\n",
       "      <td>10</td>\n",
       "      <td>43.0</td>\n",
       "      <td>593.0</td>\n",
       "      <td>55</td>\n",
       "      <td>0</td>\n",
       "      <td>0</td>\n",
       "      <td>0</td>\n",
       "      <td>0</td>\n",
       "      <td>0</td>\n",
       "      <td>0</td>\n",
       "      <td>...</td>\n",
       "      <td>0</td>\n",
       "      <td>0</td>\n",
       "      <td>0</td>\n",
       "      <td>1</td>\n",
       "      <td>1</td>\n",
       "      <td>0</td>\n",
       "      <td>0</td>\n",
       "      <td>0</td>\n",
       "      <td>1</td>\n",
       "      <td>0</td>\n",
       "    </tr>\n",
       "  </tbody>\n",
       "</table>\n",
       "<p>45216 rows × 23 columns</p>\n",
       "</div>"
      ],
      "text/plain": [
       "       Cust_num   age  balance  duration  job_blue-collar  job_entrepreneur  \\\n",
       "0             1  58.0   2143.0       261                0                 0   \n",
       "1             2  44.0     29.0       151                0                 0   \n",
       "2             3  33.0      2.0        76                0                 1   \n",
       "3             4  47.0   1506.0        92                1                 0   \n",
       "4             5  33.0      1.0       198                0                 0   \n",
       "...         ...   ...      ...       ...              ...               ...   \n",
       "45216         6  35.0    231.0       139                0                 0   \n",
       "45217         7  28.0    447.0       217                0                 0   \n",
       "45218         8  42.0      2.0       380                0                 1   \n",
       "45219         9  58.0    121.0        50                0                 0   \n",
       "45220        10  43.0    593.0        55                0                 0   \n",
       "\n",
       "       job_housemaid  job_management  job_retired  job_self-employed  ...  \\\n",
       "0                  0               1            0                  0  ...   \n",
       "1                  0               0            0                  0  ...   \n",
       "2                  0               0            0                  0  ...   \n",
       "3                  0               0            0                  0  ...   \n",
       "4                  0               0            0                  0  ...   \n",
       "...              ...             ...          ...                ...  ...   \n",
       "45216              0               1            0                  0  ...   \n",
       "45217              0               1            0                  0  ...   \n",
       "45218              0               0            0                  0  ...   \n",
       "45219              0               0            1                  0  ...   \n",
       "45220              0               0            0                  0  ...   \n",
       "\n",
       "       job_unemployed  job_unknown  marital_married  marital_single  \\\n",
       "0                   0            0                1               0   \n",
       "1                   0            0                0               1   \n",
       "2                   0            0                1               0   \n",
       "3                   0            0                1               0   \n",
       "4                   0            1                0               1   \n",
       "...               ...          ...              ...             ...   \n",
       "45216               0            0                1               0   \n",
       "45217               0            0                0               1   \n",
       "45218               0            0                0               0   \n",
       "45219               0            0                1               0   \n",
       "45220               0            0                0               1   \n",
       "\n",
       "       education_secondary  education_tertiary  education_unknown  \\\n",
       "0                        0                   1                  0   \n",
       "1                        1                   0                  0   \n",
       "2                        1                   0                  0   \n",
       "3                        0                   0                  1   \n",
       "4                        0                   0                  1   \n",
       "...                    ...                 ...                ...   \n",
       "45216                    0                   1                  0   \n",
       "45217                    0                   1                  0   \n",
       "45218                    0                   1                  0   \n",
       "45219                    0                   0                  0   \n",
       "45220                    1                   0                  0   \n",
       "\n",
       "       default_yes  housing_yes  loan_yes  \n",
       "0                0            1         0  \n",
       "1                0            1         0  \n",
       "2                0            1         1  \n",
       "3                0            1         0  \n",
       "4                0            0         0  \n",
       "...            ...          ...       ...  \n",
       "45216            0            1         0  \n",
       "45217            0            1         1  \n",
       "45218            1            1         0  \n",
       "45219            0            1         0  \n",
       "45220            0            1         0  \n",
       "\n",
       "[45216 rows x 23 columns]"
      ]
     },
     "execution_count": 140,
     "metadata": {},
     "output_type": "execute_result"
    }
   ],
   "source": [
    "df1"
   ]
  },
  {
   "cell_type": "code",
   "execution_count": 141,
   "metadata": {},
   "outputs": [
    {
     "data": {
      "text/plain": [
       "[<matplotlib.lines.Line2D at 0x1caa885e908>]"
      ]
     },
     "execution_count": 141,
     "metadata": {},
     "output_type": "execute_result"
    },
    {
     "data": {
      "image/png": "[encoded data removed]",
      "text/plain": [
       "<Figure size 432x288 with 1 Axes>"
      ]
     },
     "metadata": {
      "needs_background": "light"
     },
     "output_type": "display_data"
    }
   ],
   "source": [
    "#To Compare two numerical varibules to use the scatter plot for visuvally \n",
    "plt.plot(df1[\"duration\"],df1[\"default_yes\"], \"r.\")"
   ]
  },
  {
   "cell_type": "code",
   "execution_count": 142,
   "metadata": {},
   "outputs": [
    {
     "data": {
      "text/html": [
       "<div>\n",
       "<style scoped>\n",
       "    .dataframe tbody tr th:only-of-type {\n",
       "        vertical-align: middle;\n",
       "    }\n",
       "\n",
       "    .dataframe tbody tr th {\n",
       "        vertical-align: top;\n",
       "    }\n",
       "\n",
       "    .dataframe thead th {\n",
       "        text-align: right;\n",
       "    }\n",
       "</style>\n",
       "<table border=\"1\" class=\"dataframe\">\n",
       "  <thead>\n",
       "    <tr style=\"text-align: right;\">\n",
       "      <th></th>\n",
       "      <th>Cust_num</th>\n",
       "      <th>age</th>\n",
       "      <th>balance</th>\n",
       "      <th>duration</th>\n",
       "      <th>job_blue-collar</th>\n",
       "      <th>job_entrepreneur</th>\n",
       "      <th>job_housemaid</th>\n",
       "      <th>job_management</th>\n",
       "      <th>job_retired</th>\n",
       "      <th>job_self-employed</th>\n",
       "      <th>...</th>\n",
       "      <th>job_unemployed</th>\n",
       "      <th>job_unknown</th>\n",
       "      <th>marital_married</th>\n",
       "      <th>marital_single</th>\n",
       "      <th>education_secondary</th>\n",
       "      <th>education_tertiary</th>\n",
       "      <th>education_unknown</th>\n",
       "      <th>default_yes</th>\n",
       "      <th>housing_yes</th>\n",
       "      <th>loan_yes</th>\n",
       "    </tr>\n",
       "  </thead>\n",
       "  <tbody>\n",
       "    <tr>\n",
       "      <td>Cust_num</td>\n",
       "      <td>1.000000</td>\n",
       "      <td>0.006075</td>\n",
       "      <td>0.112477</td>\n",
       "      <td>0.013096</td>\n",
       "      <td>-0.120619</td>\n",
       "      <td>-0.022747</td>\n",
       "      <td>-0.013690</td>\n",
       "      <td>0.056034</td>\n",
       "      <td>0.086876</td>\n",
       "      <td>0.008688</td>\n",
       "      <td>...</td>\n",
       "      <td>0.029914</td>\n",
       "      <td>-0.005286</td>\n",
       "      <td>-0.072787</td>\n",
       "      <td>0.095118</td>\n",
       "      <td>-0.046363</td>\n",
       "      <td>0.107735</td>\n",
       "      <td>-0.007158</td>\n",
       "      <td>-0.053319</td>\n",
       "      <td>-0.176277</td>\n",
       "      <td>-0.084241</td>\n",
       "    </tr>\n",
       "    <tr>\n",
       "      <td>age</td>\n",
       "      <td>0.006075</td>\n",
       "      <td>1.000000</td>\n",
       "      <td>0.121953</td>\n",
       "      <td>-0.006644</td>\n",
       "      <td>-0.041576</td>\n",
       "      <td>0.023305</td>\n",
       "      <td>0.087955</td>\n",
       "      <td>-0.021147</td>\n",
       "      <td>0.431319</td>\n",
       "      <td>-0.007243</td>\n",
       "      <td>...</td>\n",
       "      <td>0.001548</td>\n",
       "      <td>0.050773</td>\n",
       "      <td>0.291072</td>\n",
       "      <td>-0.433011</td>\n",
       "      <td>-0.092555</td>\n",
       "      <td>-0.080980</td>\n",
       "      <td>0.068500</td>\n",
       "      <td>-0.017357</td>\n",
       "      <td>-0.182368</td>\n",
       "      <td>-0.013229</td>\n",
       "    </tr>\n",
       "    <tr>\n",
       "      <td>balance</td>\n",
       "      <td>0.112477</td>\n",
       "      <td>0.121953</td>\n",
       "      <td>1.000000</td>\n",
       "      <td>0.040614</td>\n",
       "      <td>-0.050225</td>\n",
       "      <td>-0.006261</td>\n",
       "      <td>0.002105</td>\n",
       "      <td>0.069966</td>\n",
       "      <td>0.064634</td>\n",
       "      <td>0.015165</td>\n",
       "      <td>...</td>\n",
       "      <td>0.012020</td>\n",
       "      <td>0.019008</td>\n",
       "      <td>0.034113</td>\n",
       "      <td>-0.013344</td>\n",
       "      <td>-0.080083</td>\n",
       "      <td>0.087055</td>\n",
       "      <td>0.018538</td>\n",
       "      <td>-0.123835</td>\n",
       "      <td>-0.080610</td>\n",
       "      <td>-0.119725</td>\n",
       "    </tr>\n",
       "    <tr>\n",
       "      <td>duration</td>\n",
       "      <td>0.013096</td>\n",
       "      <td>-0.006644</td>\n",
       "      <td>0.040614</td>\n",
       "      <td>1.000000</td>\n",
       "      <td>0.009657</td>\n",
       "      <td>-0.001261</td>\n",
       "      <td>-0.008039</td>\n",
       "      <td>-0.008336</td>\n",
       "      <td>0.025953</td>\n",
       "      <td>0.007390</td>\n",
       "      <td>...</td>\n",
       "      <td>0.020329</td>\n",
       "      <td>-0.006387</td>\n",
       "      <td>-0.022653</td>\n",
       "      <td>0.020409</td>\n",
       "      <td>0.002089</td>\n",
       "      <td>0.000909</td>\n",
       "      <td>-0.000674</td>\n",
       "      <td>-0.009931</td>\n",
       "      <td>0.005041</td>\n",
       "      <td>-0.012404</td>\n",
       "    </tr>\n",
       "    <tr>\n",
       "      <td>job_blue-collar</td>\n",
       "      <td>-0.120619</td>\n",
       "      <td>-0.041576</td>\n",
       "      <td>-0.050225</td>\n",
       "      <td>0.009657</td>\n",
       "      <td>1.000000</td>\n",
       "      <td>-0.096607</td>\n",
       "      <td>-0.087940</td>\n",
       "      <td>-0.269374</td>\n",
       "      <td>-0.120263</td>\n",
       "      <td>-0.099620</td>\n",
       "      <td>...</td>\n",
       "      <td>-0.090211</td>\n",
       "      <td>-0.041930</td>\n",
       "      <td>0.121792</td>\n",
       "      <td>-0.088280</td>\n",
       "      <td>0.040582</td>\n",
       "      <td>-0.320547</td>\n",
       "      <td>0.014727</td>\n",
       "      <td>0.010255</td>\n",
       "      <td>0.177413</td>\n",
       "      <td>0.018284</td>\n",
       "    </tr>\n",
       "    <tr>\n",
       "      <td>job_entrepreneur</td>\n",
       "      <td>-0.022747</td>\n",
       "      <td>0.023305</td>\n",
       "      <td>-0.006261</td>\n",
       "      <td>-0.001261</td>\n",
       "      <td>-0.096607</td>\n",
       "      <td>1.000000</td>\n",
       "      <td>-0.030976</td>\n",
       "      <td>-0.094884</td>\n",
       "      <td>-0.042361</td>\n",
       "      <td>-0.035090</td>\n",
       "      <td>...</td>\n",
       "      <td>-0.031776</td>\n",
       "      <td>-0.014769</td>\n",
       "      <td>0.044458</td>\n",
       "      <td>-0.050501</td>\n",
       "      <td>-0.054958</td>\n",
       "      <td>0.067789</td>\n",
       "      <td>0.009301</td>\n",
       "      <td>0.027143</td>\n",
       "      <td>0.010689</td>\n",
       "      <td>0.039736</td>\n",
       "    </tr>\n",
       "    <tr>\n",
       "      <td>job_housemaid</td>\n",
       "      <td>-0.013690</td>\n",
       "      <td>0.087955</td>\n",
       "      <td>0.002105</td>\n",
       "      <td>-0.008039</td>\n",
       "      <td>-0.087940</td>\n",
       "      <td>-0.030976</td>\n",
       "      <td>1.000000</td>\n",
       "      <td>-0.086372</td>\n",
       "      <td>-0.038561</td>\n",
       "      <td>-0.031942</td>\n",
       "      <td>...</td>\n",
       "      <td>-0.028925</td>\n",
       "      <td>-0.013444</td>\n",
       "      <td>0.045635</td>\n",
       "      <td>-0.062063</td>\n",
       "      <td>-0.065381</td>\n",
       "      <td>-0.057011</td>\n",
       "      <td>-0.004044</td>\n",
       "      <td>-0.000384</td>\n",
       "      <td>-0.079393</td>\n",
       "      <td>-0.017235</td>\n",
       "    </tr>\n",
       "    <tr>\n",
       "      <td>job_management</td>\n",
       "      <td>0.056034</td>\n",
       "      <td>-0.021147</td>\n",
       "      <td>0.069966</td>\n",
       "      <td>-0.008336</td>\n",
       "      <td>-0.269374</td>\n",
       "      <td>-0.094884</td>\n",
       "      <td>-0.086372</td>\n",
       "      <td>1.000000</td>\n",
       "      <td>-0.118119</td>\n",
       "      <td>-0.097844</td>\n",
       "      <td>...</td>\n",
       "      <td>-0.088603</td>\n",
       "      <td>-0.041182</td>\n",
       "      <td>-0.032389</td>\n",
       "      <td>0.032636</td>\n",
       "      <td>-0.406139</td>\n",
       "      <td>0.598922</td>\n",
       "      <td>-0.040144</td>\n",
       "      <td>-0.002746</td>\n",
       "      <td>-0.063327</td>\n",
       "      <td>-0.038803</td>\n",
       "    </tr>\n",
       "    <tr>\n",
       "      <td>job_retired</td>\n",
       "      <td>0.086876</td>\n",
       "      <td>0.431319</td>\n",
       "      <td>0.064634</td>\n",
       "      <td>0.025953</td>\n",
       "      <td>-0.120263</td>\n",
       "      <td>-0.042361</td>\n",
       "      <td>-0.038561</td>\n",
       "      <td>-0.118119</td>\n",
       "      <td>1.000000</td>\n",
       "      <td>-0.043683</td>\n",
       "      <td>...</td>\n",
       "      <td>-0.039557</td>\n",
       "      <td>-0.018386</td>\n",
       "      <td>0.076108</td>\n",
       "      <td>-0.119785</td>\n",
       "      <td>-0.036168</td>\n",
       "      <td>-0.066843</td>\n",
       "      <td>0.013272</td>\n",
       "      <td>-0.011330</td>\n",
       "      <td>-0.156525</td>\n",
       "      <td>-0.014904</td>\n",
       "    </tr>\n",
       "    <tr>\n",
       "      <td>job_self-employed</td>\n",
       "      <td>0.008688</td>\n",
       "      <td>-0.007243</td>\n",
       "      <td>0.015165</td>\n",
       "      <td>0.007390</td>\n",
       "      <td>-0.099620</td>\n",
       "      <td>-0.035090</td>\n",
       "      <td>-0.031942</td>\n",
       "      <td>-0.097844</td>\n",
       "      <td>-0.043683</td>\n",
       "      <td>1.000000</td>\n",
       "      <td>...</td>\n",
       "      <td>-0.032767</td>\n",
       "      <td>-0.015230</td>\n",
       "      <td>0.010259</td>\n",
       "      <td>-0.000032</td>\n",
       "      <td>-0.056226</td>\n",
       "      <td>0.097394</td>\n",
       "      <td>-0.015692</td>\n",
       "      <td>0.004076</td>\n",
       "      <td>-0.027336</td>\n",
       "      <td>-0.007884</td>\n",
       "    </tr>\n",
       "    <tr>\n",
       "      <td>job_services</td>\n",
       "      <td>-0.042167</td>\n",
       "      <td>-0.065113</td>\n",
       "      <td>-0.047057</td>\n",
       "      <td>0.001440</td>\n",
       "      <td>-0.166570</td>\n",
       "      <td>-0.058673</td>\n",
       "      <td>-0.053409</td>\n",
       "      <td>-0.163600</td>\n",
       "      <td>-0.073040</td>\n",
       "      <td>-0.060503</td>\n",
       "      <td>...</td>\n",
       "      <td>-0.054788</td>\n",
       "      <td>-0.025465</td>\n",
       "      <td>-0.014821</td>\n",
       "      <td>0.004143</td>\n",
       "      <td>0.203027</td>\n",
       "      <td>-0.171425</td>\n",
       "      <td>-0.007949</td>\n",
       "      <td>0.000020</td>\n",
       "      <td>0.070400</td>\n",
       "      <td>0.035568</td>\n",
       "    </tr>\n",
       "    <tr>\n",
       "      <td>job_student</td>\n",
       "      <td>0.121167</td>\n",
       "      <td>-0.200589</td>\n",
       "      <td>0.010969</td>\n",
       "      <td>-0.006498</td>\n",
       "      <td>-0.076224</td>\n",
       "      <td>-0.026849</td>\n",
       "      <td>-0.024441</td>\n",
       "      <td>-0.074865</td>\n",
       "      <td>-0.033424</td>\n",
       "      <td>-0.027687</td>\n",
       "      <td>...</td>\n",
       "      <td>-0.025072</td>\n",
       "      <td>-0.011653</td>\n",
       "      <td>-0.162064</td>\n",
       "      <td>0.211261</td>\n",
       "      <td>0.008275</td>\n",
       "      <td>-0.018043</td>\n",
       "      <td>0.097328</td>\n",
       "      <td>-0.016235</td>\n",
       "      <td>-0.085076</td>\n",
       "      <td>-0.058501</td>\n",
       "    </tr>\n",
       "    <tr>\n",
       "      <td>job_technician</td>\n",
       "      <td>-0.006945</td>\n",
       "      <td>-0.067159</td>\n",
       "      <td>-0.016489</td>\n",
       "      <td>-0.009205</td>\n",
       "      <td>-0.235362</td>\n",
       "      <td>-0.082904</td>\n",
       "      <td>-0.075467</td>\n",
       "      <td>-0.231165</td>\n",
       "      <td>-0.103205</td>\n",
       "      <td>-0.085490</td>\n",
       "      <td>...</td>\n",
       "      <td>-0.077415</td>\n",
       "      <td>-0.035982</td>\n",
       "      <td>-0.062812</td>\n",
       "      <td>0.061920</td>\n",
       "      <td>0.157513</td>\n",
       "      <td>-0.034731</td>\n",
       "      <td>-0.020878</td>\n",
       "      <td>-0.003163</td>\n",
       "      <td>-0.012813</td>\n",
       "      <td>0.014765</td>\n",
       "    </tr>\n",
       "    <tr>\n",
       "      <td>job_unemployed</td>\n",
       "      <td>0.029914</td>\n",
       "      <td>0.001548</td>\n",
       "      <td>0.012020</td>\n",
       "      <td>0.020329</td>\n",
       "      <td>-0.090211</td>\n",
       "      <td>-0.031776</td>\n",
       "      <td>-0.028925</td>\n",
       "      <td>-0.088603</td>\n",
       "      <td>-0.039557</td>\n",
       "      <td>-0.032767</td>\n",
       "      <td>...</td>\n",
       "      <td>1.000000</td>\n",
       "      <td>-0.013792</td>\n",
       "      <td>-0.014598</td>\n",
       "      <td>0.009649</td>\n",
       "      <td>0.015699</td>\n",
       "      <td>-0.027381</td>\n",
       "      <td>-0.016330</td>\n",
       "      <td>0.006440</td>\n",
       "      <td>-0.048244</td>\n",
       "      <td>-0.035960</td>\n",
       "    </tr>\n",
       "    <tr>\n",
       "      <td>job_unknown</td>\n",
       "      <td>-0.005286</td>\n",
       "      <td>0.050773</td>\n",
       "      <td>0.019008</td>\n",
       "      <td>-0.006387</td>\n",
       "      <td>-0.041930</td>\n",
       "      <td>-0.014769</td>\n",
       "      <td>-0.013444</td>\n",
       "      <td>-0.041182</td>\n",
       "      <td>-0.018386</td>\n",
       "      <td>-0.015230</td>\n",
       "      <td>...</td>\n",
       "      <td>-0.013792</td>\n",
       "      <td>1.000000</td>\n",
       "      <td>0.016749</td>\n",
       "      <td>-0.008255</td>\n",
       "      <td>-0.042710</td>\n",
       "      <td>-0.027903</td>\n",
       "      <td>0.161339</td>\n",
       "      <td>-0.006677</td>\n",
       "      <td>-0.075027</td>\n",
       "      <td>-0.031941</td>\n",
       "    </tr>\n",
       "    <tr>\n",
       "      <td>marital_married</td>\n",
       "      <td>-0.072787</td>\n",
       "      <td>0.291072</td>\n",
       "      <td>0.034113</td>\n",
       "      <td>-0.022653</td>\n",
       "      <td>0.121792</td>\n",
       "      <td>0.044458</td>\n",
       "      <td>0.045635</td>\n",
       "      <td>-0.032389</td>\n",
       "      <td>0.076108</td>\n",
       "      <td>0.010259</td>\n",
       "      <td>...</td>\n",
       "      <td>-0.014598</td>\n",
       "      <td>0.016749</td>\n",
       "      <td>1.000000</td>\n",
       "      <td>-0.772557</td>\n",
       "      <td>-0.017674</td>\n",
       "      <td>-0.096044</td>\n",
       "      <td>0.009834</td>\n",
       "      <td>-0.014471</td>\n",
       "      <td>0.018511</td>\n",
       "      <td>0.037081</td>\n",
       "    </tr>\n",
       "    <tr>\n",
       "      <td>marital_single</td>\n",
       "      <td>0.095118</td>\n",
       "      <td>-0.433011</td>\n",
       "      <td>-0.013344</td>\n",
       "      <td>0.020409</td>\n",
       "      <td>-0.088280</td>\n",
       "      <td>-0.050501</td>\n",
       "      <td>-0.062063</td>\n",
       "      <td>0.032636</td>\n",
       "      <td>-0.119785</td>\n",
       "      <td>-0.000032</td>\n",
       "      <td>...</td>\n",
       "      <td>0.009649</td>\n",
       "      <td>-0.008255</td>\n",
       "      <td>-0.772557</td>\n",
       "      <td>1.000000</td>\n",
       "      <td>0.005346</td>\n",
       "      <td>0.110940</td>\n",
       "      <td>0.000331</td>\n",
       "      <td>0.003119</td>\n",
       "      <td>-0.021103</td>\n",
       "      <td>-0.052085</td>\n",
       "    </tr>\n",
       "    <tr>\n",
       "      <td>education_secondary</td>\n",
       "      <td>-0.046363</td>\n",
       "      <td>-0.092555</td>\n",
       "      <td>-0.080083</td>\n",
       "      <td>0.002089</td>\n",
       "      <td>0.040582</td>\n",
       "      <td>-0.054958</td>\n",
       "      <td>-0.065381</td>\n",
       "      <td>-0.406139</td>\n",
       "      <td>-0.036168</td>\n",
       "      <td>-0.056226</td>\n",
       "      <td>...</td>\n",
       "      <td>0.015699</td>\n",
       "      <td>-0.042710</td>\n",
       "      <td>-0.017674</td>\n",
       "      <td>0.005346</td>\n",
       "      <td>1.000000</td>\n",
       "      <td>-0.662898</td>\n",
       "      <td>-0.212471</td>\n",
       "      <td>0.013050</td>\n",
       "      <td>0.101587</td>\n",
       "      <td>0.070585</td>\n",
       "    </tr>\n",
       "    <tr>\n",
       "      <td>education_tertiary</td>\n",
       "      <td>0.107735</td>\n",
       "      <td>-0.080980</td>\n",
       "      <td>0.087055</td>\n",
       "      <td>0.000909</td>\n",
       "      <td>-0.320547</td>\n",
       "      <td>0.067789</td>\n",
       "      <td>-0.057011</td>\n",
       "      <td>0.598922</td>\n",
       "      <td>-0.066843</td>\n",
       "      <td>0.097394</td>\n",
       "      <td>...</td>\n",
       "      <td>-0.027381</td>\n",
       "      <td>-0.027903</td>\n",
       "      <td>-0.096044</td>\n",
       "      <td>0.110940</td>\n",
       "      <td>-0.662898</td>\n",
       "      <td>1.000000</td>\n",
       "      <td>-0.133623</td>\n",
       "      <td>-0.014982</td>\n",
       "      <td>-0.099096</td>\n",
       "      <td>-0.045872</td>\n",
       "    </tr>\n",
       "    <tr>\n",
       "      <td>education_unknown</td>\n",
       "      <td>-0.007158</td>\n",
       "      <td>0.068500</td>\n",
       "      <td>0.018538</td>\n",
       "      <td>-0.000674</td>\n",
       "      <td>0.014727</td>\n",
       "      <td>0.009301</td>\n",
       "      <td>-0.004044</td>\n",
       "      <td>-0.040144</td>\n",
       "      <td>0.013272</td>\n",
       "      <td>-0.015692</td>\n",
       "      <td>...</td>\n",
       "      <td>-0.016330</td>\n",
       "      <td>0.161339</td>\n",
       "      <td>0.009834</td>\n",
       "      <td>0.000331</td>\n",
       "      <td>-0.212471</td>\n",
       "      <td>-0.133623</td>\n",
       "      <td>1.000000</td>\n",
       "      <td>-0.001266</td>\n",
       "      <td>-0.047613</td>\n",
       "      <td>-0.049991</td>\n",
       "    </tr>\n",
       "    <tr>\n",
       "      <td>default_yes</td>\n",
       "      <td>-0.053319</td>\n",
       "      <td>-0.017357</td>\n",
       "      <td>-0.123835</td>\n",
       "      <td>-0.009931</td>\n",
       "      <td>0.010255</td>\n",
       "      <td>0.027143</td>\n",
       "      <td>-0.000384</td>\n",
       "      <td>-0.002746</td>\n",
       "      <td>-0.011330</td>\n",
       "      <td>0.004076</td>\n",
       "      <td>...</td>\n",
       "      <td>0.006440</td>\n",
       "      <td>-0.006677</td>\n",
       "      <td>-0.014471</td>\n",
       "      <td>0.003119</td>\n",
       "      <td>0.013050</td>\n",
       "      <td>-0.014982</td>\n",
       "      <td>-0.001266</td>\n",
       "      <td>1.000000</td>\n",
       "      <td>-0.005886</td>\n",
       "      <td>0.077108</td>\n",
       "    </tr>\n",
       "    <tr>\n",
       "      <td>housing_yes</td>\n",
       "      <td>-0.176277</td>\n",
       "      <td>-0.182368</td>\n",
       "      <td>-0.080610</td>\n",
       "      <td>0.005041</td>\n",
       "      <td>0.177413</td>\n",
       "      <td>0.010689</td>\n",
       "      <td>-0.079393</td>\n",
       "      <td>-0.063327</td>\n",
       "      <td>-0.156525</td>\n",
       "      <td>-0.027336</td>\n",
       "      <td>...</td>\n",
       "      <td>-0.048244</td>\n",
       "      <td>-0.075027</td>\n",
       "      <td>0.018511</td>\n",
       "      <td>-0.021103</td>\n",
       "      <td>0.101587</td>\n",
       "      <td>-0.099096</td>\n",
       "      <td>-0.047613</td>\n",
       "      <td>-0.005886</td>\n",
       "      <td>1.000000</td>\n",
       "      <td>0.041329</td>\n",
       "    </tr>\n",
       "    <tr>\n",
       "      <td>loan_yes</td>\n",
       "      <td>-0.084241</td>\n",
       "      <td>-0.013229</td>\n",
       "      <td>-0.119725</td>\n",
       "      <td>-0.012404</td>\n",
       "      <td>0.018284</td>\n",
       "      <td>0.039736</td>\n",
       "      <td>-0.017235</td>\n",
       "      <td>-0.038803</td>\n",
       "      <td>-0.014904</td>\n",
       "      <td>-0.007884</td>\n",
       "      <td>...</td>\n",
       "      <td>-0.035960</td>\n",
       "      <td>-0.031941</td>\n",
       "      <td>0.037081</td>\n",
       "      <td>-0.052085</td>\n",
       "      <td>0.070585</td>\n",
       "      <td>-0.045872</td>\n",
       "      <td>-0.049991</td>\n",
       "      <td>0.077108</td>\n",
       "      <td>0.041329</td>\n",
       "      <td>1.000000</td>\n",
       "    </tr>\n",
       "  </tbody>\n",
       "</table>\n",
       "<p>23 rows × 23 columns</p>\n",
       "</div>"
      ],
      "text/plain": [
       "                     Cust_num       age   balance  duration  job_blue-collar  \\\n",
       "Cust_num             1.000000  0.006075  0.112477  0.013096        -0.120619   \n",
       "age                  0.006075  1.000000  0.121953 -0.006644        -0.041576   \n",
       "balance              0.112477  0.121953  1.000000  0.040614        -0.050225   \n",
       "duration             0.013096 -0.006644  0.040614  1.000000         0.009657   \n",
       "job_blue-collar     -0.120619 -0.041576 -0.050225  0.009657         1.000000   \n",
       "job_entrepreneur    -0.022747  0.023305 -0.006261 -0.001261        -0.096607   \n",
       "job_housemaid       -0.013690  0.087955  0.002105 -0.008039        -0.087940   \n",
       "job_management       0.056034 -0.021147  0.069966 -0.008336        -0.269374   \n",
       "job_retired          0.086876  0.431319  0.064634  0.025953        -0.120263   \n",
       "job_self-employed    0.008688 -0.007243  0.015165  0.007390        -0.099620   \n",
       "job_services        -0.042167 -0.065113 -0.047057  0.001440        -0.166570   \n",
       "job_student          0.121167 -0.200589  0.010969 -0.006498        -0.076224   \n",
       "job_technician      -0.006945 -0.067159 -0.016489 -0.009205        -0.235362   \n",
       "job_unemployed       0.029914  0.001548  0.012020  0.020329        -0.090211   \n",
       "job_unknown         -0.005286  0.050773  0.019008 -0.006387        -0.041930   \n",
       "marital_married     -0.072787  0.291072  0.034113 -0.022653         0.121792   \n",
       "marital_single       0.095118 -0.433011 -0.013344  0.020409        -0.088280   \n",
       "education_secondary -0.046363 -0.092555 -0.080083  0.002089         0.040582   \n",
       "education_tertiary   0.107735 -0.080980  0.087055  0.000909        -0.320547   \n",
       "education_unknown   -0.007158  0.068500  0.018538 -0.000674         0.014727   \n",
       "default_yes         -0.053319 -0.017357 -0.123835 -0.009931         0.010255   \n",
       "housing_yes         -0.176277 -0.182368 -0.080610  0.005041         0.177413   \n",
       "loan_yes            -0.084241 -0.013229 -0.119725 -0.012404         0.018284   \n",
       "\n",
       "                     job_entrepreneur  job_housemaid  job_management  \\\n",
       "Cust_num                    -0.022747      -0.013690        0.056034   \n",
       "age                          0.023305       0.087955       -0.021147   \n",
       "balance                     -0.006261       0.002105        0.069966   \n",
       "duration                    -0.001261      -0.008039       -0.008336   \n",
       "job_blue-collar             -0.096607      -0.087940       -0.269374   \n",
       "job_entrepreneur             1.000000      -0.030976       -0.094884   \n",
       "job_housemaid               -0.030976       1.000000       -0.086372   \n",
       "job_management              -0.094884      -0.086372        1.000000   \n",
       "job_retired                 -0.042361      -0.038561       -0.118119   \n",
       "job_self-employed           -0.035090      -0.031942       -0.097844   \n",
       "job_services                -0.058673      -0.053409       -0.163600   \n",
       "job_student                 -0.026849      -0.024441       -0.074865   \n",
       "job_technician              -0.082904      -0.075467       -0.231165   \n",
       "job_unemployed              -0.031776      -0.028925       -0.088603   \n",
       "job_unknown                 -0.014769      -0.013444       -0.041182   \n",
       "marital_married              0.044458       0.045635       -0.032389   \n",
       "marital_single              -0.050501      -0.062063        0.032636   \n",
       "education_secondary         -0.054958      -0.065381       -0.406139   \n",
       "education_tertiary           0.067789      -0.057011        0.598922   \n",
       "education_unknown            0.009301      -0.004044       -0.040144   \n",
       "default_yes                  0.027143      -0.000384       -0.002746   \n",
       "housing_yes                  0.010689      -0.079393       -0.063327   \n",
       "loan_yes                     0.039736      -0.017235       -0.038803   \n",
       "\n",
       "                     job_retired  job_self-employed  ...  job_unemployed  \\\n",
       "Cust_num                0.086876           0.008688  ...        0.029914   \n",
       "age                     0.431319          -0.007243  ...        0.001548   \n",
       "balance                 0.064634           0.015165  ...        0.012020   \n",
       "duration                0.025953           0.007390  ...        0.020329   \n",
       "job_blue-collar        -0.120263          -0.099620  ...       -0.090211   \n",
       "job_entrepreneur       -0.042361          -0.035090  ...       -0.031776   \n",
       "job_housemaid          -0.038561          -0.031942  ...       -0.028925   \n",
       "job_management         -0.118119          -0.097844  ...       -0.088603   \n",
       "job_retired             1.000000          -0.043683  ...       -0.039557   \n",
       "job_self-employed      -0.043683           1.000000  ...       -0.032767   \n",
       "job_services           -0.073040          -0.060503  ...       -0.054788   \n",
       "job_student            -0.033424          -0.027687  ...       -0.025072   \n",
       "job_technician         -0.103205          -0.085490  ...       -0.077415   \n",
       "job_unemployed         -0.039557          -0.032767  ...        1.000000   \n",
       "job_unknown            -0.018386          -0.015230  ...       -0.013792   \n",
       "marital_married         0.076108           0.010259  ...       -0.014598   \n",
       "marital_single         -0.119785          -0.000032  ...        0.009649   \n",
       "education_secondary    -0.036168          -0.056226  ...        0.015699   \n",
       "education_tertiary     -0.066843           0.097394  ...       -0.027381   \n",
       "education_unknown       0.013272          -0.015692  ...       -0.016330   \n",
       "default_yes            -0.011330           0.004076  ...        0.006440   \n",
       "housing_yes            -0.156525          -0.027336  ...       -0.048244   \n",
       "loan_yes               -0.014904          -0.007884  ...       -0.035960   \n",
       "\n",
       "                     job_unknown  marital_married  marital_single  \\\n",
       "Cust_num               -0.005286        -0.072787        0.095118   \n",
       "age                     0.050773         0.291072       -0.433011   \n",
       "balance                 0.019008         0.034113       -0.013344   \n",
       "duration               -0.006387        -0.022653        0.020409   \n",
       "job_blue-collar        -0.041930         0.121792       -0.088280   \n",
       "job_entrepreneur       -0.014769         0.044458       -0.050501   \n",
       "job_housemaid          -0.013444         0.045635       -0.062063   \n",
       "job_management         -0.041182        -0.032389        0.032636   \n",
       "job_retired            -0.018386         0.076108       -0.119785   \n",
       "job_self-employed      -0.015230         0.010259       -0.000032   \n",
       "job_services           -0.025465        -0.014821        0.004143   \n",
       "job_student            -0.011653        -0.162064        0.211261   \n",
       "job_technician         -0.035982        -0.062812        0.061920   \n",
       "job_unemployed         -0.013792        -0.014598        0.009649   \n",
       "job_unknown             1.000000         0.016749       -0.008255   \n",
       "marital_married         0.016749         1.000000       -0.772557   \n",
       "marital_single         -0.008255        -0.772557        1.000000   \n",
       "education_secondary    -0.042710        -0.017674        0.005346   \n",
       "education_tertiary     -0.027903        -0.096044        0.110940   \n",
       "education_unknown       0.161339         0.009834        0.000331   \n",
       "default_yes            -0.006677        -0.014471        0.003119   \n",
       "housing_yes            -0.075027         0.018511       -0.021103   \n",
       "loan_yes               -0.031941         0.037081       -0.052085   \n",
       "\n",
       "                     education_secondary  education_tertiary  \\\n",
       "Cust_num                       -0.046363            0.107735   \n",
       "age                            -0.092555           -0.080980   \n",
       "balance                        -0.080083            0.087055   \n",
       "duration                        0.002089            0.000909   \n",
       "job_blue-collar                 0.040582           -0.320547   \n",
       "job_entrepreneur               -0.054958            0.067789   \n",
       "job_housemaid                  -0.065381           -0.057011   \n",
       "job_management                 -0.406139            0.598922   \n",
       "job_retired                    -0.036168           -0.066843   \n",
       "job_self-employed              -0.056226            0.097394   \n",
       "job_services                    0.203027           -0.171425   \n",
       "job_student                     0.008275           -0.018043   \n",
       "job_technician                  0.157513           -0.034731   \n",
       "job_unemployed                  0.015699           -0.027381   \n",
       "job_unknown                    -0.042710           -0.027903   \n",
       "marital_married                -0.017674           -0.096044   \n",
       "marital_single                  0.005346            0.110940   \n",
       "education_secondary             1.000000           -0.662898   \n",
       "education_tertiary             -0.662898            1.000000   \n",
       "education_unknown              -0.212471           -0.133623   \n",
       "default_yes                     0.013050           -0.014982   \n",
       "housing_yes                     0.101587           -0.099096   \n",
       "loan_yes                        0.070585           -0.045872   \n",
       "\n",
       "                     education_unknown  default_yes  housing_yes  loan_yes  \n",
       "Cust_num                     -0.007158    -0.053319    -0.176277 -0.084241  \n",
       "age                           0.068500    -0.017357    -0.182368 -0.013229  \n",
       "balance                       0.018538    -0.123835    -0.080610 -0.119725  \n",
       "duration                     -0.000674    -0.009931     0.005041 -0.012404  \n",
       "job_blue-collar               0.014727     0.010255     0.177413  0.018284  \n",
       "job_entrepreneur              0.009301     0.027143     0.010689  0.039736  \n",
       "job_housemaid                -0.004044    -0.000384    -0.079393 -0.017235  \n",
       "job_management               -0.040144    -0.002746    -0.063327 -0.038803  \n",
       "job_retired                   0.013272    -0.011330    -0.156525 -0.014904  \n",
       "job_self-employed            -0.015692     0.004076    -0.027336 -0.007884  \n",
       "job_services                 -0.007949     0.000020     0.070400  0.035568  \n",
       "job_student                   0.097328    -0.016235    -0.085076 -0.058501  \n",
       "job_technician               -0.020878    -0.003163    -0.012813  0.014765  \n",
       "job_unemployed               -0.016330     0.006440    -0.048244 -0.035960  \n",
       "job_unknown                   0.161339    -0.006677    -0.075027 -0.031941  \n",
       "marital_married               0.009834    -0.014471     0.018511  0.037081  \n",
       "marital_single                0.000331     0.003119    -0.021103 -0.052085  \n",
       "education_secondary          -0.212471     0.013050     0.101587  0.070585  \n",
       "education_tertiary           -0.133623    -0.014982    -0.099096 -0.045872  \n",
       "education_unknown             1.000000    -0.001266    -0.047613 -0.049991  \n",
       "default_yes                  -0.001266     1.000000    -0.005886  0.077108  \n",
       "housing_yes                  -0.047613    -0.005886     1.000000  0.041329  \n",
       "loan_yes                     -0.049991     0.077108     0.041329  1.000000  \n",
       "\n",
       "[23 rows x 23 columns]"
      ]
     },
     "execution_count": 142,
     "metadata": {},
     "output_type": "execute_result"
    }
   ],
   "source": [
    "df1.corr()"
   ]
  },
  {
   "cell_type": "code",
   "execution_count": 144,
   "metadata": {},
   "outputs": [
    {
     "data": {
      "text/plain": [
       "array([[1.        , 0.24820761, 0.07995858, ..., 0.07591723, 0.88640322,\n",
       "        0.99836725],\n",
       "       [0.24820761, 1.        , 0.97710528, ..., 0.96932873, 0.54706834,\n",
       "        0.23060429],\n",
       "       [0.07995858, 0.97710528, 1.        , ..., 0.95355659, 0.44530627,\n",
       "        0.06916747],\n",
       "       ...,\n",
       "       [0.07591723, 0.96932873, 0.95355659, ..., 1.        , 0.34418199,\n",
       "        0.04934382],\n",
       "       [0.88640322, 0.54706834, 0.44530627, ..., 0.34418199, 1.        ,\n",
       "        0.89598458],\n",
       "       [0.99836725, 0.23060429, 0.06916747, ..., 0.04934382, 0.89598458,\n",
       "        1.        ]])"
      ]
     },
     "execution_count": 144,
     "metadata": {},
     "output_type": "execute_result"
    }
   ],
   "source": [
    "np.corrcoef(df1)"
   ]
  },
  {
   "cell_type": "code",
   "execution_count": null,
   "metadata": {},
   "outputs": [],
   "source": []
  },
  {
   "cell_type": "code",
   "execution_count": null,
   "metadata": {},
   "outputs": [],
   "source": []
  },
  {
   "cell_type": "code",
   "execution_count": null,
   "metadata": {},
   "outputs": [],
   "source": []
  },
  {
   "cell_type": "code",
   "execution_count": null,
   "metadata": {},
   "outputs": [],
   "source": []
  }
 ],
 "metadata": {
  "kernelspec": {
   "display_name": "Python 3",
   "language": "python",
   "name": "python3"
  },
  "language_info": {
   "codemirror_mode": {
    "name": "ipython",
    "version": 3
   },
   "file_extension": ".py",
   "mimetype": "text/x-python",
   "name": "python",
   "nbconvert_exporter": "python",
   "pygments_lexer": "ipython3",
   "version": "3.7.4"
  }
 },
 "nbformat": 4,
 "nbformat_minor": 2
}

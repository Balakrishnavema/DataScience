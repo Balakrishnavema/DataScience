{
 "cells": [
  {
   "cell_type": "code",
   "execution_count": 1,
   "metadata": {},
   "outputs": [],
   "source": [
    "#Probability: chance of occuring or happening of a event called as probability value "
   ]
  },
  {
   "cell_type": "code",
   "execution_count": 3,
   "metadata": {},
   "outputs": [],
   "source": [
    "# Event: any collection of results or outcome from some procedure \n",
    "#simpley we can tell as (Any results and ourcome of a process or procedure is called as event.)"
   ]
  },
  {
   "cell_type": "code",
   "execution_count": 4,
   "metadata": {},
   "outputs": [],
   "source": [
    "#Event ate two types 1. simple event and 2.Rare events "
   ]
  },
  {
   "cell_type": "code",
   "execution_count": 5,
   "metadata": {},
   "outputs": [],
   "source": [
    "#1.Simple event: any outcome or event that cannot be broken down into simple components \n",
    "#for example: head or tile, here we have onlt two possiblities so it is the simple event,\n",
    "#playing is a cricket  as 3 types of possiblities win, loose or draw\n",
    "#like elections is a event, so win or loose that we can called as simple event "
   ]
  },
  {
   "cell_type": "code",
   "execution_count": 9,
   "metadata": {},
   "outputs": [],
   "source": [
    "#2.Rare Event:\n",
    "#if, under a given assumption, the probability of a praticular obsereved event is extremely small, we conclude that the assumption is probably not correct.\n",
    "#rare evnet, it could be happen every rarely , like won the lotory\n"
   ]
  },
  {
   "cell_type": "code",
   "execution_count": 10,
   "metadata": {},
   "outputs": [],
   "source": [
    "#Interview question: they might ask one question. may know what is the event rate of defulaters:\n",
    "#ANS: we have to tell the perecntage of defaulter "
   ]
  },
  {
   "cell_type": "code",
   "execution_count": 11,
   "metadata": {},
   "outputs": [],
   "source": [
    "#if any event rate is less than 6%, that is called as inbalance data"
   ]
  },
  {
   "cell_type": "code",
   "execution_count": 12,
   "metadata": {},
   "outputs": [],
   "source": [
    "#if event rate is >30% randaonnevent data"
   ]
  },
  {
   "cell_type": "code",
   "execution_count": 13,
   "metadata": {},
   "outputs": [],
   "source": [
    "#collection of simple event as called as sample space "
   ]
  },
  {
   "cell_type": "code",
   "execution_count": 14,
   "metadata": {},
   "outputs": [],
   "source": [
    "#Notation\n",
    "\n",
    "#P- denotes a probability\n",
    "#A,B -- denote specific event \n",
    "#P(A)-- denotes the probability of event A occurring "
   ]
  },
  {
   "cell_type": "code",
   "execution_count": 16,
   "metadata": {},
   "outputs": [],
   "source": [
    "#Probability : 1. relative ferquency approch: \n",
    "#2. clasic frequnecy approch\n",
    "#3. subjective approch "
   ]
  },
  {
   "cell_type": "code",
   "execution_count": 17,
   "metadata": {},
   "outputs": [],
   "source": [
    "#Relative exp:\n",
    "# Gender males - 50, female - 100, others->50 Relative ferquncey/ male- 50/200, female- 100/200 & others- 50/200\n",
    "\n",
    "#P(A) = number of times A occurred/number of time trail was repeated "
   ]
  },
  {
   "cell_type": "code",
   "execution_count": 18,
   "metadata": {},
   "outputs": [],
   "source": [
    "#2- Classical approach: if a procedure has n different simple event, each with an equal chance of occuring , and even A can occuer in s of these ways, then \n"
   ]
  },
  {
   "cell_type": "code",
   "execution_count": 19,
   "metadata": {},
   "outputs": [],
   "source": [
    "#3. subjective probabilities(approch):P(A), the probability of A, is found by simply guessing or estimating it's value based on knowledge of the relevant circumstance"
   ]
  },
  {
   "cell_type": "code",
   "execution_count": 21,
   "metadata": {},
   "outputs": [
    {
     "data": {
      "text/plain": [
       "1.375725154490377e-06"
      ]
     },
     "execution_count": 21,
     "metadata": {},
     "output_type": "execute_result"
    }
   ],
   "source": [
    "377/274037295"
   ]
  },
  {
   "cell_type": "code",
   "execution_count": 22,
   "metadata": {},
   "outputs": [],
   "source": [
    "#Probability limits: the probability of an impossible event is 0.\n",
    "#the probablility of event that is cretain to occut is 1.\n",
    "#0<=P(A)<=1 (0: immpossible to occure 1: is pssoible occure)"
   ]
  },
  {
   "cell_type": "code",
   "execution_count": null,
   "metadata": {},
   "outputs": [],
   "source": [
    "#Possible values of probabilities: \n",
    "#likely chances to 0.75 and50-50 chnces and  unlikely 0.25 and unusal(0.05 or less) and impossible 0\n"
   ]
  },
  {
   "cell_type": "code",
   "execution_count": 23,
   "metadata": {},
   "outputs": [],
   "source": [
    "#Complementary evnets: p(A(bar]))- probability of not occurence event \n",
    "#The complement of event A, denoted by A(bar), consists of all outcomes in which eventy A deosn't occur"
   ]
  },
  {
   "cell_type": "code",
   "execution_count": 24,
   "metadata": {},
   "outputs": [],
   "source": [
    "import numpy as np"
   ]
  },
  {
   "cell_type": "code",
   "execution_count": 26,
   "metadata": {},
   "outputs": [
    {
     "data": {
      "text/plain": [
       "array([[0, 0],\n",
       "       [0, 0],\n",
       "       [0, 0]])"
      ]
     },
     "execution_count": 26,
     "metadata": {},
     "output_type": "execute_result"
    }
   ],
   "source": [
    "arr = np.zeros((3,2), dtype = int)\n",
    "arr"
   ]
  },
  {
   "cell_type": "code",
   "execution_count": 28,
   "metadata": {},
   "outputs": [
    {
     "data": {
      "text/plain": [
       "array([[1642960752,        411],\n",
       "       [         0,          0],\n",
       "       [    131074, 1700929651]])"
      ]
     },
     "execution_count": 28,
     "metadata": {},
     "output_type": "execute_result"
    }
   ],
   "source": [
    "arr1 = np.empty((3,2), dtype=int)\n",
    "arr1"
   ]
  },
  {
   "cell_type": "code",
   "execution_count": null,
   "metadata": {},
   "outputs": [],
   "source": []
  }
 ],
 "metadata": {
  "kernelspec": {
   "display_name": "Python 3",
   "language": "python",
   "name": "python3"
  },
  "language_info": {
   "codemirror_mode": {
    "name": "ipython",
    "version": 3
   },
   "file_extension": ".py",
   "mimetype": "text/x-python",
   "name": "python",
   "nbconvert_exporter": "python",
   "pygments_lexer": "ipython3",
   "version": "3.7.4"
  }
 },
 "nbformat": 4,
 "nbformat_minor": 2
}

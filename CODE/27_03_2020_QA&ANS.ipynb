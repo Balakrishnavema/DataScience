{
 "cells": [
  {
   "cell_type": "code",
   "execution_count": 1,
   "metadata": {},
   "outputs": [],
   "source": [
    "import numpy as np\n",
    "import pandas as pd"
   ]
  },
  {
   "cell_type": "code",
   "execution_count": 4,
   "metadata": {},
   "outputs": [
    {
     "data": {
      "text/plain": [
       "'87'"
      ]
     },
     "execution_count": 4,
     "metadata": {},
     "output_type": "execute_result"
    }
   ],
   "source": [
    "#How will you extract the number present in the string 's' (given below) and check whether it is greater than 50?\n",
    "s = \"Victory87\"\n",
    "data = s[-2:]\n",
    "data"
   ]
  },
  {
   "cell_type": "code",
   "execution_count": 7,
   "metadata": {},
   "outputs": [
    {
     "data": {
      "text/plain": [
       "True"
      ]
     },
     "execution_count": 7,
     "metadata": {},
     "output_type": "execute_result"
    }
   ],
   "source": [
    "data1 = data>\"50\"\n",
    "data1"
   ]
  },
  {
   "cell_type": "code",
   "execution_count": 8,
   "metadata": {},
   "outputs": [
    {
     "data": {
      "text/plain": [
       "{'company': 'analyticsvidhya', 'location': 'India'}"
      ]
     },
     "execution_count": 8,
     "metadata": {},
     "output_type": "execute_result"
    }
   ],
   "source": [
    "#Consider a dictionary named 'document' given by:\n",
    "#document = {\"company\": \"analyticsvidhya\", \"location\" : \"India\"} \n",
    "#How can you add an element \"company_size\" equals 30 to the dictionary?\n",
    "document = {\"company\": \"analyticsvidhya\", \"location\" : \"India\"}\n",
    "document"
   ]
  },
  {
   "cell_type": "code",
   "execution_count": 16,
   "metadata": {},
   "outputs": [
    {
     "data": {
      "text/plain": [
       "{'company': 'analyticsvidhya', 'location': 'India', 'company_size': 30}"
      ]
     },
     "execution_count": 16,
     "metadata": {},
     "output_type": "execute_result"
    }
   ],
   "source": [
    "document.update({\"company_size\":30})\n",
    "document"
   ]
  },
  {
   "cell_type": "code",
   "execution_count": 17,
   "metadata": {},
   "outputs": [],
   "source": [
    "#How can you check if a key name \"company\" exists in the document?\n",
    "#not sure to find the only key type in dict"
   ]
  },
  {
   "cell_type": "code",
   "execution_count": 18,
   "metadata": {},
   "outputs": [],
   "source": [
    "#document = {\"company\": \"analyticsvidhya\", \"location\" : \"India\", \"company_size\" : 30}\n",
    "\n",
    "#How can you add a list of years of operation 2016, 2017, and 2018?\n",
    "document.update({\"years_of_operation\" : [2016, 2017, 2018]})"
   ]
  },
  {
   "cell_type": "code",
   "execution_count": 19,
   "metadata": {},
   "outputs": [
    {
     "data": {
      "text/plain": [
       "{'company': 'analyticsvidhya',\n",
       " 'location': 'India',\n",
       " 'company_size': 30,\n",
       " 'years_of_operation': [2016, 2017, 2018]}"
      ]
     },
     "execution_count": 19,
     "metadata": {},
     "output_type": "execute_result"
    }
   ],
   "source": [
    "document"
   ]
  },
  {
   "cell_type": "code",
   "execution_count": 20,
   "metadata": {},
   "outputs": [],
   "source": [
    "#How can you remove the key-value pair \"company_size\" : 30 ?\n",
    "del document['company_size']\n",
    "# I know that we can use del function for remove but i forgot how to write syntax format so this one I searched in google"
   ]
  },
  {
   "cell_type": "code",
   "execution_count": 21,
   "metadata": {},
   "outputs": [
    {
     "data": {
      "text/plain": [
       "{'company': 'analyticsvidhya',\n",
       " 'location': 'India',\n",
       " 'years_of_operation': [2016, 2017, 2018]}"
      ]
     },
     "execution_count": 21,
     "metadata": {},
     "output_type": "execute_result"
    }
   ],
   "source": [
    "document"
   ]
  },
  {
   "cell_type": "code",
   "execution_count": 22,
   "metadata": {},
   "outputs": [],
   "source": [
    "#What is the expected output of the following snippet:\n",
    "#list1 = ['a', 'b', 'c']\n",
    "#list2 = ['d', 'e']\n",
    "#list1.extend(list2)\n",
    "#print (len(list1) + len(list2))\n",
    "#ANS:7"
   ]
  },
  {
   "cell_type": "code",
   "execution_count": 23,
   "metadata": {},
   "outputs": [],
   "source": [
    "#y = 0 \n",
    "#for x in [1,2,3,4,5]:\n",
    "#     y += x  y = 0+1, 1+2, 3+3, 6+4, 10+5(1, 3, 6, 10,15)\n",
    "#print (y)\n",
    "#15"
   ]
  },
  {
   "cell_type": "code",
   "execution_count": 24,
   "metadata": {},
   "outputs": [],
   "source": [
    "#def power(a, n):\n",
    "#    return a**n\n",
    "#def string_length(mystring):\n",
    "#    return len(mystring)\n",
    "\n",
    "#print(power(string_length(\"Hello\"), 3))\n",
    "#ANS:125"
   ]
  },
  {
   "cell_type": "code",
   "execution_count": 25,
   "metadata": {},
   "outputs": [],
   "source": [
    "#What is wrong with the following function:\n",
    "\n",
    "#def _a_d_d_i_t_i_o_n (_a, _n)\n",
    "#    return (_a + _n)\n",
    "#colon symbol(:) "
   ]
  },
  {
   "cell_type": "code",
   "execution_count": 26,
   "metadata": {},
   "outputs": [],
   "source": [
    "#What would be the value of the variable 'a' after excuting the following code:\n",
    "#def string_len(s):\n",
    "#    length = 0        \n",
    "#for i in s:\n",
    "#        length+=1 \n",
    "#    return length    \n",
    "#a = string_len(\"Python is an open source language.\")\n",
    "#ANS: \"Python is an open source language.\"+1"
   ]
  },
  {
   "cell_type": "code",
   "execution_count": 27,
   "metadata": {},
   "outputs": [],
   "source": [
    "#What is the correct syntax to read a file named “data.txt” in python?\n",
    "#pd.read_csv(r“data.txt” )"
   ]
  },
  {
   "cell_type": "code",
   "execution_count": 28,
   "metadata": {},
   "outputs": [],
   "source": [
    "#What is the expected output of following:\n",
    "\n",
    "#myfile = open(\"data.txt\").read()\n",
    "#print(type(myfile))\n",
    "#might be it will show the file type like object , int "
   ]
  },
  {
   "cell_type": "code",
   "execution_count": null,
   "metadata": {},
   "outputs": [],
   "source": []
  },
  {
   "cell_type": "code",
   "execution_count": null,
   "metadata": {},
   "outputs": [],
   "source": []
  }
 ],
 "metadata": {
  "kernelspec": {
   "display_name": "Python 3",
   "language": "python",
   "name": "python3"
  },
  "language_info": {
   "codemirror_mode": {
    "name": "ipython",
    "version": 3
   },
   "file_extension": ".py",
   "mimetype": "text/x-python",
   "name": "python",
   "nbconvert_exporter": "python",
   "pygments_lexer": "ipython3",
   "version": "3.7.4"
  }
 },
 "nbformat": 4,
 "nbformat_minor": 2
}

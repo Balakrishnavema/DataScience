{
 "cells": [
  {
   "cell_type": "markdown",
   "metadata": {},
   "source": [
    "# Hypothesis testing\n",
    "hypothesis testing is statistical technich which is used to compare the sample from the population data or to compare the two data sets \n",
    "\n",
    "To asses the population data with the help of sample \n",
    "\n",
    "1.it is measuring and examing the a random sample of the popupaltion beeing analyze.\n",
    "\n",
    "SImple defination of hypothesis testing is is a assemtion about population data->it may be true or may not be true\n",
    "\n",
    "it refres a process to check the assumption wether we need to accept or reject the test \n",
    "there are two type of hypothesis testing :\n",
    "1. Null hypothesis: Ho(zero):the hypothesis the sample observations purely from choance\n",
    "\n",
    "2. Alternative hypothesis:h1 or Ha: this hypothesis that sample are  influanced by sample random\n",
    "Note: the null hypothesis is the one to be tested and alternative everything \n",
    "\n",
    "\n",
    " \n",
    "Null hypothesis will work for NUmerical veriable only, if we want to check Anova method \n",
    "\n",
    "when we compare the  numerical variables wu=ith catagerical variable Yes or NO\n",
    "\n",
    "To reject or accept the null hypothyesis, we have to check the \"Pvalue\" based on that we can get it whther we can accept the test or reject it\n",
    "\n",
    "\n",
    "P-Value: Pvale is probability value whihc is associated with critical value \n",
    "\n",
    "Pvalue defination(inerview): P-Value is probability of obtaining the results from extreme as the observated results "
   ]
  },
  {
   "cell_type": "code",
   "execution_count": 1,
   "metadata": {},
   "outputs": [],
   "source": [
    "import numpy as np\n",
    "import pandas as pd"
   ]
  },
  {
   "cell_type": "code",
   "execution_count": 4,
   "metadata": {},
   "outputs": [
    {
     "data": {
      "text/plain": [
       "(14999, 10)"
      ]
     },
     "execution_count": 4,
     "metadata": {},
     "output_type": "execute_result"
    }
   ],
   "source": [
    "hr = pd.read_csv(r\"C:\\Users\\Balakrishna_Vema\\Documents\\Data science\\Data sets\\HR_comma_sep.csv\")\n",
    "hr.shape"
   ]
  },
  {
   "cell_type": "code",
   "execution_count": 5,
   "metadata": {},
   "outputs": [
    {
     "data": {
      "text/plain": [
       "(11991, 10)"
      ]
     },
     "execution_count": 5,
     "metadata": {},
     "output_type": "execute_result"
    }
   ],
   "source": [
    "hr=hr.drop_duplicates(keep=\"last\")\n",
    "hr.shape"
   ]
  },
  {
   "cell_type": "code",
   "execution_count": 6,
   "metadata": {},
   "outputs": [
    {
     "data": {
      "text/plain": [
       "Index(['satisfaction_level', 'last_evaluation', 'number_project',\n",
       "       'average_montly_hours', 'time_spend_company', 'Work_accident', 'left',\n",
       "       'promotion_last_5years', 'Departments ', 'salary'],\n",
       "      dtype='object')"
      ]
     },
     "execution_count": 6,
     "metadata": {},
     "output_type": "execute_result"
    }
   ],
   "source": [
    "hr.columns"
   ]
  },
  {
   "cell_type": "code",
   "execution_count": 7,
   "metadata": {},
   "outputs": [
    {
     "data": {
      "text/plain": [
       "0    10000\n",
       "1     1991\n",
       "Name: left, dtype: int64"
      ]
     },
     "execution_count": 7,
     "metadata": {},
     "output_type": "execute_result"
    }
   ],
   "source": [
    "hr[\"left\"].value_counts()"
   ]
  },
  {
   "cell_type": "code",
   "execution_count": 9,
   "metadata": {},
   "outputs": [
    {
     "data": {
      "text/plain": [
       "-0.5387016649389444"
      ]
     },
     "execution_count": 9,
     "metadata": {},
     "output_type": "execute_result"
    }
   ],
   "source": [
    "hr['satisfaction_level'].skew()"
   ]
  },
  {
   "cell_type": "markdown",
   "metadata": {},
   "source": [
    "# hypothesis testing \n",
    "H0: The Avarage satisfaction of chrun customer is same as the avarage satisfaction of non churn customer \n",
    "H1: the avarage satisfaction of chrun customer is not same as the avarage satisfaction of non chunr customer"
   ]
  },
  {
   "cell_type": "code",
   "execution_count": 11,
   "metadata": {},
   "outputs": [
    {
     "data": {
      "text/plain": [
       "0.6673649999999947"
      ]
     },
     "execution_count": 11,
     "metadata": {},
     "output_type": "execute_result"
    }
   ],
   "source": [
    "hr[hr[\"left\"]==0]['satisfaction_level'].mean()"
   ]
  },
  {
   "cell_type": "code",
   "execution_count": 12,
   "metadata": {},
   "outputs": [
    {
     "data": {
      "text/plain": [
       "Ttest_indResult(statistic=40.98502015841721, pvalue=0.0)"
      ]
     },
     "execution_count": 12,
     "metadata": {},
     "output_type": "execute_result"
    }
   ],
   "source": [
    "from scipy.stats import ttest_ind\n",
    "ttest_ind(hr[hr[\"left\"]==0][\"satisfaction_level\"],hr[hr['left']==1][\"satisfaction_level\"]) #reject the null hypotheiss \n",
    "#because the P value is less tha 0.05 (p<=0.05)"
   ]
  },
  {
   "cell_type": "code",
   "execution_count": 13,
   "metadata": {},
   "outputs": [
    {
     "data": {
      "text/plain": [
       "Ttest_indResult(statistic=-1.4804874504607801, pvalue=0.13876948482811344)"
      ]
     },
     "execution_count": 13,
     "metadata": {},
     "output_type": "execute_result"
    }
   ],
   "source": [
    "ttest_ind(hr[hr[\"left\"]==0]['last_evaluation'],hr[hr['left']==1]['last_evaluation'])\n",
    "#Accept the null hypotheisis test because the P value is grater than 0.05 "
   ]
  },
  {
   "cell_type": "code",
   "execution_count": 14,
   "metadata": {},
   "outputs": [],
   "source": [
    "import matplotlib.pyplot as plt\n",
    "import seaborn as sns"
   ]
  },
  {
   "cell_type": "code",
   "execution_count": 18,
   "metadata": {},
   "outputs": [
    {
     "data": {
      "text/plain": [
       "<matplotlib.axes._subplots.AxesSubplot at 0x1eaeed23288>"
      ]
     },
     "execution_count": 18,
     "metadata": {},
     "output_type": "execute_result"
    },
    {
     "data": {
      "image/png": "[encoded data removed]",
      "text/plain": [
       "<Figure size 432x288 with 1 Axes>"
      ]
     },
     "metadata": {
      "needs_background": "light"
     },
     "output_type": "display_data"
    }
   ],
   "source": [
    "sns.distplot(hr[hr[\"left\"]==0]['last_evaluation'], color=\"b\")\n",
    "sns.distplot(hr[hr[\"left\"]==1]['last_evaluation'], color=\"r\")"
   ]
  },
  {
   "cell_type": "code",
   "execution_count": 19,
   "metadata": {},
   "outputs": [
    {
     "data": {
      "text/plain": [
       "<matplotlib.axes._subplots.AxesSubplot at 0x1eaef4ce448>"
      ]
     },
     "execution_count": 19,
     "metadata": {},
     "output_type": "execute_result"
    },
    {
     "data": {
      "image/png": "[encoded data removed]",
      "text/plain": [
       "<Figure size 432x288 with 1 Axes>"
      ]
     },
     "metadata": {
      "needs_background": "light"
     },
     "output_type": "display_data"
    }
   ],
   "source": [
    "sns.distplot(hr[hr[\"left\"]==0]['satisfaction_level'], color=\"b\")\n",
    "sns.distplot(hr[hr[\"left\"]==1]['satisfaction_level'], color=\"r\")"
   ]
  },
  {
   "cell_type": "code",
   "execution_count": 20,
   "metadata": {},
   "outputs": [],
   "source": [
    "def hyp_test(data, dependent_col):\n",
    "    col = list(data.columns)\n",
    "    for i in col:\n",
    "        if data[i].dtypes != \"object\":\n",
    "            if data[i].nunique()>5:\n",
    "                from scipy.stats import ttest_ind\n",
    "                abc=ttest_ind(data[data[dependent_col]==0][i],data[data[dependent_col]==1][i])\n",
    "                print(abc)"
   ]
  },
  {
   "cell_type": "code",
   "execution_count": 21,
   "metadata": {},
   "outputs": [
    {
     "name": "stdout",
     "output_type": "stream",
     "text": [
      "Ttest_indResult(statistic=40.98502015841721, pvalue=0.0)\n",
      "Ttest_indResult(statistic=-1.4804874504607801, pvalue=0.13876948482811344)\n",
      "Ttest_indResult(statistic=-3.3880208345839424, pvalue=0.0007062542110999653)\n",
      "Ttest_indResult(statistic=-7.7286004860688795, pvalue=1.1739390712865618e-14)\n",
      "Ttest_indResult(statistic=-19.266329594172518, pvalue=1.745810653156104e-81)\n"
     ]
    }
   ],
   "source": [
    "hyp_test(hr, dependent_col=\"left\")"
   ]
  },
  {
   "cell_type": "code",
   "execution_count": null,
   "metadata": {},
   "outputs": [],
   "source": []
  }
 ],
 "metadata": {
  "kernelspec": {
   "display_name": "Python 3",
   "language": "python",
   "name": "python3"
  },
  "language_info": {
   "codemirror_mode": {
    "name": "ipython",
    "version": 3
   },
   "file_extension": ".py",
   "mimetype": "text/x-python",
   "name": "python",
   "nbconvert_exporter": "python",
   "pygments_lexer": "ipython3",
   "version": "3.7.4"
  }
 },
 "nbformat": 4,
 "nbformat_minor": 2
}

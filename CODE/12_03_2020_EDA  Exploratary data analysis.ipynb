{
 "cells": [
  {
   "cell_type": "markdown",
   "metadata": {},
   "source": [
    "# EDA: Exploratary data analysis: \n",
    "the main perpose to understand the data as per business requirment and provide the solution/instite to business.\n",
    "EDA has been calsified 3 diffrent types \n",
    "1. Univariante analysis : To understand each variable level analysis we have there type of variables: 1. numerical, 2. catagarical and 3. date variable\n",
    "Numerical data:\n",
    "first: we need to identify the missing values then we have to do numerical summary statistics \n",
    "catagerical\": identfy the missing values \n",
    "              find the frequency of catagerical data.\n",
    "Date variable: Identify the missing values \n",
    "               loan deprtment data will pay key role \n",
    "               lets exp: how many customers are not paying the loan ammount so we have to check the date variable \n",
    "2. Bio-variante analysis :\n",
    "To undesratsnd the depth - Bi(to compare the two variables we are going to use the Bi variables analysis, BI variabled could be (2-numerical)\n",
    "         (2-catagerical)\n",
    "         (1-numerical&1-catagerical)\n",
    "         \n",
    "         ingeneral companies use the bi-variable analysis \n",
    "         \n",
    "\n",
    "3. multi- variante analysis: more than 2 variabled, it could be (3-numerical)\n",
    "                                                                (3-catagerical)\n",
    "                                                                (2-numerical & 1 catagerical)\n",
    "                                                                (2-catagerical & 1-numerical)"
   ]
  },
  {
   "cell_type": "code",
   "execution_count": null,
   "metadata": {},
   "outputs": [],
   "source": []
  }
 ],
 "metadata": {
  "kernelspec": {
   "display_name": "Python 3",
   "language": "python",
   "name": "python3"
  },
  "language_info": {
   "codemirror_mode": {
    "name": "ipython",
    "version": 3
   },
   "file_extension": ".py",
   "mimetype": "text/x-python",
   "name": "python",
   "nbconvert_exporter": "python",
   "pygments_lexer": "ipython3",
   "version": "3.7.4"
  }
 },
 "nbformat": 4,
 "nbformat_minor": 2
}

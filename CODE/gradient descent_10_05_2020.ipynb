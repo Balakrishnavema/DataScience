{
 "cells": [
  {
   "cell_type": "code",
   "execution_count": 59,
   "metadata": {},
   "outputs": [],
   "source": [
    "import numpy as np\n",
    "import pandas as pd\n",
    "import matplotlib.pyplot as plt\n",
    "import seaborn as sns"
   ]
  },
  {
   "cell_type": "code",
   "execution_count": 80,
   "metadata": {},
   "outputs": [],
   "source": [
    "air = pd.read_csv(r\"C:\\Users\\Balakrishna_Vema\\Documents\\Data science\\Data sets\\AirPassengers.csv\")"
   ]
  },
  {
   "cell_type": "code",
   "execution_count": 81,
   "metadata": {},
   "outputs": [],
   "source": [
    "air1 = air._get_numeric_data()"
   ]
  },
  {
   "cell_type": "code",
   "execution_count": 82,
   "metadata": {},
   "outputs": [
    {
     "data": {
      "text/html": [
       "<div>\n",
       "<style scoped>\n",
       "    .dataframe tbody tr th:only-of-type {\n",
       "        vertical-align: middle;\n",
       "    }\n",
       "\n",
       "    .dataframe tbody tr th {\n",
       "        vertical-align: top;\n",
       "    }\n",
       "\n",
       "    .dataframe thead th {\n",
       "        text-align: right;\n",
       "    }\n",
       "</style>\n",
       "<table border=\"1\" class=\"dataframe\">\n",
       "  <thead>\n",
       "    <tr style=\"text-align: right;\">\n",
       "      <th></th>\n",
       "      <th>Week_num</th>\n",
       "      <th>Passengers</th>\n",
       "      <th>Promotion_Budget</th>\n",
       "      <th>Service_Quality_Score</th>\n",
       "      <th>Inter_metro_flight_ratio</th>\n",
       "    </tr>\n",
       "  </thead>\n",
       "  <tbody>\n",
       "    <tr>\n",
       "      <td>0</td>\n",
       "      <td>1</td>\n",
       "      <td>37824</td>\n",
       "      <td>517356</td>\n",
       "      <td>4.00000</td>\n",
       "      <td>0.70</td>\n",
       "    </tr>\n",
       "    <tr>\n",
       "      <td>1</td>\n",
       "      <td>2</td>\n",
       "      <td>43936</td>\n",
       "      <td>646086</td>\n",
       "      <td>2.67466</td>\n",
       "      <td>0.80</td>\n",
       "    </tr>\n",
       "    <tr>\n",
       "      <td>2</td>\n",
       "      <td>3</td>\n",
       "      <td>42896</td>\n",
       "      <td>638330</td>\n",
       "      <td>3.29473</td>\n",
       "      <td>0.90</td>\n",
       "    </tr>\n",
       "    <tr>\n",
       "      <td>3</td>\n",
       "      <td>4</td>\n",
       "      <td>35792</td>\n",
       "      <td>506492</td>\n",
       "      <td>3.85684</td>\n",
       "      <td>0.40</td>\n",
       "    </tr>\n",
       "    <tr>\n",
       "      <td>4</td>\n",
       "      <td>5</td>\n",
       "      <td>38624</td>\n",
       "      <td>609658</td>\n",
       "      <td>3.90757</td>\n",
       "      <td>0.87</td>\n",
       "    </tr>\n",
       "  </tbody>\n",
       "</table>\n",
       "</div>"
      ],
      "text/plain": [
       "   Week_num  Passengers  Promotion_Budget  Service_Quality_Score  \\\n",
       "0         1       37824            517356                4.00000   \n",
       "1         2       43936            646086                2.67466   \n",
       "2         3       42896            638330                3.29473   \n",
       "3         4       35792            506492                3.85684   \n",
       "4         5       38624            609658                3.90757   \n",
       "\n",
       "   Inter_metro_flight_ratio  \n",
       "0                      0.70  \n",
       "1                      0.80  \n",
       "2                      0.90  \n",
       "3                      0.40  \n",
       "4                      0.87  "
      ]
     },
     "execution_count": 82,
     "metadata": {},
     "output_type": "execute_result"
    }
   ],
   "source": [
    "air1.head()"
   ]
  },
  {
   "cell_type": "code",
   "execution_count": 83,
   "metadata": {},
   "outputs": [],
   "source": [
    "air1.drop(\"Week_num\", axis=1, inplace=True)"
   ]
  },
  {
   "cell_type": "code",
   "execution_count": 84,
   "metadata": {},
   "outputs": [
    {
     "data": {
      "text/html": [
       "<div>\n",
       "<style scoped>\n",
       "    .dataframe tbody tr th:only-of-type {\n",
       "        vertical-align: middle;\n",
       "    }\n",
       "\n",
       "    .dataframe tbody tr th {\n",
       "        vertical-align: top;\n",
       "    }\n",
       "\n",
       "    .dataframe thead th {\n",
       "        text-align: right;\n",
       "    }\n",
       "</style>\n",
       "<table border=\"1\" class=\"dataframe\">\n",
       "  <thead>\n",
       "    <tr style=\"text-align: right;\">\n",
       "      <th></th>\n",
       "      <th>Passengers</th>\n",
       "      <th>Promotion_Budget</th>\n",
       "      <th>Service_Quality_Score</th>\n",
       "      <th>Inter_metro_flight_ratio</th>\n",
       "    </tr>\n",
       "  </thead>\n",
       "  <tbody>\n",
       "    <tr>\n",
       "      <td>0</td>\n",
       "      <td>37824</td>\n",
       "      <td>517356</td>\n",
       "      <td>4.00000</td>\n",
       "      <td>0.70</td>\n",
       "    </tr>\n",
       "    <tr>\n",
       "      <td>1</td>\n",
       "      <td>43936</td>\n",
       "      <td>646086</td>\n",
       "      <td>2.67466</td>\n",
       "      <td>0.80</td>\n",
       "    </tr>\n",
       "    <tr>\n",
       "      <td>2</td>\n",
       "      <td>42896</td>\n",
       "      <td>638330</td>\n",
       "      <td>3.29473</td>\n",
       "      <td>0.90</td>\n",
       "    </tr>\n",
       "    <tr>\n",
       "      <td>3</td>\n",
       "      <td>35792</td>\n",
       "      <td>506492</td>\n",
       "      <td>3.85684</td>\n",
       "      <td>0.40</td>\n",
       "    </tr>\n",
       "    <tr>\n",
       "      <td>4</td>\n",
       "      <td>38624</td>\n",
       "      <td>609658</td>\n",
       "      <td>3.90757</td>\n",
       "      <td>0.87</td>\n",
       "    </tr>\n",
       "    <tr>\n",
       "      <td>...</td>\n",
       "      <td>...</td>\n",
       "      <td>...</td>\n",
       "      <td>...</td>\n",
       "      <td>...</td>\n",
       "    </tr>\n",
       "    <tr>\n",
       "      <td>75</td>\n",
       "      <td>66934</td>\n",
       "      <td>927696</td>\n",
       "      <td>1.07138</td>\n",
       "      <td>0.84</td>\n",
       "    </tr>\n",
       "    <tr>\n",
       "      <td>76</td>\n",
       "      <td>81228</td>\n",
       "      <td>1108254</td>\n",
       "      <td>0.85536</td>\n",
       "      <td>0.90</td>\n",
       "    </tr>\n",
       "    <tr>\n",
       "      <td>77</td>\n",
       "      <td>43288</td>\n",
       "      <td>638162</td>\n",
       "      <td>3.08191</td>\n",
       "      <td>0.62</td>\n",
       "    </tr>\n",
       "    <tr>\n",
       "      <td>78</td>\n",
       "      <td>43834</td>\n",
       "      <td>636636</td>\n",
       "      <td>2.75382</td>\n",
       "      <td>0.79</td>\n",
       "    </tr>\n",
       "    <tr>\n",
       "      <td>79</td>\n",
       "      <td>40852</td>\n",
       "      <td>575008</td>\n",
       "      <td>3.52768</td>\n",
       "      <td>0.54</td>\n",
       "    </tr>\n",
       "  </tbody>\n",
       "</table>\n",
       "<p>80 rows × 4 columns</p>\n",
       "</div>"
      ],
      "text/plain": [
       "    Passengers  Promotion_Budget  Service_Quality_Score  \\\n",
       "0        37824            517356                4.00000   \n",
       "1        43936            646086                2.67466   \n",
       "2        42896            638330                3.29473   \n",
       "3        35792            506492                3.85684   \n",
       "4        38624            609658                3.90757   \n",
       "..         ...               ...                    ...   \n",
       "75       66934            927696                1.07138   \n",
       "76       81228           1108254                0.85536   \n",
       "77       43288            638162                3.08191   \n",
       "78       43834            636636                2.75382   \n",
       "79       40852            575008                3.52768   \n",
       "\n",
       "    Inter_metro_flight_ratio  \n",
       "0                       0.70  \n",
       "1                       0.80  \n",
       "2                       0.90  \n",
       "3                       0.40  \n",
       "4                       0.87  \n",
       "..                       ...  \n",
       "75                      0.84  \n",
       "76                      0.90  \n",
       "77                      0.62  \n",
       "78                      0.79  \n",
       "79                      0.54  \n",
       "\n",
       "[80 rows x 4 columns]"
      ]
     },
     "execution_count": 84,
     "metadata": {},
     "output_type": "execute_result"
    }
   ],
   "source": [
    "air1"
   ]
  },
  {
   "cell_type": "code",
   "execution_count": 86,
   "metadata": {},
   "outputs": [
    {
     "name": "stdout",
     "output_type": "stream",
     "text": [
      "(64, 4) (16, 4)\n"
     ]
    }
   ],
   "source": [
    "from sklearn.model_selection import train_test_split\n",
    "train, test = train_test_split(air1, test_size=0.2, random_state=0)\n",
    "print(train.shape, test.shape)"
   ]
  },
  {
   "cell_type": "code",
   "execution_count": 87,
   "metadata": {},
   "outputs": [
    {
     "data": {
      "text/html": [
       "<table class=\"simpletable\">\n",
       "<caption>OLS Regression Results</caption>\n",
       "<tr>\n",
       "  <th>Dep. Variable:</th>       <td>Passengers</td>    <th>  R-squared:         </th> <td>   0.943</td>\n",
       "</tr>\n",
       "<tr>\n",
       "  <th>Model:</th>                   <td>OLS</td>       <th>  Adj. R-squared:    </th> <td>   0.940</td>\n",
       "</tr>\n",
       "<tr>\n",
       "  <th>Method:</th>             <td>Least Squares</td>  <th>  F-statistic:       </th> <td>   330.9</td>\n",
       "</tr>\n",
       "<tr>\n",
       "  <th>Date:</th>             <td>Sun, 10 May 2020</td> <th>  Prob (F-statistic):</th> <td>2.87e-37</td>\n",
       "</tr>\n",
       "<tr>\n",
       "  <th>Time:</th>                 <td>04:46:19</td>     <th>  Log-Likelihood:    </th> <td> -587.63</td>\n",
       "</tr>\n",
       "<tr>\n",
       "  <th>No. Observations:</th>      <td>    64</td>      <th>  AIC:               </th> <td>   1183.</td>\n",
       "</tr>\n",
       "<tr>\n",
       "  <th>Df Residuals:</th>          <td>    60</td>      <th>  BIC:               </th> <td>   1192.</td>\n",
       "</tr>\n",
       "<tr>\n",
       "  <th>Df Model:</th>              <td>     3</td>      <th>                     </th>     <td> </td>   \n",
       "</tr>\n",
       "<tr>\n",
       "  <th>Covariance Type:</th>      <td>nonrobust</td>    <th>                     </th>     <td> </td>   \n",
       "</tr>\n",
       "</table>\n",
       "<table class=\"simpletable\">\n",
       "<tr>\n",
       "              <td></td>                <th>coef</th>     <th>std err</th>      <th>t</th>      <th>P>|t|</th>  <th>[0.025</th>    <th>0.975]</th>  \n",
       "</tr>\n",
       "<tr>\n",
       "  <th>Intercept</th>                <td> 2.106e+04</td> <td> 3705.814</td> <td>    5.682</td> <td> 0.000</td> <td> 1.36e+04</td> <td> 2.85e+04</td>\n",
       "</tr>\n",
       "<tr>\n",
       "  <th>Promotion_Budget</th>         <td>    0.0518</td> <td>    0.004</td> <td>   13.333</td> <td> 0.000</td> <td>    0.044</td> <td>    0.060</td>\n",
       "</tr>\n",
       "<tr>\n",
       "  <th>Service_Quality_Score</th>    <td>-2977.5814</td> <td>  549.370</td> <td>   -5.420</td> <td> 0.000</td> <td>-4076.484</td> <td>-1878.679</td>\n",
       "</tr>\n",
       "<tr>\n",
       "  <th>Inter_metro_flight_ratio</th> <td> -751.0003</td> <td> 2221.111</td> <td>   -0.338</td> <td> 0.736</td> <td>-5193.884</td> <td> 3691.883</td>\n",
       "</tr>\n",
       "</table>\n",
       "<table class=\"simpletable\">\n",
       "<tr>\n",
       "  <th>Omnibus:</th>       <td> 1.223</td> <th>  Durbin-Watson:     </th> <td>   1.944</td>\n",
       "</tr>\n",
       "<tr>\n",
       "  <th>Prob(Omnibus):</th> <td> 0.543</td> <th>  Jarque-Bera (JB):  </th> <td>   1.016</td>\n",
       "</tr>\n",
       "<tr>\n",
       "  <th>Skew:</th>          <td>-0.038</td> <th>  Prob(JB):          </th> <td>   0.602</td>\n",
       "</tr>\n",
       "<tr>\n",
       "  <th>Kurtosis:</th>      <td> 2.387</td> <th>  Cond. No.          </th> <td>7.77e+06</td>\n",
       "</tr>\n",
       "</table><br/><br/>Warnings:<br/>[1] Standard Errors assume that the covariance matrix of the errors is correctly specified.<br/>[2] The condition number is large, 7.77e+06. This might indicate that there are<br/>strong multicollinearity or other numerical problems."
      ],
      "text/plain": [
       "<class 'statsmodels.iolib.summary.Summary'>\n",
       "\"\"\"\n",
       "                            OLS Regression Results                            \n",
       "==============================================================================\n",
       "Dep. Variable:             Passengers   R-squared:                       0.943\n",
       "Model:                            OLS   Adj. R-squared:                  0.940\n",
       "Method:                 Least Squares   F-statistic:                     330.9\n",
       "Date:                Sun, 10 May 2020   Prob (F-statistic):           2.87e-37\n",
       "Time:                        04:46:19   Log-Likelihood:                -587.63\n",
       "No. Observations:                  64   AIC:                             1183.\n",
       "Df Residuals:                      60   BIC:                             1192.\n",
       "Df Model:                           3                                         \n",
       "Covariance Type:            nonrobust                                         \n",
       "============================================================================================\n",
       "                               coef    std err          t      P>|t|      [0.025      0.975]\n",
       "--------------------------------------------------------------------------------------------\n",
       "Intercept                 2.106e+04   3705.814      5.682      0.000    1.36e+04    2.85e+04\n",
       "Promotion_Budget             0.0518      0.004     13.333      0.000       0.044       0.060\n",
       "Service_Quality_Score    -2977.5814    549.370     -5.420      0.000   -4076.484   -1878.679\n",
       "Inter_metro_flight_ratio  -751.0003   2221.111     -0.338      0.736   -5193.884    3691.883\n",
       "==============================================================================\n",
       "Omnibus:                        1.223   Durbin-Watson:                   1.944\n",
       "Prob(Omnibus):                  0.543   Jarque-Bera (JB):                1.016\n",
       "Skew:                          -0.038   Prob(JB):                        0.602\n",
       "Kurtosis:                       2.387   Cond. No.                     7.77e+06\n",
       "==============================================================================\n",
       "\n",
       "Warnings:\n",
       "[1] Standard Errors assume that the covariance matrix of the errors is correctly specified.\n",
       "[2] The condition number is large, 7.77e+06. This might indicate that there are\n",
       "strong multicollinearity or other numerical problems.\n",
       "\"\"\""
      ]
     },
     "execution_count": 87,
     "metadata": {},
     "output_type": "execute_result"
    }
   ],
   "source": [
    "import statsmodels.formula.api as smf\n",
    "model = smf.ols(formula=\"Passengers~Promotion_Budget+Service_Quality_Score+Inter_metro_flight_ratio\", data=train).fit()\n",
    "model.summary()"
   ]
  },
  {
   "cell_type": "code",
   "execution_count": 88,
   "metadata": {},
   "outputs": [
    {
     "data": {
      "text/plain": [
       "array([35501.27417587, 36704.83777412, 35683.74120861, 36495.29760619,\n",
       "       30534.00263235, 33190.12370002, 43116.524868  , 39924.35021478,\n",
       "       51396.51628112, 34733.86102704, 50185.26834921, 54815.0053467 ,\n",
       "       42708.44371527, 38519.47404919, 34005.25143121, 40339.72419046,\n",
       "       37669.74736323, 57000.24482434, 31849.91987442, 43985.40251933,\n",
       "       37344.25572554, 45647.03704738, 35274.29798011, 46690.79661069,\n",
       "       30051.43994703, 53160.0213705 , 45949.81573987, 49310.88157512,\n",
       "       65276.90517916, 51731.64952435, 36226.38303862, 59049.93890966,\n",
       "       46665.13282086, 39524.34403175, 50285.45630171, 40259.31759921,\n",
       "       42773.8329581 , 35412.29803767, 45232.2501717 , 36861.42666217,\n",
       "       33790.10692622, 54355.64589198, 53057.33992345, 50448.96824037,\n",
       "       56242.62907216, 49470.18171229, 32054.15723316, 43438.89272542,\n",
       "       36601.76135935, 39947.69358746, 35666.50035481, 39329.59358623,\n",
       "       39734.74916911, 32394.85980729, 32825.51945367, 50772.01183882,\n",
       "       47112.83774171, 55572.50915131, 43440.21599606, 75225.29604928,\n",
       "       45864.76078793, 69484.79473497, 45073.27492427, 32515.20735005])"
      ]
     },
     "execution_count": 88,
     "metadata": {},
     "output_type": "execute_result"
    }
   ],
   "source": [
    "model.predict() #return the predicted all 64 details "
   ]
  },
  {
   "cell_type": "code",
   "execution_count": 89,
   "metadata": {},
   "outputs": [],
   "source": [
    "train1=train.reset_index().drop([\"index\"],axis=1)"
   ]
  },
  {
   "cell_type": "code",
   "execution_count": 90,
   "metadata": {},
   "outputs": [
    {
     "data": {
      "text/html": [
       "<div>\n",
       "<style scoped>\n",
       "    .dataframe tbody tr th:only-of-type {\n",
       "        vertical-align: middle;\n",
       "    }\n",
       "\n",
       "    .dataframe tbody tr th {\n",
       "        vertical-align: top;\n",
       "    }\n",
       "\n",
       "    .dataframe thead th {\n",
       "        text-align: right;\n",
       "    }\n",
       "</style>\n",
       "<table border=\"1\" class=\"dataframe\">\n",
       "  <thead>\n",
       "    <tr style=\"text-align: right;\">\n",
       "      <th></th>\n",
       "      <th>Passengers</th>\n",
       "      <th>Promotion_Budget</th>\n",
       "      <th>Service_Quality_Score</th>\n",
       "      <th>Inter_metro_flight_ratio</th>\n",
       "    </tr>\n",
       "  </thead>\n",
       "  <tbody>\n",
       "    <tr>\n",
       "      <td>0</td>\n",
       "      <td>35792</td>\n",
       "      <td>506492</td>\n",
       "      <td>3.85684</td>\n",
       "      <td>0.40</td>\n",
       "    </tr>\n",
       "    <tr>\n",
       "      <td>1</td>\n",
       "      <td>32752</td>\n",
       "      <td>502712</td>\n",
       "      <td>3.37428</td>\n",
       "      <td>0.45</td>\n",
       "    </tr>\n",
       "    <tr>\n",
       "      <td>2</td>\n",
       "      <td>34592</td>\n",
       "      <td>495152</td>\n",
       "      <td>3.60086</td>\n",
       "      <td>0.39</td>\n",
       "    </tr>\n",
       "    <tr>\n",
       "      <td>3</td>\n",
       "      <td>35168</td>\n",
       "      <td>518070</td>\n",
       "      <td>3.70671</td>\n",
       "      <td>0.47</td>\n",
       "    </tr>\n",
       "    <tr>\n",
       "      <td>4</td>\n",
       "      <td>30432</td>\n",
       "      <td>373954</td>\n",
       "      <td>3.21748</td>\n",
       "      <td>0.41</td>\n",
       "    </tr>\n",
       "    <tr>\n",
       "      <td>...</td>\n",
       "      <td>...</td>\n",
       "      <td>...</td>\n",
       "      <td>...</td>\n",
       "      <td>...</td>\n",
       "    </tr>\n",
       "    <tr>\n",
       "      <td>59</td>\n",
       "      <td>81228</td>\n",
       "      <td>1108254</td>\n",
       "      <td>0.85536</td>\n",
       "      <td>0.90</td>\n",
       "    </tr>\n",
       "    <tr>\n",
       "      <td>60</td>\n",
       "      <td>43722</td>\n",
       "      <td>652680</td>\n",
       "      <td>2.84565</td>\n",
       "      <td>0.69</td>\n",
       "    </tr>\n",
       "    <tr>\n",
       "      <td>61</td>\n",
       "      <td>67130</td>\n",
       "      <td>1003002</td>\n",
       "      <td>0.98050</td>\n",
       "      <td>0.79</td>\n",
       "    </tr>\n",
       "    <tr>\n",
       "      <td>62</td>\n",
       "      <td>43088</td>\n",
       "      <td>658714</td>\n",
       "      <td>3.20884</td>\n",
       "      <td>0.72</td>\n",
       "    </tr>\n",
       "    <tr>\n",
       "      <td>63</td>\n",
       "      <td>32272</td>\n",
       "      <td>416374</td>\n",
       "      <td>3.28734</td>\n",
       "      <td>0.42</td>\n",
       "    </tr>\n",
       "  </tbody>\n",
       "</table>\n",
       "<p>64 rows × 4 columns</p>\n",
       "</div>"
      ],
      "text/plain": [
       "    Passengers  Promotion_Budget  Service_Quality_Score  \\\n",
       "0        35792            506492                3.85684   \n",
       "1        32752            502712                3.37428   \n",
       "2        34592            495152                3.60086   \n",
       "3        35168            518070                3.70671   \n",
       "4        30432            373954                3.21748   \n",
       "..         ...               ...                    ...   \n",
       "59       81228           1108254                0.85536   \n",
       "60       43722            652680                2.84565   \n",
       "61       67130           1003002                0.98050   \n",
       "62       43088            658714                3.20884   \n",
       "63       32272            416374                3.28734   \n",
       "\n",
       "    Inter_metro_flight_ratio  \n",
       "0                       0.40  \n",
       "1                       0.45  \n",
       "2                       0.39  \n",
       "3                       0.47  \n",
       "4                       0.41  \n",
       "..                       ...  \n",
       "59                      0.90  \n",
       "60                      0.69  \n",
       "61                      0.79  \n",
       "62                      0.72  \n",
       "63                      0.42  \n",
       "\n",
       "[64 rows x 4 columns]"
      ]
     },
     "execution_count": 90,
     "metadata": {},
     "output_type": "execute_result"
    }
   ],
   "source": [
    "train1"
   ]
  },
  {
   "cell_type": "code",
   "execution_count": 69,
   "metadata": {},
   "outputs": [],
   "source": [
    "test1=test.reset_index().drop([\"index\"],axis=1)"
   ]
  },
  {
   "cell_type": "code",
   "execution_count": 109,
   "metadata": {},
   "outputs": [
    {
     "name": "stderr",
     "output_type": "stream",
     "text": [
      "C:\\Users\\Balakrishna_Vema\\AppData\\Local\\Continuum\\anaconda3\\lib\\site-packages\\scipy\\stats\\stats.py:1450: UserWarning: kurtosistest only valid for n>=20 ... continuing anyway, n=16\n",
      "  \"anyway, n=%i\" % int(n))\n"
     ]
    },
    {
     "data": {
      "text/html": [
       "<table class=\"simpletable\">\n",
       "<caption>OLS Regression Results</caption>\n",
       "<tr>\n",
       "  <th>Dep. Variable:</th>       <td>Passengers</td>    <th>  R-squared:         </th> <td>   0.970</td>\n",
       "</tr>\n",
       "<tr>\n",
       "  <th>Model:</th>                   <td>OLS</td>       <th>  Adj. R-squared:    </th> <td>   0.963</td>\n",
       "</tr>\n",
       "<tr>\n",
       "  <th>Method:</th>             <td>Least Squares</td>  <th>  F-statistic:       </th> <td>   131.4</td>\n",
       "</tr>\n",
       "<tr>\n",
       "  <th>Date:</th>             <td>Sun, 10 May 2020</td> <th>  Prob (F-statistic):</th> <td>1.92e-09</td>\n",
       "</tr>\n",
       "<tr>\n",
       "  <th>Time:</th>                 <td>04:53:45</td>     <th>  Log-Likelihood:    </th> <td> -148.06</td>\n",
       "</tr>\n",
       "<tr>\n",
       "  <th>No. Observations:</th>      <td>    16</td>      <th>  AIC:               </th> <td>   304.1</td>\n",
       "</tr>\n",
       "<tr>\n",
       "  <th>Df Residuals:</th>          <td>    12</td>      <th>  BIC:               </th> <td>   307.2</td>\n",
       "</tr>\n",
       "<tr>\n",
       "  <th>Df Model:</th>              <td>     3</td>      <th>                     </th>     <td> </td>   \n",
       "</tr>\n",
       "<tr>\n",
       "  <th>Covariance Type:</th>      <td>nonrobust</td>    <th>                     </th>     <td> </td>   \n",
       "</tr>\n",
       "</table>\n",
       "<table class=\"simpletable\">\n",
       "<tr>\n",
       "              <td></td>                <th>coef</th>     <th>std err</th>      <th>t</th>      <th>P>|t|</th>  <th>[0.025</th>    <th>0.975]</th>  \n",
       "</tr>\n",
       "<tr>\n",
       "  <th>Intercept</th>                <td> 1.168e+04</td> <td> 1.48e+04</td> <td>    0.790</td> <td> 0.445</td> <td>-2.05e+04</td> <td> 4.39e+04</td>\n",
       "</tr>\n",
       "<tr>\n",
       "  <th>Promotion_Budget</th>         <td>    0.0696</td> <td>    0.013</td> <td>    5.519</td> <td> 0.000</td> <td>    0.042</td> <td>    0.097</td>\n",
       "</tr>\n",
       "<tr>\n",
       "  <th>Service_Quality_Score</th>    <td>-1608.5605</td> <td> 2070.981</td> <td>   -0.777</td> <td> 0.452</td> <td>-6120.841</td> <td> 2903.720</td>\n",
       "</tr>\n",
       "<tr>\n",
       "  <th>Inter_metro_flight_ratio</th> <td>-8786.5481</td> <td> 6493.771</td> <td>   -1.353</td> <td> 0.201</td> <td>-2.29e+04</td> <td> 5362.163</td>\n",
       "</tr>\n",
       "</table>\n",
       "<table class=\"simpletable\">\n",
       "<tr>\n",
       "  <th>Omnibus:</th>       <td> 0.668</td> <th>  Durbin-Watson:     </th> <td>   1.712</td>\n",
       "</tr>\n",
       "<tr>\n",
       "  <th>Prob(Omnibus):</th> <td> 0.716</td> <th>  Jarque-Bera (JB):  </th> <td>   0.481</td>\n",
       "</tr>\n",
       "<tr>\n",
       "  <th>Skew:</th>          <td>-0.384</td> <th>  Prob(JB):          </th> <td>   0.786</td>\n",
       "</tr>\n",
       "<tr>\n",
       "  <th>Kurtosis:</th>      <td> 2.637</td> <th>  Cond. No.          </th> <td>1.49e+07</td>\n",
       "</tr>\n",
       "</table><br/><br/>Warnings:<br/>[1] Standard Errors assume that the covariance matrix of the errors is correctly specified.<br/>[2] The condition number is large, 1.49e+07. This might indicate that there are<br/>strong multicollinearity or other numerical problems."
      ],
      "text/plain": [
       "<class 'statsmodels.iolib.summary.Summary'>\n",
       "\"\"\"\n",
       "                            OLS Regression Results                            \n",
       "==============================================================================\n",
       "Dep. Variable:             Passengers   R-squared:                       0.970\n",
       "Model:                            OLS   Adj. R-squared:                  0.963\n",
       "Method:                 Least Squares   F-statistic:                     131.4\n",
       "Date:                Sun, 10 May 2020   Prob (F-statistic):           1.92e-09\n",
       "Time:                        04:53:45   Log-Likelihood:                -148.06\n",
       "No. Observations:                  16   AIC:                             304.1\n",
       "Df Residuals:                      12   BIC:                             307.2\n",
       "Df Model:                           3                                         \n",
       "Covariance Type:            nonrobust                                         \n",
       "============================================================================================\n",
       "                               coef    std err          t      P>|t|      [0.025      0.975]\n",
       "--------------------------------------------------------------------------------------------\n",
       "Intercept                 1.168e+04   1.48e+04      0.790      0.445   -2.05e+04    4.39e+04\n",
       "Promotion_Budget             0.0696      0.013      5.519      0.000       0.042       0.097\n",
       "Service_Quality_Score    -1608.5605   2070.981     -0.777      0.452   -6120.841    2903.720\n",
       "Inter_metro_flight_ratio -8786.5481   6493.771     -1.353      0.201   -2.29e+04    5362.163\n",
       "==============================================================================\n",
       "Omnibus:                        0.668   Durbin-Watson:                   1.712\n",
       "Prob(Omnibus):                  0.716   Jarque-Bera (JB):                0.481\n",
       "Skew:                          -0.384   Prob(JB):                        0.786\n",
       "Kurtosis:                       2.637   Cond. No.                     1.49e+07\n",
       "==============================================================================\n",
       "\n",
       "Warnings:\n",
       "[1] Standard Errors assume that the covariance matrix of the errors is correctly specified.\n",
       "[2] The condition number is large, 1.49e+07. This might indicate that there are\n",
       "strong multicollinearity or other numerical problems.\n",
       "\"\"\""
      ]
     },
     "execution_count": 109,
     "metadata": {},
     "output_type": "execute_result"
    }
   ],
   "source": [
    "import statsmodels.formula.api as smf\n",
    "model1 = smf.ols(formula=\"Passengers~Promotion_Budget+Service_Quality_Score+Inter_metro_flight_ratio\", data=test).fit()\n",
    "model1.summary()"
   ]
  },
  {
   "cell_type": "code",
   "execution_count": 93,
   "metadata": {},
   "outputs": [
    {
     "data": {
      "text/plain": [
       "0    35501.274176\n",
       "1    36704.837774\n",
       "2    35683.741209\n",
       "3    36495.297606\n",
       "4    30534.002632\n",
       "dtype: float64"
      ]
     },
     "execution_count": 93,
     "metadata": {},
     "output_type": "execute_result"
    }
   ],
   "source": [
    "train_pred = model.predict(train1)\n",
    "train_pred.head()"
   ]
  },
  {
   "cell_type": "code",
   "execution_count": 94,
   "metadata": {},
   "outputs": [
    {
     "data": {
      "text/plain": [
       "0.9430084573449903"
      ]
     },
     "execution_count": 94,
     "metadata": {},
     "output_type": "execute_result"
    }
   ],
   "source": [
    "model.rsquared"
   ]
  },
  {
   "cell_type": "code",
   "execution_count": 95,
   "metadata": {},
   "outputs": [
    {
     "data": {
      "text/plain": [
       "0.9401588802122398"
      ]
     },
     "execution_count": 95,
     "metadata": {},
     "output_type": "execute_result"
    }
   ],
   "source": [
    "model.rsquared_adj"
   ]
  },
  {
   "cell_type": "code",
   "execution_count": 96,
   "metadata": {},
   "outputs": [
    {
     "data": {
      "text/plain": [
       "330.9292619269348"
      ]
     },
     "execution_count": 96,
     "metadata": {},
     "output_type": "execute_result"
    }
   ],
   "source": [
    "model.fvalue"
   ]
  },
  {
   "cell_type": "code",
   "execution_count": 97,
   "metadata": {},
   "outputs": [
    {
     "data": {
      "text/plain": [
       "4.089088179171085e-09"
      ]
     },
     "execution_count": 97,
     "metadata": {},
     "output_type": "execute_result"
    }
   ],
   "source": [
    "error= np.abs(sum(train1[\"Passengers\"]-train_pred))\n",
    "error"
   ]
  },
  {
   "cell_type": "code",
   "execution_count": 105,
   "metadata": {},
   "outputs": [
    {
     "data": {
      "text/plain": [
       "1969.6556622067433"
      ]
     },
     "execution_count": 105,
     "metadata": {},
     "output_type": "execute_result"
    }
   ],
   "source": [
    "#MAE with function\n",
    "from sklearn.metrics import mean_absolute_error\n",
    "mean_absolute_error(train1[\"Passengers\"],train_pred)"
   ]
  },
  {
   "cell_type": "code",
   "execution_count": 107,
   "metadata": {},
   "outputs": [
    {
     "data": {
      "text/plain": [
       "1969.6556622067435"
      ]
     },
     "execution_count": 107,
     "metadata": {},
     "output_type": "execute_result"
    }
   ],
   "source": [
    "#MAE(Mean absolution error calculate) with manually \n",
    "error= sum(abs(train1[\"Passengers\"]-train_pred))\n",
    "mae = error/len(train1) #Mean absolute error\n",
    "mae"
   ]
  },
  {
   "cell_type": "code",
   "execution_count": 111,
   "metadata": {},
   "outputs": [
    {
     "data": {
      "text/plain": [
       "50    44150.162972\n",
       "27    36735.760898\n",
       "30    32767.159253\n",
       "77    45660.448866\n",
       "45    36523.193977\n",
       "71    73612.431592\n",
       "66    38393.899282\n",
       "68    74826.423868\n",
       "48    44083.786483\n",
       "69    63669.089008\n",
       "40    47135.001357\n",
       "63    72701.354957\n",
       "2     42869.567224\n",
       "72    60657.486187\n",
       "52    33752.705770\n",
       "34    36557.528305\n",
       "dtype: float64"
      ]
     },
     "execution_count": 111,
     "metadata": {},
     "output_type": "execute_result"
    }
   ],
   "source": [
    "test_pred = model1.predict(test)\n",
    "test_pred"
   ]
  },
  {
   "cell_type": "code",
   "execution_count": 113,
   "metadata": {},
   "outputs": [
    {
     "data": {
      "text/plain": [
       "1951.1580095934642"
      ]
     },
     "execution_count": 113,
     "metadata": {},
     "output_type": "execute_result"
    }
   ],
   "source": [
    "#MAE on test data set\n",
    "from sklearn.metrics import mean_absolute_error\n",
    "mean_absolute_error(test[\"Passengers\"],test_pred)"
   ]
  },
  {
   "cell_type": "code",
   "execution_count": 34,
   "metadata": {},
   "outputs": [
    {
     "data": {
      "text/plain": [
       "-6.389200279954821e-11"
      ]
     },
     "execution_count": 34,
     "metadata": {},
     "output_type": "execute_result"
    }
   ],
   "source": [
    "error= sum(train1[\"Passengers\"]-train_ped)\n",
    "mae = error/len(train1)\n",
    "mae"
   ]
  },
  {
   "cell_type": "code",
   "execution_count": 114,
   "metadata": {},
   "outputs": [
    {
     "data": {
      "text/plain": [
       "5528913.903158465"
      ]
     },
     "execution_count": 114,
     "metadata": {},
     "output_type": "execute_result"
    }
   ],
   "source": [
    "MSE=sum(np.square(train1[\"Passengers\"]-train_pred))/len(train1)\n",
    "MSE"
   ]
  },
  {
   "cell_type": "code",
   "execution_count": 119,
   "metadata": {},
   "outputs": [
    {
     "data": {
      "text/plain": [
       "6382983.253943953"
      ]
     },
     "execution_count": 119,
     "metadata": {},
     "output_type": "execute_result"
    }
   ],
   "source": [
    "MSE=sum(np.square(test[\"Passengers\"]-test_pred))/len(test)\n",
    "MSE"
   ]
  },
  {
   "cell_type": "code",
   "execution_count": 120,
   "metadata": {},
   "outputs": [
    {
     "data": {
      "text/plain": [
       "6382983.253943954"
      ]
     },
     "execution_count": 120,
     "metadata": {},
     "output_type": "execute_result"
    }
   ],
   "source": [
    "from sklearn.metrics import mean_squared_error\n",
    "mean_squared_error(test1[\"Passengers\"], test_pred)"
   ]
  },
  {
   "cell_type": "code",
   "execution_count": 122,
   "metadata": {},
   "outputs": [
    {
     "data": {
      "text/plain": [
       "0.04652341678274594"
      ]
     },
     "execution_count": 122,
     "metadata": {},
     "output_type": "execute_result"
    }
   ],
   "source": [
    "sum(abs(train1[\"Passengers\"]-train_pred)/train1[\"Passengers\"])/len(train1)"
   ]
  },
  {
   "cell_type": "code",
   "execution_count": 124,
   "metadata": {},
   "outputs": [],
   "source": [
    "air1= air[[\"Passengers\",\"Promotion_Budget\"]]"
   ]
  },
  {
   "cell_type": "code",
   "execution_count": 125,
   "metadata": {},
   "outputs": [
    {
     "data": {
      "text/html": [
       "<div>\n",
       "<style scoped>\n",
       "    .dataframe tbody tr th:only-of-type {\n",
       "        vertical-align: middle;\n",
       "    }\n",
       "\n",
       "    .dataframe tbody tr th {\n",
       "        vertical-align: top;\n",
       "    }\n",
       "\n",
       "    .dataframe thead th {\n",
       "        text-align: right;\n",
       "    }\n",
       "</style>\n",
       "<table border=\"1\" class=\"dataframe\">\n",
       "  <thead>\n",
       "    <tr style=\"text-align: right;\">\n",
       "      <th></th>\n",
       "      <th>Passengers</th>\n",
       "      <th>Promotion_Budget</th>\n",
       "    </tr>\n",
       "  </thead>\n",
       "  <tbody>\n",
       "    <tr>\n",
       "      <td>0</td>\n",
       "      <td>0.173698</td>\n",
       "      <td>0.204257</td>\n",
       "    </tr>\n",
       "    <tr>\n",
       "      <td>1</td>\n",
       "      <td>0.290055</td>\n",
       "      <td>0.377614</td>\n",
       "    </tr>\n",
       "    <tr>\n",
       "      <td>2</td>\n",
       "      <td>0.270256</td>\n",
       "      <td>0.367169</td>\n",
       "    </tr>\n",
       "    <tr>\n",
       "      <td>3</td>\n",
       "      <td>0.135014</td>\n",
       "      <td>0.189627</td>\n",
       "    </tr>\n",
       "    <tr>\n",
       "      <td>4</td>\n",
       "      <td>0.188928</td>\n",
       "      <td>0.328557</td>\n",
       "    </tr>\n",
       "  </tbody>\n",
       "</table>\n",
       "</div>"
      ],
      "text/plain": [
       "   Passengers  Promotion_Budget\n",
       "0    0.173698          0.204257\n",
       "1    0.290055          0.377614\n",
       "2    0.270256          0.367169\n",
       "3    0.135014          0.189627\n",
       "4    0.188928          0.328557"
      ]
     },
     "execution_count": 125,
     "metadata": {},
     "output_type": "execute_result"
    }
   ],
   "source": [
    "from sklearn.preprocessing import MinMaxScaler\n",
    "mn=MinMaxScaler()\n",
    "air2=pd.DataFrame(mn.fit_transform(air1),columns=air1.columns)\n",
    "air2.head()"
   ]
  },
  {
   "cell_type": "code",
   "execution_count": 126,
   "metadata": {},
   "outputs": [
    {
     "data": {
      "text/plain": [
       "0.0"
      ]
     },
     "execution_count": 126,
     "metadata": {},
     "output_type": "execute_result"
    }
   ],
   "source": [
    "air2[\"Passengers\"].min()"
   ]
  },
  {
   "cell_type": "code",
   "execution_count": 129,
   "metadata": {},
   "outputs": [
    {
     "data": {
      "text/plain": [
       "1.0"
      ]
     },
     "execution_count": 129,
     "metadata": {},
     "output_type": "execute_result"
    }
   ],
   "source": [
    "air2[\"Promotion_Budget\"].max()"
   ]
  },
  {
   "cell_type": "code",
   "execution_count": null,
   "metadata": {},
   "outputs": [],
   "source": []
  }
 ],
 "metadata": {
  "kernelspec": {
   "display_name": "Python 3",
   "language": "python",
   "name": "python3"
  },
  "language_info": {
   "codemirror_mode": {
    "name": "ipython",
    "version": 3
   },
   "file_extension": ".py",
   "mimetype": "text/x-python",
   "name": "python",
   "nbconvert_exporter": "python",
   "pygments_lexer": "ipython3",
   "version": "3.7.4"
  }
 },
 "nbformat": 4,
 "nbformat_minor": 2
}

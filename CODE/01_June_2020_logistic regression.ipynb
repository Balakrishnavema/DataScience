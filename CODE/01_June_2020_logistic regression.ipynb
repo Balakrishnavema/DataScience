{
 "cells": [
  {
   "cell_type": "code",
   "execution_count": 1,
   "metadata": {},
   "outputs": [],
   "source": [
    "import numpy as np\n",
    "import pandas as pd\n",
    "import matplotlib.pyplot as plt\n",
    "import seaborn as sns"
   ]
  },
  {
   "cell_type": "code",
   "execution_count": 2,
   "metadata": {},
   "outputs": [],
   "source": [
    "fb = pd.read_csv(r\"C:\\Users\\Balakrishna_Vema\\Documents\\Data science\\Data sets\\Fiberbits_v1.csv\")"
   ]
  },
  {
   "cell_type": "code",
   "execution_count": 3,
   "metadata": {},
   "outputs": [
    {
     "data": {
      "text/plain": [
       "(100000, 9)"
      ]
     },
     "execution_count": 3,
     "metadata": {},
     "output_type": "execute_result"
    }
   ],
   "source": [
    "fb.shape"
   ]
  },
  {
   "cell_type": "code",
   "execution_count": 4,
   "metadata": {},
   "outputs": [
    {
     "data": {
      "text/html": [
       "<div>\n",
       "<style scoped>\n",
       "    .dataframe tbody tr th:only-of-type {\n",
       "        vertical-align: middle;\n",
       "    }\n",
       "\n",
       "    .dataframe tbody tr th {\n",
       "        vertical-align: top;\n",
       "    }\n",
       "\n",
       "    .dataframe thead th {\n",
       "        text-align: right;\n",
       "    }\n",
       "</style>\n",
       "<table border=\"1\" class=\"dataframe\">\n",
       "  <thead>\n",
       "    <tr style=\"text-align: right;\">\n",
       "      <th></th>\n",
       "      <th>active_cust</th>\n",
       "      <th>income</th>\n",
       "      <th>months_on_network</th>\n",
       "      <th>Num_complaints</th>\n",
       "      <th>number_plan_changes</th>\n",
       "      <th>relocated</th>\n",
       "      <th>monthly_bill</th>\n",
       "      <th>technical_issues_per_month</th>\n",
       "      <th>Speed_test_result</th>\n",
       "    </tr>\n",
       "  </thead>\n",
       "  <tbody>\n",
       "    <tr>\n",
       "      <td>0</td>\n",
       "      <td>0</td>\n",
       "      <td>1586</td>\n",
       "      <td>85</td>\n",
       "      <td>4</td>\n",
       "      <td>1</td>\n",
       "      <td>0</td>\n",
       "      <td>121</td>\n",
       "      <td>4</td>\n",
       "      <td>85</td>\n",
       "    </tr>\n",
       "    <tr>\n",
       "      <td>1</td>\n",
       "      <td>0</td>\n",
       "      <td>1581</td>\n",
       "      <td>85</td>\n",
       "      <td>4</td>\n",
       "      <td>1</td>\n",
       "      <td>0</td>\n",
       "      <td>133</td>\n",
       "      <td>4</td>\n",
       "      <td>85</td>\n",
       "    </tr>\n",
       "    <tr>\n",
       "      <td>2</td>\n",
       "      <td>0</td>\n",
       "      <td>1594</td>\n",
       "      <td>82</td>\n",
       "      <td>4</td>\n",
       "      <td>1</td>\n",
       "      <td>0</td>\n",
       "      <td>118</td>\n",
       "      <td>4</td>\n",
       "      <td>85</td>\n",
       "    </tr>\n",
       "    <tr>\n",
       "      <td>3</td>\n",
       "      <td>0</td>\n",
       "      <td>1594</td>\n",
       "      <td>82</td>\n",
       "      <td>4</td>\n",
       "      <td>1</td>\n",
       "      <td>0</td>\n",
       "      <td>123</td>\n",
       "      <td>4</td>\n",
       "      <td>85</td>\n",
       "    </tr>\n",
       "    <tr>\n",
       "      <td>4</td>\n",
       "      <td>1</td>\n",
       "      <td>1609</td>\n",
       "      <td>80</td>\n",
       "      <td>4</td>\n",
       "      <td>1</td>\n",
       "      <td>0</td>\n",
       "      <td>177</td>\n",
       "      <td>4</td>\n",
       "      <td>85</td>\n",
       "    </tr>\n",
       "  </tbody>\n",
       "</table>\n",
       "</div>"
      ],
      "text/plain": [
       "   active_cust  income  months_on_network  Num_complaints  \\\n",
       "0            0    1586                 85               4   \n",
       "1            0    1581                 85               4   \n",
       "2            0    1594                 82               4   \n",
       "3            0    1594                 82               4   \n",
       "4            1    1609                 80               4   \n",
       "\n",
       "   number_plan_changes  relocated  monthly_bill  technical_issues_per_month  \\\n",
       "0                    1          0           121                           4   \n",
       "1                    1          0           133                           4   \n",
       "2                    1          0           118                           4   \n",
       "3                    1          0           123                           4   \n",
       "4                    1          0           177                           4   \n",
       "\n",
       "   Speed_test_result  \n",
       "0                 85  \n",
       "1                 85  \n",
       "2                 85  \n",
       "3                 85  \n",
       "4                 85  "
      ]
     },
     "execution_count": 4,
     "metadata": {},
     "output_type": "execute_result"
    }
   ],
   "source": [
    "fb.head()"
   ]
  },
  {
   "cell_type": "code",
   "execution_count": 5,
   "metadata": {},
   "outputs": [
    {
     "data": {
      "text/plain": [
       "1    57859\n",
       "0    42141\n",
       "Name: active_cust, dtype: int64"
      ]
     },
     "execution_count": 5,
     "metadata": {},
     "output_type": "execute_result"
    }
   ],
   "source": [
    "fb[\"active_cust\"].value_counts()"
   ]
  },
  {
   "cell_type": "code",
   "execution_count": 6,
   "metadata": {},
   "outputs": [
    {
     "data": {
      "text/plain": [
       "Index(['active_cust', 'income', 'months_on_network', 'Num_complaints',\n",
       "       'number_plan_changes', 'relocated', 'monthly_bill',\n",
       "       'technical_issues_per_month', 'Speed_test_result'],\n",
       "      dtype='object')"
      ]
     },
     "execution_count": 6,
     "metadata": {},
     "output_type": "execute_result"
    }
   ],
   "source": [
    "fb.columns"
   ]
  },
  {
   "cell_type": "code",
   "execution_count": 7,
   "metadata": {},
   "outputs": [
    {
     "name": "stdout",
     "output_type": "stream",
     "text": [
      "Optimization terminated successfully.\n",
      "         Current function value: 0.493647\n",
      "         Iterations 9\n"
     ]
    }
   ],
   "source": [
    "import statsmodels.formula.api as sm\n",
    "model = sm.logit(formula=\"active_cust~income+months_on_network+Num_complaints+number_plan_changes+relocated+monthly_bill+technical_issues_per_month+Speed_test_result\", data=fb).fit()"
   ]
  },
  {
   "cell_type": "code",
   "execution_count": 8,
   "metadata": {},
   "outputs": [
    {
     "data": {
      "text/html": [
       "<table class=\"simpletable\">\n",
       "<tr>\n",
       "        <td>Model:</td>              <td>Logit</td>      <td>Pseudo R-squared:</td>    <td>0.275</td>  \n",
       "</tr>\n",
       "<tr>\n",
       "  <td>Dependent Variable:</td>    <td>active_cust</td>         <td>AIC:</td>        <td>98747.3450</td>\n",
       "</tr>\n",
       "<tr>\n",
       "         <td>Date:</td>        <td>2020-06-02 05:48</td>       <td>BIC:</td>        <td>98832.9614</td>\n",
       "</tr>\n",
       "<tr>\n",
       "   <td>No. Observations:</td>       <td>100000</td>       <td>Log-Likelihood:</td>    <td>-49365.</td> \n",
       "</tr>\n",
       "<tr>\n",
       "       <td>Df Model:</td>              <td>8</td>            <td>LL-Null:</td>        <td>-68074.</td> \n",
       "</tr>\n",
       "<tr>\n",
       "     <td>Df Residuals:</td>          <td>99991</td>        <td>LLR p-value:</td>      <td>0.0000</td>  \n",
       "</tr>\n",
       "<tr>\n",
       "      <td>Converged:</td>           <td>1.0000</td>           <td>Scale:</td>         <td>1.0000</td>  \n",
       "</tr>\n",
       "<tr>\n",
       "    <td>No. Iterations:</td>        <td>9.0000</td>              <td></td>               <td></td>     \n",
       "</tr>\n",
       "</table>\n",
       "<table class=\"simpletable\">\n",
       "<tr>\n",
       "               <td></td>                <th>Coef.</th>  <th>Std.Err.</th>     <th>z</th>     <th>P>|z|</th>  <th>[0.025</th>   <th>0.975]</th> \n",
       "</tr>\n",
       "<tr>\n",
       "  <th>Intercept</th>                  <td>-17.6101</td>  <td>0.3008</td>  <td>-58.5376</td> <td>0.0000</td> <td>-18.1997</td> <td>-17.0205</td>\n",
       "</tr>\n",
       "<tr>\n",
       "  <th>income</th>                      <td>0.0017</td>   <td>0.0001</td>   <td>20.8198</td> <td>0.0000</td>  <td>0.0015</td>   <td>0.0019</td> \n",
       "</tr>\n",
       "<tr>\n",
       "  <th>months_on_network</th>           <td>0.0288</td>   <td>0.0010</td>   <td>28.6542</td> <td>0.0000</td>  <td>0.0268</td>   <td>0.0308</td> \n",
       "</tr>\n",
       "<tr>\n",
       "  <th>Num_complaints</th>              <td>-0.6865</td>  <td>0.0301</td>  <td>-22.8110</td> <td>0.0000</td>  <td>-0.7455</td>  <td>-0.6276</td>\n",
       "</tr>\n",
       "<tr>\n",
       "  <th>number_plan_changes</th>         <td>-0.1896</td>  <td>0.0076</td>  <td>-24.9395</td> <td>0.0000</td>  <td>-0.2045</td>  <td>-0.1747</td>\n",
       "</tr>\n",
       "<tr>\n",
       "  <th>relocated</th>                   <td>-3.1626</td>  <td>0.0396</td>  <td>-79.9268</td> <td>0.0000</td>  <td>-3.2401</td>  <td>-3.0850</td>\n",
       "</tr>\n",
       "<tr>\n",
       "  <th>monthly_bill</th>                <td>-0.0022</td>  <td>0.0002</td>  <td>-13.9949</td> <td>0.0000</td>  <td>-0.0025</td>  <td>-0.0019</td>\n",
       "</tr>\n",
       "<tr>\n",
       "  <th>technical_issues_per_month</th>  <td>-0.3904</td>  <td>0.0072</td>  <td>-54.5812</td> <td>0.0000</td>  <td>-0.4044</td>  <td>-0.3764</td>\n",
       "</tr>\n",
       "<tr>\n",
       "  <th>Speed_test_result</th>           <td>0.2222</td>   <td>0.0024</td>   <td>93.4347</td> <td>0.0000</td>  <td>0.2175</td>   <td>0.2268</td> \n",
       "</tr>\n",
       "</table>"
      ],
      "text/plain": [
       "<class 'statsmodels.iolib.summary2.Summary'>\n",
       "\"\"\"\n",
       "                                Results: Logit\n",
       "==============================================================================\n",
       "Model:                   Logit                Pseudo R-squared:     0.275     \n",
       "Dependent Variable:      active_cust          AIC:                  98747.3450\n",
       "Date:                    2020-06-02 05:48     BIC:                  98832.9614\n",
       "No. Observations:        100000               Log-Likelihood:       -49365.   \n",
       "Df Model:                8                    LL-Null:              -68074.   \n",
       "Df Residuals:            99991                LLR p-value:          0.0000    \n",
       "Converged:               1.0000               Scale:                1.0000    \n",
       "No. Iterations:          9.0000                                               \n",
       "------------------------------------------------------------------------------\n",
       "                            Coef.   Std.Err.    z     P>|z|   [0.025   0.975] \n",
       "------------------------------------------------------------------------------\n",
       "Intercept                  -17.6101   0.3008 -58.5376 0.0000 -18.1997 -17.0205\n",
       "income                       0.0017   0.0001  20.8198 0.0000   0.0015   0.0019\n",
       "months_on_network            0.0288   0.0010  28.6542 0.0000   0.0268   0.0308\n",
       "Num_complaints              -0.6865   0.0301 -22.8110 0.0000  -0.7455  -0.6276\n",
       "number_plan_changes         -0.1896   0.0076 -24.9395 0.0000  -0.2045  -0.1747\n",
       "relocated                   -3.1626   0.0396 -79.9268 0.0000  -3.2401  -3.0850\n",
       "monthly_bill                -0.0022   0.0002 -13.9949 0.0000  -0.0025  -0.0019\n",
       "technical_issues_per_month  -0.3904   0.0072 -54.5812 0.0000  -0.4044  -0.3764\n",
       "Speed_test_result            0.2222   0.0024  93.4347 0.0000   0.2175   0.2268\n",
       "==============================================================================\n",
       "\n",
       "\"\"\""
      ]
     },
     "execution_count": 8,
     "metadata": {},
     "output_type": "execute_result"
    }
   ],
   "source": [
    "model.summary2()"
   ]
  },
  {
   "cell_type": "code",
   "execution_count": 9,
   "metadata": {},
   "outputs": [],
   "source": [
    "#first check P-Value if P values leass than 0.05 it's good\n",
    "#then check psedo R-squared: value should be 0.2 to 0.5 so it is good model "
   ]
  },
  {
   "cell_type": "code",
   "execution_count": 10,
   "metadata": {},
   "outputs": [
    {
     "data": {
      "text/plain": [
       "98747.34504599353"
      ]
     },
     "execution_count": 10,
     "metadata": {},
     "output_type": "execute_result"
    }
   ],
   "source": [
    "#AIC: akwye information criteria: it will talk about howmuch amount of infomration are we loosing\n",
    "#fromaula: -2*LL*2k\n",
    "#if we compare the multi models AIC is minimum value of given data\n",
    "#AIC frequentist probability \n",
    "model.aic"
   ]
  },
  {
   "cell_type": "code",
   "execution_count": 11,
   "metadata": {},
   "outputs": [
    {
     "data": {
      "text/plain": [
       "98832.96137517826"
      ]
     },
     "execution_count": 11,
     "metadata": {},
     "output_type": "execute_result"
    }
   ],
   "source": [
    "#BIC: Bayesion infromation creteria \n",
    "#formula: -2*LL+log(N)*k\n",
    "#BIC: Bayseion probability \n",
    "model.bic"
   ]
  },
  {
   "cell_type": "code",
   "execution_count": 12,
   "metadata": {},
   "outputs": [],
   "source": [
    "#Probablistic model selecrion:\n",
    "#chosing bext models among all other models \n",
    "#Models are scored both on their perfomance on the training dataset and based on the complexity of model.\n",
    "#Models perfomanace: how well canditate model has performace on the training dataset\n",
    "#Model complexity:-Model performance may be evaluted using a probablistic framework\n",
    "#log-likelihood: MLE->maximumlikelihood estimation\n",
    "#Model complexity:it evalutaed based on degree of freedom "
   ]
  },
  {
   "cell_type": "code",
   "execution_count": 13,
   "metadata": {},
   "outputs": [],
   "source": [
    "#PseduR2: 1-L1Lo\n",
    "#Lo:-loglikelihood for the constant only\n",
    "#L1: loglikelihood for the full model\n",
    "#0.2to0.4 -> is good Model "
   ]
  },
  {
   "cell_type": "code",
   "execution_count": 14,
   "metadata": {},
   "outputs": [],
   "source": [
    "#LLNUll:- null deviance;-it is a measure of goodness of fir of a model \n",
    "#Higher number alwasys indicates bad \n",
    "#null deviance formula: 2*LL"
   ]
  },
  {
   "cell_type": "code",
   "execution_count": 15,
   "metadata": {},
   "outputs": [
    {
     "data": {
      "text/plain": [
       "Intercept                     0.300834\n",
       "income                        0.000082\n",
       "months_on_network             0.001005\n",
       "Num_complaints                0.030097\n",
       "number_plan_changes           0.007603\n",
       "relocated                     0.039568\n",
       "monthly_bill                  0.000157\n",
       "technical_issues_per_month    0.007152\n",
       "Speed_test_result             0.002378\n",
       "dtype: float64"
      ]
     },
     "execution_count": 15,
     "metadata": {},
     "output_type": "execute_result"
    }
   ],
   "source": [
    "model.bse"
   ]
  },
  {
   "cell_type": "code",
   "execution_count": 16,
   "metadata": {},
   "outputs": [
    {
     "data": {
      "text/html": [
       "<div>\n",
       "<style scoped>\n",
       "    .dataframe tbody tr th:only-of-type {\n",
       "        vertical-align: middle;\n",
       "    }\n",
       "\n",
       "    .dataframe tbody tr th {\n",
       "        vertical-align: top;\n",
       "    }\n",
       "\n",
       "    .dataframe thead th {\n",
       "        text-align: right;\n",
       "    }\n",
       "</style>\n",
       "<table border=\"1\" class=\"dataframe\">\n",
       "  <thead>\n",
       "    <tr style=\"text-align: right;\">\n",
       "      <th></th>\n",
       "      <th>0</th>\n",
       "      <th>1</th>\n",
       "    </tr>\n",
       "  </thead>\n",
       "  <tbody>\n",
       "    <tr>\n",
       "      <td>Intercept</td>\n",
       "      <td>-18.199727</td>\n",
       "      <td>-17.020480</td>\n",
       "    </tr>\n",
       "    <tr>\n",
       "      <td>income</td>\n",
       "      <td>0.001549</td>\n",
       "      <td>0.001871</td>\n",
       "    </tr>\n",
       "    <tr>\n",
       "      <td>months_on_network</td>\n",
       "      <td>0.026826</td>\n",
       "      <td>0.030765</td>\n",
       "    </tr>\n",
       "    <tr>\n",
       "      <td>Num_complaints</td>\n",
       "      <td>-0.745534</td>\n",
       "      <td>-0.627556</td>\n",
       "    </tr>\n",
       "    <tr>\n",
       "      <td>number_plan_changes</td>\n",
       "      <td>-0.204514</td>\n",
       "      <td>-0.174711</td>\n",
       "    </tr>\n",
       "    <tr>\n",
       "      <td>relocated</td>\n",
       "      <td>-3.240113</td>\n",
       "      <td>-3.085008</td>\n",
       "    </tr>\n",
       "    <tr>\n",
       "      <td>monthly_bill</td>\n",
       "      <td>-0.002506</td>\n",
       "      <td>-0.001890</td>\n",
       "    </tr>\n",
       "    <tr>\n",
       "      <td>technical_issues_per_month</td>\n",
       "      <td>-0.404389</td>\n",
       "      <td>-0.376353</td>\n",
       "    </tr>\n",
       "    <tr>\n",
       "      <td>Speed_test_result</td>\n",
       "      <td>0.217515</td>\n",
       "      <td>0.226836</td>\n",
       "    </tr>\n",
       "  </tbody>\n",
       "</table>\n",
       "</div>"
      ],
      "text/plain": [
       "                                    0          1\n",
       "Intercept                  -18.199727 -17.020480\n",
       "income                       0.001549   0.001871\n",
       "months_on_network            0.026826   0.030765\n",
       "Num_complaints              -0.745534  -0.627556\n",
       "number_plan_changes         -0.204514  -0.174711\n",
       "relocated                   -3.240113  -3.085008\n",
       "monthly_bill                -0.002506  -0.001890\n",
       "technical_issues_per_month  -0.404389  -0.376353\n",
       "Speed_test_result            0.217515   0.226836"
      ]
     },
     "execution_count": 16,
     "metadata": {},
     "output_type": "execute_result"
    }
   ],
   "source": [
    "model.conf_int()"
   ]
  },
  {
   "cell_type": "code",
   "execution_count": 17,
   "metadata": {},
   "outputs": [
    {
     "data": {
      "text/plain": [
       "99991.0"
      ]
     },
     "execution_count": 17,
     "metadata": {},
     "output_type": "execute_result"
    }
   ],
   "source": [
    "model.df_resid #"
   ]
  },
  {
   "cell_type": "code",
   "execution_count": 18,
   "metadata": {},
   "outputs": [
    {
     "data": {
      "text/plain": [
       "8.0"
      ]
     },
     "execution_count": 18,
     "metadata": {},
     "output_type": "execute_result"
    }
   ],
   "source": [
    "model.df_model #number of independent variables"
   ]
  },
  {
   "cell_type": "code",
   "execution_count": 19,
   "metadata": {},
   "outputs": [
    {
     "data": {
      "text/plain": [
       "0        1.671079\n",
       "1        1.636152\n",
       "2        1.604965\n",
       "3        1.593974\n",
       "4        1.443330\n",
       "           ...   \n",
       "99995    1.614122\n",
       "99996    1.601664\n",
       "99997    1.634393\n",
       "99998    1.576560\n",
       "99999    1.609044\n",
       "Length: 100000, dtype: float64"
      ]
     },
     "execution_count": 19,
     "metadata": {},
     "output_type": "execute_result"
    }
   ],
   "source": [
    "model.fittedvalues"
   ]
  },
  {
   "cell_type": "code",
   "execution_count": 20,
   "metadata": {},
   "outputs": [
    {
     "data": {
      "text/plain": [
       "{'optimizer': 'newton',\n",
       " 'start_params': [0, 0, 0, 0, 0, 0, 0, 0, 0],\n",
       " 'maxiter': 35,\n",
       " 'full_output': 1,\n",
       " 'disp': 1,\n",
       " 'fargs': (),\n",
       " 'callback': <bound method DiscreteModel._check_perfect_pred of <statsmodels.discrete.discrete_model.Logit object at 0x0000021E6EBEA1C8>>,\n",
       " 'retall': False,\n",
       " 'extra_fit_funcs': {},\n",
       " 'tol': 1e-08}"
      ]
     },
     "execution_count": 20,
     "metadata": {},
     "output_type": "execute_result"
    }
   ],
   "source": [
    "model.mle_settings"
   ]
  },
  {
   "cell_type": "code",
   "execution_count": 21,
   "metadata": {},
   "outputs": [
    {
     "data": {
      "text/plain": [
       "array([0.84171959, 0.83701059, 0.83271114, ..., 0.83677058, 0.8287168 ,\n",
       "       0.83327864])"
      ]
     },
     "execution_count": 21,
     "metadata": {},
     "output_type": "execute_result"
    }
   ],
   "source": [
    "model.predict()"
   ]
  },
  {
   "cell_type": "code",
   "execution_count": 22,
   "metadata": {},
   "outputs": [
    {
     "data": {
      "text/html": [
       "<div>\n",
       "<style scoped>\n",
       "    .dataframe tbody tr th:only-of-type {\n",
       "        vertical-align: middle;\n",
       "    }\n",
       "\n",
       "    .dataframe tbody tr th {\n",
       "        vertical-align: top;\n",
       "    }\n",
       "\n",
       "    .dataframe thead th {\n",
       "        text-align: right;\n",
       "    }\n",
       "</style>\n",
       "<table border=\"1\" class=\"dataframe\">\n",
       "  <thead>\n",
       "    <tr style=\"text-align: right;\">\n",
       "      <th></th>\n",
       "      <th>0</th>\n",
       "    </tr>\n",
       "  </thead>\n",
       "  <tbody>\n",
       "    <tr>\n",
       "      <td>0</td>\n",
       "      <td>0.841720</td>\n",
       "    </tr>\n",
       "    <tr>\n",
       "      <td>1</td>\n",
       "      <td>0.837011</td>\n",
       "    </tr>\n",
       "    <tr>\n",
       "      <td>2</td>\n",
       "      <td>0.832711</td>\n",
       "    </tr>\n",
       "    <tr>\n",
       "      <td>3</td>\n",
       "      <td>0.831174</td>\n",
       "    </tr>\n",
       "    <tr>\n",
       "      <td>4</td>\n",
       "      <td>0.808970</td>\n",
       "    </tr>\n",
       "    <tr>\n",
       "      <td>...</td>\n",
       "      <td>...</td>\n",
       "    </tr>\n",
       "    <tr>\n",
       "      <td>99995</td>\n",
       "      <td>0.833983</td>\n",
       "    </tr>\n",
       "    <tr>\n",
       "      <td>99996</td>\n",
       "      <td>0.832251</td>\n",
       "    </tr>\n",
       "    <tr>\n",
       "      <td>99997</td>\n",
       "      <td>0.836771</td>\n",
       "    </tr>\n",
       "    <tr>\n",
       "      <td>99998</td>\n",
       "      <td>0.828717</td>\n",
       "    </tr>\n",
       "    <tr>\n",
       "      <td>99999</td>\n",
       "      <td>0.833279</td>\n",
       "    </tr>\n",
       "  </tbody>\n",
       "</table>\n",
       "<p>100000 rows × 1 columns</p>\n",
       "</div>"
      ],
      "text/plain": [
       "              0\n",
       "0      0.841720\n",
       "1      0.837011\n",
       "2      0.832711\n",
       "3      0.831174\n",
       "4      0.808970\n",
       "...         ...\n",
       "99995  0.833983\n",
       "99996  0.832251\n",
       "99997  0.836771\n",
       "99998  0.828717\n",
       "99999  0.833279\n",
       "\n",
       "[100000 rows x 1 columns]"
      ]
     },
     "execution_count": 22,
     "metadata": {},
     "output_type": "execute_result"
    }
   ],
   "source": [
    "pd.DataFrame(model.predict())"
   ]
  },
  {
   "cell_type": "code",
   "execution_count": 23,
   "metadata": {},
   "outputs": [
    {
     "data": {
      "text/plain": [
       "array([[29492., 12649.],\n",
       "       [10847., 47012.]])"
      ]
     },
     "execution_count": 23,
     "metadata": {},
     "output_type": "execute_result"
    }
   ],
   "source": [
    "model.pred_table()"
   ]
  },
  {
   "cell_type": "code",
   "execution_count": 24,
   "metadata": {},
   "outputs": [],
   "source": [
    "#to drop any variables which is not required \n",
    "#Wald chisquare test statistci is the squared ratio of the estimate to standard error of respective predictor value \n",
    "ab =model.wald_test_terms()"
   ]
  },
  {
   "cell_type": "code",
   "execution_count": 25,
   "metadata": {},
   "outputs": [
    {
     "ename": "ValueError",
     "evalue": "Unable to coerce to Series, length must be 9: given 100000",
     "output_type": "error",
     "traceback": [
      "\u001b[1;31m---------------------------------------------------------------------------\u001b[0m",
      "\u001b[1;31mValueError\u001b[0m                                Traceback (most recent call last)",
      "\u001b[1;32m<ipython-input-25-423a51946a5d>\u001b[0m in \u001b[0;36m<module>\u001b[1;34m\u001b[0m\n\u001b[1;32m----> 1\u001b[1;33m \u001b[0mfb\u001b[0m\u001b[1;33m[\u001b[0m\u001b[1;34m\"pred\"\u001b[0m\u001b[1;33m]\u001b[0m \u001b[1;33m=\u001b[0m \u001b[0mmodel\u001b[0m\u001b[1;33m.\u001b[0m\u001b[0mpred_table\u001b[0m\u001b[1;33m(\u001b[0m\u001b[0mfb\u001b[0m\u001b[1;33m)\u001b[0m\u001b[1;33m\u001b[0m\u001b[1;33m\u001b[0m\u001b[0m\n\u001b[0m",
      "\u001b[1;32m~\\AppData\\Local\\Continuum\\anaconda3\\lib\\site-packages\\statsmodels\\discrete\\discrete_model.py\u001b[0m in \u001b[0;36mpred_table\u001b[1;34m(self, threshold)\u001b[0m\n\u001b[0;32m   3872\u001b[0m         \u001b[0mmodel\u001b[0m \u001b[1;33m=\u001b[0m \u001b[0mself\u001b[0m\u001b[1;33m.\u001b[0m\u001b[0mmodel\u001b[0m\u001b[1;33m\u001b[0m\u001b[1;33m\u001b[0m\u001b[0m\n\u001b[0;32m   3873\u001b[0m         \u001b[0mactual\u001b[0m \u001b[1;33m=\u001b[0m \u001b[0mmodel\u001b[0m\u001b[1;33m.\u001b[0m\u001b[0mendog\u001b[0m\u001b[1;33m\u001b[0m\u001b[1;33m\u001b[0m\u001b[0m\n\u001b[1;32m-> 3874\u001b[1;33m         \u001b[0mpred\u001b[0m \u001b[1;33m=\u001b[0m \u001b[0mnp\u001b[0m\u001b[1;33m.\u001b[0m\u001b[0marray\u001b[0m\u001b[1;33m(\u001b[0m\u001b[0mself\u001b[0m\u001b[1;33m.\u001b[0m\u001b[0mpredict\u001b[0m\u001b[1;33m(\u001b[0m\u001b[1;33m)\u001b[0m \u001b[1;33m>\u001b[0m \u001b[0mthreshold\u001b[0m\u001b[1;33m,\u001b[0m \u001b[0mdtype\u001b[0m\u001b[1;33m=\u001b[0m\u001b[0mfloat\u001b[0m\u001b[1;33m)\u001b[0m\u001b[1;33m\u001b[0m\u001b[1;33m\u001b[0m\u001b[0m\n\u001b[0m\u001b[0;32m   3875\u001b[0m         \u001b[0mbins\u001b[0m \u001b[1;33m=\u001b[0m \u001b[0mnp\u001b[0m\u001b[1;33m.\u001b[0m\u001b[0marray\u001b[0m\u001b[1;33m(\u001b[0m\u001b[1;33m[\u001b[0m\u001b[1;36m0\u001b[0m\u001b[1;33m,\u001b[0m \u001b[1;36m0.5\u001b[0m\u001b[1;33m,\u001b[0m \u001b[1;36m1\u001b[0m\u001b[1;33m]\u001b[0m\u001b[1;33m)\u001b[0m\u001b[1;33m\u001b[0m\u001b[1;33m\u001b[0m\u001b[0m\n\u001b[0;32m   3876\u001b[0m         \u001b[1;32mreturn\u001b[0m \u001b[0mnp\u001b[0m\u001b[1;33m.\u001b[0m\u001b[0mhistogram2d\u001b[0m\u001b[1;33m(\u001b[0m\u001b[0mactual\u001b[0m\u001b[1;33m,\u001b[0m \u001b[0mpred\u001b[0m\u001b[1;33m,\u001b[0m \u001b[0mbins\u001b[0m\u001b[1;33m=\u001b[0m\u001b[0mbins\u001b[0m\u001b[1;33m)\u001b[0m\u001b[1;33m[\u001b[0m\u001b[1;36m0\u001b[0m\u001b[1;33m]\u001b[0m\u001b[1;33m\u001b[0m\u001b[1;33m\u001b[0m\u001b[0m\n",
      "\u001b[1;32m~\\AppData\\Local\\Continuum\\anaconda3\\lib\\site-packages\\pandas\\core\\ops\\__init__.py\u001b[0m in \u001b[0;36mf\u001b[1;34m(self, other)\u001b[0m\n\u001b[0;32m   1559\u001b[0m     \u001b[1;32mdef\u001b[0m \u001b[0mf\u001b[0m\u001b[1;33m(\u001b[0m\u001b[0mself\u001b[0m\u001b[1;33m,\u001b[0m \u001b[0mother\u001b[0m\u001b[1;33m)\u001b[0m\u001b[1;33m:\u001b[0m\u001b[1;33m\u001b[0m\u001b[1;33m\u001b[0m\u001b[0m\n\u001b[0;32m   1560\u001b[0m \u001b[1;33m\u001b[0m\u001b[0m\n\u001b[1;32m-> 1561\u001b[1;33m         \u001b[0mother\u001b[0m \u001b[1;33m=\u001b[0m \u001b[0m_align_method_FRAME\u001b[0m\u001b[1;33m(\u001b[0m\u001b[0mself\u001b[0m\u001b[1;33m,\u001b[0m \u001b[0mother\u001b[0m\u001b[1;33m,\u001b[0m \u001b[0maxis\u001b[0m\u001b[1;33m=\u001b[0m\u001b[1;32mNone\u001b[0m\u001b[1;33m)\u001b[0m\u001b[1;33m\u001b[0m\u001b[1;33m\u001b[0m\u001b[0m\n\u001b[0m\u001b[0;32m   1562\u001b[0m \u001b[1;33m\u001b[0m\u001b[0m\n\u001b[0;32m   1563\u001b[0m         \u001b[1;32mif\u001b[0m \u001b[0misinstance\u001b[0m\u001b[1;33m(\u001b[0m\u001b[0mother\u001b[0m\u001b[1;33m,\u001b[0m \u001b[0mABCDataFrame\u001b[0m\u001b[1;33m)\u001b[0m\u001b[1;33m:\u001b[0m\u001b[1;33m\u001b[0m\u001b[1;33m\u001b[0m\u001b[0m\n",
      "\u001b[1;32m~\\AppData\\Local\\Continuum\\anaconda3\\lib\\site-packages\\pandas\\core\\ops\\__init__.py\u001b[0m in \u001b[0;36m_align_method_FRAME\u001b[1;34m(left, right, axis)\u001b[0m\n\u001b[0;32m   1425\u001b[0m \u001b[1;33m\u001b[0m\u001b[0m\n\u001b[0;32m   1426\u001b[0m         \u001b[1;32mif\u001b[0m \u001b[0mright\u001b[0m\u001b[1;33m.\u001b[0m\u001b[0mndim\u001b[0m \u001b[1;33m==\u001b[0m \u001b[1;36m1\u001b[0m\u001b[1;33m:\u001b[0m\u001b[1;33m\u001b[0m\u001b[1;33m\u001b[0m\u001b[0m\n\u001b[1;32m-> 1427\u001b[1;33m             \u001b[0mright\u001b[0m \u001b[1;33m=\u001b[0m \u001b[0mto_series\u001b[0m\u001b[1;33m(\u001b[0m\u001b[0mright\u001b[0m\u001b[1;33m)\u001b[0m\u001b[1;33m\u001b[0m\u001b[1;33m\u001b[0m\u001b[0m\n\u001b[0m\u001b[0;32m   1428\u001b[0m \u001b[1;33m\u001b[0m\u001b[0m\n\u001b[0;32m   1429\u001b[0m         \u001b[1;32melif\u001b[0m \u001b[0mright\u001b[0m\u001b[1;33m.\u001b[0m\u001b[0mndim\u001b[0m \u001b[1;33m==\u001b[0m \u001b[1;36m2\u001b[0m\u001b[1;33m:\u001b[0m\u001b[1;33m\u001b[0m\u001b[1;33m\u001b[0m\u001b[0m\n",
      "\u001b[1;32m~\\AppData\\Local\\Continuum\\anaconda3\\lib\\site-packages\\pandas\\core\\ops\\__init__.py\u001b[0m in \u001b[0;36mto_series\u001b[1;34m(right)\u001b[0m\n\u001b[0;32m   1417\u001b[0m             \u001b[1;32mif\u001b[0m \u001b[0mlen\u001b[0m\u001b[1;33m(\u001b[0m\u001b[0mleft\u001b[0m\u001b[1;33m.\u001b[0m\u001b[0mcolumns\u001b[0m\u001b[1;33m)\u001b[0m \u001b[1;33m!=\u001b[0m \u001b[0mlen\u001b[0m\u001b[1;33m(\u001b[0m\u001b[0mright\u001b[0m\u001b[1;33m)\u001b[0m\u001b[1;33m:\u001b[0m\u001b[1;33m\u001b[0m\u001b[1;33m\u001b[0m\u001b[0m\n\u001b[0;32m   1418\u001b[0m                 raise ValueError(\n\u001b[1;32m-> 1419\u001b[1;33m                     \u001b[0mmsg\u001b[0m\u001b[1;33m.\u001b[0m\u001b[0mformat\u001b[0m\u001b[1;33m(\u001b[0m\u001b[0mreq_len\u001b[0m\u001b[1;33m=\u001b[0m\u001b[0mlen\u001b[0m\u001b[1;33m(\u001b[0m\u001b[0mleft\u001b[0m\u001b[1;33m.\u001b[0m\u001b[0mcolumns\u001b[0m\u001b[1;33m)\u001b[0m\u001b[1;33m,\u001b[0m \u001b[0mgiven_len\u001b[0m\u001b[1;33m=\u001b[0m\u001b[0mlen\u001b[0m\u001b[1;33m(\u001b[0m\u001b[0mright\u001b[0m\u001b[1;33m)\u001b[0m\u001b[1;33m)\u001b[0m\u001b[1;33m\u001b[0m\u001b[1;33m\u001b[0m\u001b[0m\n\u001b[0m\u001b[0;32m   1420\u001b[0m                 )\n\u001b[0;32m   1421\u001b[0m             \u001b[0mright\u001b[0m \u001b[1;33m=\u001b[0m \u001b[0mleft\u001b[0m\u001b[1;33m.\u001b[0m\u001b[0m_constructor_sliced\u001b[0m\u001b[1;33m(\u001b[0m\u001b[0mright\u001b[0m\u001b[1;33m,\u001b[0m \u001b[0mindex\u001b[0m\u001b[1;33m=\u001b[0m\u001b[0mleft\u001b[0m\u001b[1;33m.\u001b[0m\u001b[0mcolumns\u001b[0m\u001b[1;33m)\u001b[0m\u001b[1;33m\u001b[0m\u001b[1;33m\u001b[0m\u001b[0m\n",
      "\u001b[1;31mValueError\u001b[0m: Unable to coerce to Series, length must be 9: given 100000"
     ]
    }
   ],
   "source": [
    "fb[\"pred\"] = model.pred_table(fb)"
   ]
  },
  {
   "cell_type": "code",
   "execution_count": null,
   "metadata": {},
   "outputs": [],
   "source": []
  }
 ],
 "metadata": {
  "kernelspec": {
   "display_name": "Python 3",
   "language": "python",
   "name": "python3"
  },
  "language_info": {
   "codemirror_mode": {
    "name": "ipython",
    "version": 3
   },
   "file_extension": ".py",
   "mimetype": "text/x-python",
   "name": "python",
   "nbconvert_exporter": "python",
   "pygments_lexer": "ipython3",
   "version": "3.7.4"
  }
 },
 "nbformat": 4,
 "nbformat_minor": 2
}

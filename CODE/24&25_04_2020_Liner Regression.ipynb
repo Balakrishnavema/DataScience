{
 "cells": [
  {
   "cell_type": "code",
   "execution_count": 1,
   "metadata": {},
   "outputs": [],
   "source": [
    "#Liner Regression:\n",
    "#NN continues variable \n",
    "#to check is these any significat mean differenace between two groups \n",
    "\n",
    "#it is normally distributed and otlier check "
   ]
  },
  {
   "cell_type": "code",
   "execution_count": 2,
   "metadata": {},
   "outputs": [],
   "source": [
    "#t-test: it dosen't talk about the association between two variables \n",
    "#direction & association \n",
    "\n",
    "#correlation->person \n",
    "#-1<=r<=1\n",
    "#-1 : exact negative correlation \n",
    "#1: eacat possitive correlation\n",
    "#0:- no liner relationship between two variables \n",
    "#0-0.025: negliable positive correlation\n",
    "#0.23-0.5 :week positive correlation\n",
    "#0.5-0.75: modearte positive correlation\n",
    "#0.75 <1 : strong correlation\n",
    "\n",
    "#correlation dosen't measure the cause & effect(cousaleffect)\n",
    "\n",
    "#ex: temp vs icecream sale  : wethere temp incered ice cream increced but if 2 digree temp incred how much impact icecream sale\n",
    "#impacted \n",
    "\n",
    "#correlation dosen't meauser the units for each degree\n",
    "\n",
    "#to measure the couse & effect between two attributes , we are going to use rge Liner Regression"
   ]
  },
  {
   "cell_type": "markdown",
   "metadata": {},
   "source": [
    "# Linear Regression with NN\n",
    "Fromula \" Y =mx+c   C: Constent inersect  m:slop  c=beta not(y =bo+bx+sigma(sum)\n",
    "\n",
    "Two variables are directly propossion or invesselly propotion each others "
   ]
  },
  {
   "cell_type": "code",
   "execution_count": null,
   "metadata": {},
   "outputs": [],
   "source": [
    "#Linear Regression models are used to analyze the relationship between an independent variables or variables and dependent variables\n",
    "#other names we called as predected variables for dependent variables \n",
    "\n",
    "#other names for independent(features or predictors) #depedent(response or target or predected variables)\n",
    "\n",
    "#if we are using only one indepednt variable then it's called as simple liner regression\n",
    "\n",
    "#formula is y= Bo(beta)+b1x+sigma(ei)\n",
    "#y = outcome(dependent variable)\n",
    "#beta(b0): constant cofficent(y-intercept)\n",
    "#B1x:- is the coefficent and know constant for variable\n",
    "#EI: is error (random error)\n",
    "\n",
    "#So we aee really intersted to calculate the B0 and B1(coefficent value for variable one)\n",
    "\n",
    "# 1. Data must not have multicolinearity(meaning one independent variable should be independent with other independnt variables)\n",
    "#2. the residual errors should be approximately normally distributed \n",
    "#3. Homoscecasicty\n",
    "#4. independence of errors\n",
    "#5."
   ]
  }
 ],
 "metadata": {
  "kernelspec": {
   "display_name": "Python 3",
   "language": "python",
   "name": "python3"
  },
  "language_info": {
   "codemirror_mode": {
    "name": "ipython",
    "version": 3
   },
   "file_extension": ".py",
   "mimetype": "text/x-python",
   "name": "python",
   "nbconvert_exporter": "python",
   "pygments_lexer": "ipython3",
   "version": "3.7.4"
  }
 },
 "nbformat": 4,
 "nbformat_minor": 2
}

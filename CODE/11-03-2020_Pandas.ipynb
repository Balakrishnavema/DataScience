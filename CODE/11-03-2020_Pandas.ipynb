{
 "cells": [
  {
   "cell_type": "code",
   "execution_count": 3,
   "metadata": {},
   "outputs": [
    {
     "data": {
      "text/plain": [
       "['.ipynb_checkpoints',\n",
       " '04-03-2020_Assignmnet_Datetime .ipynb',\n",
       " '04-03-2020_Assignmnet_Math.ipynb',\n",
       " '04_03_2020_Date_Time_functions.ipynb',\n",
       " '05-03-2020_Assignmnet_Numpy .ipynb',\n",
       " '05_03_2020_numpy_Session.ipynb',\n",
       " '06_03_2020_pandas-koti.ipynb',\n",
       " '06_03_2020_Pandas.ipynb',\n",
       " '06_03_2020_Pandas_assignment.ipynb',\n",
       " '09_03_2020_Pandas.ipynb',\n",
       " '09_03_2020_pandas_assignment.ipynb',\n",
       " '10-03-2020_pandas_bank_defualt.ipynb',\n",
       " '10_03_practice_python.ipynb',\n",
       " '11-03-2020_Pandas.ipynb',\n",
       " '24_02_20.ipynb',\n",
       " '26_02_2020_data_structures_python.ipynb',\n",
       " '27-02-2020_datatypes_statement_practices .ipynb',\n",
       " '27_02_2020_conditional_statements.ipynb',\n",
       " \"28-020-2020_UDF's_class.ipynb\",\n",
       " 'Assignment 25-02-2020(Python).ipynb',\n",
       " 'Assignment_26_02_2020_List_Data_type.ipynb',\n",
       " \"Assignment_26_02_2020_Set's_Data_type.ipynb\",\n",
       " 'Assignment_26_02_2020_Tuple_Data_type.ipynb',\n",
       " 'bank_market.csv.csv',\n",
       " 'bank_market1.xlsx.xlsx',\n",
       " 'bank_market_discussion-Koti1.xlsx',\n",
       " 'Bill.csv',\n",
       " 'Complaints.csv',\n",
       " 'Directories and file handling_02_03_2020.ipynb',\n",
       " 'Python_practice1_03_03_2020 .ipynb',\n",
       " 'Python_practice_03_03_2020.ipynb',\n",
       " 'test.txt',\n",
       " 'test.txt.txt',\n",
       " 'Untitled.ipynb',\n",
       " 'Untitled1.ipynb']"
      ]
     },
     "execution_count": 3,
     "metadata": {},
     "output_type": "execute_result"
    }
   ],
   "source": [
    "import os\n",
    "import pandas as pd\n",
    "import numpy as np\n",
    "os.listdir()"
   ]
  },
  {
   "cell_type": "code",
   "execution_count": 4,
   "metadata": {},
   "outputs": [],
   "source": [
    "bank = pd.read_csv('bank_market.csv.csv')"
   ]
  },
  {
   "cell_type": "code",
   "execution_count": 5,
   "metadata": {},
   "outputs": [
    {
     "data": {
      "text/plain": [
       "(45211, 18)"
      ]
     },
     "execution_count": 5,
     "metadata": {},
     "output_type": "execute_result"
    }
   ],
   "source": [
    "bank.shape"
   ]
  },
  {
   "cell_type": "code",
   "execution_count": 6,
   "metadata": {},
   "outputs": [
    {
     "data": {
      "text/plain": [
       "Index(['Cust_num', 'age', 'job', 'marital', 'education', 'default', 'balance',\n",
       "       'housing', 'loan', 'contact', 'day', 'month', 'duration', 'campaign',\n",
       "       'pdays', 'previous', 'poutcome', 'y'],\n",
       "      dtype='object')"
      ]
     },
     "execution_count": 6,
     "metadata": {},
     "output_type": "execute_result"
    }
   ],
   "source": [
    "bank.columns"
   ]
  },
  {
   "cell_type": "code",
   "execution_count": 9,
   "metadata": {},
   "outputs": [
    {
     "data": {
      "text/plain": [
       "married     27214\n",
       "single      12790\n",
       "divorced     5207\n",
       "Name: marital, dtype: int64"
      ]
     },
     "execution_count": 9,
     "metadata": {},
     "output_type": "execute_result"
    }
   ],
   "source": [
    "bank[\"marital\"].value_counts() #Frequncy for catagirical variables "
   ]
  },
  {
   "cell_type": "code",
   "execution_count": 10,
   "metadata": {},
   "outputs": [],
   "source": [
    "bank1 = bank[bank[\"marital\"]==\"single\"]"
   ]
  },
  {
   "cell_type": "code",
   "execution_count": 12,
   "metadata": {},
   "outputs": [
    {
     "data": {
      "text/plain": [
       "(12790, 18)"
      ]
     },
     "execution_count": 12,
     "metadata": {},
     "output_type": "execute_result"
    }
   ],
   "source": [
    "bank1.shape"
   ]
  },
  {
   "cell_type": "code",
   "execution_count": 16,
   "metadata": {},
   "outputs": [
    {
     "data": {
      "text/plain": [
       "(45211, 18)"
      ]
     },
     "execution_count": 16,
     "metadata": {},
     "output_type": "execute_result"
    }
   ],
   "source": [
    "bank1=bank[(bank[\"marital\"]==\"single\")|(bank[\"marital\"]==\"divorced\")]\n",
    "bank.shape"
   ]
  },
  {
   "cell_type": "code",
   "execution_count": 17,
   "metadata": {},
   "outputs": [
    {
     "data": {
      "text/plain": [
       "Index(['Cust_num', 'age', 'job', 'marital', 'education', 'default', 'balance',\n",
       "       'housing', 'loan', 'contact', 'day', 'month', 'duration', 'campaign',\n",
       "       'pdays', 'previous', 'poutcome', 'y'],\n",
       "      dtype='object')"
      ]
     },
     "execution_count": 17,
     "metadata": {},
     "output_type": "execute_result"
    }
   ],
   "source": [
    "bank.columns"
   ]
  },
  {
   "cell_type": "code",
   "execution_count": 22,
   "metadata": {},
   "outputs": [
    {
     "data": {
      "text/plain": [
       "(1136, 18)"
      ]
     },
     "execution_count": 22,
     "metadata": {},
     "output_type": "execute_result"
    }
   ],
   "source": [
    "bank1 = bank[bank[\"age\"]==44]\n",
    "bank1.shape"
   ]
  },
  {
   "cell_type": "code",
   "execution_count": 23,
   "metadata": {},
   "outputs": [
    {
     "data": {
      "text/plain": [
       "(1947, 18)"
      ]
     },
     "execution_count": 23,
     "metadata": {},
     "output_type": "execute_result"
    }
   ],
   "source": [
    "bank1 = bank[(bank[\"age\"]==44)|(bank[\"age\"]==54)]\n",
    "bank1.shape"
   ]
  },
  {
   "cell_type": "code",
   "execution_count": 25,
   "metadata": {},
   "outputs": [
    {
     "data": {
      "text/plain": [
       "(347, 18)"
      ]
     },
     "execution_count": 25,
     "metadata": {},
     "output_type": "execute_result"
    }
   ],
   "source": [
    "bank1 = bank[(bank[\"age\"] > 40) & (bank[\"default\"]==\"yes\")]\n",
    "bank1.shape"
   ]
  },
  {
   "cell_type": "code",
   "execution_count": 27,
   "metadata": {},
   "outputs": [
    {
     "data": {
      "text/plain": [
       "(1610, 18)"
      ]
     },
     "execution_count": 27,
     "metadata": {},
     "output_type": "execute_result"
    }
   ],
   "source": [
    "bank2 = bank[(bank[\"age\"]>40)&(bank[\"balance\"]<0)]\n",
    "bank2.shape"
   ]
  },
  {
   "cell_type": "code",
   "execution_count": 33,
   "metadata": {},
   "outputs": [
    {
     "data": {
      "text/plain": [
       "(367, 18)"
      ]
     },
     "execution_count": 33,
     "metadata": {},
     "output_type": "execute_result"
    }
   ],
   "source": [
    "bank2 = bank[((bank[\"marital\"]==\"single\")|(bank[\"marital\"]==\"divorced\"))&(bank[\"default\"]==\"yes\")]\n",
    "bank2.shape"
   ]
  },
  {
   "cell_type": "code",
   "execution_count": 35,
   "metadata": {},
   "outputs": [
    {
     "data": {
      "text/plain": [
       "(815, 18)"
      ]
     },
     "execution_count": 35,
     "metadata": {},
     "output_type": "execute_result"
    }
   ],
   "source": [
    "bank2 = bank[bank[\"default\"]==\"yes\"]\n",
    "bank2.shape"
   ]
  },
  {
   "cell_type": "code",
   "execution_count": 38,
   "metadata": {},
   "outputs": [
    {
     "data": {
      "text/plain": [
       "(2543, 18)"
      ]
     },
     "execution_count": 38,
     "metadata": {},
     "output_type": "execute_result"
    }
   ],
   "source": [
    "bank1 = bank[bank[\"age\"].isin([44,54,60])]\n",
    "bank1.shape"
   ]
  },
  {
   "cell_type": "code",
   "execution_count": 41,
   "metadata": {},
   "outputs": [
    {
     "data": {
      "text/html": [
       "<div>\n",
       "<style scoped>\n",
       "    .dataframe tbody tr th:only-of-type {\n",
       "        vertical-align: middle;\n",
       "    }\n",
       "\n",
       "    .dataframe tbody tr th {\n",
       "        vertical-align: top;\n",
       "    }\n",
       "\n",
       "    .dataframe thead th {\n",
       "        text-align: right;\n",
       "    }\n",
       "</style>\n",
       "<table border=\"1\" class=\"dataframe\">\n",
       "  <thead>\n",
       "    <tr style=\"text-align: right;\">\n",
       "      <th></th>\n",
       "      <th>Cust_num</th>\n",
       "      <th>age</th>\n",
       "      <th>balance</th>\n",
       "      <th>day</th>\n",
       "      <th>duration</th>\n",
       "      <th>campaign</th>\n",
       "      <th>pdays</th>\n",
       "      <th>previous</th>\n",
       "    </tr>\n",
       "  </thead>\n",
       "  <tbody>\n",
       "    <tr>\n",
       "      <td>count</td>\n",
       "      <td>45211.000000</td>\n",
       "      <td>45211.000000</td>\n",
       "      <td>45211.000000</td>\n",
       "      <td>45211.000000</td>\n",
       "      <td>45211.000000</td>\n",
       "      <td>45211.000000</td>\n",
       "      <td>45211.000000</td>\n",
       "      <td>45211.000000</td>\n",
       "    </tr>\n",
       "    <tr>\n",
       "      <td>mean</td>\n",
       "      <td>22606.000000</td>\n",
       "      <td>40.936210</td>\n",
       "      <td>1362.272058</td>\n",
       "      <td>15.806419</td>\n",
       "      <td>258.163080</td>\n",
       "      <td>2.763841</td>\n",
       "      <td>40.197828</td>\n",
       "      <td>0.580323</td>\n",
       "    </tr>\n",
       "    <tr>\n",
       "      <td>std</td>\n",
       "      <td>13051.435847</td>\n",
       "      <td>10.618762</td>\n",
       "      <td>3044.765829</td>\n",
       "      <td>8.322476</td>\n",
       "      <td>257.527812</td>\n",
       "      <td>3.098021</td>\n",
       "      <td>100.128746</td>\n",
       "      <td>2.303441</td>\n",
       "    </tr>\n",
       "    <tr>\n",
       "      <td>min</td>\n",
       "      <td>1.000000</td>\n",
       "      <td>18.000000</td>\n",
       "      <td>-8019.000000</td>\n",
       "      <td>1.000000</td>\n",
       "      <td>0.000000</td>\n",
       "      <td>1.000000</td>\n",
       "      <td>-1.000000</td>\n",
       "      <td>0.000000</td>\n",
       "    </tr>\n",
       "    <tr>\n",
       "      <td>25%</td>\n",
       "      <td>11303.500000</td>\n",
       "      <td>33.000000</td>\n",
       "      <td>72.000000</td>\n",
       "      <td>8.000000</td>\n",
       "      <td>103.000000</td>\n",
       "      <td>1.000000</td>\n",
       "      <td>-1.000000</td>\n",
       "      <td>0.000000</td>\n",
       "    </tr>\n",
       "    <tr>\n",
       "      <td>50%</td>\n",
       "      <td>22606.000000</td>\n",
       "      <td>39.000000</td>\n",
       "      <td>448.000000</td>\n",
       "      <td>16.000000</td>\n",
       "      <td>180.000000</td>\n",
       "      <td>2.000000</td>\n",
       "      <td>-1.000000</td>\n",
       "      <td>0.000000</td>\n",
       "    </tr>\n",
       "    <tr>\n",
       "      <td>75%</td>\n",
       "      <td>33908.500000</td>\n",
       "      <td>48.000000</td>\n",
       "      <td>1428.000000</td>\n",
       "      <td>21.000000</td>\n",
       "      <td>319.000000</td>\n",
       "      <td>3.000000</td>\n",
       "      <td>-1.000000</td>\n",
       "      <td>0.000000</td>\n",
       "    </tr>\n",
       "    <tr>\n",
       "      <td>max</td>\n",
       "      <td>45211.000000</td>\n",
       "      <td>95.000000</td>\n",
       "      <td>102127.000000</td>\n",
       "      <td>31.000000</td>\n",
       "      <td>4918.000000</td>\n",
       "      <td>63.000000</td>\n",
       "      <td>871.000000</td>\n",
       "      <td>275.000000</td>\n",
       "    </tr>\n",
       "  </tbody>\n",
       "</table>\n",
       "</div>"
      ],
      "text/plain": [
       "           Cust_num           age        balance           day      duration  \\\n",
       "count  45211.000000  45211.000000   45211.000000  45211.000000  45211.000000   \n",
       "mean   22606.000000     40.936210    1362.272058     15.806419    258.163080   \n",
       "std    13051.435847     10.618762    3044.765829      8.322476    257.527812   \n",
       "min        1.000000     18.000000   -8019.000000      1.000000      0.000000   \n",
       "25%    11303.500000     33.000000      72.000000      8.000000    103.000000   \n",
       "50%    22606.000000     39.000000     448.000000     16.000000    180.000000   \n",
       "75%    33908.500000     48.000000    1428.000000     21.000000    319.000000   \n",
       "max    45211.000000     95.000000  102127.000000     31.000000   4918.000000   \n",
       "\n",
       "           campaign         pdays      previous  \n",
       "count  45211.000000  45211.000000  45211.000000  \n",
       "mean       2.763841     40.197828      0.580323  \n",
       "std        3.098021    100.128746      2.303441  \n",
       "min        1.000000     -1.000000      0.000000  \n",
       "25%        1.000000     -1.000000      0.000000  \n",
       "50%        2.000000     -1.000000      0.000000  \n",
       "75%        3.000000     -1.000000      0.000000  \n",
       "max       63.000000    871.000000    275.000000  "
      ]
     },
     "execution_count": 41,
     "metadata": {},
     "output_type": "execute_result"
    }
   ],
   "source": [
    "bank.describe()#describe function produce the summary statistics for the numerical data"
   ]
  },
  {
   "cell_type": "code",
   "execution_count": 42,
   "metadata": {},
   "outputs": [
    {
     "data": {
      "text/html": [
       "<div>\n",
       "<style scoped>\n",
       "    .dataframe tbody tr th:only-of-type {\n",
       "        vertical-align: middle;\n",
       "    }\n",
       "\n",
       "    .dataframe tbody tr th {\n",
       "        vertical-align: top;\n",
       "    }\n",
       "\n",
       "    .dataframe thead th {\n",
       "        text-align: right;\n",
       "    }\n",
       "</style>\n",
       "<table border=\"1\" class=\"dataframe\">\n",
       "  <thead>\n",
       "    <tr style=\"text-align: right;\">\n",
       "      <th></th>\n",
       "      <th>count</th>\n",
       "      <th>mean</th>\n",
       "      <th>std</th>\n",
       "      <th>min</th>\n",
       "      <th>25%</th>\n",
       "      <th>50%</th>\n",
       "      <th>75%</th>\n",
       "      <th>max</th>\n",
       "    </tr>\n",
       "  </thead>\n",
       "  <tbody>\n",
       "    <tr>\n",
       "      <td>Cust_num</td>\n",
       "      <td>45211.0</td>\n",
       "      <td>22606.000000</td>\n",
       "      <td>13051.435847</td>\n",
       "      <td>1.0</td>\n",
       "      <td>11303.5</td>\n",
       "      <td>22606.0</td>\n",
       "      <td>33908.5</td>\n",
       "      <td>45211.0</td>\n",
       "    </tr>\n",
       "    <tr>\n",
       "      <td>age</td>\n",
       "      <td>45211.0</td>\n",
       "      <td>40.936210</td>\n",
       "      <td>10.618762</td>\n",
       "      <td>18.0</td>\n",
       "      <td>33.0</td>\n",
       "      <td>39.0</td>\n",
       "      <td>48.0</td>\n",
       "      <td>95.0</td>\n",
       "    </tr>\n",
       "    <tr>\n",
       "      <td>balance</td>\n",
       "      <td>45211.0</td>\n",
       "      <td>1362.272058</td>\n",
       "      <td>3044.765829</td>\n",
       "      <td>-8019.0</td>\n",
       "      <td>72.0</td>\n",
       "      <td>448.0</td>\n",
       "      <td>1428.0</td>\n",
       "      <td>102127.0</td>\n",
       "    </tr>\n",
       "    <tr>\n",
       "      <td>day</td>\n",
       "      <td>45211.0</td>\n",
       "      <td>15.806419</td>\n",
       "      <td>8.322476</td>\n",
       "      <td>1.0</td>\n",
       "      <td>8.0</td>\n",
       "      <td>16.0</td>\n",
       "      <td>21.0</td>\n",
       "      <td>31.0</td>\n",
       "    </tr>\n",
       "    <tr>\n",
       "      <td>duration</td>\n",
       "      <td>45211.0</td>\n",
       "      <td>258.163080</td>\n",
       "      <td>257.527812</td>\n",
       "      <td>0.0</td>\n",
       "      <td>103.0</td>\n",
       "      <td>180.0</td>\n",
       "      <td>319.0</td>\n",
       "      <td>4918.0</td>\n",
       "    </tr>\n",
       "    <tr>\n",
       "      <td>campaign</td>\n",
       "      <td>45211.0</td>\n",
       "      <td>2.763841</td>\n",
       "      <td>3.098021</td>\n",
       "      <td>1.0</td>\n",
       "      <td>1.0</td>\n",
       "      <td>2.0</td>\n",
       "      <td>3.0</td>\n",
       "      <td>63.0</td>\n",
       "    </tr>\n",
       "    <tr>\n",
       "      <td>pdays</td>\n",
       "      <td>45211.0</td>\n",
       "      <td>40.197828</td>\n",
       "      <td>100.128746</td>\n",
       "      <td>-1.0</td>\n",
       "      <td>-1.0</td>\n",
       "      <td>-1.0</td>\n",
       "      <td>-1.0</td>\n",
       "      <td>871.0</td>\n",
       "    </tr>\n",
       "    <tr>\n",
       "      <td>previous</td>\n",
       "      <td>45211.0</td>\n",
       "      <td>0.580323</td>\n",
       "      <td>2.303441</td>\n",
       "      <td>0.0</td>\n",
       "      <td>0.0</td>\n",
       "      <td>0.0</td>\n",
       "      <td>0.0</td>\n",
       "      <td>275.0</td>\n",
       "    </tr>\n",
       "  </tbody>\n",
       "</table>\n",
       "</div>"
      ],
      "text/plain": [
       "            count          mean           std     min      25%      50%  \\\n",
       "Cust_num  45211.0  22606.000000  13051.435847     1.0  11303.5  22606.0   \n",
       "age       45211.0     40.936210     10.618762    18.0     33.0     39.0   \n",
       "balance   45211.0   1362.272058   3044.765829 -8019.0     72.0    448.0   \n",
       "day       45211.0     15.806419      8.322476     1.0      8.0     16.0   \n",
       "duration  45211.0    258.163080    257.527812     0.0    103.0    180.0   \n",
       "campaign  45211.0      2.763841      3.098021     1.0      1.0      2.0   \n",
       "pdays     45211.0     40.197828    100.128746    -1.0     -1.0     -1.0   \n",
       "previous  45211.0      0.580323      2.303441     0.0      0.0      0.0   \n",
       "\n",
       "              75%       max  \n",
       "Cust_num  33908.5   45211.0  \n",
       "age          48.0      95.0  \n",
       "balance    1428.0  102127.0  \n",
       "day          21.0      31.0  \n",
       "duration    319.0    4918.0  \n",
       "campaign      3.0      63.0  \n",
       "pdays        -1.0     871.0  \n",
       "previous      0.0     275.0  "
      ]
     },
     "execution_count": 42,
     "metadata": {},
     "output_type": "execute_result"
    }
   ],
   "source": [
    "bank.describe().T  # Or Trasnspose()"
   ]
  },
  {
   "cell_type": "code",
   "execution_count": 43,
   "metadata": {},
   "outputs": [
    {
     "data": {
      "text/html": [
       "<div>\n",
       "<style scoped>\n",
       "    .dataframe tbody tr th:only-of-type {\n",
       "        vertical-align: middle;\n",
       "    }\n",
       "\n",
       "    .dataframe tbody tr th {\n",
       "        vertical-align: top;\n",
       "    }\n",
       "\n",
       "    .dataframe thead th {\n",
       "        text-align: right;\n",
       "    }\n",
       "</style>\n",
       "<table border=\"1\" class=\"dataframe\">\n",
       "  <thead>\n",
       "    <tr style=\"text-align: right;\">\n",
       "      <th></th>\n",
       "      <th>count</th>\n",
       "      <th>mean</th>\n",
       "      <th>std</th>\n",
       "      <th>min</th>\n",
       "      <th>25%</th>\n",
       "      <th>50%</th>\n",
       "      <th>75%</th>\n",
       "      <th>max</th>\n",
       "    </tr>\n",
       "  </thead>\n",
       "  <tbody>\n",
       "    <tr>\n",
       "      <td>Cust_num</td>\n",
       "      <td>45211.0</td>\n",
       "      <td>22606.000000</td>\n",
       "      <td>13051.435847</td>\n",
       "      <td>1.0</td>\n",
       "      <td>11303.5</td>\n",
       "      <td>22606.0</td>\n",
       "      <td>33908.5</td>\n",
       "      <td>45211.0</td>\n",
       "    </tr>\n",
       "    <tr>\n",
       "      <td>age</td>\n",
       "      <td>45211.0</td>\n",
       "      <td>40.936210</td>\n",
       "      <td>10.618762</td>\n",
       "      <td>18.0</td>\n",
       "      <td>33.0</td>\n",
       "      <td>39.0</td>\n",
       "      <td>48.0</td>\n",
       "      <td>95.0</td>\n",
       "    </tr>\n",
       "    <tr>\n",
       "      <td>balance</td>\n",
       "      <td>45211.0</td>\n",
       "      <td>1362.272058</td>\n",
       "      <td>3044.765829</td>\n",
       "      <td>-8019.0</td>\n",
       "      <td>72.0</td>\n",
       "      <td>448.0</td>\n",
       "      <td>1428.0</td>\n",
       "      <td>102127.0</td>\n",
       "    </tr>\n",
       "    <tr>\n",
       "      <td>day</td>\n",
       "      <td>45211.0</td>\n",
       "      <td>15.806419</td>\n",
       "      <td>8.322476</td>\n",
       "      <td>1.0</td>\n",
       "      <td>8.0</td>\n",
       "      <td>16.0</td>\n",
       "      <td>21.0</td>\n",
       "      <td>31.0</td>\n",
       "    </tr>\n",
       "    <tr>\n",
       "      <td>duration</td>\n",
       "      <td>45211.0</td>\n",
       "      <td>258.163080</td>\n",
       "      <td>257.527812</td>\n",
       "      <td>0.0</td>\n",
       "      <td>103.0</td>\n",
       "      <td>180.0</td>\n",
       "      <td>319.0</td>\n",
       "      <td>4918.0</td>\n",
       "    </tr>\n",
       "    <tr>\n",
       "      <td>campaign</td>\n",
       "      <td>45211.0</td>\n",
       "      <td>2.763841</td>\n",
       "      <td>3.098021</td>\n",
       "      <td>1.0</td>\n",
       "      <td>1.0</td>\n",
       "      <td>2.0</td>\n",
       "      <td>3.0</td>\n",
       "      <td>63.0</td>\n",
       "    </tr>\n",
       "    <tr>\n",
       "      <td>pdays</td>\n",
       "      <td>45211.0</td>\n",
       "      <td>40.197828</td>\n",
       "      <td>100.128746</td>\n",
       "      <td>-1.0</td>\n",
       "      <td>-1.0</td>\n",
       "      <td>-1.0</td>\n",
       "      <td>-1.0</td>\n",
       "      <td>871.0</td>\n",
       "    </tr>\n",
       "    <tr>\n",
       "      <td>previous</td>\n",
       "      <td>45211.0</td>\n",
       "      <td>0.580323</td>\n",
       "      <td>2.303441</td>\n",
       "      <td>0.0</td>\n",
       "      <td>0.0</td>\n",
       "      <td>0.0</td>\n",
       "      <td>0.0</td>\n",
       "      <td>275.0</td>\n",
       "    </tr>\n",
       "  </tbody>\n",
       "</table>\n",
       "</div>"
      ],
      "text/plain": [
       "            count          mean           std     min      25%      50%  \\\n",
       "Cust_num  45211.0  22606.000000  13051.435847     1.0  11303.5  22606.0   \n",
       "age       45211.0     40.936210     10.618762    18.0     33.0     39.0   \n",
       "balance   45211.0   1362.272058   3044.765829 -8019.0     72.0    448.0   \n",
       "day       45211.0     15.806419      8.322476     1.0      8.0     16.0   \n",
       "duration  45211.0    258.163080    257.527812     0.0    103.0    180.0   \n",
       "campaign  45211.0      2.763841      3.098021     1.0      1.0      2.0   \n",
       "pdays     45211.0     40.197828    100.128746    -1.0     -1.0     -1.0   \n",
       "previous  45211.0      0.580323      2.303441     0.0      0.0      0.0   \n",
       "\n",
       "              75%       max  \n",
       "Cust_num  33908.5   45211.0  \n",
       "age          48.0      95.0  \n",
       "balance    1428.0  102127.0  \n",
       "day          21.0      31.0  \n",
       "duration    319.0    4918.0  \n",
       "campaign      3.0      63.0  \n",
       "pdays        -1.0     871.0  \n",
       "previous      0.0     275.0  "
      ]
     },
     "execution_count": 43,
     "metadata": {},
     "output_type": "execute_result"
    }
   ],
   "source": [
    "bank.describe().transpose()"
   ]
  },
  {
   "cell_type": "code",
   "execution_count": 44,
   "metadata": {},
   "outputs": [
    {
     "data": {
      "text/plain": [
       "72.0"
      ]
     },
     "execution_count": 44,
     "metadata": {},
     "output_type": "execute_result"
    }
   ],
   "source": [
    "bank[\"balance\"].quantile(0.25)"
   ]
  },
  {
   "cell_type": "code",
   "execution_count": 47,
   "metadata": {},
   "outputs": [
    {
     "data": {
      "text/plain": [
       "0.000     -8019.00\n",
       "0.050      -172.00\n",
       "0.250        72.00\n",
       "0.500       448.00\n",
       "0.750      1428.00\n",
       "0.900      3574.00\n",
       "0.950      5768.00\n",
       "0.997     22561.44\n",
       "1.000    102127.00\n",
       "Name: balance, dtype: float64"
      ]
     },
     "execution_count": 47,
     "metadata": {},
     "output_type": "execute_result"
    }
   ],
   "source": [
    "bank[\"balance\"].quantile([0,0.05,0.25,0.5,0.75,0.9,0.95,0.997,1])"
   ]
  },
  {
   "cell_type": "code",
   "execution_count": 49,
   "metadata": {},
   "outputs": [],
   "source": [
    "#outlier  means extream value there are two kinds of outlier 1. lower side outlier 2. upper side outlier \n",
    "#Q1:25%\n",
    "#Q2: 50%\n",
    "#Q3:75%\n",
    "#Q4:100%\n",
    "#diffrence bitween Q3-Q1 is IQR data(L.O: Q1-1.5*IQR) (U.O: Q3+1.5*IQR)\n",
    "#any data point which is less than LO those are called as lower outlier \n",
    "#any data point which is above UO value that is upper outlier\n",
    "#interview Question: can you tell me outlier valye \n",
    "#Question2: Can you tell me missing value"
   ]
  },
  {
   "cell_type": "code",
   "execution_count": 51,
   "metadata": {},
   "outputs": [
    {
     "data": {
      "text/plain": [
       "1356.0"
      ]
     },
     "execution_count": 51,
     "metadata": {},
     "output_type": "execute_result"
    }
   ],
   "source": [
    "iqr = bank[\"balance\"].quantile(0.75)- bank[\"balance\"].quantile(0.25)\n",
    "iqr"
   ]
  },
  {
   "cell_type": "code",
   "execution_count": 55,
   "metadata": {},
   "outputs": [
    {
     "name": "stdout",
     "output_type": "stream",
     "text": [
      "lower outlier cut point -1962.0\n",
      "min balance in given data -8019\n",
      "\n",
      "\n",
      "upper outlier cut point 3462.0\n",
      "max balance in given data 102127\n"
     ]
    }
   ],
   "source": [
    "lo = bank[\"balance\"].quantile(0.25)-(1.5*iqr)\n",
    "print(\"lower outlier cut point\", lo)\n",
    "print(\"min balance in given data\" , bank[\"balance\"].min())\n",
    "print(\"\\n\")\n",
    "uo = bank[\"balance\"].quantile(0.75)+(1.5*iqr)\n",
    "print(\"upper outlier cut point\" , uo)\n",
    "print(\"max balance in given data\", bank[\"balance\"].max())"
   ]
  },
  {
   "cell_type": "code",
   "execution_count": 80,
   "metadata": {},
   "outputs": [],
   "source": [
    "def outlier_cal(data):\n",
    "    col = list(data.columns)\n",
    "    for i in col:\n",
    "        if data[i].dtypes != \"object\":\n",
    "            iqr=data[i].quantile(0.75)-data[i].quantile(0.25)\n",
    "            lo = data[i].quantile(0.25)-(1.5*iqr)\n",
    "            uo = data[i].quantile(0.75)+(1.5*iqr)\n",
    "            print(\"each variable orutlier values\", i, \"\\n\")\n",
    "            print(\"lower outlier cut off value\", lo)\n",
    "            print(\"min value in given data\", data[i].min())\n",
    "            print(\"upper outlier cut off data\", uo)\n",
    "            print(\"max value of given data\", data[i].max())\n",
    "            print(\"\\n\")"
   ]
  },
  {
   "cell_type": "code",
   "execution_count": 63,
   "metadata": {},
   "outputs": [
    {
     "name": "stdout",
     "output_type": "stream",
     "text": [
      "each variable outlier values Cust_num \n",
      "\n",
      "lower outlier cut off value -22604.0\n",
      "min value in given data 1\n",
      "upper outlier cut off data 67816.0\n",
      "max value of given data 45211\n",
      "\n",
      "\n",
      "each variable outlier values age \n",
      "\n",
      "lower outlier cut off value 10.5\n",
      "min value in given data 18\n",
      "upper outlier cut off data 70.5\n",
      "max value of given data 95\n",
      "\n",
      "\n",
      "each variable outlier values balance \n",
      "\n",
      "lower outlier cut off value -1962.0\n",
      "min value in given data -8019\n",
      "upper outlier cut off data 3462.0\n",
      "max value of given data 102127\n",
      "\n",
      "\n",
      "each variable outlier values day \n",
      "\n",
      "lower outlier cut off value -11.5\n",
      "min value in given data 1\n",
      "upper outlier cut off data 40.5\n",
      "max value of given data 31\n",
      "\n",
      "\n",
      "each variable outlier values duration \n",
      "\n",
      "lower outlier cut off value -221.0\n",
      "min value in given data 0\n",
      "upper outlier cut off data 643.0\n",
      "max value of given data 4918\n",
      "\n",
      "\n",
      "each variable outlier values campaign \n",
      "\n",
      "lower outlier cut off value -2.0\n",
      "min value in given data 1\n",
      "upper outlier cut off data 6.0\n",
      "max value of given data 63\n",
      "\n",
      "\n",
      "each variable outlier values pdays \n",
      "\n",
      "lower outlier cut off value -1.0\n",
      "min value in given data -1\n",
      "upper outlier cut off data -1.0\n",
      "max value of given data 871\n",
      "\n",
      "\n",
      "each variable outlier values previous \n",
      "\n",
      "lower outlier cut off value 0.0\n",
      "min value in given data 0\n",
      "upper outlier cut off data 0.0\n",
      "max value of given data 275\n",
      "\n",
      "\n"
     ]
    }
   ],
   "source": [
    "outlier_cal(data= bank)"
   ]
  },
  {
   "cell_type": "code",
   "execution_count": 77,
   "metadata": {},
   "outputs": [],
   "source": [
    "def numeric_summary_stat(data):\n",
    "    sumry_stat=data.describe().T\n",
    "    iqr = sumry_stat[\"75%\"]-sumry_stat[\"25%\"]\n",
    "    sumry_stat[\"lo\"] = sumry_stat[\"25%\"]-(1.5*iqr)\n",
    "    sumry_stat[\"uo\"] = sumry_stat[\"75%\"]+(1.5*iqr)\n",
    "    sumry_stat[\"missing%\"]=(len(data)-sumry_stat[\"count\"])/len(data)*100\n",
    "    sumry_stat[\"5%\"] = data.quantile(0.05)\n",
    "    sumry_stat1= sumry_stat[[\"min\",\"5%\", \"50%\", \"mean\", \"75%\",\"max\",\"count\",\"missing%\", \"lo\", \"uo\"]]\n",
    "    sumry_stat1.to_excel(r\"C:\\Users\\Balakrishna_Vema\\Documents\\Data science\\Analysis\\summary_stat.xlsx\")                            \n",
    "    return sumry_stat1"
   ]
  },
  {
   "cell_type": "code",
   "execution_count": 78,
   "metadata": {},
   "outputs": [
    {
     "data": {
      "text/html": [
       "<div>\n",
       "<style scoped>\n",
       "    .dataframe tbody tr th:only-of-type {\n",
       "        vertical-align: middle;\n",
       "    }\n",
       "\n",
       "    .dataframe tbody tr th {\n",
       "        vertical-align: top;\n",
       "    }\n",
       "\n",
       "    .dataframe thead th {\n",
       "        text-align: right;\n",
       "    }\n",
       "</style>\n",
       "<table border=\"1\" class=\"dataframe\">\n",
       "  <thead>\n",
       "    <tr style=\"text-align: right;\">\n",
       "      <th></th>\n",
       "      <th>min</th>\n",
       "      <th>5%</th>\n",
       "      <th>50%</th>\n",
       "      <th>mean</th>\n",
       "      <th>75%</th>\n",
       "      <th>max</th>\n",
       "      <th>count</th>\n",
       "      <th>missing%</th>\n",
       "      <th>lo</th>\n",
       "      <th>uo</th>\n",
       "    </tr>\n",
       "  </thead>\n",
       "  <tbody>\n",
       "    <tr>\n",
       "      <td>Cust_num</td>\n",
       "      <td>1.0</td>\n",
       "      <td>2261.5</td>\n",
       "      <td>22606.0</td>\n",
       "      <td>22606.000000</td>\n",
       "      <td>33908.5</td>\n",
       "      <td>45211.0</td>\n",
       "      <td>45211.0</td>\n",
       "      <td>0.0</td>\n",
       "      <td>-22604.0</td>\n",
       "      <td>67816.0</td>\n",
       "    </tr>\n",
       "    <tr>\n",
       "      <td>age</td>\n",
       "      <td>18.0</td>\n",
       "      <td>27.0</td>\n",
       "      <td>39.0</td>\n",
       "      <td>40.936210</td>\n",
       "      <td>48.0</td>\n",
       "      <td>95.0</td>\n",
       "      <td>45211.0</td>\n",
       "      <td>0.0</td>\n",
       "      <td>10.5</td>\n",
       "      <td>70.5</td>\n",
       "    </tr>\n",
       "    <tr>\n",
       "      <td>balance</td>\n",
       "      <td>-8019.0</td>\n",
       "      <td>-172.0</td>\n",
       "      <td>448.0</td>\n",
       "      <td>1362.272058</td>\n",
       "      <td>1428.0</td>\n",
       "      <td>102127.0</td>\n",
       "      <td>45211.0</td>\n",
       "      <td>0.0</td>\n",
       "      <td>-1962.0</td>\n",
       "      <td>3462.0</td>\n",
       "    </tr>\n",
       "    <tr>\n",
       "      <td>day</td>\n",
       "      <td>1.0</td>\n",
       "      <td>3.0</td>\n",
       "      <td>16.0</td>\n",
       "      <td>15.806419</td>\n",
       "      <td>21.0</td>\n",
       "      <td>31.0</td>\n",
       "      <td>45211.0</td>\n",
       "      <td>0.0</td>\n",
       "      <td>-11.5</td>\n",
       "      <td>40.5</td>\n",
       "    </tr>\n",
       "    <tr>\n",
       "      <td>duration</td>\n",
       "      <td>0.0</td>\n",
       "      <td>35.0</td>\n",
       "      <td>180.0</td>\n",
       "      <td>258.163080</td>\n",
       "      <td>319.0</td>\n",
       "      <td>4918.0</td>\n",
       "      <td>45211.0</td>\n",
       "      <td>0.0</td>\n",
       "      <td>-221.0</td>\n",
       "      <td>643.0</td>\n",
       "    </tr>\n",
       "    <tr>\n",
       "      <td>campaign</td>\n",
       "      <td>1.0</td>\n",
       "      <td>1.0</td>\n",
       "      <td>2.0</td>\n",
       "      <td>2.763841</td>\n",
       "      <td>3.0</td>\n",
       "      <td>63.0</td>\n",
       "      <td>45211.0</td>\n",
       "      <td>0.0</td>\n",
       "      <td>-2.0</td>\n",
       "      <td>6.0</td>\n",
       "    </tr>\n",
       "    <tr>\n",
       "      <td>pdays</td>\n",
       "      <td>-1.0</td>\n",
       "      <td>-1.0</td>\n",
       "      <td>-1.0</td>\n",
       "      <td>40.197828</td>\n",
       "      <td>-1.0</td>\n",
       "      <td>871.0</td>\n",
       "      <td>45211.0</td>\n",
       "      <td>0.0</td>\n",
       "      <td>-1.0</td>\n",
       "      <td>-1.0</td>\n",
       "    </tr>\n",
       "    <tr>\n",
       "      <td>previous</td>\n",
       "      <td>0.0</td>\n",
       "      <td>0.0</td>\n",
       "      <td>0.0</td>\n",
       "      <td>0.580323</td>\n",
       "      <td>0.0</td>\n",
       "      <td>275.0</td>\n",
       "      <td>45211.0</td>\n",
       "      <td>0.0</td>\n",
       "      <td>0.0</td>\n",
       "      <td>0.0</td>\n",
       "    </tr>\n",
       "  </tbody>\n",
       "</table>\n",
       "</div>"
      ],
      "text/plain": [
       "             min      5%      50%          mean      75%       max    count  \\\n",
       "Cust_num     1.0  2261.5  22606.0  22606.000000  33908.5   45211.0  45211.0   \n",
       "age         18.0    27.0     39.0     40.936210     48.0      95.0  45211.0   \n",
       "balance  -8019.0  -172.0    448.0   1362.272058   1428.0  102127.0  45211.0   \n",
       "day          1.0     3.0     16.0     15.806419     21.0      31.0  45211.0   \n",
       "duration     0.0    35.0    180.0    258.163080    319.0    4918.0  45211.0   \n",
       "campaign     1.0     1.0      2.0      2.763841      3.0      63.0  45211.0   \n",
       "pdays       -1.0    -1.0     -1.0     40.197828     -1.0     871.0  45211.0   \n",
       "previous     0.0     0.0      0.0      0.580323      0.0     275.0  45211.0   \n",
       "\n",
       "          missing%       lo       uo  \n",
       "Cust_num       0.0 -22604.0  67816.0  \n",
       "age            0.0     10.5     70.5  \n",
       "balance        0.0  -1962.0   3462.0  \n",
       "day            0.0    -11.5     40.5  \n",
       "duration       0.0   -221.0    643.0  \n",
       "campaign       0.0     -2.0      6.0  \n",
       "pdays          0.0     -1.0     -1.0  \n",
       "previous       0.0      0.0      0.0  "
      ]
     },
     "execution_count": 78,
     "metadata": {},
     "output_type": "execute_result"
    }
   ],
   "source": [
    "numeric_summary_stat(data = bank)"
   ]
  },
  {
   "cell_type": "code",
   "execution_count": 81,
   "metadata": {},
   "outputs": [
    {
     "data": {
      "text/plain": [
       "45211"
      ]
     },
     "execution_count": 81,
     "metadata": {},
     "output_type": "execute_result"
    }
   ],
   "source": [
    "len(bank)"
   ]
  },
  {
   "cell_type": "code",
   "execution_count": null,
   "metadata": {},
   "outputs": [],
   "source": []
  }
 ],
 "metadata": {
  "kernelspec": {
   "display_name": "Python 3",
   "language": "python",
   "name": "python3"
  },
  "language_info": {
   "codemirror_mode": {
    "name": "ipython",
    "version": 3
   },
   "file_extension": ".py",
   "mimetype": "text/x-python",
   "name": "python",
   "nbconvert_exporter": "python",
   "pygments_lexer": "ipython3",
   "version": "3.7.4"
  }
 },
 "nbformat": 4,
 "nbformat_minor": 2
}

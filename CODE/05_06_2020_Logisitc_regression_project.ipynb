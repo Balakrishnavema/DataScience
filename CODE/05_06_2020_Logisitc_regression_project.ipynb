{
 "cells": [
  {
   "cell_type": "markdown",
   "metadata": {},
   "source": [
    "# Objective: \n",
    "\n",
    "1. Prime goal : identify reasons for customer default\n",
    "                default: Any customer who is not paying the bill continously for 3 months\n",
    "                \n",
    "2. what are distinguish characterstics of default and non default customers\n",
    "3. what are factors which are influcing the defaulter\n",
    "\n",
    "Future: based on histroical data, can we predict who is going to become the defaulter?\n",
    "\n",
    "scope: to mitigate the risk and save the amount and make the decision for financial plannings"
   ]
  },
  {
   "cell_type": "code",
   "execution_count": 2,
   "metadata": {},
   "outputs": [],
   "source": [
    "import numpy as np\n",
    "import pandas as pd\n",
    "import matplotlib.pyplot as plt\n",
    "import seaborn as sns\n",
    "import researchpy as rp\n",
    "from scipy import stats\n",
    "import os\n",
    "import warnings"
   ]
  },
  {
   "cell_type": "code",
   "execution_count": 83,
   "metadata": {},
   "outputs": [],
   "source": [
    "loan=pd.read_csv(r\"C:\\ksr\\data science\\DS_batch1\\Practical_dataset\\Give me some Credit\\cs-training.csv\")"
   ]
  },
  {
   "cell_type": "markdown",
   "metadata": {},
   "source": [
    "# Basic sanity/quality check"
   ]
  },
  {
   "cell_type": "code",
   "execution_count": 4,
   "metadata": {},
   "outputs": [
    {
     "data": {
      "text/plain": [
       "(150000, 12)"
      ]
     },
     "execution_count": 4,
     "metadata": {},
     "output_type": "execute_result"
    }
   ],
   "source": [
    "loan.shape"
   ]
  },
  {
   "cell_type": "code",
   "execution_count": 5,
   "metadata": {},
   "outputs": [
    {
     "data": {
      "text/plain": [
       "Index(['Sr_No', 'SeriousDlqin2yrs', 'RevolvingUtilizationOfUnsecuredLines',\n",
       "       'age', 'NumberOfTime30-59DaysPastDueNotWorse', 'DebtRatio',\n",
       "       'MonthlyIncome', 'NumberOfOpenCreditLinesAndLoans',\n",
       "       'NumberOfTimes90DaysLate', 'NumberRealEstateLoansOrLines',\n",
       "       'NumberOfTime60-89DaysPastDueNotWorse', 'NumberOfDependents'],\n",
       "      dtype='object')"
      ]
     },
     "execution_count": 5,
     "metadata": {},
     "output_type": "execute_result"
    }
   ],
   "source": [
    "loan.columns"
   ]
  },
  {
   "cell_type": "markdown",
   "metadata": {},
   "source": [
    "# renaming the column names"
   ]
  },
  {
   "cell_type": "code",
   "execution_count": 7,
   "metadata": {},
   "outputs": [],
   "source": [
    "loan.rename(columns={'SeriousDlqin2yrs':\"default\",\"RevolvingUtilizationOfUnsecuredLines\":\"revol_pct\",\n",
    "                    'NumberOfTime30-59DaysPastDueNotWorse':\"no_30_59_def\",\n",
    "                    'NumberOfOpenCreditLinesAndLoans':\"cnt_open_loans\",\n",
    "                    'NumberOfTimes90DaysLate':\"no_of_90_late\",\n",
    "                    'NumberRealEstateLoansOrLines':\"cnt_real_esate_loans\",\n",
    "                    'NumberOfTime60-89DaysPastDueNotWorse':\"no_60_89_def\",\n",
    "                    'NumberOfDependents':\"depdents\"},inplace=True)"
   ]
  },
  {
   "cell_type": "code",
   "execution_count": 8,
   "metadata": {},
   "outputs": [
    {
     "data": {
      "text/html": [
       "<div>\n",
       "<style scoped>\n",
       "    .dataframe tbody tr th:only-of-type {\n",
       "        vertical-align: middle;\n",
       "    }\n",
       "\n",
       "    .dataframe tbody tr th {\n",
       "        vertical-align: top;\n",
       "    }\n",
       "\n",
       "    .dataframe thead th {\n",
       "        text-align: right;\n",
       "    }\n",
       "</style>\n",
       "<table border=\"1\" class=\"dataframe\">\n",
       "  <thead>\n",
       "    <tr style=\"text-align: right;\">\n",
       "      <th></th>\n",
       "      <th>Sr_No</th>\n",
       "      <th>default</th>\n",
       "      <th>revol_pct</th>\n",
       "      <th>age</th>\n",
       "      <th>no_30_59_def</th>\n",
       "      <th>DebtRatio</th>\n",
       "      <th>MonthlyIncome</th>\n",
       "      <th>cnt_open_loans</th>\n",
       "      <th>no_of_90_late</th>\n",
       "      <th>cnt_real_esate_loans</th>\n",
       "      <th>no_60_89_def</th>\n",
       "      <th>depdents</th>\n",
       "    </tr>\n",
       "  </thead>\n",
       "  <tbody>\n",
       "    <tr>\n",
       "      <th>0</th>\n",
       "      <td>1</td>\n",
       "      <td>1</td>\n",
       "      <td>0.766127</td>\n",
       "      <td>45</td>\n",
       "      <td>2</td>\n",
       "      <td>0.802982</td>\n",
       "      <td>9120.0</td>\n",
       "      <td>13</td>\n",
       "      <td>0</td>\n",
       "      <td>6</td>\n",
       "      <td>0</td>\n",
       "      <td>2.0</td>\n",
       "    </tr>\n",
       "    <tr>\n",
       "      <th>1</th>\n",
       "      <td>2</td>\n",
       "      <td>0</td>\n",
       "      <td>0.957151</td>\n",
       "      <td>40</td>\n",
       "      <td>0</td>\n",
       "      <td>0.121876</td>\n",
       "      <td>2600.0</td>\n",
       "      <td>4</td>\n",
       "      <td>0</td>\n",
       "      <td>0</td>\n",
       "      <td>0</td>\n",
       "      <td>1.0</td>\n",
       "    </tr>\n",
       "  </tbody>\n",
       "</table>\n",
       "</div>"
      ],
      "text/plain": [
       "   Sr_No  default  revol_pct  age  no_30_59_def  DebtRatio  MonthlyIncome  \\\n",
       "0      1        1   0.766127   45             2   0.802982         9120.0   \n",
       "1      2        0   0.957151   40             0   0.121876         2600.0   \n",
       "\n",
       "   cnt_open_loans  no_of_90_late  cnt_real_esate_loans  no_60_89_def  depdents  \n",
       "0              13              0                     6             0       2.0  \n",
       "1               4              0                     0             0       1.0  "
      ]
     },
     "execution_count": 8,
     "metadata": {},
     "output_type": "execute_result"
    }
   ],
   "source": [
    "loan.head(2)"
   ]
  },
  {
   "cell_type": "code",
   "execution_count": 9,
   "metadata": {
    "scrolled": true
   },
   "outputs": [
    {
     "name": "stdout",
     "output_type": "stream",
     "text": [
      "<class 'pandas.core.frame.DataFrame'>\n",
      "RangeIndex: 150000 entries, 0 to 149999\n",
      "Data columns (total 12 columns):\n",
      " #   Column                Non-Null Count   Dtype  \n",
      "---  ------                --------------   -----  \n",
      " 0   Sr_No                 150000 non-null  int64  \n",
      " 1   default               150000 non-null  int64  \n",
      " 2   revol_pct             150000 non-null  float64\n",
      " 3   age                   150000 non-null  int64  \n",
      " 4   no_30_59_def          150000 non-null  int64  \n",
      " 5   DebtRatio             150000 non-null  float64\n",
      " 6   MonthlyIncome         120269 non-null  float64\n",
      " 7   cnt_open_loans        150000 non-null  int64  \n",
      " 8   no_of_90_late         150000 non-null  int64  \n",
      " 9   cnt_real_esate_loans  150000 non-null  int64  \n",
      " 10  no_60_89_def          150000 non-null  int64  \n",
      " 11  depdents              146076 non-null  float64\n",
      "dtypes: float64(4), int64(8)\n",
      "memory usage: 13.7 MB\n"
     ]
    }
   ],
   "source": [
    "loan.info()"
   ]
  },
  {
   "cell_type": "markdown",
   "metadata": {},
   "source": [
    "# memory optimization"
   ]
  },
  {
   "cell_type": "code",
   "execution_count": 10,
   "metadata": {},
   "outputs": [
    {
     "name": "stdout",
     "output_type": "stream",
     "text": [
      "Memory usage of dataframe is 13.73 MB\n",
      "Memory usage after optimization is: 3.29 MB\n",
      "Decreased by 76.0%\n"
     ]
    }
   ],
   "source": [
    "\"\"\" iterate through all the columns of a dataframe and modify the data type\n",
    "    to reduce memory usage.        \n",
    "\"\"\"\n",
    "df=loan.copy()\n",
    "start_mem = df.memory_usage().sum() / 1024**2\n",
    "print('Memory usage of dataframe is {:.2f} MB'.format(start_mem))\n",
    "\n",
    "for col in df.columns:\n",
    "    col_type = df[col].dtype\n",
    "\n",
    "    if col_type != object:\n",
    "        c_min = df[col].min()\n",
    "        c_max = df[col].max()\n",
    "        if str(col_type)[:3] == 'int':\n",
    "            if c_min > np.iinfo(np.int8).min and c_max < np.iinfo(np.int8).max:\n",
    "                df[col] = df[col].astype(np.int8)\n",
    "            elif c_min > np.iinfo(np.int16).min and c_max < np.iinfo(np.int16).max:\n",
    "                df[col] = df[col].astype(np.int16)\n",
    "            elif c_min > np.iinfo(np.int32).min and c_max < np.iinfo(np.int32).max:\n",
    "                df[col] = df[col].astype(np.int32)\n",
    "            elif c_min > np.iinfo(np.int64).min and c_max < np.iinfo(np.int64).max:\n",
    "                df[col] = df[col].astype(np.int64)  \n",
    "        else:\n",
    "            if c_min > np.finfo(np.float16).min and c_max < np.finfo(np.float16).max:\n",
    "                df[col] = df[col].astype(np.float16)\n",
    "            elif c_min > np.finfo(np.float32).min and c_max < np.finfo(np.float32).max:\n",
    "                df[col] = df[col].astype(np.float32)\n",
    "            else:\n",
    "                df[col] = df[col].astype(np.float64)\n",
    "    else:\n",
    "        df[col] = df[col].astype('category')\n",
    "\n",
    "end_mem = df.memory_usage().sum() / 1024**2\n",
    "print('Memory usage after optimization is: {:.2f} MB'.format(end_mem))\n",
    "print('Decreased by {:.1f}%'.format(100 * (start_mem - end_mem) / start_mem))   "
   ]
  },
  {
   "cell_type": "code",
   "execution_count": 11,
   "metadata": {
    "scrolled": true
   },
   "outputs": [
    {
     "name": "stdout",
     "output_type": "stream",
     "text": [
      "<class 'pandas.core.frame.DataFrame'>\n",
      "RangeIndex: 150000 entries, 0 to 149999\n",
      "Data columns (total 12 columns):\n",
      " #   Column                Non-Null Count   Dtype  \n",
      "---  ------                --------------   -----  \n",
      " 0   Sr_No                 150000 non-null  int32  \n",
      " 1   default               150000 non-null  int8   \n",
      " 2   revol_pct             150000 non-null  float16\n",
      " 3   age                   150000 non-null  int8   \n",
      " 4   no_30_59_def          150000 non-null  int8   \n",
      " 5   DebtRatio             150000 non-null  float32\n",
      " 6   MonthlyIncome         120269 non-null  float32\n",
      " 7   cnt_open_loans        150000 non-null  int8   \n",
      " 8   no_of_90_late         150000 non-null  int8   \n",
      " 9   cnt_real_esate_loans  150000 non-null  int8   \n",
      " 10  no_60_89_def          150000 non-null  int8   \n",
      " 11  depdents              146076 non-null  float16\n",
      "dtypes: float16(2), float32(2), int32(1), int8(7)\n",
      "memory usage: 3.3 MB\n"
     ]
    }
   ],
   "source": [
    "df.info()"
   ]
  },
  {
   "cell_type": "markdown",
   "metadata": {},
   "source": [
    "# changing the type of attributes based its nature"
   ]
  },
  {
   "cell_type": "code",
   "execution_count": 39,
   "metadata": {},
   "outputs": [],
   "source": [
    "loan[\"no_30_59_def\"]=loan[\"no_30_59_def\"].astype(\"category\")\n",
    "loan[\"cnt_open_loans\"]=loan[\"cnt_open_loans\"].astype(\"category\")\n",
    "loan[\"cnt_real_esate_loans\"]=loan[\"cnt_real_esate_loans\"].astype(\"category\")\n",
    "loan[\"no_60_89_def\"]=loan[\"no_60_89_def\"].astype(\"category\")\n",
    "loan[\"no_of_90_late\"]=loan[\"no_of_90_late\"].astype(\"category\")\n",
    "loan[\"depdents\"]=loan[\"depdents\"].astype(\"category\")"
   ]
  },
  {
   "cell_type": "code",
   "execution_count": 40,
   "metadata": {},
   "outputs": [
    {
     "data": {
      "text/plain": [
       "Sr_No                      int64\n",
       "default                    int64\n",
       "revol_pct                float64\n",
       "age                        int64\n",
       "no_30_59_def            category\n",
       "DebtRatio                float64\n",
       "MonthlyIncome            float64\n",
       "cnt_open_loans          category\n",
       "no_of_90_late           category\n",
       "cnt_real_esate_loans    category\n",
       "no_60_89_def            category\n",
       "depdents                category\n",
       "dtype: object"
      ]
     },
     "execution_count": 40,
     "metadata": {},
     "output_type": "execute_result"
    }
   ],
   "source": [
    "loan.dtypes"
   ]
  },
  {
   "cell_type": "code",
   "execution_count": 41,
   "metadata": {
    "scrolled": true
   },
   "outputs": [
    {
     "name": "stdout",
     "output_type": "stream",
     "text": [
      "<class 'pandas.core.frame.DataFrame'>\n",
      "RangeIndex: 150000 entries, 0 to 149999\n",
      "Data columns (total 12 columns):\n",
      " #   Column                Non-Null Count   Dtype   \n",
      "---  ------                --------------   -----   \n",
      " 0   Sr_No                 150000 non-null  int64   \n",
      " 1   default               150000 non-null  int64   \n",
      " 2   revol_pct             150000 non-null  float64 \n",
      " 3   age                   150000 non-null  int64   \n",
      " 4   no_30_59_def          150000 non-null  category\n",
      " 5   DebtRatio             150000 non-null  float64 \n",
      " 6   MonthlyIncome         120269 non-null  float64 \n",
      " 7   cnt_open_loans        150000 non-null  category\n",
      " 8   no_of_90_late         150000 non-null  category\n",
      " 9   cnt_real_esate_loans  150000 non-null  category\n",
      " 10  no_60_89_def          150000 non-null  category\n",
      " 11  depdents              146076 non-null  category\n",
      "dtypes: category(6), float64(3), int64(3)\n",
      "memory usage: 7.7 MB\n"
     ]
    }
   ],
   "source": [
    "loan.info()"
   ]
  },
  {
   "cell_type": "code",
   "execution_count": 47,
   "metadata": {},
   "outputs": [],
   "source": [
    "path=r\"C:\\Users\\Koti\\Documents\\Data_Science\\DS_FEB_2020\\codes\\standard_code\\userdefined_functions\""
   ]
  },
  {
   "cell_type": "code",
   "execution_count": 48,
   "metadata": {},
   "outputs": [],
   "source": [
    "os.chdir(path)"
   ]
  },
  {
   "cell_type": "markdown",
   "metadata": {},
   "source": [
    "# Summary statstics for numerical variable"
   ]
  },
  {
   "cell_type": "code",
   "execution_count": 49,
   "metadata": {},
   "outputs": [],
   "source": [
    "from summary_stats import summary_stat"
   ]
  },
  {
   "cell_type": "code",
   "execution_count": 50,
   "metadata": {},
   "outputs": [
    {
     "data": {
      "text/html": [
       "<div>\n",
       "<style scoped>\n",
       "    .dataframe tbody tr th:only-of-type {\n",
       "        vertical-align: middle;\n",
       "    }\n",
       "\n",
       "    .dataframe tbody tr th {\n",
       "        vertical-align: top;\n",
       "    }\n",
       "\n",
       "    .dataframe thead th {\n",
       "        text-align: right;\n",
       "    }\n",
       "</style>\n",
       "<table border=\"1\" class=\"dataframe\">\n",
       "  <thead>\n",
       "    <tr style=\"text-align: right;\">\n",
       "      <th></th>\n",
       "      <th>count</th>\n",
       "      <th>min</th>\n",
       "      <th>5%</th>\n",
       "      <th>25%</th>\n",
       "      <th>50%</th>\n",
       "      <th>mean</th>\n",
       "      <th>75%</th>\n",
       "      <th>90%</th>\n",
       "      <th>95%</th>\n",
       "      <th>99.7%</th>\n",
       "      <th>max</th>\n",
       "      <th>std</th>\n",
       "    </tr>\n",
       "  </thead>\n",
       "  <tbody>\n",
       "    <tr>\n",
       "      <th>Sr_No</th>\n",
       "      <td>150000.0</td>\n",
       "      <td>1.0</td>\n",
       "      <td>7500.950000</td>\n",
       "      <td>37500.750000</td>\n",
       "      <td>75000.500000</td>\n",
       "      <td>75000.500000</td>\n",
       "      <td>112500.250000</td>\n",
       "      <td>135000.100000</td>\n",
       "      <td>142500.05</td>\n",
       "      <td>149550.003000</td>\n",
       "      <td>150000.0</td>\n",
       "      <td>43301.414527</td>\n",
       "    </tr>\n",
       "    <tr>\n",
       "      <th>default</th>\n",
       "      <td>150000.0</td>\n",
       "      <td>0.0</td>\n",
       "      <td>0.000000</td>\n",
       "      <td>0.000000</td>\n",
       "      <td>0.000000</td>\n",
       "      <td>0.066840</td>\n",
       "      <td>0.000000</td>\n",
       "      <td>0.000000</td>\n",
       "      <td>1.00</td>\n",
       "      <td>1.000000</td>\n",
       "      <td>1.0</td>\n",
       "      <td>0.249746</td>\n",
       "    </tr>\n",
       "    <tr>\n",
       "      <th>revol_pct</th>\n",
       "      <td>150000.0</td>\n",
       "      <td>0.0</td>\n",
       "      <td>0.000000</td>\n",
       "      <td>0.029867</td>\n",
       "      <td>0.154181</td>\n",
       "      <td>6.048438</td>\n",
       "      <td>0.559046</td>\n",
       "      <td>0.981278</td>\n",
       "      <td>1.00</td>\n",
       "      <td>1.760802</td>\n",
       "      <td>50708.0</td>\n",
       "      <td>249.755371</td>\n",
       "    </tr>\n",
       "    <tr>\n",
       "      <th>age</th>\n",
       "      <td>150000.0</td>\n",
       "      <td>0.0</td>\n",
       "      <td>29.000000</td>\n",
       "      <td>41.000000</td>\n",
       "      <td>52.000000</td>\n",
       "      <td>52.295207</td>\n",
       "      <td>63.000000</td>\n",
       "      <td>72.000000</td>\n",
       "      <td>78.00</td>\n",
       "      <td>91.000000</td>\n",
       "      <td>109.0</td>\n",
       "      <td>14.771866</td>\n",
       "    </tr>\n",
       "    <tr>\n",
       "      <th>DebtRatio</th>\n",
       "      <td>150000.0</td>\n",
       "      <td>0.0</td>\n",
       "      <td>0.004329</td>\n",
       "      <td>0.175074</td>\n",
       "      <td>0.366508</td>\n",
       "      <td>353.005076</td>\n",
       "      <td>0.868254</td>\n",
       "      <td>1267.000000</td>\n",
       "      <td>2449.00</td>\n",
       "      <td>7300.006000</td>\n",
       "      <td>329664.0</td>\n",
       "      <td>2037.818523</td>\n",
       "    </tr>\n",
       "    <tr>\n",
       "      <th>MonthlyIncome</th>\n",
       "      <td>120269.0</td>\n",
       "      <td>0.0</td>\n",
       "      <td>1300.000000</td>\n",
       "      <td>3400.000000</td>\n",
       "      <td>5400.000000</td>\n",
       "      <td>6670.221237</td>\n",
       "      <td>8249.000000</td>\n",
       "      <td>11666.000000</td>\n",
       "      <td>14587.60</td>\n",
       "      <td>45000.000000</td>\n",
       "      <td>3008750.0</td>\n",
       "      <td>14384.674215</td>\n",
       "    </tr>\n",
       "  </tbody>\n",
       "</table>\n",
       "</div>"
      ],
      "text/plain": [
       "                  count  min           5%           25%           50%  \\\n",
       "Sr_No          150000.0  1.0  7500.950000  37500.750000  75000.500000   \n",
       "default        150000.0  0.0     0.000000      0.000000      0.000000   \n",
       "revol_pct      150000.0  0.0     0.000000      0.029867      0.154181   \n",
       "age            150000.0  0.0    29.000000     41.000000     52.000000   \n",
       "DebtRatio      150000.0  0.0     0.004329      0.175074      0.366508   \n",
       "MonthlyIncome  120269.0  0.0  1300.000000   3400.000000   5400.000000   \n",
       "\n",
       "                       mean            75%            90%        95%  \\\n",
       "Sr_No          75000.500000  112500.250000  135000.100000  142500.05   \n",
       "default            0.066840       0.000000       0.000000       1.00   \n",
       "revol_pct          6.048438       0.559046       0.981278       1.00   \n",
       "age               52.295207      63.000000      72.000000      78.00   \n",
       "DebtRatio        353.005076       0.868254    1267.000000    2449.00   \n",
       "MonthlyIncome   6670.221237    8249.000000   11666.000000   14587.60   \n",
       "\n",
       "                       99.7%        max           std  \n",
       "Sr_No          149550.003000   150000.0  43301.414527  \n",
       "default             1.000000        1.0      0.249746  \n",
       "revol_pct           1.760802    50708.0    249.755371  \n",
       "age                91.000000      109.0     14.771866  \n",
       "DebtRatio        7300.006000   329664.0   2037.818523  \n",
       "MonthlyIncome   45000.000000  3008750.0  14384.674215  "
      ]
     },
     "execution_count": 50,
     "metadata": {},
     "output_type": "execute_result"
    }
   ],
   "source": [
    "summary_stat(loan)"
   ]
  },
  {
   "cell_type": "markdown",
   "metadata": {},
   "source": [
    "# Summary statstics for categorical variables"
   ]
  },
  {
   "cell_type": "code",
   "execution_count": 51,
   "metadata": {},
   "outputs": [],
   "source": [
    "from categorical_summary import char_summary"
   ]
  },
  {
   "cell_type": "code",
   "execution_count": 54,
   "metadata": {},
   "outputs": [
    {
     "ename": "UnboundLocalError",
     "evalue": "local variable 'table' referenced before assignment",
     "output_type": "error",
     "traceback": [
      "\u001b[1;31m---------------------------------------------------------------------------\u001b[0m",
      "\u001b[1;31mUnboundLocalError\u001b[0m                         Traceback (most recent call last)",
      "\u001b[1;32m<ipython-input-54-145864838145>\u001b[0m in \u001b[0;36m<module>\u001b[1;34m\u001b[0m\n\u001b[1;32m----> 1\u001b[1;33m \u001b[0mabc\u001b[0m\u001b[1;33m=\u001b[0m\u001b[0mchar_summary\u001b[0m\u001b[1;33m(\u001b[0m\u001b[0mloan\u001b[0m\u001b[1;33m)\u001b[0m\u001b[1;33m\u001b[0m\u001b[1;33m\u001b[0m\u001b[0m\n\u001b[0m",
      "\u001b[1;32m~\\Documents\\Data_Science\\DS_FEB_2020\\codes\\standard_code\\userdefined_functions\\categorical_summary.py\u001b[0m in \u001b[0;36mchar_summary\u001b[1;34m(data1)\u001b[0m\n\u001b[0;32m      3\u001b[0m \u001b[1;32mdef\u001b[0m \u001b[0mchar_summary\u001b[0m\u001b[1;33m(\u001b[0m\u001b[0mdata1\u001b[0m\u001b[1;33m)\u001b[0m\u001b[1;33m:\u001b[0m\u001b[1;33m\u001b[0m\u001b[1;33m\u001b[0m\u001b[0m\n\u001b[0;32m      4\u001b[0m     \u001b[0mdata2\u001b[0m\u001b[1;33m=\u001b[0m\u001b[0mdata1\u001b[0m\u001b[1;33m.\u001b[0m\u001b[0mselect_dtypes\u001b[0m\u001b[1;33m(\u001b[0m\u001b[0minclude\u001b[0m\u001b[1;33m=\u001b[0m\u001b[1;34m\"category\"\u001b[0m\u001b[1;33m)\u001b[0m\u001b[1;33m\u001b[0m\u001b[1;33m\u001b[0m\u001b[0m\n\u001b[1;32m----> 5\u001b[1;33m     \u001b[0mab\u001b[0m\u001b[1;33m=\u001b[0m\u001b[0mrp\u001b[0m\u001b[1;33m.\u001b[0m\u001b[0msummary_cat\u001b[0m\u001b[1;33m(\u001b[0m\u001b[0mdata2\u001b[0m\u001b[1;33m)\u001b[0m\u001b[1;33m\u001b[0m\u001b[1;33m\u001b[0m\u001b[0m\n\u001b[0m\u001b[0;32m      6\u001b[0m     \u001b[1;32mreturn\u001b[0m \u001b[0mab\u001b[0m\u001b[1;33m\u001b[0m\u001b[1;33m\u001b[0m\u001b[0m\n",
      "\u001b[1;32m~\\anaconda3\\lib\\site-packages\\researchpy\\summary.py\u001b[0m in \u001b[0;36msummary_cat\u001b[1;34m(group1, ascending)\u001b[0m\n\u001b[0;32m    253\u001b[0m         \u001b[0mprint\u001b[0m\u001b[1;33m(\u001b[0m\u001b[1;34m\"This method can only be used with Pandas Series or DataFrames\"\u001b[0m\u001b[1;33m)\u001b[0m\u001b[1;33m\u001b[0m\u001b[1;33m\u001b[0m\u001b[0m\n\u001b[0;32m    254\u001b[0m \u001b[1;33m\u001b[0m\u001b[0m\n\u001b[1;32m--> 255\u001b[1;33m     \u001b[1;32mreturn\u001b[0m \u001b[0mtable\u001b[0m\u001b[1;33m\u001b[0m\u001b[1;33m\u001b[0m\u001b[0m\n\u001b[0m\u001b[0;32m    256\u001b[0m \u001b[1;33m\u001b[0m\u001b[0m\n\u001b[0;32m    257\u001b[0m \u001b[1;33m\u001b[0m\u001b[0m\n",
      "\u001b[1;31mUnboundLocalError\u001b[0m: local variable 'table' referenced before assignment"
     ]
    }
   ],
   "source": [
    "abc=char_summary(loan)"
   ]
  },
  {
   "cell_type": "code",
   "execution_count": 55,
   "metadata": {},
   "outputs": [],
   "source": [
    "import researchpy as rp\n",
    "def char_summary(data1):\n",
    "    data2=data1.select_dtypes(include=\"category\")\n",
    "    ab=rp.summary_cat(data2)\n",
    "    return ab"
   ]
  },
  {
   "cell_type": "code",
   "execution_count": 57,
   "metadata": {},
   "outputs": [],
   "source": [
    "ab=char_summary(data1=loan)"
   ]
  },
  {
   "cell_type": "code",
   "execution_count": 58,
   "metadata": {},
   "outputs": [
    {
     "data": {
      "text/plain": [
       "pandas.core.frame.DataFrame"
      ]
     },
     "execution_count": 58,
     "metadata": {},
     "output_type": "execute_result"
    }
   ],
   "source": [
    "type(ab)"
   ]
  },
  {
   "cell_type": "code",
   "execution_count": 60,
   "metadata": {},
   "outputs": [
    {
     "data": {
      "text/html": [
       "<div>\n",
       "<style scoped>\n",
       "    .dataframe tbody tr th:only-of-type {\n",
       "        vertical-align: middle;\n",
       "    }\n",
       "\n",
       "    .dataframe tbody tr th {\n",
       "        vertical-align: top;\n",
       "    }\n",
       "\n",
       "    .dataframe thead th {\n",
       "        text-align: right;\n",
       "    }\n",
       "</style>\n",
       "<table border=\"1\" class=\"dataframe\">\n",
       "  <thead>\n",
       "    <tr style=\"text-align: right;\">\n",
       "      <th></th>\n",
       "      <th>Variable</th>\n",
       "      <th>Outcome</th>\n",
       "      <th>Count</th>\n",
       "      <th>Percent</th>\n",
       "    </tr>\n",
       "  </thead>\n",
       "  <tbody>\n",
       "    <tr>\n",
       "      <th>0</th>\n",
       "      <td>no_30_59_def</td>\n",
       "      <td>0.0</td>\n",
       "      <td>126018</td>\n",
       "      <td>84.01</td>\n",
       "    </tr>\n",
       "    <tr>\n",
       "      <th>1</th>\n",
       "      <td></td>\n",
       "      <td>1.0</td>\n",
       "      <td>16033</td>\n",
       "      <td>10.69</td>\n",
       "    </tr>\n",
       "    <tr>\n",
       "      <th>2</th>\n",
       "      <td></td>\n",
       "      <td>2.0</td>\n",
       "      <td>4598</td>\n",
       "      <td>3.07</td>\n",
       "    </tr>\n",
       "    <tr>\n",
       "      <th>3</th>\n",
       "      <td></td>\n",
       "      <td>3.0</td>\n",
       "      <td>1754</td>\n",
       "      <td>1.17</td>\n",
       "    </tr>\n",
       "    <tr>\n",
       "      <th>4</th>\n",
       "      <td></td>\n",
       "      <td>4.0</td>\n",
       "      <td>747</td>\n",
       "      <td>0.50</td>\n",
       "    </tr>\n",
       "    <tr>\n",
       "      <th>...</th>\n",
       "      <td>...</td>\n",
       "      <td>...</td>\n",
       "      <td>...</td>\n",
       "      <td>...</td>\n",
       "    </tr>\n",
       "    <tr>\n",
       "      <th>142</th>\n",
       "      <td></td>\n",
       "      <td>8.0</td>\n",
       "      <td>24</td>\n",
       "      <td>0.02</td>\n",
       "    </tr>\n",
       "    <tr>\n",
       "      <th>143</th>\n",
       "      <td></td>\n",
       "      <td>10.0</td>\n",
       "      <td>5</td>\n",
       "      <td>0.00</td>\n",
       "    </tr>\n",
       "    <tr>\n",
       "      <th>144</th>\n",
       "      <td></td>\n",
       "      <td>9.0</td>\n",
       "      <td>5</td>\n",
       "      <td>0.00</td>\n",
       "    </tr>\n",
       "    <tr>\n",
       "      <th>145</th>\n",
       "      <td></td>\n",
       "      <td>20.0</td>\n",
       "      <td>1</td>\n",
       "      <td>0.00</td>\n",
       "    </tr>\n",
       "    <tr>\n",
       "      <th>146</th>\n",
       "      <td></td>\n",
       "      <td>13.0</td>\n",
       "      <td>1</td>\n",
       "      <td>0.00</td>\n",
       "    </tr>\n",
       "  </tbody>\n",
       "</table>\n",
       "<p>147 rows × 4 columns</p>\n",
       "</div>"
      ],
      "text/plain": [
       "         Variable  Outcome   Count  Percent\n",
       "0    no_30_59_def      0.0  126018    84.01\n",
       "1                      1.0   16033    10.69\n",
       "2                      2.0    4598     3.07\n",
       "3                      3.0    1754     1.17\n",
       "4                      4.0     747     0.50\n",
       "..            ...      ...     ...      ...\n",
       "142                    8.0      24     0.02\n",
       "143                   10.0       5     0.00\n",
       "144                    9.0       5     0.00\n",
       "145                   20.0       1     0.00\n",
       "146                   13.0       1     0.00\n",
       "\n",
       "[147 rows x 4 columns]"
      ]
     },
     "execution_count": 60,
     "metadata": {},
     "output_type": "execute_result"
    }
   ],
   "source": [
    "ab"
   ]
  },
  {
   "cell_type": "code",
   "execution_count": 61,
   "metadata": {},
   "outputs": [
    {
     "data": {
      "text/html": [
       "<div>\n",
       "<style scoped>\n",
       "    .dataframe tbody tr th:only-of-type {\n",
       "        vertical-align: middle;\n",
       "    }\n",
       "\n",
       "    .dataframe tbody tr th {\n",
       "        vertical-align: top;\n",
       "    }\n",
       "\n",
       "    .dataframe thead th {\n",
       "        text-align: right;\n",
       "    }\n",
       "</style>\n",
       "<table border=\"1\" class=\"dataframe\">\n",
       "  <thead>\n",
       "    <tr style=\"text-align: right;\">\n",
       "      <th></th>\n",
       "      <th>Sr_No</th>\n",
       "      <th>default</th>\n",
       "      <th>revol_pct</th>\n",
       "      <th>age</th>\n",
       "      <th>no_30_59_def</th>\n",
       "      <th>DebtRatio</th>\n",
       "      <th>MonthlyIncome</th>\n",
       "      <th>cnt_open_loans</th>\n",
       "      <th>no_of_90_late</th>\n",
       "      <th>cnt_real_esate_loans</th>\n",
       "      <th>no_60_89_def</th>\n",
       "      <th>depdents</th>\n",
       "    </tr>\n",
       "  </thead>\n",
       "  <tbody>\n",
       "    <tr>\n",
       "      <th>0</th>\n",
       "      <td>1</td>\n",
       "      <td>1</td>\n",
       "      <td>0.766127</td>\n",
       "      <td>45</td>\n",
       "      <td>2</td>\n",
       "      <td>0.802982</td>\n",
       "      <td>9120.0</td>\n",
       "      <td>13</td>\n",
       "      <td>0</td>\n",
       "      <td>6</td>\n",
       "      <td>0</td>\n",
       "      <td>2.0</td>\n",
       "    </tr>\n",
       "    <tr>\n",
       "      <th>1</th>\n",
       "      <td>2</td>\n",
       "      <td>0</td>\n",
       "      <td>0.957151</td>\n",
       "      <td>40</td>\n",
       "      <td>0</td>\n",
       "      <td>0.121876</td>\n",
       "      <td>2600.0</td>\n",
       "      <td>4</td>\n",
       "      <td>0</td>\n",
       "      <td>0</td>\n",
       "      <td>0</td>\n",
       "      <td>1.0</td>\n",
       "    </tr>\n",
       "    <tr>\n",
       "      <th>2</th>\n",
       "      <td>3</td>\n",
       "      <td>0</td>\n",
       "      <td>0.658180</td>\n",
       "      <td>38</td>\n",
       "      <td>1</td>\n",
       "      <td>0.085113</td>\n",
       "      <td>3042.0</td>\n",
       "      <td>2</td>\n",
       "      <td>1</td>\n",
       "      <td>0</td>\n",
       "      <td>0</td>\n",
       "      <td>0.0</td>\n",
       "    </tr>\n",
       "    <tr>\n",
       "      <th>3</th>\n",
       "      <td>4</td>\n",
       "      <td>0</td>\n",
       "      <td>0.233810</td>\n",
       "      <td>30</td>\n",
       "      <td>0</td>\n",
       "      <td>0.036050</td>\n",
       "      <td>3300.0</td>\n",
       "      <td>5</td>\n",
       "      <td>0</td>\n",
       "      <td>0</td>\n",
       "      <td>0</td>\n",
       "      <td>0.0</td>\n",
       "    </tr>\n",
       "    <tr>\n",
       "      <th>4</th>\n",
       "      <td>5</td>\n",
       "      <td>0</td>\n",
       "      <td>0.907239</td>\n",
       "      <td>49</td>\n",
       "      <td>1</td>\n",
       "      <td>0.024926</td>\n",
       "      <td>63588.0</td>\n",
       "      <td>7</td>\n",
       "      <td>0</td>\n",
       "      <td>1</td>\n",
       "      <td>0</td>\n",
       "      <td>0.0</td>\n",
       "    </tr>\n",
       "  </tbody>\n",
       "</table>\n",
       "</div>"
      ],
      "text/plain": [
       "   Sr_No  default  revol_pct  age no_30_59_def  DebtRatio  MonthlyIncome  \\\n",
       "0      1        1   0.766127   45            2   0.802982         9120.0   \n",
       "1      2        0   0.957151   40            0   0.121876         2600.0   \n",
       "2      3        0   0.658180   38            1   0.085113         3042.0   \n",
       "3      4        0   0.233810   30            0   0.036050         3300.0   \n",
       "4      5        0   0.907239   49            1   0.024926        63588.0   \n",
       "\n",
       "  cnt_open_loans no_of_90_late cnt_real_esate_loans no_60_89_def depdents  \n",
       "0             13             0                    6            0      2.0  \n",
       "1              4             0                    0            0      1.0  \n",
       "2              2             1                    0            0      0.0  \n",
       "3              5             0                    0            0      0.0  \n",
       "4              7             0                    1            0      0.0  "
      ]
     },
     "execution_count": 61,
     "metadata": {},
     "output_type": "execute_result"
    }
   ],
   "source": [
    "loan.head()"
   ]
  },
  {
   "cell_type": "code",
   "execution_count": 62,
   "metadata": {},
   "outputs": [
    {
     "data": {
      "text/plain": [
       "<matplotlib.axes._subplots.AxesSubplot at 0x1f7b4301988>"
      ]
     },
     "execution_count": 62,
     "metadata": {},
     "output_type": "execute_result"
    },
    {
     "data": {
      "image/png": "[encoded data removed]",
      "text/plain": [
       "<Figure size 432x288 with 1 Axes>"
      ]
     },
     "metadata": {
      "needs_background": "light"
     },
     "output_type": "display_data"
    }
   ],
   "source": [
    "sns.countplot(loan[\"default\"])"
   ]
  },
  {
   "cell_type": "code",
   "execution_count": 64,
   "metadata": {},
   "outputs": [
    {
     "data": {
      "text/plain": [
       "(array([ 0,  1,  2,  3,  4,  5,  6,  7,  8,  9, 10, 11, 12, 13, 14, 15]),\n",
       " <a list of 16 Text xticklabel objects>)"
      ]
     },
     "execution_count": 64,
     "metadata": {},
     "output_type": "execute_result"
    },
    {
     "data": {
      "image/png": "[encoded data removed]",
      "text/plain": [
       "<Figure size 432x288 with 1 Axes>"
      ]
     },
     "metadata": {
      "needs_background": "light"
     },
     "output_type": "display_data"
    }
   ],
   "source": [
    "sns.countplot(loan[\"no_30_59_def\"])\n",
    "plt.xticks(rotation=45)"
   ]
  },
  {
   "cell_type": "code",
   "execution_count": 67,
   "metadata": {},
   "outputs": [],
   "source": [
    "df1=loan[[\"no_30_59_def\",\"default\",\"cnt_open_loans\"]]"
   ]
  },
  {
   "cell_type": "code",
   "execution_count": 68,
   "metadata": {},
   "outputs": [
    {
     "data": {
      "text/html": [
       "<div>\n",
       "<style scoped>\n",
       "    .dataframe tbody tr th:only-of-type {\n",
       "        vertical-align: middle;\n",
       "    }\n",
       "\n",
       "    .dataframe tbody tr th {\n",
       "        vertical-align: top;\n",
       "    }\n",
       "\n",
       "    .dataframe thead th {\n",
       "        text-align: right;\n",
       "    }\n",
       "</style>\n",
       "<table border=\"1\" class=\"dataframe\">\n",
       "  <thead>\n",
       "    <tr style=\"text-align: right;\">\n",
       "      <th></th>\n",
       "      <th>no_30_59_def</th>\n",
       "      <th>default</th>\n",
       "      <th>cnt_open_loans</th>\n",
       "    </tr>\n",
       "  </thead>\n",
       "  <tbody>\n",
       "    <tr>\n",
       "      <th>0</th>\n",
       "      <td>2</td>\n",
       "      <td>1</td>\n",
       "      <td>13</td>\n",
       "    </tr>\n",
       "    <tr>\n",
       "      <th>1</th>\n",
       "      <td>0</td>\n",
       "      <td>0</td>\n",
       "      <td>4</td>\n",
       "    </tr>\n",
       "    <tr>\n",
       "      <th>2</th>\n",
       "      <td>1</td>\n",
       "      <td>0</td>\n",
       "      <td>2</td>\n",
       "    </tr>\n",
       "    <tr>\n",
       "      <th>3</th>\n",
       "      <td>0</td>\n",
       "      <td>0</td>\n",
       "      <td>5</td>\n",
       "    </tr>\n",
       "    <tr>\n",
       "      <th>4</th>\n",
       "      <td>1</td>\n",
       "      <td>0</td>\n",
       "      <td>7</td>\n",
       "    </tr>\n",
       "  </tbody>\n",
       "</table>\n",
       "</div>"
      ],
      "text/plain": [
       "  no_30_59_def  default cnt_open_loans\n",
       "0            2        1             13\n",
       "1            0        0              4\n",
       "2            1        0              2\n",
       "3            0        0              5\n",
       "4            1        0              7"
      ]
     },
     "execution_count": 68,
     "metadata": {},
     "output_type": "execute_result"
    }
   ],
   "source": [
    "df1.head()"
   ]
  },
  {
   "cell_type": "code",
   "execution_count": 69,
   "metadata": {},
   "outputs": [],
   "source": [
    "col=list(df1.columns)"
   ]
  },
  {
   "cell_type": "code",
   "execution_count": 70,
   "metadata": {},
   "outputs": [
    {
     "data": {
      "text/plain": [
       "['no_30_59_def', 'default', 'cnt_open_loans']"
      ]
     },
     "execution_count": 70,
     "metadata": {},
     "output_type": "execute_result"
    }
   ],
   "source": [
    "col"
   ]
  },
  {
   "cell_type": "code",
   "execution_count": 80,
   "metadata": {
    "scrolled": true
   },
   "outputs": [
    {
     "name": "stdout",
     "output_type": "stream",
     "text": [
      "AxesSubplot(0.125,0.125;0.775x0.755)\n",
      "AxesSubplot(0.125,0.125;0.775x0.755)\n",
      "AxesSubplot(0.125,0.125;0.775x0.755)\n"
     ]
    },
    {
     "data": {
      "image/png": "[encoded data removed]",
      "text/plain": [
       "<Figure size 432x288 with 1 Axes>"
      ]
     },
     "metadata": {
      "needs_background": "light"
     },
     "output_type": "display_data"
    },
    {
     "data": {
      "image/png": "[encoded data removed]",
      "text/plain": [
       "<Figure size 432x288 with 1 Axes>"
      ]
     },
     "metadata": {
      "needs_background": "light"
     },
     "output_type": "display_data"
    },
    {
     "data": {
      "image/png": "[encoded data removed]",
      "text/plain": [
       "<Figure size 432x288 with 1 Axes>"
      ]
     },
     "metadata": {
      "needs_background": "light"
     },
     "output_type": "display_data"
    }
   ],
   "source": [
    "for i in col:\n",
    "    plt.figure(i)\n",
    "    abc=sns.countplot(df[i])\n",
    "    plt.xticks(rotation=45)\n",
    "    print(abc)"
   ]
  },
  {
   "cell_type": "code",
   "execution_count": 81,
   "metadata": {},
   "outputs": [],
   "source": [
    "from pycaret.classification import *"
   ]
  },
  {
   "cell_type": "code",
   "execution_count": 86,
   "metadata": {},
   "outputs": [
    {
     "name": "stdout",
     "output_type": "stream",
     "text": [
      " \n",
      "Setup Succesfully Completed!\n"
     ]
    },
    {
     "data": {
      "text/html": [
       "<style  type=\"text/css\" >\n",
       "    #T_d6078262_a6cb_11ea_97cf_f82819e5b6a4row4_col1 {\n",
       "            background-color:  lightgreen;\n",
       "        }    #T_d6078262_a6cb_11ea_97cf_f82819e5b6a4row32_col1 {\n",
       "            background-color:  lightgreen;\n",
       "        }</style><table id=\"T_d6078262_a6cb_11ea_97cf_f82819e5b6a4\" ><thead>    <tr>        <th class=\"blank level0\" ></th>        <th class=\"col_heading level0 col0\" >Description</th>        <th class=\"col_heading level0 col1\" >Value</th>    </tr></thead><tbody>\n",
       "                <tr>\n",
       "                        <th id=\"T_d6078262_a6cb_11ea_97cf_f82819e5b6a4level0_row0\" class=\"row_heading level0 row0\" >0</th>\n",
       "                        <td id=\"T_d6078262_a6cb_11ea_97cf_f82819e5b6a4row0_col0\" class=\"data row0 col0\" >session_id</td>\n",
       "                        <td id=\"T_d6078262_a6cb_11ea_97cf_f82819e5b6a4row0_col1\" class=\"data row0 col1\" >7357</td>\n",
       "            </tr>\n",
       "            <tr>\n",
       "                        <th id=\"T_d6078262_a6cb_11ea_97cf_f82819e5b6a4level0_row1\" class=\"row_heading level0 row1\" >1</th>\n",
       "                        <td id=\"T_d6078262_a6cb_11ea_97cf_f82819e5b6a4row1_col0\" class=\"data row1 col0\" >Target Type</td>\n",
       "                        <td id=\"T_d6078262_a6cb_11ea_97cf_f82819e5b6a4row1_col1\" class=\"data row1 col1\" >Binary</td>\n",
       "            </tr>\n",
       "            <tr>\n",
       "                        <th id=\"T_d6078262_a6cb_11ea_97cf_f82819e5b6a4level0_row2\" class=\"row_heading level0 row2\" >2</th>\n",
       "                        <td id=\"T_d6078262_a6cb_11ea_97cf_f82819e5b6a4row2_col0\" class=\"data row2 col0\" >Label Encoded</td>\n",
       "                        <td id=\"T_d6078262_a6cb_11ea_97cf_f82819e5b6a4row2_col1\" class=\"data row2 col1\" >None</td>\n",
       "            </tr>\n",
       "            <tr>\n",
       "                        <th id=\"T_d6078262_a6cb_11ea_97cf_f82819e5b6a4level0_row3\" class=\"row_heading level0 row3\" >3</th>\n",
       "                        <td id=\"T_d6078262_a6cb_11ea_97cf_f82819e5b6a4row3_col0\" class=\"data row3 col0\" >Original Data</td>\n",
       "                        <td id=\"T_d6078262_a6cb_11ea_97cf_f82819e5b6a4row3_col1\" class=\"data row3 col1\" >(150000, 12)</td>\n",
       "            </tr>\n",
       "            <tr>\n",
       "                        <th id=\"T_d6078262_a6cb_11ea_97cf_f82819e5b6a4level0_row4\" class=\"row_heading level0 row4\" >4</th>\n",
       "                        <td id=\"T_d6078262_a6cb_11ea_97cf_f82819e5b6a4row4_col0\" class=\"data row4 col0\" >Missing Values </td>\n",
       "                        <td id=\"T_d6078262_a6cb_11ea_97cf_f82819e5b6a4row4_col1\" class=\"data row4 col1\" >True</td>\n",
       "            </tr>\n",
       "            <tr>\n",
       "                        <th id=\"T_d6078262_a6cb_11ea_97cf_f82819e5b6a4level0_row5\" class=\"row_heading level0 row5\" >5</th>\n",
       "                        <td id=\"T_d6078262_a6cb_11ea_97cf_f82819e5b6a4row5_col0\" class=\"data row5 col0\" >Numeric Features </td>\n",
       "                        <td id=\"T_d6078262_a6cb_11ea_97cf_f82819e5b6a4row5_col1\" class=\"data row5 col1\" >7</td>\n",
       "            </tr>\n",
       "            <tr>\n",
       "                        <th id=\"T_d6078262_a6cb_11ea_97cf_f82819e5b6a4level0_row6\" class=\"row_heading level0 row6\" >6</th>\n",
       "                        <td id=\"T_d6078262_a6cb_11ea_97cf_f82819e5b6a4row6_col0\" class=\"data row6 col0\" >Categorical Features </td>\n",
       "                        <td id=\"T_d6078262_a6cb_11ea_97cf_f82819e5b6a4row6_col1\" class=\"data row6 col1\" >4</td>\n",
       "            </tr>\n",
       "            <tr>\n",
       "                        <th id=\"T_d6078262_a6cb_11ea_97cf_f82819e5b6a4level0_row7\" class=\"row_heading level0 row7\" >7</th>\n",
       "                        <td id=\"T_d6078262_a6cb_11ea_97cf_f82819e5b6a4row7_col0\" class=\"data row7 col0\" >Ordinal Features </td>\n",
       "                        <td id=\"T_d6078262_a6cb_11ea_97cf_f82819e5b6a4row7_col1\" class=\"data row7 col1\" >False</td>\n",
       "            </tr>\n",
       "            <tr>\n",
       "                        <th id=\"T_d6078262_a6cb_11ea_97cf_f82819e5b6a4level0_row8\" class=\"row_heading level0 row8\" >8</th>\n",
       "                        <td id=\"T_d6078262_a6cb_11ea_97cf_f82819e5b6a4row8_col0\" class=\"data row8 col0\" >High Cardinality Features </td>\n",
       "                        <td id=\"T_d6078262_a6cb_11ea_97cf_f82819e5b6a4row8_col1\" class=\"data row8 col1\" >False</td>\n",
       "            </tr>\n",
       "            <tr>\n",
       "                        <th id=\"T_d6078262_a6cb_11ea_97cf_f82819e5b6a4level0_row9\" class=\"row_heading level0 row9\" >9</th>\n",
       "                        <td id=\"T_d6078262_a6cb_11ea_97cf_f82819e5b6a4row9_col0\" class=\"data row9 col0\" >High Cardinality Method </td>\n",
       "                        <td id=\"T_d6078262_a6cb_11ea_97cf_f82819e5b6a4row9_col1\" class=\"data row9 col1\" >None</td>\n",
       "            </tr>\n",
       "            <tr>\n",
       "                        <th id=\"T_d6078262_a6cb_11ea_97cf_f82819e5b6a4level0_row10\" class=\"row_heading level0 row10\" >10</th>\n",
       "                        <td id=\"T_d6078262_a6cb_11ea_97cf_f82819e5b6a4row10_col0\" class=\"data row10 col0\" >Sampled Data</td>\n",
       "                        <td id=\"T_d6078262_a6cb_11ea_97cf_f82819e5b6a4row10_col1\" class=\"data row10 col1\" >(150000, 12)</td>\n",
       "            </tr>\n",
       "            <tr>\n",
       "                        <th id=\"T_d6078262_a6cb_11ea_97cf_f82819e5b6a4level0_row11\" class=\"row_heading level0 row11\" >11</th>\n",
       "                        <td id=\"T_d6078262_a6cb_11ea_97cf_f82819e5b6a4row11_col0\" class=\"data row11 col0\" >Transformed Train Set</td>\n",
       "                        <td id=\"T_d6078262_a6cb_11ea_97cf_f82819e5b6a4row11_col1\" class=\"data row11 col1\" >(104999, 67)</td>\n",
       "            </tr>\n",
       "            <tr>\n",
       "                        <th id=\"T_d6078262_a6cb_11ea_97cf_f82819e5b6a4level0_row12\" class=\"row_heading level0 row12\" >12</th>\n",
       "                        <td id=\"T_d6078262_a6cb_11ea_97cf_f82819e5b6a4row12_col0\" class=\"data row12 col0\" >Transformed Test Set</td>\n",
       "                        <td id=\"T_d6078262_a6cb_11ea_97cf_f82819e5b6a4row12_col1\" class=\"data row12 col1\" >(45001, 67)</td>\n",
       "            </tr>\n",
       "            <tr>\n",
       "                        <th id=\"T_d6078262_a6cb_11ea_97cf_f82819e5b6a4level0_row13\" class=\"row_heading level0 row13\" >13</th>\n",
       "                        <td id=\"T_d6078262_a6cb_11ea_97cf_f82819e5b6a4row13_col0\" class=\"data row13 col0\" >Numeric Imputer </td>\n",
       "                        <td id=\"T_d6078262_a6cb_11ea_97cf_f82819e5b6a4row13_col1\" class=\"data row13 col1\" >mean</td>\n",
       "            </tr>\n",
       "            <tr>\n",
       "                        <th id=\"T_d6078262_a6cb_11ea_97cf_f82819e5b6a4level0_row14\" class=\"row_heading level0 row14\" >14</th>\n",
       "                        <td id=\"T_d6078262_a6cb_11ea_97cf_f82819e5b6a4row14_col0\" class=\"data row14 col0\" >Categorical Imputer </td>\n",
       "                        <td id=\"T_d6078262_a6cb_11ea_97cf_f82819e5b6a4row14_col1\" class=\"data row14 col1\" >constant</td>\n",
       "            </tr>\n",
       "            <tr>\n",
       "                        <th id=\"T_d6078262_a6cb_11ea_97cf_f82819e5b6a4level0_row15\" class=\"row_heading level0 row15\" >15</th>\n",
       "                        <td id=\"T_d6078262_a6cb_11ea_97cf_f82819e5b6a4row15_col0\" class=\"data row15 col0\" >Normalize </td>\n",
       "                        <td id=\"T_d6078262_a6cb_11ea_97cf_f82819e5b6a4row15_col1\" class=\"data row15 col1\" >False</td>\n",
       "            </tr>\n",
       "            <tr>\n",
       "                        <th id=\"T_d6078262_a6cb_11ea_97cf_f82819e5b6a4level0_row16\" class=\"row_heading level0 row16\" >16</th>\n",
       "                        <td id=\"T_d6078262_a6cb_11ea_97cf_f82819e5b6a4row16_col0\" class=\"data row16 col0\" >Normalize Method </td>\n",
       "                        <td id=\"T_d6078262_a6cb_11ea_97cf_f82819e5b6a4row16_col1\" class=\"data row16 col1\" >None</td>\n",
       "            </tr>\n",
       "            <tr>\n",
       "                        <th id=\"T_d6078262_a6cb_11ea_97cf_f82819e5b6a4level0_row17\" class=\"row_heading level0 row17\" >17</th>\n",
       "                        <td id=\"T_d6078262_a6cb_11ea_97cf_f82819e5b6a4row17_col0\" class=\"data row17 col0\" >Transformation </td>\n",
       "                        <td id=\"T_d6078262_a6cb_11ea_97cf_f82819e5b6a4row17_col1\" class=\"data row17 col1\" >False</td>\n",
       "            </tr>\n",
       "            <tr>\n",
       "                        <th id=\"T_d6078262_a6cb_11ea_97cf_f82819e5b6a4level0_row18\" class=\"row_heading level0 row18\" >18</th>\n",
       "                        <td id=\"T_d6078262_a6cb_11ea_97cf_f82819e5b6a4row18_col0\" class=\"data row18 col0\" >Transformation Method </td>\n",
       "                        <td id=\"T_d6078262_a6cb_11ea_97cf_f82819e5b6a4row18_col1\" class=\"data row18 col1\" >None</td>\n",
       "            </tr>\n",
       "            <tr>\n",
       "                        <th id=\"T_d6078262_a6cb_11ea_97cf_f82819e5b6a4level0_row19\" class=\"row_heading level0 row19\" >19</th>\n",
       "                        <td id=\"T_d6078262_a6cb_11ea_97cf_f82819e5b6a4row19_col0\" class=\"data row19 col0\" >PCA </td>\n",
       "                        <td id=\"T_d6078262_a6cb_11ea_97cf_f82819e5b6a4row19_col1\" class=\"data row19 col1\" >False</td>\n",
       "            </tr>\n",
       "            <tr>\n",
       "                        <th id=\"T_d6078262_a6cb_11ea_97cf_f82819e5b6a4level0_row20\" class=\"row_heading level0 row20\" >20</th>\n",
       "                        <td id=\"T_d6078262_a6cb_11ea_97cf_f82819e5b6a4row20_col0\" class=\"data row20 col0\" >PCA Method </td>\n",
       "                        <td id=\"T_d6078262_a6cb_11ea_97cf_f82819e5b6a4row20_col1\" class=\"data row20 col1\" >None</td>\n",
       "            </tr>\n",
       "            <tr>\n",
       "                        <th id=\"T_d6078262_a6cb_11ea_97cf_f82819e5b6a4level0_row21\" class=\"row_heading level0 row21\" >21</th>\n",
       "                        <td id=\"T_d6078262_a6cb_11ea_97cf_f82819e5b6a4row21_col0\" class=\"data row21 col0\" >PCA Components </td>\n",
       "                        <td id=\"T_d6078262_a6cb_11ea_97cf_f82819e5b6a4row21_col1\" class=\"data row21 col1\" >None</td>\n",
       "            </tr>\n",
       "            <tr>\n",
       "                        <th id=\"T_d6078262_a6cb_11ea_97cf_f82819e5b6a4level0_row22\" class=\"row_heading level0 row22\" >22</th>\n",
       "                        <td id=\"T_d6078262_a6cb_11ea_97cf_f82819e5b6a4row22_col0\" class=\"data row22 col0\" >Ignore Low Variance </td>\n",
       "                        <td id=\"T_d6078262_a6cb_11ea_97cf_f82819e5b6a4row22_col1\" class=\"data row22 col1\" >False</td>\n",
       "            </tr>\n",
       "            <tr>\n",
       "                        <th id=\"T_d6078262_a6cb_11ea_97cf_f82819e5b6a4level0_row23\" class=\"row_heading level0 row23\" >23</th>\n",
       "                        <td id=\"T_d6078262_a6cb_11ea_97cf_f82819e5b6a4row23_col0\" class=\"data row23 col0\" >Combine Rare Levels </td>\n",
       "                        <td id=\"T_d6078262_a6cb_11ea_97cf_f82819e5b6a4row23_col1\" class=\"data row23 col1\" >False</td>\n",
       "            </tr>\n",
       "            <tr>\n",
       "                        <th id=\"T_d6078262_a6cb_11ea_97cf_f82819e5b6a4level0_row24\" class=\"row_heading level0 row24\" >24</th>\n",
       "                        <td id=\"T_d6078262_a6cb_11ea_97cf_f82819e5b6a4row24_col0\" class=\"data row24 col0\" >Rare Level Threshold </td>\n",
       "                        <td id=\"T_d6078262_a6cb_11ea_97cf_f82819e5b6a4row24_col1\" class=\"data row24 col1\" >None</td>\n",
       "            </tr>\n",
       "            <tr>\n",
       "                        <th id=\"T_d6078262_a6cb_11ea_97cf_f82819e5b6a4level0_row25\" class=\"row_heading level0 row25\" >25</th>\n",
       "                        <td id=\"T_d6078262_a6cb_11ea_97cf_f82819e5b6a4row25_col0\" class=\"data row25 col0\" >Numeric Binning </td>\n",
       "                        <td id=\"T_d6078262_a6cb_11ea_97cf_f82819e5b6a4row25_col1\" class=\"data row25 col1\" >False</td>\n",
       "            </tr>\n",
       "            <tr>\n",
       "                        <th id=\"T_d6078262_a6cb_11ea_97cf_f82819e5b6a4level0_row26\" class=\"row_heading level0 row26\" >26</th>\n",
       "                        <td id=\"T_d6078262_a6cb_11ea_97cf_f82819e5b6a4row26_col0\" class=\"data row26 col0\" >Remove Outliers </td>\n",
       "                        <td id=\"T_d6078262_a6cb_11ea_97cf_f82819e5b6a4row26_col1\" class=\"data row26 col1\" >False</td>\n",
       "            </tr>\n",
       "            <tr>\n",
       "                        <th id=\"T_d6078262_a6cb_11ea_97cf_f82819e5b6a4level0_row27\" class=\"row_heading level0 row27\" >27</th>\n",
       "                        <td id=\"T_d6078262_a6cb_11ea_97cf_f82819e5b6a4row27_col0\" class=\"data row27 col0\" >Outliers Threshold </td>\n",
       "                        <td id=\"T_d6078262_a6cb_11ea_97cf_f82819e5b6a4row27_col1\" class=\"data row27 col1\" >None</td>\n",
       "            </tr>\n",
       "            <tr>\n",
       "                        <th id=\"T_d6078262_a6cb_11ea_97cf_f82819e5b6a4level0_row28\" class=\"row_heading level0 row28\" >28</th>\n",
       "                        <td id=\"T_d6078262_a6cb_11ea_97cf_f82819e5b6a4row28_col0\" class=\"data row28 col0\" >Remove Multicollinearity </td>\n",
       "                        <td id=\"T_d6078262_a6cb_11ea_97cf_f82819e5b6a4row28_col1\" class=\"data row28 col1\" >False</td>\n",
       "            </tr>\n",
       "            <tr>\n",
       "                        <th id=\"T_d6078262_a6cb_11ea_97cf_f82819e5b6a4level0_row29\" class=\"row_heading level0 row29\" >29</th>\n",
       "                        <td id=\"T_d6078262_a6cb_11ea_97cf_f82819e5b6a4row29_col0\" class=\"data row29 col0\" >Multicollinearity Threshold </td>\n",
       "                        <td id=\"T_d6078262_a6cb_11ea_97cf_f82819e5b6a4row29_col1\" class=\"data row29 col1\" >None</td>\n",
       "            </tr>\n",
       "            <tr>\n",
       "                        <th id=\"T_d6078262_a6cb_11ea_97cf_f82819e5b6a4level0_row30\" class=\"row_heading level0 row30\" >30</th>\n",
       "                        <td id=\"T_d6078262_a6cb_11ea_97cf_f82819e5b6a4row30_col0\" class=\"data row30 col0\" >Clustering </td>\n",
       "                        <td id=\"T_d6078262_a6cb_11ea_97cf_f82819e5b6a4row30_col1\" class=\"data row30 col1\" >False</td>\n",
       "            </tr>\n",
       "            <tr>\n",
       "                        <th id=\"T_d6078262_a6cb_11ea_97cf_f82819e5b6a4level0_row31\" class=\"row_heading level0 row31\" >31</th>\n",
       "                        <td id=\"T_d6078262_a6cb_11ea_97cf_f82819e5b6a4row31_col0\" class=\"data row31 col0\" >Clustering Iteration </td>\n",
       "                        <td id=\"T_d6078262_a6cb_11ea_97cf_f82819e5b6a4row31_col1\" class=\"data row31 col1\" >None</td>\n",
       "            </tr>\n",
       "            <tr>\n",
       "                        <th id=\"T_d6078262_a6cb_11ea_97cf_f82819e5b6a4level0_row32\" class=\"row_heading level0 row32\" >32</th>\n",
       "                        <td id=\"T_d6078262_a6cb_11ea_97cf_f82819e5b6a4row32_col0\" class=\"data row32 col0\" >Polynomial Features </td>\n",
       "                        <td id=\"T_d6078262_a6cb_11ea_97cf_f82819e5b6a4row32_col1\" class=\"data row32 col1\" >True</td>\n",
       "            </tr>\n",
       "            <tr>\n",
       "                        <th id=\"T_d6078262_a6cb_11ea_97cf_f82819e5b6a4level0_row33\" class=\"row_heading level0 row33\" >33</th>\n",
       "                        <td id=\"T_d6078262_a6cb_11ea_97cf_f82819e5b6a4row33_col0\" class=\"data row33 col0\" >Polynomial Degree </td>\n",
       "                        <td id=\"T_d6078262_a6cb_11ea_97cf_f82819e5b6a4row33_col1\" class=\"data row33 col1\" >2</td>\n",
       "            </tr>\n",
       "            <tr>\n",
       "                        <th id=\"T_d6078262_a6cb_11ea_97cf_f82819e5b6a4level0_row34\" class=\"row_heading level0 row34\" >34</th>\n",
       "                        <td id=\"T_d6078262_a6cb_11ea_97cf_f82819e5b6a4row34_col0\" class=\"data row34 col0\" >Trignometry Features </td>\n",
       "                        <td id=\"T_d6078262_a6cb_11ea_97cf_f82819e5b6a4row34_col1\" class=\"data row34 col1\" >False</td>\n",
       "            </tr>\n",
       "            <tr>\n",
       "                        <th id=\"T_d6078262_a6cb_11ea_97cf_f82819e5b6a4level0_row35\" class=\"row_heading level0 row35\" >35</th>\n",
       "                        <td id=\"T_d6078262_a6cb_11ea_97cf_f82819e5b6a4row35_col0\" class=\"data row35 col0\" >Polynomial Threshold </td>\n",
       "                        <td id=\"T_d6078262_a6cb_11ea_97cf_f82819e5b6a4row35_col1\" class=\"data row35 col1\" >0.100000</td>\n",
       "            </tr>\n",
       "            <tr>\n",
       "                        <th id=\"T_d6078262_a6cb_11ea_97cf_f82819e5b6a4level0_row36\" class=\"row_heading level0 row36\" >36</th>\n",
       "                        <td id=\"T_d6078262_a6cb_11ea_97cf_f82819e5b6a4row36_col0\" class=\"data row36 col0\" >Group Features </td>\n",
       "                        <td id=\"T_d6078262_a6cb_11ea_97cf_f82819e5b6a4row36_col1\" class=\"data row36 col1\" >False</td>\n",
       "            </tr>\n",
       "            <tr>\n",
       "                        <th id=\"T_d6078262_a6cb_11ea_97cf_f82819e5b6a4level0_row37\" class=\"row_heading level0 row37\" >37</th>\n",
       "                        <td id=\"T_d6078262_a6cb_11ea_97cf_f82819e5b6a4row37_col0\" class=\"data row37 col0\" >Feature Selection </td>\n",
       "                        <td id=\"T_d6078262_a6cb_11ea_97cf_f82819e5b6a4row37_col1\" class=\"data row37 col1\" >False</td>\n",
       "            </tr>\n",
       "            <tr>\n",
       "                        <th id=\"T_d6078262_a6cb_11ea_97cf_f82819e5b6a4level0_row38\" class=\"row_heading level0 row38\" >38</th>\n",
       "                        <td id=\"T_d6078262_a6cb_11ea_97cf_f82819e5b6a4row38_col0\" class=\"data row38 col0\" >Features Selection Threshold </td>\n",
       "                        <td id=\"T_d6078262_a6cb_11ea_97cf_f82819e5b6a4row38_col1\" class=\"data row38 col1\" >None</td>\n",
       "            </tr>\n",
       "            <tr>\n",
       "                        <th id=\"T_d6078262_a6cb_11ea_97cf_f82819e5b6a4level0_row39\" class=\"row_heading level0 row39\" >39</th>\n",
       "                        <td id=\"T_d6078262_a6cb_11ea_97cf_f82819e5b6a4row39_col0\" class=\"data row39 col0\" >Feature Interaction </td>\n",
       "                        <td id=\"T_d6078262_a6cb_11ea_97cf_f82819e5b6a4row39_col1\" class=\"data row39 col1\" >False</td>\n",
       "            </tr>\n",
       "            <tr>\n",
       "                        <th id=\"T_d6078262_a6cb_11ea_97cf_f82819e5b6a4level0_row40\" class=\"row_heading level0 row40\" >40</th>\n",
       "                        <td id=\"T_d6078262_a6cb_11ea_97cf_f82819e5b6a4row40_col0\" class=\"data row40 col0\" >Feature Ratio </td>\n",
       "                        <td id=\"T_d6078262_a6cb_11ea_97cf_f82819e5b6a4row40_col1\" class=\"data row40 col1\" >False</td>\n",
       "            </tr>\n",
       "            <tr>\n",
       "                        <th id=\"T_d6078262_a6cb_11ea_97cf_f82819e5b6a4level0_row41\" class=\"row_heading level0 row41\" >41</th>\n",
       "                        <td id=\"T_d6078262_a6cb_11ea_97cf_f82819e5b6a4row41_col0\" class=\"data row41 col0\" >Interaction Threshold </td>\n",
       "                        <td id=\"T_d6078262_a6cb_11ea_97cf_f82819e5b6a4row41_col1\" class=\"data row41 col1\" >None</td>\n",
       "            </tr>\n",
       "    </tbody></table>"
      ],
      "text/plain": [
       "<pandas.io.formats.style.Styler at 0x1f7c4d8da08>"
      ]
     },
     "metadata": {},
     "output_type": "display_data"
    }
   ],
   "source": [
    "exp_clf=setup(data=loan,target=\"SeriousDlqin2yrs\",polynomial_features=True)"
   ]
  },
  {
   "cell_type": "code",
   "execution_count": 91,
   "metadata": {},
   "outputs": [
    {
     "ename": "TypeError",
     "evalue": "index() takes at least 1 argument (0 given)",
     "output_type": "error",
     "traceback": [
      "\u001b[1;31m---------------------------------------------------------------------------\u001b[0m",
      "\u001b[1;31mTypeError\u001b[0m                                 Traceback (most recent call last)",
      "\u001b[1;32m<ipython-input-91-1026855de238>\u001b[0m in \u001b[0;36m<module>\u001b[1;34m\u001b[0m\n\u001b[1;32m----> 1\u001b[1;33m \u001b[0mexp_clf\u001b[0m\u001b[1;33m.\u001b[0m\u001b[0mindex\u001b[0m\u001b[1;33m(\u001b[0m\u001b[1;33m)\u001b[0m\u001b[1;33m\u001b[0m\u001b[1;33m\u001b[0m\u001b[0m\n\u001b[0m",
      "\u001b[1;31mTypeError\u001b[0m: index() takes at least 1 argument (0 given)"
     ]
    }
   ],
   "source": [
    "tra"
   ]
  },
  {
   "cell_type": "code",
   "execution_count": 92,
   "metadata": {},
   "outputs": [
    {
     "data": {
      "text/html": [
       "<div>\n",
       "<style scoped>\n",
       "    .dataframe tbody tr th:only-of-type {\n",
       "        vertical-align: middle;\n",
       "    }\n",
       "\n",
       "    .dataframe tbody tr th {\n",
       "        vertical-align: top;\n",
       "    }\n",
       "\n",
       "    .dataframe thead th {\n",
       "        text-align: right;\n",
       "    }\n",
       "</style>\n",
       "<table border=\"1\" class=\"dataframe\">\n",
       "  <thead>\n",
       "    <tr style=\"text-align: right;\">\n",
       "      <th></th>\n",
       "      <th>Sr_No</th>\n",
       "      <th>SeriousDlqin2yrs</th>\n",
       "      <th>RevolvingUtilizationOfUnsecuredLines</th>\n",
       "      <th>age</th>\n",
       "      <th>NumberOfTime30-59DaysPastDueNotWorse</th>\n",
       "      <th>DebtRatio</th>\n",
       "      <th>MonthlyIncome</th>\n",
       "      <th>NumberOfOpenCreditLinesAndLoans</th>\n",
       "      <th>NumberOfTimes90DaysLate</th>\n",
       "      <th>NumberRealEstateLoansOrLines</th>\n",
       "      <th>NumberOfTime60-89DaysPastDueNotWorse</th>\n",
       "      <th>NumberOfDependents</th>\n",
       "    </tr>\n",
       "  </thead>\n",
       "  <tbody>\n",
       "    <tr>\n",
       "      <th>0</th>\n",
       "      <td>1</td>\n",
       "      <td>1</td>\n",
       "      <td>0.766127</td>\n",
       "      <td>45</td>\n",
       "      <td>2</td>\n",
       "      <td>0.802982</td>\n",
       "      <td>9120.0</td>\n",
       "      <td>13</td>\n",
       "      <td>0</td>\n",
       "      <td>6</td>\n",
       "      <td>0</td>\n",
       "      <td>2.0</td>\n",
       "    </tr>\n",
       "    <tr>\n",
       "      <th>1</th>\n",
       "      <td>2</td>\n",
       "      <td>0</td>\n",
       "      <td>0.957151</td>\n",
       "      <td>40</td>\n",
       "      <td>0</td>\n",
       "      <td>0.121876</td>\n",
       "      <td>2600.0</td>\n",
       "      <td>4</td>\n",
       "      <td>0</td>\n",
       "      <td>0</td>\n",
       "      <td>0</td>\n",
       "      <td>1.0</td>\n",
       "    </tr>\n",
       "    <tr>\n",
       "      <th>2</th>\n",
       "      <td>3</td>\n",
       "      <td>0</td>\n",
       "      <td>0.658180</td>\n",
       "      <td>38</td>\n",
       "      <td>1</td>\n",
       "      <td>0.085113</td>\n",
       "      <td>3042.0</td>\n",
       "      <td>2</td>\n",
       "      <td>1</td>\n",
       "      <td>0</td>\n",
       "      <td>0</td>\n",
       "      <td>0.0</td>\n",
       "    </tr>\n",
       "    <tr>\n",
       "      <th>3</th>\n",
       "      <td>4</td>\n",
       "      <td>0</td>\n",
       "      <td>0.233810</td>\n",
       "      <td>30</td>\n",
       "      <td>0</td>\n",
       "      <td>0.036050</td>\n",
       "      <td>3300.0</td>\n",
       "      <td>5</td>\n",
       "      <td>0</td>\n",
       "      <td>0</td>\n",
       "      <td>0</td>\n",
       "      <td>0.0</td>\n",
       "    </tr>\n",
       "    <tr>\n",
       "      <th>4</th>\n",
       "      <td>5</td>\n",
       "      <td>0</td>\n",
       "      <td>0.907239</td>\n",
       "      <td>49</td>\n",
       "      <td>1</td>\n",
       "      <td>0.024926</td>\n",
       "      <td>63588.0</td>\n",
       "      <td>7</td>\n",
       "      <td>0</td>\n",
       "      <td>1</td>\n",
       "      <td>0</td>\n",
       "      <td>0.0</td>\n",
       "    </tr>\n",
       "    <tr>\n",
       "      <th>...</th>\n",
       "      <td>...</td>\n",
       "      <td>...</td>\n",
       "      <td>...</td>\n",
       "      <td>...</td>\n",
       "      <td>...</td>\n",
       "      <td>...</td>\n",
       "      <td>...</td>\n",
       "      <td>...</td>\n",
       "      <td>...</td>\n",
       "      <td>...</td>\n",
       "      <td>...</td>\n",
       "      <td>...</td>\n",
       "    </tr>\n",
       "    <tr>\n",
       "      <th>149995</th>\n",
       "      <td>149996</td>\n",
       "      <td>0</td>\n",
       "      <td>0.040674</td>\n",
       "      <td>74</td>\n",
       "      <td>0</td>\n",
       "      <td>0.225131</td>\n",
       "      <td>2100.0</td>\n",
       "      <td>4</td>\n",
       "      <td>0</td>\n",
       "      <td>1</td>\n",
       "      <td>0</td>\n",
       "      <td>0.0</td>\n",
       "    </tr>\n",
       "    <tr>\n",
       "      <th>149996</th>\n",
       "      <td>149997</td>\n",
       "      <td>0</td>\n",
       "      <td>0.299745</td>\n",
       "      <td>44</td>\n",
       "      <td>0</td>\n",
       "      <td>0.716562</td>\n",
       "      <td>5584.0</td>\n",
       "      <td>4</td>\n",
       "      <td>0</td>\n",
       "      <td>1</td>\n",
       "      <td>0</td>\n",
       "      <td>2.0</td>\n",
       "    </tr>\n",
       "    <tr>\n",
       "      <th>149997</th>\n",
       "      <td>149998</td>\n",
       "      <td>0</td>\n",
       "      <td>0.246044</td>\n",
       "      <td>58</td>\n",
       "      <td>0</td>\n",
       "      <td>3870.000000</td>\n",
       "      <td>NaN</td>\n",
       "      <td>18</td>\n",
       "      <td>0</td>\n",
       "      <td>1</td>\n",
       "      <td>0</td>\n",
       "      <td>0.0</td>\n",
       "    </tr>\n",
       "    <tr>\n",
       "      <th>149998</th>\n",
       "      <td>149999</td>\n",
       "      <td>0</td>\n",
       "      <td>0.000000</td>\n",
       "      <td>30</td>\n",
       "      <td>0</td>\n",
       "      <td>0.000000</td>\n",
       "      <td>5716.0</td>\n",
       "      <td>4</td>\n",
       "      <td>0</td>\n",
       "      <td>0</td>\n",
       "      <td>0</td>\n",
       "      <td>0.0</td>\n",
       "    </tr>\n",
       "    <tr>\n",
       "      <th>149999</th>\n",
       "      <td>150000</td>\n",
       "      <td>0</td>\n",
       "      <td>0.850283</td>\n",
       "      <td>64</td>\n",
       "      <td>0</td>\n",
       "      <td>0.249908</td>\n",
       "      <td>8158.0</td>\n",
       "      <td>8</td>\n",
       "      <td>0</td>\n",
       "      <td>2</td>\n",
       "      <td>0</td>\n",
       "      <td>0.0</td>\n",
       "    </tr>\n",
       "  </tbody>\n",
       "</table>\n",
       "<p>150000 rows × 12 columns</p>\n",
       "</div>"
      ],
      "text/plain": [
       "         Sr_No  SeriousDlqin2yrs  RevolvingUtilizationOfUnsecuredLines  age  \\\n",
       "0            1                 1                              0.766127   45   \n",
       "1            2                 0                              0.957151   40   \n",
       "2            3                 0                              0.658180   38   \n",
       "3            4                 0                              0.233810   30   \n",
       "4            5                 0                              0.907239   49   \n",
       "...        ...               ...                                   ...  ...   \n",
       "149995  149996                 0                              0.040674   74   \n",
       "149996  149997                 0                              0.299745   44   \n",
       "149997  149998                 0                              0.246044   58   \n",
       "149998  149999                 0                              0.000000   30   \n",
       "149999  150000                 0                              0.850283   64   \n",
       "\n",
       "        NumberOfTime30-59DaysPastDueNotWorse    DebtRatio  MonthlyIncome  \\\n",
       "0                                          2     0.802982         9120.0   \n",
       "1                                          0     0.121876         2600.0   \n",
       "2                                          1     0.085113         3042.0   \n",
       "3                                          0     0.036050         3300.0   \n",
       "4                                          1     0.024926        63588.0   \n",
       "...                                      ...          ...            ...   \n",
       "149995                                     0     0.225131         2100.0   \n",
       "149996                                     0     0.716562         5584.0   \n",
       "149997                                     0  3870.000000            NaN   \n",
       "149998                                     0     0.000000         5716.0   \n",
       "149999                                     0     0.249908         8158.0   \n",
       "\n",
       "        NumberOfOpenCreditLinesAndLoans  NumberOfTimes90DaysLate  \\\n",
       "0                                    13                        0   \n",
       "1                                     4                        0   \n",
       "2                                     2                        1   \n",
       "3                                     5                        0   \n",
       "4                                     7                        0   \n",
       "...                                 ...                      ...   \n",
       "149995                                4                        0   \n",
       "149996                                4                        0   \n",
       "149997                               18                        0   \n",
       "149998                                4                        0   \n",
       "149999                                8                        0   \n",
       "\n",
       "        NumberRealEstateLoansOrLines  NumberOfTime60-89DaysPastDueNotWorse  \\\n",
       "0                                  6                                     0   \n",
       "1                                  0                                     0   \n",
       "2                                  0                                     0   \n",
       "3                                  0                                     0   \n",
       "4                                  1                                     0   \n",
       "...                              ...                                   ...   \n",
       "149995                             1                                     0   \n",
       "149996                             1                                     0   \n",
       "149997                             1                                     0   \n",
       "149998                             0                                     0   \n",
       "149999                             2                                     0   \n",
       "\n",
       "        NumberOfDependents  \n",
       "0                      2.0  \n",
       "1                      1.0  \n",
       "2                      0.0  \n",
       "3                      0.0  \n",
       "4                      0.0  \n",
       "...                    ...  \n",
       "149995                 0.0  \n",
       "149996                 2.0  \n",
       "149997                 0.0  \n",
       "149998                 0.0  \n",
       "149999                 0.0  \n",
       "\n",
       "[150000 rows x 12 columns]"
      ]
     },
     "execution_count": 92,
     "metadata": {},
     "output_type": "execute_result"
    }
   ],
   "source": [
    "loan"
   ]
  },
  {
   "cell_type": "code",
   "execution_count": null,
   "metadata": {},
   "outputs": [],
   "source": []
  }
 ],
 "metadata": {
  "kernelspec": {
   "display_name": "Python 3",
   "language": "python",
   "name": "python3"
  },
  "language_info": {
   "codemirror_mode": {
    "name": "ipython",
    "version": 3
   },
   "file_extension": ".py",
   "mimetype": "text/x-python",
   "name": "python",
   "nbconvert_exporter": "python",
   "pygments_lexer": "ipython3",
   "version": "3.7.4"
  }
 },
 "nbformat": 4,
 "nbformat_minor": 4
}

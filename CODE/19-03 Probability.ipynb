{
 "cells": [
  {
   "cell_type": "code",
   "execution_count": 2,
   "metadata": {},
   "outputs": [],
   "source": [
    "#f(x): {1-p  x=0\n",
    "#        p    x=1}  \"p\"-bi-nominal f(x)= (p)x * (1-p)1-x  ex: p=0.2, Q=0.8 (0.2)1*(0.8)0 \n",
    "#1-p is failure p- is sucess of the probability \n",
    "#bernomil it will be the single distibution data\n",
    "#E(x)=p \"expected mean\" which is always equel to P(probability)\n",
    "#V(x) = p(1-p)=pq\"veriance of X\" "
   ]
  },
  {
   "cell_type": "code",
   "execution_count": null,
   "metadata": {},
   "outputs": [],
   "source": [
    "#Bi-nominal Distibution(Bi means two): casificing the 2 catagarical levels of the Data.some of the Bi-nominal distributoion \n",
    "#same even it will repeted muli times \n",
    "#each and every tile it will indipendent wih other tail\n",
    "#it is having two possible out comes one is probability of sucess and probability of failure(q) p+Q should be 1\n",
    "#Bi(it could be multi events )\n",
    "#number of trails and event should be fix (\"event should be fixed\")\n",
    "#formula - f(x = ncr*pr*qofn-r ) \"r-predict the number of events\"\n",
    "#(n) is nothing but number of events\n",
    "#exp: WHen p =0.5, the distribution is symmetric about it's expected value of 5(np = 10[0.5]=5),where the probabilities of X being below the mean match the probabilities of X being the same distance above the mean.\n",
    "#for example, with n =10 and p =0.5,\n",
    "#p(x=4)=0.2051 and p(X=6)=0.2051\n",
    "#(mu) = np\n",
    "#C2 = np(1-p)\n",
    "#C =sqrofnp(1-p)"
   ]
  }
 ],
 "metadata": {
  "kernelspec": {
   "display_name": "Python 3",
   "language": "python",
   "name": "python3"
  },
  "language_info": {
   "codemirror_mode": {
    "name": "ipython",
    "version": 3
   },
   "file_extension": ".py",
   "mimetype": "text/x-python",
   "name": "python",
   "nbconvert_exporter": "python",
   "pygments_lexer": "ipython3",
   "version": "3.7.4"
  }
 },
 "nbformat": 4,
 "nbformat_minor": 2
}

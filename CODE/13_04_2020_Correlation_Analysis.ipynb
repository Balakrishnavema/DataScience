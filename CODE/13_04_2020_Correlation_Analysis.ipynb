{
 "cells": [
  {
   "cell_type": "markdown",
   "metadata": {},
   "source": [
    "# Correlation: means Two\n",
    "Identifing the relationship between two attributes or association between the attributes(variables)\n",
    "X1, X2: two variables should be a numerical variables - \n",
    "-Two variables must be continous variables \\\n",
    "while measuring the correlation make sure that there will be no missing values and there no outliers \n",
    "-COrrelation will perform after treat the missing values and outliers \n",
    "- propery:- x1&X2 must be normally distributed, wht if data is not normmaly distributed so we have to apply the variable tranformation techniques\n",
    "1. log, 2.squer 3. squrroot"
   ]
  },
  {
   "cell_type": "code",
   "execution_count": 2,
   "metadata": {},
   "outputs": [],
   "source": [
    "import numpy as np\n",
    "import pandas as pd\n",
    "import matplotlib.pyplot as plt\n",
    "import seaborn as sns\n"
   ]
  },
  {
   "cell_type": "code",
   "execution_count": 3,
   "metadata": {},
   "outputs": [],
   "source": [
    "air=pd.read_csv(r\"C:\\Users\\Balakrishna_Vema\\Documents\\Data science\\Data sets\\AirPassengers.csv\")"
   ]
  },
  {
   "cell_type": "code",
   "execution_count": 5,
   "metadata": {},
   "outputs": [
    {
     "data": {
      "text/plain": [
       "(80, 9)"
      ]
     },
     "execution_count": 5,
     "metadata": {},
     "output_type": "execute_result"
    }
   ],
   "source": [
    "air.shape"
   ]
  },
  {
   "cell_type": "code",
   "execution_count": 6,
   "metadata": {},
   "outputs": [
    {
     "data": {
      "text/plain": [
       "(80, 9)"
      ]
     },
     "execution_count": 6,
     "metadata": {},
     "output_type": "execute_result"
    }
   ],
   "source": [
    "air.drop_duplicates().shape"
   ]
  },
  {
   "cell_type": "code",
   "execution_count": 8,
   "metadata": {},
   "outputs": [
    {
     "data": {
      "text/html": [
       "<div>\n",
       "<style scoped>\n",
       "    .dataframe tbody tr th:only-of-type {\n",
       "        vertical-align: middle;\n",
       "    }\n",
       "\n",
       "    .dataframe tbody tr th {\n",
       "        vertical-align: top;\n",
       "    }\n",
       "\n",
       "    .dataframe thead th {\n",
       "        text-align: right;\n",
       "    }\n",
       "</style>\n",
       "<table border=\"1\" class=\"dataframe\">\n",
       "  <thead>\n",
       "    <tr style=\"text-align: right;\">\n",
       "      <th></th>\n",
       "      <th>Week_num</th>\n",
       "      <th>Passengers</th>\n",
       "      <th>Promotion_Budget</th>\n",
       "      <th>Service_Quality_Score</th>\n",
       "      <th>Holiday_week</th>\n",
       "      <th>Delayed_Cancelled_flight_ind</th>\n",
       "      <th>Inter_metro_flight_ratio</th>\n",
       "      <th>Bad_Weather_Ind</th>\n",
       "      <th>Technical_issues_ind</th>\n",
       "    </tr>\n",
       "  </thead>\n",
       "  <tbody>\n",
       "    <tr>\n",
       "      <td>0</td>\n",
       "      <td>1</td>\n",
       "      <td>37824</td>\n",
       "      <td>517356</td>\n",
       "      <td>4.00000</td>\n",
       "      <td>NO</td>\n",
       "      <td>NO</td>\n",
       "      <td>0.70</td>\n",
       "      <td>YES</td>\n",
       "      <td>YES</td>\n",
       "    </tr>\n",
       "    <tr>\n",
       "      <td>1</td>\n",
       "      <td>2</td>\n",
       "      <td>43936</td>\n",
       "      <td>646086</td>\n",
       "      <td>2.67466</td>\n",
       "      <td>NO</td>\n",
       "      <td>YES</td>\n",
       "      <td>0.80</td>\n",
       "      <td>YES</td>\n",
       "      <td>YES</td>\n",
       "    </tr>\n",
       "    <tr>\n",
       "      <td>2</td>\n",
       "      <td>3</td>\n",
       "      <td>42896</td>\n",
       "      <td>638330</td>\n",
       "      <td>3.29473</td>\n",
       "      <td>NO</td>\n",
       "      <td>NO</td>\n",
       "      <td>0.90</td>\n",
       "      <td>NO</td>\n",
       "      <td>NO</td>\n",
       "    </tr>\n",
       "    <tr>\n",
       "      <td>3</td>\n",
       "      <td>4</td>\n",
       "      <td>35792</td>\n",
       "      <td>506492</td>\n",
       "      <td>3.85684</td>\n",
       "      <td>NO</td>\n",
       "      <td>NO</td>\n",
       "      <td>0.40</td>\n",
       "      <td>NO</td>\n",
       "      <td>NO</td>\n",
       "    </tr>\n",
       "    <tr>\n",
       "      <td>4</td>\n",
       "      <td>5</td>\n",
       "      <td>38624</td>\n",
       "      <td>609658</td>\n",
       "      <td>3.90757</td>\n",
       "      <td>NO</td>\n",
       "      <td>NO</td>\n",
       "      <td>0.87</td>\n",
       "      <td>NO</td>\n",
       "      <td>YES</td>\n",
       "    </tr>\n",
       "  </tbody>\n",
       "</table>\n",
       "</div>"
      ],
      "text/plain": [
       "   Week_num  Passengers  Promotion_Budget  Service_Quality_Score Holiday_week  \\\n",
       "0         1       37824            517356                4.00000           NO   \n",
       "1         2       43936            646086                2.67466           NO   \n",
       "2         3       42896            638330                3.29473           NO   \n",
       "3         4       35792            506492                3.85684           NO   \n",
       "4         5       38624            609658                3.90757           NO   \n",
       "\n",
       "  Delayed_Cancelled_flight_ind  Inter_metro_flight_ratio Bad_Weather_Ind  \\\n",
       "0                           NO                      0.70             YES   \n",
       "1                          YES                      0.80             YES   \n",
       "2                           NO                      0.90              NO   \n",
       "3                           NO                      0.40              NO   \n",
       "4                           NO                      0.87              NO   \n",
       "\n",
       "  Technical_issues_ind  \n",
       "0                  YES  \n",
       "1                  YES  \n",
       "2                   NO  \n",
       "3                   NO  \n",
       "4                  YES  "
      ]
     },
     "execution_count": 8,
     "metadata": {},
     "output_type": "execute_result"
    }
   ],
   "source": [
    "air.head()"
   ]
  },
  {
   "cell_type": "code",
   "execution_count": 9,
   "metadata": {},
   "outputs": [],
   "source": [
    "air1=air._get_numeric_data()"
   ]
  },
  {
   "cell_type": "code",
   "execution_count": 11,
   "metadata": {},
   "outputs": [
    {
     "data": {
      "text/html": [
       "<div>\n",
       "<style scoped>\n",
       "    .dataframe tbody tr th:only-of-type {\n",
       "        vertical-align: middle;\n",
       "    }\n",
       "\n",
       "    .dataframe tbody tr th {\n",
       "        vertical-align: top;\n",
       "    }\n",
       "\n",
       "    .dataframe thead th {\n",
       "        text-align: right;\n",
       "    }\n",
       "</style>\n",
       "<table border=\"1\" class=\"dataframe\">\n",
       "  <thead>\n",
       "    <tr style=\"text-align: right;\">\n",
       "      <th></th>\n",
       "      <th>Week_num</th>\n",
       "      <th>Passengers</th>\n",
       "      <th>Promotion_Budget</th>\n",
       "      <th>Service_Quality_Score</th>\n",
       "      <th>Inter_metro_flight_ratio</th>\n",
       "    </tr>\n",
       "  </thead>\n",
       "  <tbody>\n",
       "    <tr>\n",
       "      <td>0</td>\n",
       "      <td>1</td>\n",
       "      <td>37824</td>\n",
       "      <td>517356</td>\n",
       "      <td>4.00000</td>\n",
       "      <td>0.70</td>\n",
       "    </tr>\n",
       "    <tr>\n",
       "      <td>1</td>\n",
       "      <td>2</td>\n",
       "      <td>43936</td>\n",
       "      <td>646086</td>\n",
       "      <td>2.67466</td>\n",
       "      <td>0.80</td>\n",
       "    </tr>\n",
       "    <tr>\n",
       "      <td>2</td>\n",
       "      <td>3</td>\n",
       "      <td>42896</td>\n",
       "      <td>638330</td>\n",
       "      <td>3.29473</td>\n",
       "      <td>0.90</td>\n",
       "    </tr>\n",
       "    <tr>\n",
       "      <td>3</td>\n",
       "      <td>4</td>\n",
       "      <td>35792</td>\n",
       "      <td>506492</td>\n",
       "      <td>3.85684</td>\n",
       "      <td>0.40</td>\n",
       "    </tr>\n",
       "    <tr>\n",
       "      <td>4</td>\n",
       "      <td>5</td>\n",
       "      <td>38624</td>\n",
       "      <td>609658</td>\n",
       "      <td>3.90757</td>\n",
       "      <td>0.87</td>\n",
       "    </tr>\n",
       "  </tbody>\n",
       "</table>\n",
       "</div>"
      ],
      "text/plain": [
       "   Week_num  Passengers  Promotion_Budget  Service_Quality_Score  \\\n",
       "0         1       37824            517356                4.00000   \n",
       "1         2       43936            646086                2.67466   \n",
       "2         3       42896            638330                3.29473   \n",
       "3         4       35792            506492                3.85684   \n",
       "4         5       38624            609658                3.90757   \n",
       "\n",
       "   Inter_metro_flight_ratio  \n",
       "0                      0.70  \n",
       "1                      0.80  \n",
       "2                      0.90  \n",
       "3                      0.40  \n",
       "4                      0.87  "
      ]
     },
     "execution_count": 11,
     "metadata": {},
     "output_type": "execute_result"
    }
   ],
   "source": [
    "air1.head()"
   ]
  },
  {
   "cell_type": "code",
   "execution_count": 13,
   "metadata": {},
   "outputs": [
    {
     "data": {
      "text/plain": [
       "(80, 5)"
      ]
     },
     "execution_count": 13,
     "metadata": {},
     "output_type": "execute_result"
    }
   ],
   "source": [
    "air1.shape"
   ]
  },
  {
   "cell_type": "code",
   "execution_count": 17,
   "metadata": {},
   "outputs": [],
   "source": [
    "air1.drop([\"Week_num\"],axis=1,inplace=True)"
   ]
  },
  {
   "cell_type": "code",
   "execution_count": 19,
   "metadata": {},
   "outputs": [
    {
     "data": {
      "text/html": [
       "<div>\n",
       "<style scoped>\n",
       "    .dataframe tbody tr th:only-of-type {\n",
       "        vertical-align: middle;\n",
       "    }\n",
       "\n",
       "    .dataframe tbody tr th {\n",
       "        vertical-align: top;\n",
       "    }\n",
       "\n",
       "    .dataframe thead th {\n",
       "        text-align: right;\n",
       "    }\n",
       "</style>\n",
       "<table border=\"1\" class=\"dataframe\">\n",
       "  <thead>\n",
       "    <tr style=\"text-align: right;\">\n",
       "      <th></th>\n",
       "      <th>Passengers</th>\n",
       "      <th>Promotion_Budget</th>\n",
       "      <th>Service_Quality_Score</th>\n",
       "      <th>Inter_metro_flight_ratio</th>\n",
       "    </tr>\n",
       "  </thead>\n",
       "  <tbody>\n",
       "    <tr>\n",
       "      <td>0</td>\n",
       "      <td>37824</td>\n",
       "      <td>517356</td>\n",
       "      <td>4.00000</td>\n",
       "      <td>0.70</td>\n",
       "    </tr>\n",
       "    <tr>\n",
       "      <td>1</td>\n",
       "      <td>43936</td>\n",
       "      <td>646086</td>\n",
       "      <td>2.67466</td>\n",
       "      <td>0.80</td>\n",
       "    </tr>\n",
       "    <tr>\n",
       "      <td>2</td>\n",
       "      <td>42896</td>\n",
       "      <td>638330</td>\n",
       "      <td>3.29473</td>\n",
       "      <td>0.90</td>\n",
       "    </tr>\n",
       "    <tr>\n",
       "      <td>3</td>\n",
       "      <td>35792</td>\n",
       "      <td>506492</td>\n",
       "      <td>3.85684</td>\n",
       "      <td>0.40</td>\n",
       "    </tr>\n",
       "    <tr>\n",
       "      <td>4</td>\n",
       "      <td>38624</td>\n",
       "      <td>609658</td>\n",
       "      <td>3.90757</td>\n",
       "      <td>0.87</td>\n",
       "    </tr>\n",
       "  </tbody>\n",
       "</table>\n",
       "</div>"
      ],
      "text/plain": [
       "   Passengers  Promotion_Budget  Service_Quality_Score  \\\n",
       "0       37824            517356                4.00000   \n",
       "1       43936            646086                2.67466   \n",
       "2       42896            638330                3.29473   \n",
       "3       35792            506492                3.85684   \n",
       "4       38624            609658                3.90757   \n",
       "\n",
       "   Inter_metro_flight_ratio  \n",
       "0                      0.70  \n",
       "1                      0.80  \n",
       "2                      0.90  \n",
       "3                      0.40  \n",
       "4                      0.87  "
      ]
     },
     "execution_count": 19,
     "metadata": {},
     "output_type": "execute_result"
    }
   ],
   "source": [
    "air1.head()"
   ]
  },
  {
   "cell_type": "code",
   "execution_count": 20,
   "metadata": {},
   "outputs": [],
   "source": [
    "#two variables are having liner associateion:\n",
    "#if x1 is incresing x2 will aslo incresing so that we will call possitive associateion\n",
    "#if X1 is incresing x2 descresing that we will call nagetive association\n",
    "#if x1 is incresing , x2 is constent so there is no liner relationship between two variables of the given data"
   ]
  },
  {
   "cell_type": "markdown",
   "metadata": {},
   "source": [
    "#  To compare two numberical variables , we can th scatter plot"
   ]
  },
  {
   "cell_type": "code",
   "execution_count": 32,
   "metadata": {},
   "outputs": [
    {
     "data": {
      "text/plain": [
       "Text(0, 0.5, 'promo')"
      ]
     },
     "execution_count": 32,
     "metadata": {},
     "output_type": "execute_result"
    },
    {
     "data": {
      "image/png": "[encoded data removed]",
      "text/plain": [
       "<Figure size 432x288 with 1 Axes>"
      ]
     },
     "metadata": {
      "needs_background": "light"
     },
     "output_type": "display_data"
    }
   ],
   "source": [
    "plt.plot(air1[\"Passengers\"],air1[\"Promotion_Budget\"],\"r.\")\n",
    "plt.xlabel(\"Passengers\")\n",
    "plt.ylabel(\"promo\")"
   ]
  },
  {
   "cell_type": "code",
   "execution_count": 31,
   "metadata": {},
   "outputs": [
    {
     "data": {
      "text/plain": [
       "Text(0, 0.5, 'promo')"
      ]
     },
     "execution_count": 31,
     "metadata": {},
     "output_type": "execute_result"
    },
    {
     "data": {
      "image/png": "[encoded data removed]",
      "text/plain": [
       "<Figure size 432x288 with 1 Axes>"
      ]
     },
     "metadata": {
      "needs_background": "light"
     },
     "output_type": "display_data"
    }
   ],
   "source": [
    "plt.scatter(air1[\"Passengers\"],air1[\"Promotion_Budget\"],color=\"r\")\n",
    "plt.xlabel(\"Passengers\")\n",
    "plt.ylabel(\"promo\")"
   ]
  },
  {
   "cell_type": "code",
   "execution_count": 33,
   "metadata": {},
   "outputs": [
    {
     "data": {
      "text/plain": [
       "<seaborn.axisgrid.FacetGrid at 0x192c330df48>"
      ]
     },
     "execution_count": 33,
     "metadata": {},
     "output_type": "execute_result"
    },
    {
     "data": {
      "image/png": "[encoded data removed]",
      "text/plain": [
       "<Figure size 360x360 with 1 Axes>"
      ]
     },
     "metadata": {
      "needs_background": "light"
     },
     "output_type": "display_data"
    }
   ],
   "source": [
    "sns.lmplot(x=\"Passengers\",y=\"Promotion_Budget\",data=air1)"
   ]
  },
  {
   "cell_type": "code",
   "execution_count": 34,
   "metadata": {},
   "outputs": [
    {
     "data": {
      "text/html": [
       "<div>\n",
       "<style scoped>\n",
       "    .dataframe tbody tr th:only-of-type {\n",
       "        vertical-align: middle;\n",
       "    }\n",
       "\n",
       "    .dataframe tbody tr th {\n",
       "        vertical-align: top;\n",
       "    }\n",
       "\n",
       "    .dataframe thead th {\n",
       "        text-align: right;\n",
       "    }\n",
       "</style>\n",
       "<table border=\"1\" class=\"dataframe\">\n",
       "  <thead>\n",
       "    <tr style=\"text-align: right;\">\n",
       "      <th></th>\n",
       "      <th>Passengers</th>\n",
       "      <th>Promotion_Budget</th>\n",
       "      <th>Service_Quality_Score</th>\n",
       "      <th>Inter_metro_flight_ratio</th>\n",
       "    </tr>\n",
       "  </thead>\n",
       "  <tbody>\n",
       "    <tr>\n",
       "      <td>0</td>\n",
       "      <td>37824</td>\n",
       "      <td>517356</td>\n",
       "      <td>4.00000</td>\n",
       "      <td>0.70</td>\n",
       "    </tr>\n",
       "    <tr>\n",
       "      <td>1</td>\n",
       "      <td>43936</td>\n",
       "      <td>646086</td>\n",
       "      <td>2.67466</td>\n",
       "      <td>0.80</td>\n",
       "    </tr>\n",
       "    <tr>\n",
       "      <td>2</td>\n",
       "      <td>42896</td>\n",
       "      <td>638330</td>\n",
       "      <td>3.29473</td>\n",
       "      <td>0.90</td>\n",
       "    </tr>\n",
       "    <tr>\n",
       "      <td>3</td>\n",
       "      <td>35792</td>\n",
       "      <td>506492</td>\n",
       "      <td>3.85684</td>\n",
       "      <td>0.40</td>\n",
       "    </tr>\n",
       "    <tr>\n",
       "      <td>4</td>\n",
       "      <td>38624</td>\n",
       "      <td>609658</td>\n",
       "      <td>3.90757</td>\n",
       "      <td>0.87</td>\n",
       "    </tr>\n",
       "  </tbody>\n",
       "</table>\n",
       "</div>"
      ],
      "text/plain": [
       "   Passengers  Promotion_Budget  Service_Quality_Score  \\\n",
       "0       37824            517356                4.00000   \n",
       "1       43936            646086                2.67466   \n",
       "2       42896            638330                3.29473   \n",
       "3       35792            506492                3.85684   \n",
       "4       38624            609658                3.90757   \n",
       "\n",
       "   Inter_metro_flight_ratio  \n",
       "0                      0.70  \n",
       "1                      0.80  \n",
       "2                      0.90  \n",
       "3                      0.40  \n",
       "4                      0.87  "
      ]
     },
     "execution_count": 34,
     "metadata": {},
     "output_type": "execute_result"
    }
   ],
   "source": [
    "air1.head()"
   ]
  },
  {
   "cell_type": "code",
   "execution_count": 35,
   "metadata": {},
   "outputs": [
    {
     "data": {
      "text/plain": [
       "<seaborn.axisgrid.FacetGrid at 0x192c3301988>"
      ]
     },
     "execution_count": 35,
     "metadata": {},
     "output_type": "execute_result"
    },
    {
     "data": {
      "image/png": "[encoded data removed]",
      "text/plain": [
       "<Figure size 360x360 with 1 Axes>"
      ]
     },
     "metadata": {
      "needs_background": "light"
     },
     "output_type": "display_data"
    }
   ],
   "source": [
    "sns.lmplot(x=\"Service_Quality_Score\",y=\"Passengers\",data=air1)"
   ]
  },
  {
   "cell_type": "code",
   "execution_count": 36,
   "metadata": {},
   "outputs": [
    {
     "data": {
      "text/plain": [
       "<seaborn.axisgrid.FacetGrid at 0x192c30f5f88>"
      ]
     },
     "execution_count": 36,
     "metadata": {},
     "output_type": "execute_result"
    },
    {
     "data": {
      "image/png": "[encoded data removed]",
      "text/plain": [
       "<Figure size 360x360 with 1 Axes>"
      ]
     },
     "metadata": {
      "needs_background": "light"
     },
     "output_type": "display_data"
    }
   ],
   "source": [
    "sns.lmplot(x=\"Service_Quality_Score\",y=\"Inter_metro_flight_ratio\",data=air1)"
   ]
  },
  {
   "cell_type": "code",
   "execution_count": 38,
   "metadata": {},
   "outputs": [],
   "source": [
    "#pearson correlations(r)= cov(x,y)/std(x)*std(y)  (r-coffeciant of correlation)\n",
    "#3 types of correlations -parson correlation->N,N , bi-serial correlation N,B{0,1}, signed rank correlation(categarical/ordinal variable)"
   ]
  },
  {
   "cell_type": "code",
   "execution_count": 39,
   "metadata": {},
   "outputs": [],
   "source": [
    "#Covariance is measure of how changes in one variable is associated with the changes in second variable \n",
    "#specificially covariance measures the degree to which two variables are linearly associated "
   ]
  },
  {
   "cell_type": "code",
   "execution_count": 40,
   "metadata": {},
   "outputs": [],
   "source": [
    "#both measures the relationship and dependancy between two variables"
   ]
  },
  {
   "cell_type": "code",
   "execution_count": null,
   "metadata": {},
   "outputs": [],
   "source": [
    "#Co-variance indicate the direction of the liner relation between variabl \n",
    "#correlation :- measure both strnght and direction between two variables "
   ]
  },
  {
   "cell_type": "code",
   "execution_count": 41,
   "metadata": {},
   "outputs": [],
   "source": [
    "#co-relation is thre function of co-variance \n",
    "#corelation values are standridzed where covariance values are not standized the give data"
   ]
  },
  {
   "cell_type": "code",
   "execution_count": null,
   "metadata": {},
   "outputs": [],
   "source": [
    "#cov(x,y)= x-mu(x))(y-mu(y))/n - population\n",
    "#(x-xbar)(y-ybar)/n-1 - sample covariancde (n-1)-degrees of freedom\n"
   ]
  },
  {
   "cell_type": "code",
   "execution_count": null,
   "metadata": {},
   "outputs": [],
   "source": [
    "#the number of independent wass by which dynamic system can move without violation "
   ]
  },
  {
   "cell_type": "code",
   "execution_count": 42,
   "metadata": {},
   "outputs": [],
   "source": [
    "#mostimpartent: co-variance uints of two variables must have the same untits "
   ]
  },
  {
   "cell_type": "code",
   "execution_count": 57,
   "metadata": {},
   "outputs": [
    {
     "data": {
      "text/html": [
       "<div>\n",
       "<style scoped>\n",
       "    .dataframe tbody tr th:only-of-type {\n",
       "        vertical-align: middle;\n",
       "    }\n",
       "\n",
       "    .dataframe tbody tr th {\n",
       "        vertical-align: top;\n",
       "    }\n",
       "\n",
       "    .dataframe thead th {\n",
       "        text-align: right;\n",
       "    }\n",
       "</style>\n",
       "<table border=\"1\" class=\"dataframe\">\n",
       "  <thead>\n",
       "    <tr style=\"text-align: right;\">\n",
       "      <th></th>\n",
       "      <th>0</th>\n",
       "      <th>1</th>\n",
       "    </tr>\n",
       "  </thead>\n",
       "  <tbody>\n",
       "    <tr>\n",
       "      <td>0</td>\n",
       "      <td>1.269488e+08</td>\n",
       "      <td>1.703251e+09</td>\n",
       "    </tr>\n",
       "    <tr>\n",
       "      <td>1</td>\n",
       "      <td>1.703251e+09</td>\n",
       "      <td>2.449674e+10</td>\n",
       "    </tr>\n",
       "  </tbody>\n",
       "</table>\n",
       "</div>"
      ],
      "text/plain": [
       "              0             1\n",
       "0  1.269488e+08  1.703251e+09\n",
       "1  1.703251e+09  2.449674e+10"
      ]
     },
     "execution_count": 57,
     "metadata": {},
     "output_type": "execute_result"
    }
   ],
   "source": [
    "pd.DataFrame((np.cov(air1[\"Passengers\"],air1[\"Promotion_Budget\"])))"
   ]
  },
  {
   "cell_type": "code",
   "execution_count": 58,
   "metadata": {},
   "outputs": [
    {
     "data": {
      "text/plain": [
       "1703250730.0164557"
      ]
     },
     "execution_count": 58,
     "metadata": {},
     "output_type": "execute_result"
    }
   ],
   "source": [
    "np.cov(air1[\"Passengers\"],air1[\"Promotion_Budget\"])[0][1]"
   ]
  },
  {
   "cell_type": "code",
   "execution_count": 59,
   "metadata": {},
   "outputs": [
    {
     "data": {
      "text/plain": [
       "126948786.63227846"
      ]
     },
     "execution_count": 59,
     "metadata": {},
     "output_type": "execute_result"
    }
   ],
   "source": [
    "np.cov(air1[\"Passengers\"],air1[\"Promotion_Budget\"])[0][0]"
   ]
  },
  {
   "cell_type": "code",
   "execution_count": 60,
   "metadata": {},
   "outputs": [
    {
     "data": {
      "text/plain": [
       "24496741542.053165"
      ]
     },
     "execution_count": 60,
     "metadata": {},
     "output_type": "execute_result"
    }
   ],
   "source": [
    "np.cov(air1[\"Passengers\"],air1[\"Promotion_Budget\"])[1][1]"
   ]
  },
  {
   "cell_type": "code",
   "execution_count": 61,
   "metadata": {},
   "outputs": [
    {
     "data": {
      "text/plain": [
       "1703250730.0164557"
      ]
     },
     "execution_count": 61,
     "metadata": {},
     "output_type": "execute_result"
    }
   ],
   "source": [
    "np.cov(air1[\"Passengers\"],air1[\"Promotion_Budget\"])[1][0]"
   ]
  },
  {
   "cell_type": "code",
   "execution_count": null,
   "metadata": {},
   "outputs": [],
   "source": []
  },
  {
   "cell_type": "code",
   "execution_count": null,
   "metadata": {},
   "outputs": [],
   "source": []
  },
  {
   "cell_type": "code",
   "execution_count": null,
   "metadata": {},
   "outputs": [],
   "source": []
  }
 ],
 "metadata": {
  "kernelspec": {
   "display_name": "Python 3",
   "language": "python",
   "name": "python3"
  },
  "language_info": {
   "codemirror_mode": {
    "name": "ipython",
    "version": 3
   },
   "file_extension": ".py",
   "mimetype": "text/x-python",
   "name": "python",
   "nbconvert_exporter": "python",
   "pygments_lexer": "ipython3",
   "version": "3.7.4"
  }
 },
 "nbformat": 4,
 "nbformat_minor": 2
}

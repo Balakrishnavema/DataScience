{
 "cells": [
  {
   "cell_type": "code",
   "execution_count": 3,
   "metadata": {},
   "outputs": [],
   "source": [
    "import datetime"
   ]
  },
  {
   "cell_type": "code",
   "execution_count": 6,
   "metadata": {},
   "outputs": [
    {
     "name": "stdout",
     "output_type": "stream",
     "text": [
      "2020-03-05\n"
     ]
    }
   ],
   "source": [
    "#Get Current Date and Time\n",
    "datetime_object = datetime.date.today()\n",
    "print(datetime_object)"
   ]
  },
  {
   "cell_type": "code",
   "execution_count": 17,
   "metadata": {},
   "outputs": [
    {
     "name": "stdout",
     "output_type": "stream",
     "text": [
      "2020-03-05\n"
     ]
    }
   ],
   "source": [
    "todaysdate = datetime.date.today()\n",
    "print(todaysdate)"
   ]
  },
  {
   "cell_type": "code",
   "execution_count": 24,
   "metadata": {},
   "outputs": [
    {
     "name": "stdout",
     "output_type": "stream",
     "text": [
      "2018-09-11\n"
     ]
    }
   ],
   "source": [
    "#Date object to represent a date\n",
    "from datetime import date\n",
    "a = date(2018, 9, 11)\n",
    "print(a)"
   ]
  },
  {
   "cell_type": "code",
   "execution_count": 25,
   "metadata": {},
   "outputs": [
    {
     "name": "stdout",
     "output_type": "stream",
     "text": [
      "todaysdate 2020-03-05\n"
     ]
    }
   ],
   "source": [
    "#Get current date\n",
    "todaydate = date.today()\n",
    "print(\"todaysdate\", todaydate)"
   ]
  },
  {
   "cell_type": "code",
   "execution_count": 28,
   "metadata": {},
   "outputs": [
    {
     "name": "stdout",
     "output_type": "stream",
     "text": [
      "1970-05-23\n"
     ]
    }
   ],
   "source": [
    "#Get date from a timestamp\n",
    "from datetime import date\n",
    "timestamp = date.fromtimestamp(12334455)\n",
    "print(timestamp)"
   ]
  },
  {
   "cell_type": "code",
   "execution_count": 35,
   "metadata": {},
   "outputs": [
    {
     "name": "stdout",
     "output_type": "stream",
     "text": [
      "todays date: 5\n",
      "year: 2020\n",
      "month 3\n"
     ]
    }
   ],
   "source": [
    "#Print today's year, month and day\n",
    "today = date.today()\n",
    "print(\"todays date:\", today.day)\n",
    "print(\"year:\", today.year)\n",
    "print(\"month\", today.month)"
   ]
  },
  {
   "cell_type": "code",
   "execution_count": 44,
   "metadata": {},
   "outputs": [
    {
     "name": "stdout",
     "output_type": "stream",
     "text": [
      "00:00:00\n",
      "HH:MM:SS 10:20:30\n",
      "hours 20 min 30 seconds 30\n"
     ]
    }
   ],
   "source": [
    "#Time object to represent time\n",
    "from datetime import time\n",
    "a = time()\n",
    "print(a)\n",
    "\n",
    "b = time(10, 20, 30)\n",
    "print(\"HH:MM:SS\", b)\n",
    "\n",
    "c = time(hour=20, minute=30, second=30)\n",
    "print(\"hours\", c.hour, \"min\",c.minute,\"seconds\", c.second)"
   ]
  },
  {
   "cell_type": "code",
   "execution_count": 52,
   "metadata": {},
   "outputs": [
    {
     "name": "stdout",
     "output_type": "stream",
     "text": [
      "Hours: 11\n",
      "minutes: 23\n",
      "seconds: 34\n",
      "microseconds: 9999\n"
     ]
    }
   ],
   "source": [
    "#Print hour, minute, second and microsecond\n",
    "from datetime import time\n",
    "a = time(11,23,34, 9999)\n",
    "\n",
    "print(\"Hours:\", a.hour)\n",
    "print(\"minutes:\", a.minute)\n",
    "print(\"seconds:\", a.second)\n",
    "print(\"microseconds:\", a.microsecond)"
   ]
  },
  {
   "cell_type": "code",
   "execution_count": 59,
   "metadata": {},
   "outputs": [
    {
     "name": "stdout",
     "output_type": "stream",
     "text": [
      "2019-12-20 23:55:55.000090\n"
     ]
    }
   ],
   "source": [
    "#Python datetime object\n",
    "from datetime import datetime\n",
    "a = datetime(2019,12,20,23,55,55,90)\n",
    "print(a)"
   ]
  },
  {
   "cell_type": "code",
   "execution_count": 67,
   "metadata": {},
   "outputs": [
    {
     "name": "stdout",
     "output_type": "stream",
     "text": [
      "64 days, 0:00:00\n",
      "datetimedef: 59 days, 21:57:59\n"
     ]
    }
   ],
   "source": [
    "#Difference between two dates and times\n",
    "from datetime import datetime\n",
    "t1 = date(year = 2020, month = 3, day= 5)\n",
    "t2 = date(year=2020, month = 1, day=1)\n",
    "\n",
    "datedif = t1-t2\n",
    "print(datedif)\n",
    "\n",
    "t3 =  datetime(year = 2020, month=3, day=5, hour= 20, minute=20, second = 33)\n",
    "t4 = datetime(year = 2020, month = 1, day = 5,hour= 22, minute=22, second =34 )\n",
    "datetimedef = t3-t4\n",
    "print(\"datetimedef:\", datetimedef)"
   ]
  },
  {
   "cell_type": "code",
   "execution_count": 75,
   "metadata": {},
   "outputs": [
    {
     "name": "stdout",
     "output_type": "stream",
     "text": [
      "time: 16:59:32\n",
      "datetime 05/03/20, 16:59:32\n"
     ]
    }
   ],
   "source": [
    "#Format date using strftime()\n",
    "from datetime import datetime\n",
    "now = datetime.now()\n",
    "time = now.strftime(\"%H:%M:%S\")\n",
    "print(\"time:\",time )\n",
    "datetime = now.strftime(\"%d/%m/%y, %H:%M:%S\")\n",
    "print(\"datetime\", datetime)"
   ]
  },
  {
   "cell_type": "code",
   "execution_count": 100,
   "metadata": {},
   "outputs": [
    {
     "name": "stdout",
     "output_type": "stream",
     "text": [
      "Local: 03/05/20, 17:14:28\n",
      "New_york: 03/05/20, 06:44:28\n"
     ]
    }
   ],
   "source": [
    "#Handling timezone\n",
    "from datetime import datetime\n",
    "import pytz\n",
    "local = datetime.now()\n",
    "print(\"Local:\", local.strftime(\"%m/%d/%y, %H:%M:%S\"))\n",
    "Timezone = pytz.timezone(\"America/New_York\")\n",
    "datetime_NY = datetime.now(Timezone)\n",
    "print(\"New_york:\", datetime_NY.strftime(\"%m/%d/%y, %H:%M:%S\"))"
   ]
  },
  {
   "cell_type": "code",
   "execution_count": null,
   "metadata": {},
   "outputs": [],
   "source": []
  }
 ],
 "metadata": {
  "kernelspec": {
   "display_name": "Python 3",
   "language": "python",
   "name": "python3"
  },
  "language_info": {
   "codemirror_mode": {
    "name": "ipython",
    "version": 3
   },
   "file_extension": ".py",
   "mimetype": "text/x-python",
   "name": "python",
   "nbconvert_exporter": "python",
   "pygments_lexer": "ipython3",
   "version": "3.7.4"
  }
 },
 "nbformat": 4,
 "nbformat_minor": 2
}

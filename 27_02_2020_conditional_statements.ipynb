{
 "cells": [
  {
   "cell_type": "code",
   "execution_count": 5,
   "metadata": {},
   "outputs": [
    {
     "name": "stdout",
     "output_type": "stream",
     "text": [
      "if statment got executed\n"
     ]
    }
   ],
   "source": [
    "age = 40\n",
    "if age < 25:\n",
    "    print(\"group1\")\n",
    "print(\"if statment got executed\")"
   ]
  },
  {
   "cell_type": "code",
   "execution_count": 6,
   "metadata": {},
   "outputs": [
    {
     "name": "stdout",
     "output_type": "stream",
     "text": [
      "group1\n",
      "if statment got executed\n"
     ]
    }
   ],
   "source": [
    "age = 40\n",
    "if age < 45:\n",
    "    print(\"group1\")\n",
    "print(\"if statment got executed\")"
   ]
  },
  {
   "cell_type": "code",
   "execution_count": 10,
   "metadata": {},
   "outputs": [
    {
     "name": "stdout",
     "output_type": "stream",
     "text": [
      "enter the age\n",
      "50\n",
      "if statement got executed\n"
     ]
    }
   ],
   "source": [
    "age = int(input(\"enter the age\\n\"))\n",
    "if age < 45:\n",
    "    print(\"group1\")\n",
    "print(\"if statement got executed\")"
   ]
  },
  {
   "cell_type": "code",
   "execution_count": 16,
   "metadata": {},
   "outputs": [
    {
     "name": "stdout",
     "output_type": "stream",
     "text": [
      "enter the age\n",
      "30\n",
      "enter the outputDVS\n",
      "DVS\n",
      "if statement got executed\n"
     ]
    }
   ],
   "source": [
    "age = int(input(\"enter the age\\n\"))\n",
    "if age < 45:\n",
    "    print(str(input((\"enter the output\"))))\n",
    "print(\"if statement got executed\")"
   ]
  },
  {
   "cell_type": "code",
   "execution_count": null,
   "metadata": {},
   "outputs": [],
   "source": [
    "age = 20\n",
    "age"
   ]
  },
  {
   "cell_type": "code",
   "execution_count": 18,
   "metadata": {},
   "outputs": [
    {
     "name": "stdout",
     "output_type": "stream",
     "text": [
      "False\n"
     ]
    }
   ],
   "source": [
    "age = 30\n",
    "if age < 25:\n",
    "    print(\"Ture\")\n",
    "else:\n",
    "    print(\"False\")"
   ]
  },
  {
   "cell_type": "code",
   "execution_count": null,
   "metadata": {},
   "outputs": [],
   "source": []
  },
  {
   "cell_type": "code",
   "execution_count": null,
   "metadata": {},
   "outputs": [],
   "source": [
    "age = int(input(\"enter the age \\t\"))\n",
    "if age < 25:\n",
    "    print(str(input((\"enter the output \\t\"))))\n",
    "else:\n",
    "    print(\"mentioned age is > than 25\")"
   ]
  },
  {
   "cell_type": "markdown",
   "metadata": {},
   "source": [
    "# if else we can't write the more than of two statements"
   ]
  },
  {
   "cell_type": "code",
   "execution_count": 6,
   "metadata": {},
   "outputs": [
    {
     "name": "stdout",
     "output_type": "stream",
     "text": [
      "enter the age \t25\n",
      "enter the compare value30\n",
      "enter the output \tBalu\n",
      "Balu\n"
     ]
    }
   ],
   "source": [
    "age = float(input(\"enter the age \\t\"))\n",
    "if age < float(input(\"enter the compare value\")):\n",
    "    print(str(input((\"enter the output \\t\"))))\n",
    "else:\n",
    "    print(str(input(\"enter the false output2\")))"
   ]
  },
  {
   "cell_type": "markdown",
   "metadata": {},
   "source": []
  },
  {
   "cell_type": "code",
   "execution_count": 7,
   "metadata": {},
   "outputs": [
    {
     "name": "stdout",
     "output_type": "stream",
     "text": [
      "2nd class\n",
      "1st class\n",
      "distinction\n"
     ]
    }
   ],
   "source": [
    "age = 50\n",
    "if age < 35:\n",
    "    print(\"fail\")\n",
    "elif age < 50:\n",
    "    print(\"3rd class\")\n",
    "if age < 65:\n",
    "    print(\"2nd class\")\n",
    "if age < 90:\n",
    "    print(\"1st class\")\n",
    "if age <= 100:\n",
    "    print(\"distinction\")\n",
    "else:\n",
    "    print(\"\")"
   ]
  },
  {
   "cell_type": "code",
   "execution_count": 14,
   "metadata": {},
   "outputs": [
    {
     "name": "stdout",
     "output_type": "stream",
     "text": [
      "enter the marks45\n",
      "3rd class\n"
     ]
    }
   ],
   "source": [
    "marks = float(input(\"enter the marks\"))\n",
    "if marks < 35:\n",
    "    print(\"fail\")\n",
    "elif marks < 50:\n",
    "    print(\"3rd class\")\n",
    "elif marks < 75:\n",
    "    print(\"2nd class\")\n",
    "elif marks < 90:\n",
    "    print(\"1st class\")\n",
    "elif marks <= 100:\n",
    "    print(\"distinction\")\n",
    "else:\n",
    "    print(\"error in marks\")"
   ]
  },
  {
   "cell_type": "code",
   "execution_count": 15,
   "metadata": {},
   "outputs": [],
   "source": [
    "marks = 60\n",
    "if marks>0 and marks<35:\n",
    "    print(\"group1\")\n",
    "elif marks"
   ]
  },
  {
   "cell_type": "code",
   "execution_count": 16,
   "metadata": {},
   "outputs": [
    {
     "name": "stdout",
     "output_type": "stream",
     "text": [
      "group1\n"
     ]
    }
   ],
   "source": [
    "marks=50\n",
    "loc=\"banaglore\"\n",
    "if marks<55 or loc==\"hyderabad\":\n",
    "    print(\"group1\")\n",
    "\n",
    "elif marks < 60 or loc == \"banaglore\":\n",
    "    print(\"group2\")\n",
    "else:\n",
    "    print(\"unknow\")\n"
   ]
  },
  {
   "cell_type": "code",
   "execution_count": 24,
   "metadata": {},
   "outputs": [
    {
     "name": "stdout",
     "output_type": "stream",
     "text": [
      "not group1\n"
     ]
    }
   ],
   "source": [
    "age = 60\n",
    "if age < 60:\n",
    "    print(\"group1\")\n",
    "    if age < 40:\n",
    "        print(\"group2\")\n",
    "        if age <20:\n",
    "             print(\"group3\")\n",
    "        else:\n",
    "            print(\"not group3\")\n",
    "                \n",
    "    else:\n",
    "        print(\"not group2\")\n",
    "else:\n",
    "    print(\"not group1\")\n",
    "    \n"
   ]
  },
  {
   "cell_type": "markdown",
   "metadata": {},
   "source": [
    "# looping statements in python \n",
    "1.for loop\n",
    "2. while loop"
   ]
  },
  {
   "cell_type": "code",
   "execution_count": 25,
   "metadata": {},
   "outputs": [
    {
     "data": {
      "text/plain": [
       "range(1, 10)"
      ]
     },
     "execution_count": 25,
     "metadata": {},
     "output_type": "execute_result"
    }
   ],
   "source": [
    "range(1,10)"
   ]
  },
  {
   "cell_type": "code",
   "execution_count": 26,
   "metadata": {},
   "outputs": [
    {
     "data": {
      "text/plain": [
       "[1, 2, 3, 4, 5, 6, 7, 8, 9]"
      ]
     },
     "execution_count": 26,
     "metadata": {},
     "output_type": "execute_result"
    }
   ],
   "source": [
    "list(range(1,10))"
   ]
  },
  {
   "cell_type": "code",
   "execution_count": 27,
   "metadata": {},
   "outputs": [
    {
     "data": {
      "text/plain": [
       "[1, 3, 5, 7, 9]"
      ]
     },
     "execution_count": 27,
     "metadata": {},
     "output_type": "execute_result"
    }
   ],
   "source": [
    "list(range(1,10,2))"
   ]
  },
  {
   "cell_type": "code",
   "execution_count": 28,
   "metadata": {},
   "outputs": [],
   "source": [
    "a = range(1,10)"
   ]
  },
  {
   "cell_type": "code",
   "execution_count": 29,
   "metadata": {},
   "outputs": [
    {
     "data": {
      "text/plain": [
       "1"
      ]
     },
     "execution_count": 29,
     "metadata": {},
     "output_type": "execute_result"
    }
   ],
   "source": [
    "a.count(1)"
   ]
  },
  {
   "cell_type": "code",
   "execution_count": 30,
   "metadata": {},
   "outputs": [
    {
     "name": "stdout",
     "output_type": "stream",
     "text": [
      "each iteration 1\n",
      "each iteration 2\n",
      "each iteration 3\n",
      "each iteration 4\n",
      "each iteration 5\n",
      "each iteration 6\n",
      "each iteration 7\n",
      "each iteration 8\n",
      "each iteration 9\n"
     ]
    }
   ],
   "source": [
    "for i in range(1,10):\n",
    "    print(\"each iteration\", i)"
   ]
  },
  {
   "cell_type": "code",
   "execution_count": 36,
   "metadata": {},
   "outputs": [
    {
     "name": "stdout",
     "output_type": "stream",
     "text": [
      "each iteration 1 value are 1\n",
      "each iteration 2 value are 3\n",
      "each iteration 3 value are 6\n",
      "each iteration 4 value are 10\n",
      "each iteration 5 value are 15\n",
      "each iteration 6 value are 21\n",
      "each iteration 7 value are 28\n",
      "each iteration 8 value are 36\n",
      "each iteration 9 value are 45\n"
     ]
    }
   ],
   "source": [
    "sumx=0\n",
    "for i in range(1,10):\n",
    "    sumx = sumx+i\n",
    "    print(\"each iteration\",i, \"value are\",sumx)"
   ]
  },
  {
   "cell_type": "code",
   "execution_count": 37,
   "metadata": {},
   "outputs": [
    {
     "name": "stdout",
     "output_type": "stream",
     "text": [
      "each iteration 1 value are 1\n",
      "each iteration 3 value are 4\n",
      "each iteration 5 value are 9\n",
      "each iteration 7 value are 16\n",
      "each iteration 9 value are 25\n"
     ]
    }
   ],
   "source": [
    "sumx=0\n",
    "for i in range(1,10,2):\n",
    "    sumx = sumx+i\n",
    "    print(\"each iteration\",i, \"value are\",sumx)"
   ]
  },
  {
   "cell_type": "code",
   "execution_count": 48,
   "metadata": {},
   "outputs": [
    {
     "name": "stdout",
     "output_type": "stream",
     "text": [
      "each iteration 1 value are 1\n",
      "each iteration 2 value are 3\n",
      "each iteration 3 value are 6\n",
      "each iteration 4 value are 10\n",
      "each iteration 5 value are 15\n",
      "each iteration 6 value are 21\n",
      "each iteration 7 value are 28\n",
      "each iteration 8 value are 36\n"
     ]
    }
   ],
   "source": [
    "sumx=0\n",
    "for i in range(1,10):\n",
    "    sumx=sumx+i\n",
    "    if sumx>40:\n",
    "        break\n",
    "    print(\"each iteration\",i,\"value are\",sumx)"
   ]
  },
  {
   "cell_type": "code",
   "execution_count": 50,
   "metadata": {},
   "outputs": [],
   "source": [
    "sumx=0\n",
    "for i in range(1,10):\n",
    "    pass"
   ]
  },
  {
   "cell_type": "code",
   "execution_count": 51,
   "metadata": {},
   "outputs": [
    {
     "name": "stdout",
     "output_type": "stream",
     "text": [
      "each iteration 10 values are 10\n",
      "each iteration 20 values are 30\n",
      "each iteration 40 values are 70\n",
      "each iteration 50 values are 120\n"
     ]
    }
   ],
   "source": [
    "abc=[10,20,40,50]\n",
    "sumx=0\n",
    "for i in abc:\n",
    "    sumx=sumx+i\n",
    "    print(\"each iteration\",i,\"values are\",sumx)"
   ]
  },
  {
   "cell_type": "code",
   "execution_count": 52,
   "metadata": {},
   "outputs": [
    {
     "name": "stdout",
     "output_type": "stream",
     "text": [
      "each iteration 40 values are 40\n",
      "each iteration 10 values are 50\n",
      "each iteration 20 values are 70\n",
      "each iteration 50 values are 120\n"
     ]
    }
   ],
   "source": [
    "abc={10,20,40,50}\n",
    "sumx=0\n",
    "for i in abc:\n",
    "    sumx=sumx+i\n",
    "    print(\"each iteration\",i,\"values are\",sumx)"
   ]
  },
  {
   "cell_type": "code",
   "execution_count": 56,
   "metadata": {},
   "outputs": [
    {
     "name": "stdout",
     "output_type": "stream",
     "text": [
      "india\n",
      "Canada\n",
      "NZ\n"
     ]
    }
   ],
   "source": [
    "abc=[\"india\",\"AUS\",\"Canada\",\"NZ\"]\n",
    "for i in abc:\n",
    "    if (i==\"AUS\"):\n",
    "        continue\n",
    "    print(i)"
   ]
  },
  {
   "cell_type": "code",
   "execution_count": 57,
   "metadata": {},
   "outputs": [
    {
     "name": "stdout",
     "output_type": "stream",
     "text": [
      "india\n",
      "AUS\n"
     ]
    }
   ],
   "source": [
    "abc=[\"india\",\"AUS\",\"Canada\",\"NZ\"]\n",
    "for i in abc:\n",
    "    if(i==\"AUS\"):\n",
    "        print(i)\n",
    "        break\n",
    "    else:\n",
    "        print(i)"
   ]
  },
  {
   "cell_type": "code",
   "execution_count": 82,
   "metadata": {},
   "outputs": [
    {
     "data": {
      "text/plain": [
       "3"
      ]
     },
     "execution_count": 82,
     "metadata": {},
     "output_type": "execute_result"
    }
   ],
   "source": [
    "my_list = [100,20,40, \"balu1\"]\n",
    "type(my_list)\n",
    "my_list\n",
    "my_list.append(100)\n",
    "my_list\n",
    "my_list.index(\"balu1\")\n"
   ]
  },
  {
   "cell_type": "code",
   "execution_count": 84,
   "metadata": {},
   "outputs": [],
   "source": [
    "my_list.remove(100)"
   ]
  },
  {
   "cell_type": "code",
   "execution_count": 85,
   "metadata": {},
   "outputs": [
    {
     "data": {
      "text/plain": [
       "[20, 40, 'balu1', 100]"
      ]
     },
     "execution_count": 85,
     "metadata": {},
     "output_type": "execute_result"
    }
   ],
   "source": [
    "my_list"
   ]
  },
  {
   "cell_type": "code",
   "execution_count": 86,
   "metadata": {},
   "outputs": [],
   "source": [
    "set = {10,2020}"
   ]
  },
  {
   "cell_type": "code",
   "execution_count": 87,
   "metadata": {},
   "outputs": [
    {
     "data": {
      "text/plain": [
       "set"
      ]
     },
     "execution_count": 87,
     "metadata": {},
     "output_type": "execute_result"
    }
   ],
   "source": [
    "type(set)"
   ]
  },
  {
   "cell_type": "code",
   "execution_count": 96,
   "metadata": {},
   "outputs": [
    {
     "name": "stdout",
     "output_type": "stream",
     "text": [
      "20\n"
     ]
    }
   ],
   "source": [
    "print(my_list[-4])"
   ]
  },
  {
   "cell_type": "code",
   "execution_count": 98,
   "metadata": {},
   "outputs": [
    {
     "data": {
      "text/plain": [
       "tuple"
      ]
     },
     "execution_count": 98,
     "metadata": {},
     "output_type": "execute_result"
    }
   ],
   "source": [
    "my_tuple = (10,20,30)\n",
    "type(my_tuple)"
   ]
  },
  {
   "cell_type": "code",
   "execution_count": 100,
   "metadata": {},
   "outputs": [
    {
     "data": {
      "text/plain": [
       "1"
      ]
     },
     "execution_count": 100,
     "metadata": {},
     "output_type": "execute_result"
    }
   ],
   "source": [
    "my_tuple.index(20)"
   ]
  },
  {
   "cell_type": "code",
   "execution_count": null,
   "metadata": {},
   "outputs": [],
   "source": [
    "my_tuple."
   ]
  }
 ],
 "metadata": {
  "kernelspec": {
   "display_name": "Python 3",
   "language": "python",
   "name": "python3"
  },
  "language_info": {
   "codemirror_mode": {
    "name": "ipython",
    "version": 3
   },
   "file_extension": ".py",
   "mimetype": "text/x-python",
   "name": "python",
   "nbconvert_exporter": "python",
   "pygments_lexer": "ipython3",
   "version": "3.7.4"
  }
 },
 "nbformat": 4,
 "nbformat_minor": 2
}
